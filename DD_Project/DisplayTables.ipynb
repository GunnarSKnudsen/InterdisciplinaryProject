{
 "cells": [
  {
   "cell_type": "code",
   "execution_count": 9,
   "metadata": {
    "collapsed": true,
    "pycharm": {
     "name": "#%%\n"
    }
   },
   "outputs": [],
   "source": [
    "from tools import load_settings\n",
    "import pandas as pd\n",
    "import numpy as np"
   ]
  },
  {
   "cell_type": "code",
   "execution_count": 10,
   "outputs": [],
   "source": [
    "CAR_periods = {\n",
    "    \"Full\": np.asarray([0, 40]), # Aussenegg advised to drop this\n",
    "    \"Left\": np.asarray([0, 19]),\n",
    "    \"Right\": np.asarray([20, 40]),\n",
    "    \"Right-M\": np.asarray([20, 25]),\n",
    "    \"Right-S\": np.asarray([20, 21])\n",
    "}"
   ],
   "metadata": {
    "collapsed": false,
    "pycharm": {
     "name": "#%%\n"
    }
   }
  },
  {
   "cell_type": "code",
   "execution_count": 11,
   "outputs": [],
   "source": [
    "settings = load_settings()\n",
    "NAME = settings['NAME']\n",
    "df_tests = pd.read_pickle(f\"data/{NAME}/statistical_tests/GRANK_ADJBMP.pkl\")\n"
   ],
   "metadata": {
    "collapsed": false,
    "pycharm": {
     "name": "#%%\n"
    }
   }
  },
  {
   "cell_type": "code",
   "execution_count": 12,
   "outputs": [],
   "source": [
    "# stop scientific notation\n",
    "pd.set_option('display.float_format', lambda x: '%.5f' % x)"
   ],
   "metadata": {
    "collapsed": false,
    "pycharm": {
     "name": "#%%\n"
    }
   }
  },
  {
   "cell_type": "code",
   "execution_count": 13,
   "outputs": [
    {
     "data": {
      "text/plain": "                                              p-value  t-statistic  \\\nInvestigation Period Trade Type   CAR Period                         \nOverall              P - Purchase [-20, 20]   0.01386      2.50553   \n                                  [-20, -1]   0.04558     -2.02482   \n                                  [0, 20]     0.00000      7.16633   \n                                  [0, 5]      0.00003      4.41667   \n                                  [0, 1]      0.00001      4.68354   \n                     S - Sale     [-20, 20]   0.00434      2.91944   \n                                  [-20, -1]   0.00000     18.09515   \n                                  [0, 20]     0.00000    -13.50097   \n                                  [0, 5]      0.00000     -8.42189   \n                                  [0, 1]      0.00000     -9.74303   \n                     S - Sale+OE  [-20, 20]   0.00000      6.21721   \n                                  [-20, -1]   0.00000     21.36487   \n                                  [0, 20]     0.00000    -12.63593   \n                                  [0, 5]      0.00000     -7.81918   \n                                  [0, 1]      0.00000     -6.23731   \nPre-Pandemic         P - Purchase [-20, 20]   0.00020      3.86710   \n                                  [-20, -1]   0.74058      0.33202   \n                                  [0, 20]     0.00000      6.70556   \n                                  [0, 5]      0.00000      6.44315   \n                                  [0, 1]      0.00000      5.79024   \n                     S - Sale     [-20, 20]   0.00506      2.86715   \n                                  [-20, -1]   0.00000     14.44809   \n                                  [0, 20]     0.00000     -9.87357   \n                                  [0, 5]      0.00000     -6.76668   \n                                  [0, 1]      0.00000     -8.10467   \n                     S - Sale+OE  [-20, 20]   0.00000      6.47800   \n                                  [-20, -1]   0.00000     16.70721   \n                                  [0, 20]     0.00000     -7.05485   \n                                  [0, 5]      0.00002     -4.46096   \n                                  [0, 1]      0.00026     -3.79113   \nPandemic             P - Purchase [-20, 20]   0.01444     -2.49012   \n                                  [-20, -1]   0.00000     -6.05918   \n                                  [0, 20]     0.00000      6.34548   \n                                  [0, 5]      0.00001      4.73552   \n                                  [0, 1]      0.00001      4.55528   \n                     S - Sale     [-20, 20]   0.18982      1.32017   \n                                  [-20, -1]   0.00000     11.56643   \n                                  [0, 20]     0.00000     -9.54233   \n                                  [0, 5]      0.00000     -4.87764   \n                                  [0, 1]      0.00000     -5.62394   \n                     S - Sale+OE  [-20, 20]   0.01913      2.38199   \n                                  [-20, -1]   0.00000     14.60276   \n                                  [0, 20]     0.00000    -12.22755   \n                                  [0, 5]      0.00000     -6.80002   \n                                  [0, 1]      0.00000     -5.17017   \n\n                                              p-value (adjBMP)  \\\nInvestigation Period Trade Type   CAR Period                     \nOverall              P - Purchase [-20, 20]            0.00000   \n                                  [-20, -1]            0.00000   \n                                  [0, 20]              0.00000   \n                                  [0, 5]               0.00000   \n                                  [0, 1]               0.00000   \n                     S - Sale     [-20, 20]            0.00000   \n                                  [-20, -1]            0.00000   \n                                  [0, 20]              0.00000   \n                                  [0, 5]               0.00000   \n                                  [0, 1]               0.00000   \n                     S - Sale+OE  [-20, 20]            0.00000   \n                                  [-20, -1]            0.00000   \n                                  [0, 20]              0.00000   \n                                  [0, 5]               0.00000   \n                                  [0, 1]               0.00000   \nPre-Pandemic         P - Purchase [-20, 20]            0.00012   \n                                  [-20, -1]            0.14033   \n                                  [0, 20]              0.00000   \n                                  [0, 5]               0.00000   \n                                  [0, 1]               0.00000   \n                     S - Sale     [-20, 20]            0.00000   \n                                  [-20, -1]            0.00000   \n                                  [0, 20]              0.00000   \n                                  [0, 5]               0.00000   \n                                  [0, 1]               0.00000   \n                     S - Sale+OE  [-20, 20]            0.00000   \n                                  [-20, -1]            0.00000   \n                                  [0, 20]              0.00000   \n                                  [0, 5]               0.00000   \n                                  [0, 1]               0.00014   \nPandemic             P - Purchase [-20, 20]            0.00000   \n                                  [-20, -1]            0.00000   \n                                  [0, 20]              0.03160   \n                                  [0, 5]               0.33603   \n                                  [0, 1]               0.30184   \n                     S - Sale     [-20, 20]            0.00000   \n                                  [-20, -1]            0.00000   \n                                  [0, 20]              0.00000   \n                                  [0, 5]               0.00000   \n                                  [0, 1]               0.00000   \n                     S - Sale+OE  [-20, 20]            0.00000   \n                                  [-20, -1]            0.00000   \n                                  [0, 20]              0.00000   \n                                  [0, 5]               0.00000   \n                                  [0, 1]               0.00000   \n\n                                              t-statistic (adjBMP)  \nInvestigation Period Trade Type   CAR Period                        \nOverall              P - Purchase [-20, 20]               -5.38473  \n                                  [-20, -1]               -7.20520  \n                                  [0, 20]                  9.74368  \n                                  [0, 5]                   6.41415  \n                                  [0, 1]                   5.76881  \n                     S - Sale     [-20, 20]               12.01674  \n                                  [-20, -1]               16.35174  \n                                  [0, 20]                -14.99550  \n                                  [0, 5]                 -12.12782  \n                                  [0, 1]                 -10.80234  \n                     S - Sale+OE  [-20, 20]               17.57533  \n                                  [-20, -1]               19.13067  \n                                  [0, 20]                -14.54062  \n                                  [0, 5]                 -10.50746  \n                                  [0, 1]                  -7.09210  \nPre-Pandemic         P - Purchase [-20, 20]                3.85308  \n                                  [-20, -1]               -1.47456  \n                                  [0, 20]                 15.77143  \n                                  [0, 5]                  19.88545  \n                                  [0, 1]                  16.16812  \n                     S - Sale     [-20, 20]               10.23259  \n                                  [-20, -1]               11.51189  \n                                  [0, 20]                -11.03986  \n                                  [0, 5]                  -8.91884  \n                                  [0, 1]                  -7.82418  \n                     S - Sale+OE  [-20, 20]               14.71868  \n                                  [-20, -1]               13.49375  \n                                  [0, 20]                 -7.92026  \n                                  [0, 5]                  -6.36291  \n                                  [0, 1]                  -3.81469  \nPandemic             P - Purchase [-20, 20]              -10.45820  \n                                  [-20, -1]              -10.00372  \n                                  [0, 20]                  2.14946  \n                                  [0, 5]                   0.96204  \n                                  [0, 1]                   1.03250  \n                     S - Sale     [-20, 20]                6.35611  \n                                  [-20, -1]                9.68463  \n                                  [0, 20]                -11.73321  \n                                  [0, 5]                  -8.64407  \n                                  [0, 1]                  -6.84316  \n                     S - Sale+OE  [-20, 20]               11.45480  \n                                  [-20, -1]               13.88490  \n                                  [0, 20]                -12.81340  \n                                  [0, 5]                  -8.25083  \n                                  [0, 1]                  -5.72731  ",
      "text/html": "<div>\n<style scoped>\n    .dataframe tbody tr th:only-of-type {\n        vertical-align: middle;\n    }\n\n    .dataframe tbody tr th {\n        vertical-align: top;\n    }\n\n    .dataframe thead th {\n        text-align: right;\n    }\n</style>\n<table border=\"1\" class=\"dataframe\">\n  <thead>\n    <tr style=\"text-align: right;\">\n      <th></th>\n      <th></th>\n      <th></th>\n      <th>p-value</th>\n      <th>t-statistic</th>\n      <th>p-value (adjBMP)</th>\n      <th>t-statistic (adjBMP)</th>\n    </tr>\n    <tr>\n      <th>Investigation Period</th>\n      <th>Trade Type</th>\n      <th>CAR Period</th>\n      <th></th>\n      <th></th>\n      <th></th>\n      <th></th>\n    </tr>\n  </thead>\n  <tbody>\n    <tr>\n      <th rowspan=\"15\" valign=\"top\">Overall</th>\n      <th rowspan=\"5\" valign=\"top\">P - Purchase</th>\n      <th>[-20, 20]</th>\n      <td>0.01386</td>\n      <td>2.50553</td>\n      <td>0.00000</td>\n      <td>-5.38473</td>\n    </tr>\n    <tr>\n      <th>[-20, -1]</th>\n      <td>0.04558</td>\n      <td>-2.02482</td>\n      <td>0.00000</td>\n      <td>-7.20520</td>\n    </tr>\n    <tr>\n      <th>[0, 20]</th>\n      <td>0.00000</td>\n      <td>7.16633</td>\n      <td>0.00000</td>\n      <td>9.74368</td>\n    </tr>\n    <tr>\n      <th>[0, 5]</th>\n      <td>0.00003</td>\n      <td>4.41667</td>\n      <td>0.00000</td>\n      <td>6.41415</td>\n    </tr>\n    <tr>\n      <th>[0, 1]</th>\n      <td>0.00001</td>\n      <td>4.68354</td>\n      <td>0.00000</td>\n      <td>5.76881</td>\n    </tr>\n    <tr>\n      <th rowspan=\"5\" valign=\"top\">S - Sale</th>\n      <th>[-20, 20]</th>\n      <td>0.00434</td>\n      <td>2.91944</td>\n      <td>0.00000</td>\n      <td>12.01674</td>\n    </tr>\n    <tr>\n      <th>[-20, -1]</th>\n      <td>0.00000</td>\n      <td>18.09515</td>\n      <td>0.00000</td>\n      <td>16.35174</td>\n    </tr>\n    <tr>\n      <th>[0, 20]</th>\n      <td>0.00000</td>\n      <td>-13.50097</td>\n      <td>0.00000</td>\n      <td>-14.99550</td>\n    </tr>\n    <tr>\n      <th>[0, 5]</th>\n      <td>0.00000</td>\n      <td>-8.42189</td>\n      <td>0.00000</td>\n      <td>-12.12782</td>\n    </tr>\n    <tr>\n      <th>[0, 1]</th>\n      <td>0.00000</td>\n      <td>-9.74303</td>\n      <td>0.00000</td>\n      <td>-10.80234</td>\n    </tr>\n    <tr>\n      <th rowspan=\"5\" valign=\"top\">S - Sale+OE</th>\n      <th>[-20, 20]</th>\n      <td>0.00000</td>\n      <td>6.21721</td>\n      <td>0.00000</td>\n      <td>17.57533</td>\n    </tr>\n    <tr>\n      <th>[-20, -1]</th>\n      <td>0.00000</td>\n      <td>21.36487</td>\n      <td>0.00000</td>\n      <td>19.13067</td>\n    </tr>\n    <tr>\n      <th>[0, 20]</th>\n      <td>0.00000</td>\n      <td>-12.63593</td>\n      <td>0.00000</td>\n      <td>-14.54062</td>\n    </tr>\n    <tr>\n      <th>[0, 5]</th>\n      <td>0.00000</td>\n      <td>-7.81918</td>\n      <td>0.00000</td>\n      <td>-10.50746</td>\n    </tr>\n    <tr>\n      <th>[0, 1]</th>\n      <td>0.00000</td>\n      <td>-6.23731</td>\n      <td>0.00000</td>\n      <td>-7.09210</td>\n    </tr>\n    <tr>\n      <th rowspan=\"15\" valign=\"top\">Pre-Pandemic</th>\n      <th rowspan=\"5\" valign=\"top\">P - Purchase</th>\n      <th>[-20, 20]</th>\n      <td>0.00020</td>\n      <td>3.86710</td>\n      <td>0.00012</td>\n      <td>3.85308</td>\n    </tr>\n    <tr>\n      <th>[-20, -1]</th>\n      <td>0.74058</td>\n      <td>0.33202</td>\n      <td>0.14033</td>\n      <td>-1.47456</td>\n    </tr>\n    <tr>\n      <th>[0, 20]</th>\n      <td>0.00000</td>\n      <td>6.70556</td>\n      <td>0.00000</td>\n      <td>15.77143</td>\n    </tr>\n    <tr>\n      <th>[0, 5]</th>\n      <td>0.00000</td>\n      <td>6.44315</td>\n      <td>0.00000</td>\n      <td>19.88545</td>\n    </tr>\n    <tr>\n      <th>[0, 1]</th>\n      <td>0.00000</td>\n      <td>5.79024</td>\n      <td>0.00000</td>\n      <td>16.16812</td>\n    </tr>\n    <tr>\n      <th rowspan=\"5\" valign=\"top\">S - Sale</th>\n      <th>[-20, 20]</th>\n      <td>0.00506</td>\n      <td>2.86715</td>\n      <td>0.00000</td>\n      <td>10.23259</td>\n    </tr>\n    <tr>\n      <th>[-20, -1]</th>\n      <td>0.00000</td>\n      <td>14.44809</td>\n      <td>0.00000</td>\n      <td>11.51189</td>\n    </tr>\n    <tr>\n      <th>[0, 20]</th>\n      <td>0.00000</td>\n      <td>-9.87357</td>\n      <td>0.00000</td>\n      <td>-11.03986</td>\n    </tr>\n    <tr>\n      <th>[0, 5]</th>\n      <td>0.00000</td>\n      <td>-6.76668</td>\n      <td>0.00000</td>\n      <td>-8.91884</td>\n    </tr>\n    <tr>\n      <th>[0, 1]</th>\n      <td>0.00000</td>\n      <td>-8.10467</td>\n      <td>0.00000</td>\n      <td>-7.82418</td>\n    </tr>\n    <tr>\n      <th rowspan=\"5\" valign=\"top\">S - Sale+OE</th>\n      <th>[-20, 20]</th>\n      <td>0.00000</td>\n      <td>6.47800</td>\n      <td>0.00000</td>\n      <td>14.71868</td>\n    </tr>\n    <tr>\n      <th>[-20, -1]</th>\n      <td>0.00000</td>\n      <td>16.70721</td>\n      <td>0.00000</td>\n      <td>13.49375</td>\n    </tr>\n    <tr>\n      <th>[0, 20]</th>\n      <td>0.00000</td>\n      <td>-7.05485</td>\n      <td>0.00000</td>\n      <td>-7.92026</td>\n    </tr>\n    <tr>\n      <th>[0, 5]</th>\n      <td>0.00002</td>\n      <td>-4.46096</td>\n      <td>0.00000</td>\n      <td>-6.36291</td>\n    </tr>\n    <tr>\n      <th>[0, 1]</th>\n      <td>0.00026</td>\n      <td>-3.79113</td>\n      <td>0.00014</td>\n      <td>-3.81469</td>\n    </tr>\n    <tr>\n      <th rowspan=\"15\" valign=\"top\">Pandemic</th>\n      <th rowspan=\"5\" valign=\"top\">P - Purchase</th>\n      <th>[-20, 20]</th>\n      <td>0.01444</td>\n      <td>-2.49012</td>\n      <td>0.00000</td>\n      <td>-10.45820</td>\n    </tr>\n    <tr>\n      <th>[-20, -1]</th>\n      <td>0.00000</td>\n      <td>-6.05918</td>\n      <td>0.00000</td>\n      <td>-10.00372</td>\n    </tr>\n    <tr>\n      <th>[0, 20]</th>\n      <td>0.00000</td>\n      <td>6.34548</td>\n      <td>0.03160</td>\n      <td>2.14946</td>\n    </tr>\n    <tr>\n      <th>[0, 5]</th>\n      <td>0.00001</td>\n      <td>4.73552</td>\n      <td>0.33603</td>\n      <td>0.96204</td>\n    </tr>\n    <tr>\n      <th>[0, 1]</th>\n      <td>0.00001</td>\n      <td>4.55528</td>\n      <td>0.30184</td>\n      <td>1.03250</td>\n    </tr>\n    <tr>\n      <th rowspan=\"5\" valign=\"top\">S - Sale</th>\n      <th>[-20, 20]</th>\n      <td>0.18982</td>\n      <td>1.32017</td>\n      <td>0.00000</td>\n      <td>6.35611</td>\n    </tr>\n    <tr>\n      <th>[-20, -1]</th>\n      <td>0.00000</td>\n      <td>11.56643</td>\n      <td>0.00000</td>\n      <td>9.68463</td>\n    </tr>\n    <tr>\n      <th>[0, 20]</th>\n      <td>0.00000</td>\n      <td>-9.54233</td>\n      <td>0.00000</td>\n      <td>-11.73321</td>\n    </tr>\n    <tr>\n      <th>[0, 5]</th>\n      <td>0.00000</td>\n      <td>-4.87764</td>\n      <td>0.00000</td>\n      <td>-8.64407</td>\n    </tr>\n    <tr>\n      <th>[0, 1]</th>\n      <td>0.00000</td>\n      <td>-5.62394</td>\n      <td>0.00000</td>\n      <td>-6.84316</td>\n    </tr>\n    <tr>\n      <th rowspan=\"5\" valign=\"top\">S - Sale+OE</th>\n      <th>[-20, 20]</th>\n      <td>0.01913</td>\n      <td>2.38199</td>\n      <td>0.00000</td>\n      <td>11.45480</td>\n    </tr>\n    <tr>\n      <th>[-20, -1]</th>\n      <td>0.00000</td>\n      <td>14.60276</td>\n      <td>0.00000</td>\n      <td>13.88490</td>\n    </tr>\n    <tr>\n      <th>[0, 20]</th>\n      <td>0.00000</td>\n      <td>-12.22755</td>\n      <td>0.00000</td>\n      <td>-12.81340</td>\n    </tr>\n    <tr>\n      <th>[0, 5]</th>\n      <td>0.00000</td>\n      <td>-6.80002</td>\n      <td>0.00000</td>\n      <td>-8.25083</td>\n    </tr>\n    <tr>\n      <th>[0, 1]</th>\n      <td>0.00000</td>\n      <td>-5.17017</td>\n      <td>0.00000</td>\n      <td>-5.72731</td>\n    </tr>\n  </tbody>\n</table>\n</div>"
     },
     "execution_count": 13,
     "metadata": {},
     "output_type": "execute_result"
    }
   ],
   "source": [
    "df_tests"
   ],
   "metadata": {
    "collapsed": false,
    "pycharm": {
     "name": "#%%\n"
    }
   }
  },
  {
   "cell_type": "code",
   "execution_count": 14,
   "outputs": [
    {
     "name": "stdout",
     "output_type": "stream",
     "text": [
      "\\begin{tabular}{llrrrr}\n",
      "\\toprule\n",
      "         &        &  p-value &  t-statistic &  p-value (adjBMP) &  t-statistic (adjBMP) \\\\\n",
      "Investigation Period & CAR Period &          &              &                   &                       \\\\\n",
      "\\midrule\n",
      "Overall & [-20, 20] &  0.01386 &      2.50553 &           0.00000 &              -5.38473 \\\\\n",
      "         & [-20, -1] &  0.04558 &     -2.02482 &           0.00000 &              -7.20520 \\\\\n",
      "         & [0, 20] &  0.00000 &      7.16633 &           0.00000 &               9.74368 \\\\\n",
      "         & [0, 5] &  0.00003 &      4.41667 &           0.00000 &               6.41415 \\\\\n",
      "         & [0, 1] &  0.00001 &      4.68354 &           0.00000 &               5.76881 \\\\\n",
      "Pre-Pandemic & [-20, 20] &  0.00020 &      3.86710 &           0.00012 &               3.85308 \\\\\n",
      "         & [-20, -1] &  0.74058 &      0.33202 &           0.14033 &              -1.47456 \\\\\n",
      "         & [0, 20] &  0.00000 &      6.70556 &           0.00000 &              15.77143 \\\\\n",
      "         & [0, 5] &  0.00000 &      6.44315 &           0.00000 &              19.88545 \\\\\n",
      "         & [0, 1] &  0.00000 &      5.79024 &           0.00000 &              16.16812 \\\\\n",
      "Pandemic & [-20, 20] &  0.01444 &     -2.49012 &           0.00000 &             -10.45820 \\\\\n",
      "         & [-20, -1] &  0.00000 &     -6.05918 &           0.00000 &             -10.00372 \\\\\n",
      "         & [0, 20] &  0.00000 &      6.34548 &           0.03160 &               2.14946 \\\\\n",
      "         & [0, 5] &  0.00001 &      4.73552 &           0.33603 &               0.96204 \\\\\n",
      "         & [0, 1] &  0.00001 &      4.55528 &           0.30184 &               1.03250 \\\\\n",
      "\\bottomrule\n",
      "\\end{tabular}\n",
      "\n"
     ]
    },
    {
     "name": "stderr",
     "output_type": "stream",
     "text": [
      "C:\\Users\\Tom\\AppData\\Local\\Temp\\ipykernel_25280\\3489365539.py:1: FutureWarning: In future versions `DataFrame.to_latex` is expected to utilise the base implementation of `Styler.to_latex` for formatting and rendering. The arguments signature may therefore change. It is recommended instead to use `DataFrame.style.to_latex` which also contains additional functionality.\n",
      "  print(df_tests.loc[:,\"P - Purchase\",:,:].to_latex())\n"
     ]
    }
   ],
   "source": [
    "print(df_tests.loc[:,\"P - Purchase\",:,:].to_latex())"
   ],
   "metadata": {
    "collapsed": false,
    "pycharm": {
     "name": "#%%\n"
    }
   }
  },
  {
   "cell_type": "code",
   "execution_count": 15,
   "outputs": [
    {
     "name": "stdout",
     "output_type": "stream",
     "text": [
      "\\begin{tabular}{llrrrr}\n",
      "\\toprule\n",
      "         &        &  p-value &  t-statistic &  p-value (adjBMP) &  t-statistic (adjBMP) \\\\\n",
      "Investigation Period & CAR Period &          &              &                   &                       \\\\\n",
      "\\midrule\n",
      "Overall & [-20, 20] &  0.00434 &      2.91944 &           0.00000 &              12.01674 \\\\\n",
      "         & [-20, -1] &  0.00000 &     18.09515 &           0.00000 &              16.35174 \\\\\n",
      "         & [0, 20] &  0.00000 &    -13.50097 &           0.00000 &             -14.99550 \\\\\n",
      "         & [0, 5] &  0.00000 &     -8.42189 &           0.00000 &             -12.12782 \\\\\n",
      "         & [0, 1] &  0.00000 &     -9.74303 &           0.00000 &             -10.80234 \\\\\n",
      "Pre-Pandemic & [-20, 20] &  0.00506 &      2.86715 &           0.00000 &              10.23259 \\\\\n",
      "         & [-20, -1] &  0.00000 &     14.44809 &           0.00000 &              11.51189 \\\\\n",
      "         & [0, 20] &  0.00000 &     -9.87357 &           0.00000 &             -11.03986 \\\\\n",
      "         & [0, 5] &  0.00000 &     -6.76668 &           0.00000 &              -8.91884 \\\\\n",
      "         & [0, 1] &  0.00000 &     -8.10467 &           0.00000 &              -7.82418 \\\\\n",
      "Pandemic & [-20, 20] &  0.18982 &      1.32017 &           0.00000 &               6.35611 \\\\\n",
      "         & [-20, -1] &  0.00000 &     11.56643 &           0.00000 &               9.68463 \\\\\n",
      "         & [0, 20] &  0.00000 &     -9.54233 &           0.00000 &             -11.73321 \\\\\n",
      "         & [0, 5] &  0.00000 &     -4.87764 &           0.00000 &              -8.64407 \\\\\n",
      "         & [0, 1] &  0.00000 &     -5.62394 &           0.00000 &              -6.84316 \\\\\n",
      "\\bottomrule\n",
      "\\end{tabular}\n",
      "\n"
     ]
    },
    {
     "name": "stderr",
     "output_type": "stream",
     "text": [
      "C:\\Users\\Tom\\AppData\\Local\\Temp\\ipykernel_25280\\104012444.py:1: FutureWarning: In future versions `DataFrame.to_latex` is expected to utilise the base implementation of `Styler.to_latex` for formatting and rendering. The arguments signature may therefore change. It is recommended instead to use `DataFrame.style.to_latex` which also contains additional functionality.\n",
      "  print(df_tests.loc[:,\"S - Sale\",:,:].to_latex())\n"
     ]
    }
   ],
   "source": [
    "print(df_tests.loc[:,\"S - Sale\",:,:].to_latex())"
   ],
   "metadata": {
    "collapsed": false,
    "pycharm": {
     "name": "#%%\n"
    }
   }
  },
  {
   "cell_type": "code",
   "execution_count": 16,
   "outputs": [
    {
     "name": "stdout",
     "output_type": "stream",
     "text": [
      "\\begin{tabular}{llrrrr}\n",
      "\\toprule\n",
      "         &        &  p-value &  t-statistic &  p-value (adjBMP) &  t-statistic (adjBMP) \\\\\n",
      "Investigation Period & CAR Period &          &              &                   &                       \\\\\n",
      "\\midrule\n",
      "Overall & [-20, 20] &  0.00000 &      6.21721 &           0.00000 &              17.57533 \\\\\n",
      "         & [-20, -1] &  0.00000 &     21.36487 &           0.00000 &              19.13067 \\\\\n",
      "         & [0, 20] &  0.00000 &    -12.63593 &           0.00000 &             -14.54062 \\\\\n",
      "         & [0, 5] &  0.00000 &     -7.81918 &           0.00000 &             -10.50746 \\\\\n",
      "         & [0, 1] &  0.00000 &     -6.23731 &           0.00000 &              -7.09210 \\\\\n",
      "Pre-Pandemic & [-20, 20] &  0.00000 &      6.47800 &           0.00000 &              14.71868 \\\\\n",
      "         & [-20, -1] &  0.00000 &     16.70721 &           0.00000 &              13.49375 \\\\\n",
      "         & [0, 20] &  0.00000 &     -7.05485 &           0.00000 &              -7.92026 \\\\\n",
      "         & [0, 5] &  0.00002 &     -4.46096 &           0.00000 &              -6.36291 \\\\\n",
      "         & [0, 1] &  0.00026 &     -3.79113 &           0.00014 &              -3.81469 \\\\\n",
      "Pandemic & [-20, 20] &  0.01913 &      2.38199 &           0.00000 &              11.45480 \\\\\n",
      "         & [-20, -1] &  0.00000 &     14.60276 &           0.00000 &              13.88490 \\\\\n",
      "         & [0, 20] &  0.00000 &    -12.22755 &           0.00000 &             -12.81340 \\\\\n",
      "         & [0, 5] &  0.00000 &     -6.80002 &           0.00000 &              -8.25083 \\\\\n",
      "         & [0, 1] &  0.00000 &     -5.17017 &           0.00000 &              -5.72731 \\\\\n",
      "\\bottomrule\n",
      "\\end{tabular}\n",
      "\n"
     ]
    },
    {
     "name": "stderr",
     "output_type": "stream",
     "text": [
      "C:\\Users\\Tom\\AppData\\Local\\Temp\\ipykernel_25280\\2133665212.py:1: FutureWarning: In future versions `DataFrame.to_latex` is expected to utilise the base implementation of `Styler.to_latex` for formatting and rendering. The arguments signature may therefore change. It is recommended instead to use `DataFrame.style.to_latex` which also contains additional functionality.\n",
      "  print(df_tests.loc[:,\"S - Sale+OE\",:,:].to_latex())\n"
     ]
    }
   ],
   "source": [
    "print(df_tests.loc[:,\"S - Sale+OE\",:,:].to_latex())"
   ],
   "metadata": {
    "collapsed": false,
    "pycharm": {
     "name": "#%%\n"
    }
   }
  },
  {
   "cell_type": "code",
   "execution_count": 16,
   "outputs": [],
   "source": [],
   "metadata": {
    "collapsed": false,
    "pycharm": {
     "name": "#%%\n"
    }
   }
  },
  {
   "cell_type": "code",
   "execution_count": 16,
   "outputs": [],
   "source": [],
   "metadata": {
    "collapsed": false,
    "pycharm": {
     "name": "#%%\n"
    }
   }
  },
  {
   "cell_type": "code",
   "execution_count": 16,
   "outputs": [],
   "source": [],
   "metadata": {
    "collapsed": false,
    "pycharm": {
     "name": "#%%\n"
    }
   }
  }
 ],
 "metadata": {
  "kernelspec": {
   "display_name": "Python 3",
   "language": "python",
   "name": "python3"
  },
  "language_info": {
   "codemirror_mode": {
    "name": "ipython",
    "version": 2
   },
   "file_extension": ".py",
   "mimetype": "text/x-python",
   "name": "python",
   "nbconvert_exporter": "python",
   "pygments_lexer": "ipython2",
   "version": "2.7.6"
  }
 },
 "nbformat": 4,
 "nbformat_minor": 0
}