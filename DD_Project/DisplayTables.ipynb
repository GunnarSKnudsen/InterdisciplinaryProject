{
 "cells": [
  {
   "cell_type": "markdown",
   "metadata": {
    "execution": {
     "iopub.execute_input": "2022-11-15T14:23:10.703322Z",
     "iopub.status.busy": "2022-11-15T14:23:10.703322Z",
     "iopub.status.idle": "2022-11-15T14:23:11.105887Z",
     "shell.execute_reply": "2022-11-15T14:23:11.105887Z"
    },
    "pycharm": {
     "name": "#%%\n"
    },
    "tags": []
   },
   "source": [
    "# Display Tables\n",
    "_Written by Thomas Niedermayer and Gunnar Sjúrðarson Knudsen, as a conjoined effort for an interdiscplinary project in Data Science._\n",
    "* Supervisor: Wolfgang Aussenegg\n",
    "* Co-Supervisor: Sascha Hunold\n",
    "\n",
    "Purpose of this notebook is to generate LaTeX tables for the final report"
   ]
  },
  {
   "cell_type": "code",
   "execution_count": null,
   "metadata": {
    "execution": {
     "iopub.execute_input": "2022-11-23T09:38:06.960714Z",
     "iopub.status.busy": "2022-11-23T09:38:06.960714Z",
     "iopub.status.idle": "2022-11-23T09:38:07.337402Z",
     "shell.execute_reply": "2022-11-23T09:38:07.335449Z"
    }
   },
   "outputs": [],
   "source": [
    "from tools import load_settings\n",
    "import pandas as pd"
   ]
  },
  {
   "cell_type": "code",
   "execution_count": null,
   "metadata": {
    "execution": {
     "iopub.execute_input": "2022-11-23T09:38:07.343379Z",
     "iopub.status.busy": "2022-11-23T09:38:07.342382Z",
     "iopub.status.idle": "2022-11-23T09:38:07.351394Z",
     "shell.execute_reply": "2022-11-23T09:38:07.351394Z"
    },
    "jupyter": {
     "outputs_hidden": false
    },
    "pycharm": {
     "name": "#%%\n"
    }
   },
   "outputs": [],
   "source": [
    "settings = load_settings()\n",
    "NAME = settings['NAME']\n",
    "df_tests = pd.read_pickle(f\"data/{NAME}/statistical_tests/GRANK_ADJBMP.pkl\")\n",
    "df_tests = df_tests.drop(columns=[\"adj-GRANK p-value\", \"adj-GRANK statistic\"])"
   ]
  },
  {
   "cell_type": "code",
   "execution_count": null,
   "metadata": {
    "execution": {
     "iopub.execute_input": "2022-11-23T09:38:07.354374Z",
     "iopub.status.busy": "2022-11-23T09:38:07.354374Z",
     "iopub.status.idle": "2022-11-23T09:38:07.368774Z",
     "shell.execute_reply": "2022-11-23T09:38:07.366724Z"
    },
    "jupyter": {
     "outputs_hidden": false
    },
    "pycharm": {
     "name": "#%%\n"
    }
   },
   "outputs": [],
   "source": [
    "# stop scientific notation\n",
    "pd.set_option('display.float_format', lambda x: '%.5f' % x)"
   ]
  },
  {
   "cell_type": "code",
   "execution_count": null,
   "metadata": {
    "execution": {
     "iopub.execute_input": "2022-11-23T09:38:07.379738Z",
     "iopub.status.busy": "2022-11-23T09:38:07.378741Z",
     "iopub.status.idle": "2022-11-23T09:38:07.397680Z",
     "shell.execute_reply": "2022-11-23T09:38:07.397680Z"
    },
    "jupyter": {
     "outputs_hidden": false
    },
    "pycharm": {
     "name": "#%%\n"
    }
   },
   "outputs": [],
   "source": [
    "df_tests"
   ]
  },
  {
   "cell_type": "code",
   "execution_count": null,
   "metadata": {
    "execution": {
     "iopub.execute_input": "2022-11-23T09:38:07.429594Z",
     "iopub.status.busy": "2022-11-23T09:38:07.429594Z",
     "iopub.status.idle": "2022-11-23T09:38:07.444603Z",
     "shell.execute_reply": "2022-11-23T09:38:07.443532Z"
    },
    "jupyter": {
     "outputs_hidden": false
    },
    "pycharm": {
     "name": "#%%\n"
    }
   },
   "outputs": [],
   "source": [
    "print(df_tests.loc[:,\"P - Purchase\",:,:].to_latex())"
   ]
  },
  {
   "cell_type": "code",
   "execution_count": null,
   "metadata": {
    "execution": {
     "iopub.execute_input": "2022-11-23T09:38:07.451580Z",
     "iopub.status.busy": "2022-11-23T09:38:07.451580Z",
     "iopub.status.idle": "2022-11-23T09:38:07.476580Z",
     "shell.execute_reply": "2022-11-23T09:38:07.474566Z"
    },
    "jupyter": {
     "outputs_hidden": false
    },
    "pycharm": {
     "name": "#%%\n"
    }
   },
   "outputs": [],
   "source": [
    "print(df_tests.loc[:,\"S - Sale\",:,:].to_latex())"
   ]
  },
  {
   "cell_type": "code",
   "execution_count": null,
   "metadata": {
    "execution": {
     "iopub.execute_input": "2022-11-23T09:38:07.488592Z",
     "iopub.status.busy": "2022-11-23T09:38:07.487608Z",
     "iopub.status.idle": "2022-11-23T09:38:07.522913Z",
     "shell.execute_reply": "2022-11-23T09:38:07.521726Z"
    },
    "jupyter": {
     "outputs_hidden": false
    },
    "pycharm": {
     "name": "#%%\n"
    },
    "tags": []
   },
   "outputs": [],
   "source": [
    "print(df_tests.loc[:,\"S - Sale+OE\",:,:].to_latex())"
   ]
  }
 ],
 "metadata": {
  "kernelspec": {
   "display_name": "Python 3 (ipykernel)",
   "language": "python",
   "name": "python3"
  },
  "language_info": {
   "codemirror_mode": {
    "name": "ipython",
    "version": 3
   },
   "file_extension": ".py",
   "mimetype": "text/x-python",
   "name": "python",
   "nbconvert_exporter": "python",
   "pygments_lexer": "ipython3",
   "version": "3.9.13"
  }
 },
 "nbformat": 4,
 "nbformat_minor": 4
}
