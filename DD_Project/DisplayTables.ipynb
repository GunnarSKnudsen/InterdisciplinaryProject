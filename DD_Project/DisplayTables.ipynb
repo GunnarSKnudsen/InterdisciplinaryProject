{
 "cells": [
  {
   "cell_type": "code",
   "execution_count": 8,
   "metadata": {
    "execution": {
     "iopub.execute_input": "2022-11-09T14:59:19.162909Z",
     "iopub.status.busy": "2022-11-09T14:59:19.162909Z",
     "iopub.status.idle": "2022-11-09T14:59:19.522908Z",
     "shell.execute_reply": "2022-11-09T14:59:19.522908Z"
    },
    "pycharm": {
     "name": "#%%\n"
    },
    "tags": []
   },
   "outputs": [],
   "source": [
    "from tools import load_settings\n",
    "import pandas as pd"
   ]
  },
  {
   "cell_type": "code",
   "execution_count": 9,
   "metadata": {
    "collapsed": false,
    "execution": {
     "iopub.execute_input": "2022-11-09T14:59:19.525911Z",
     "iopub.status.busy": "2022-11-09T14:59:19.525911Z",
     "iopub.status.idle": "2022-11-09T14:59:19.568909Z",
     "shell.execute_reply": "2022-11-09T14:59:19.568909Z"
    },
    "jupyter": {
     "outputs_hidden": false
    },
    "pycharm": {
     "name": "#%%\n"
    }
   },
   "outputs": [],
   "source": [
    "settings = load_settings()\n",
    "NAME = settings['NAME']\n",
    "df_tests = pd.read_pickle(f\"data/{NAME}/statistical_tests/GRANK_ADJBMP.pkl\")\n",
    "df_tests = df_tests.drop(columns=[\"adj-GRANK p-value\", \"adj-GRANK statistic\"])"
   ]
  },
  {
   "cell_type": "code",
   "execution_count": 10,
   "metadata": {
    "collapsed": false,
    "execution": {
     "iopub.execute_input": "2022-11-09T14:59:19.580909Z",
     "iopub.status.busy": "2022-11-09T14:59:19.580909Z",
     "iopub.status.idle": "2022-11-09T14:59:19.584909Z",
     "shell.execute_reply": "2022-11-09T14:59:19.584909Z"
    },
    "jupyter": {
     "outputs_hidden": false
    },
    "pycharm": {
     "name": "#%%\n"
    }
   },
   "outputs": [],
   "source": [
    "# stop scientific notation\n",
    "pd.set_option('display.float_format', lambda x: '%.5f' % x)"
   ]
  },
  {
   "cell_type": "code",
   "execution_count": 11,
   "metadata": {
    "collapsed": false,
    "execution": {
     "iopub.execute_input": "2022-11-09T14:59:19.587915Z",
     "iopub.status.busy": "2022-11-09T14:59:19.586909Z",
     "iopub.status.idle": "2022-11-09T14:59:19.600911Z",
     "shell.execute_reply": "2022-11-09T14:59:19.600911Z"
    },
    "jupyter": {
     "outputs_hidden": false
    },
    "pycharm": {
     "name": "#%%\n"
    }
   },
   "outputs": [
    {
     "data": {
      "text/plain": "                                                 CAAR  GRANK p-value  \\\nInvestigation Period Trade Type   CAR Period                           \nOverall              P - Purchase [-20, -1]   0.07738        0.05834   \n                                  [0, 20]    -0.00598        0.00000   \n                                  [0, 5]     -0.00982        0.00003   \n                                  [0, 1]      0.00300        0.00001   \n                     S - Sale     [-20, -1]  -0.03233        0.00000   \n                                  [0, 20]     0.03634        0.00000   \n                                  [0, 5]     -0.01321        0.00000   \n                                  [0, 1]     -0.02499        0.00000   \n                     S - Sale+OE  [-20, -1]   0.02581        0.00000   \n                                  [0, 20]    -0.01039        0.00000   \n                                  [0, 5]     -0.01294        0.00000   \n                                  [0, 1]     -0.04511        0.00000   \nPre-Pandemic         P - Purchase [-20, -1]   0.04821        0.76667   \n                                  [0, 20]    -0.00555        0.00000   \n                                  [0, 5]      0.13287        0.00000   \n                                  [0, 1]      0.14861        0.00000   \n                     S - Sale     [-20, -1]   0.01871        0.00000   \n                                  [0, 20]     0.03192        0.00000   \n                                  [0, 5]      0.03862        0.00000   \n                                  [0, 1]      0.12020        0.00000   \n                     S - Sale+OE  [-20, -1]  -0.00892        0.00000   \n                                  [0, 20]     0.02579        0.00000   \n                                  [0, 5]      0.04618        0.00002   \n                                  [0, 1]      0.02849        0.00018   \nPandemic             P - Purchase [-20, -1]   0.08070        0.00000   \n                                  [0, 20]    -0.00564        0.00000   \n                                  [0, 5]     -0.03630        0.00002   \n                                  [0, 1]      0.00432        0.00001   \n                     S - Sale     [-20, -1]  -0.03233        0.00000   \n                                  [0, 20]     0.03956        0.00000   \n                                  [0, 5]     -0.01321        0.00000   \n                                  [0, 1]     -0.02499        0.00000   \n                     S - Sale+OE  [-20, -1]   0.03428        0.00000   \n                                  [0, 20]     0.04130        0.00000   \n                                  [0, 5]      0.07956        0.00000   \n                                  [0, 1]      0.08286        0.00000   \n\n                                              GRANK t-statistic  \\\nInvestigation Period Trade Type   CAR Period                      \nOverall              P - Purchase [-20, -1]            -1.91534   \n                                  [0, 20]               7.00676   \n                                  [0, 5]                4.34952   \n                                  [0, 1]                4.65399   \n                     S - Sale     [-20, -1]            18.22464   \n                                  [0, 20]             -13.76241   \n                                  [0, 5]               -8.59760   \n                                  [0, 1]               -9.90072   \n                     S - Sale+OE  [-20, -1]            21.46021   \n                                  [0, 20]             -12.82881   \n                                  [0, 5]               -7.96740   \n                                  [0, 1]               -6.39831   \nPre-Pandemic         P - Purchase [-20, -1]             0.29755   \n                                  [0, 20]               6.62851   \n                                  [0, 5]                6.36876   \n                                  [0, 1]                5.72469   \n                     S - Sale     [-20, -1]            14.44183   \n                                  [0, 20]              -9.94169   \n                                  [0, 5]               -6.82441   \n                                  [0, 1]               -8.13437   \n                     S - Sale+OE  [-20, -1]            16.73537   \n                                  [0, 20]              -7.13125   \n                                  [0, 5]               -4.52870   \n                                  [0, 1]               -3.88754   \nPandemic             P - Purchase [-20, -1]            -5.32643   \n                                  [0, 20]               5.98788   \n                                  [0, 5]                4.54386   \n                                  [0, 1]                4.59055   \n                     S - Sale     [-20, -1]            11.76900   \n                                  [0, 20]              -9.83919   \n                                  [0, 5]               -5.06119   \n                                  [0, 1]               -5.74581   \n                     S - Sale+OE  [-20, -1]            14.76889   \n                                  [0, 20]             -12.47214   \n                                  [0, 5]               -6.99570   \n                                  [0, 1]               -5.30607   \n\n                                              adjBMP p-value  \\\nInvestigation Period Trade Type   CAR Period                   \nOverall              P - Purchase [-20, -1]          0.00000   \n                                  [0, 20]            0.00000   \n                                  [0, 5]             0.00000   \n                                  [0, 1]             0.00000   \n                     S - Sale     [-20, -1]          0.00000   \n                                  [0, 20]            0.00000   \n                                  [0, 5]             0.00000   \n                                  [0, 1]             0.00000   \n                     S - Sale+OE  [-20, -1]          0.00000   \n                                  [0, 20]            0.00000   \n                                  [0, 5]             0.00000   \n                                  [0, 1]             0.00000   \nPre-Pandemic         P - Purchase [-20, -1]          0.00097   \n                                  [0, 20]            0.00000   \n                                  [0, 5]             0.00000   \n                                  [0, 1]             0.00000   \n                     S - Sale     [-20, -1]          0.00000   \n                                  [0, 20]            0.00000   \n                                  [0, 5]             0.00000   \n                                  [0, 1]             0.00000   \n                     S - Sale+OE  [-20, -1]          0.00000   \n                                  [0, 20]            0.00000   \n                                  [0, 5]             0.00000   \n                                  [0, 1]             0.00000   \nPandemic             P - Purchase [-20, -1]          0.00000   \n                                  [0, 20]            0.00000   \n                                  [0, 5]             0.01897   \n                                  [0, 1]             0.00096   \n                     S - Sale     [-20, -1]          0.00000   \n                                  [0, 20]            0.00000   \n                                  [0, 5]             0.00000   \n                                  [0, 1]             0.00000   \n                     S - Sale+OE  [-20, -1]          0.00000   \n                                  [0, 20]            0.00000   \n                                  [0, 5]             0.00000   \n                                  [0, 1]             0.00000   \n\n                                              adjBMP t-statistic  \nInvestigation Period Trade Type   CAR Period                      \nOverall              P - Purchase [-20, -1]            -13.83046  \n                                  [0, 20]               18.07963  \n                                  [0, 5]                 8.44142  \n                                  [0, 1]                 9.90125  \n                     S - Sale     [-20, -1]             27.26980  \n                                  [0, 20]              -22.71980  \n                                  [0, 5]               -11.87646  \n                                  [0, 1]               -13.91886  \n                     S - Sale+OE  [-20, -1]             35.85620  \n                                  [0, 20]              -21.39717  \n                                  [0, 5]               -12.81949  \n                                  [0, 1]               -10.59587  \nPre-Pandemic         P - Purchase [-20, -1]             -3.30002  \n                                  [0, 20]               20.38712  \n                                  [0, 5]                21.63987  \n                                  [0, 1]                22.52152  \n                     S - Sale     [-20, -1]             21.08094  \n                                  [0, 20]              -15.53709  \n                                  [0, 5]                -9.00427  \n                                  [0, 1]               -10.92415  \n                     S - Sale+OE  [-20, -1]             26.70375  \n                                  [0, 20]              -11.87457  \n                                  [0, 5]                -7.16995  \n                                  [0, 1]                -6.96879  \nPandemic             P - Purchase [-20, -1]            -16.64912  \n                                  [0, 20]                7.13397  \n                                  [0, 5]                 2.34603  \n                                  [0, 1]                 3.30056  \n                     S - Sale     [-20, -1]             15.75555  \n                                  [0, 20]              -14.00199  \n                                  [0, 5]                -9.89732  \n                                  [0, 1]                -9.96426  \n                     S - Sale+OE  [-20, -1]             23.07054  \n                                  [0, 20]              -17.60576  \n                                  [0, 5]               -11.08443  \n                                  [0, 1]                -8.57419  ",
      "text/html": "<div>\n<style scoped>\n    .dataframe tbody tr th:only-of-type {\n        vertical-align: middle;\n    }\n\n    .dataframe tbody tr th {\n        vertical-align: top;\n    }\n\n    .dataframe thead th {\n        text-align: right;\n    }\n</style>\n<table border=\"1\" class=\"dataframe\">\n  <thead>\n    <tr style=\"text-align: right;\">\n      <th></th>\n      <th></th>\n      <th></th>\n      <th>CAAR</th>\n      <th>GRANK p-value</th>\n      <th>GRANK t-statistic</th>\n      <th>adjBMP p-value</th>\n      <th>adjBMP t-statistic</th>\n    </tr>\n    <tr>\n      <th>Investigation Period</th>\n      <th>Trade Type</th>\n      <th>CAR Period</th>\n      <th></th>\n      <th></th>\n      <th></th>\n      <th></th>\n      <th></th>\n    </tr>\n  </thead>\n  <tbody>\n    <tr>\n      <th rowspan=\"12\" valign=\"top\">Overall</th>\n      <th rowspan=\"4\" valign=\"top\">P - Purchase</th>\n      <th>[-20, -1]</th>\n      <td>0.07738</td>\n      <td>0.05834</td>\n      <td>-1.91534</td>\n      <td>0.00000</td>\n      <td>-13.83046</td>\n    </tr>\n    <tr>\n      <th>[0, 20]</th>\n      <td>-0.00598</td>\n      <td>0.00000</td>\n      <td>7.00676</td>\n      <td>0.00000</td>\n      <td>18.07963</td>\n    </tr>\n    <tr>\n      <th>[0, 5]</th>\n      <td>-0.00982</td>\n      <td>0.00003</td>\n      <td>4.34952</td>\n      <td>0.00000</td>\n      <td>8.44142</td>\n    </tr>\n    <tr>\n      <th>[0, 1]</th>\n      <td>0.00300</td>\n      <td>0.00001</td>\n      <td>4.65399</td>\n      <td>0.00000</td>\n      <td>9.90125</td>\n    </tr>\n    <tr>\n      <th rowspan=\"4\" valign=\"top\">S - Sale</th>\n      <th>[-20, -1]</th>\n      <td>-0.03233</td>\n      <td>0.00000</td>\n      <td>18.22464</td>\n      <td>0.00000</td>\n      <td>27.26980</td>\n    </tr>\n    <tr>\n      <th>[0, 20]</th>\n      <td>0.03634</td>\n      <td>0.00000</td>\n      <td>-13.76241</td>\n      <td>0.00000</td>\n      <td>-22.71980</td>\n    </tr>\n    <tr>\n      <th>[0, 5]</th>\n      <td>-0.01321</td>\n      <td>0.00000</td>\n      <td>-8.59760</td>\n      <td>0.00000</td>\n      <td>-11.87646</td>\n    </tr>\n    <tr>\n      <th>[0, 1]</th>\n      <td>-0.02499</td>\n      <td>0.00000</td>\n      <td>-9.90072</td>\n      <td>0.00000</td>\n      <td>-13.91886</td>\n    </tr>\n    <tr>\n      <th rowspan=\"4\" valign=\"top\">S - Sale+OE</th>\n      <th>[-20, -1]</th>\n      <td>0.02581</td>\n      <td>0.00000</td>\n      <td>21.46021</td>\n      <td>0.00000</td>\n      <td>35.85620</td>\n    </tr>\n    <tr>\n      <th>[0, 20]</th>\n      <td>-0.01039</td>\n      <td>0.00000</td>\n      <td>-12.82881</td>\n      <td>0.00000</td>\n      <td>-21.39717</td>\n    </tr>\n    <tr>\n      <th>[0, 5]</th>\n      <td>-0.01294</td>\n      <td>0.00000</td>\n      <td>-7.96740</td>\n      <td>0.00000</td>\n      <td>-12.81949</td>\n    </tr>\n    <tr>\n      <th>[0, 1]</th>\n      <td>-0.04511</td>\n      <td>0.00000</td>\n      <td>-6.39831</td>\n      <td>0.00000</td>\n      <td>-10.59587</td>\n    </tr>\n    <tr>\n      <th rowspan=\"12\" valign=\"top\">Pre-Pandemic</th>\n      <th rowspan=\"4\" valign=\"top\">P - Purchase</th>\n      <th>[-20, -1]</th>\n      <td>0.04821</td>\n      <td>0.76667</td>\n      <td>0.29755</td>\n      <td>0.00097</td>\n      <td>-3.30002</td>\n    </tr>\n    <tr>\n      <th>[0, 20]</th>\n      <td>-0.00555</td>\n      <td>0.00000</td>\n      <td>6.62851</td>\n      <td>0.00000</td>\n      <td>20.38712</td>\n    </tr>\n    <tr>\n      <th>[0, 5]</th>\n      <td>0.13287</td>\n      <td>0.00000</td>\n      <td>6.36876</td>\n      <td>0.00000</td>\n      <td>21.63987</td>\n    </tr>\n    <tr>\n      <th>[0, 1]</th>\n      <td>0.14861</td>\n      <td>0.00000</td>\n      <td>5.72469</td>\n      <td>0.00000</td>\n      <td>22.52152</td>\n    </tr>\n    <tr>\n      <th rowspan=\"4\" valign=\"top\">S - Sale</th>\n      <th>[-20, -1]</th>\n      <td>0.01871</td>\n      <td>0.00000</td>\n      <td>14.44183</td>\n      <td>0.00000</td>\n      <td>21.08094</td>\n    </tr>\n    <tr>\n      <th>[0, 20]</th>\n      <td>0.03192</td>\n      <td>0.00000</td>\n      <td>-9.94169</td>\n      <td>0.00000</td>\n      <td>-15.53709</td>\n    </tr>\n    <tr>\n      <th>[0, 5]</th>\n      <td>0.03862</td>\n      <td>0.00000</td>\n      <td>-6.82441</td>\n      <td>0.00000</td>\n      <td>-9.00427</td>\n    </tr>\n    <tr>\n      <th>[0, 1]</th>\n      <td>0.12020</td>\n      <td>0.00000</td>\n      <td>-8.13437</td>\n      <td>0.00000</td>\n      <td>-10.92415</td>\n    </tr>\n    <tr>\n      <th rowspan=\"4\" valign=\"top\">S - Sale+OE</th>\n      <th>[-20, -1]</th>\n      <td>-0.00892</td>\n      <td>0.00000</td>\n      <td>16.73537</td>\n      <td>0.00000</td>\n      <td>26.70375</td>\n    </tr>\n    <tr>\n      <th>[0, 20]</th>\n      <td>0.02579</td>\n      <td>0.00000</td>\n      <td>-7.13125</td>\n      <td>0.00000</td>\n      <td>-11.87457</td>\n    </tr>\n    <tr>\n      <th>[0, 5]</th>\n      <td>0.04618</td>\n      <td>0.00002</td>\n      <td>-4.52870</td>\n      <td>0.00000</td>\n      <td>-7.16995</td>\n    </tr>\n    <tr>\n      <th>[0, 1]</th>\n      <td>0.02849</td>\n      <td>0.00018</td>\n      <td>-3.88754</td>\n      <td>0.00000</td>\n      <td>-6.96879</td>\n    </tr>\n    <tr>\n      <th rowspan=\"12\" valign=\"top\">Pandemic</th>\n      <th rowspan=\"4\" valign=\"top\">P - Purchase</th>\n      <th>[-20, -1]</th>\n      <td>0.08070</td>\n      <td>0.00000</td>\n      <td>-5.32643</td>\n      <td>0.00000</td>\n      <td>-16.64912</td>\n    </tr>\n    <tr>\n      <th>[0, 20]</th>\n      <td>-0.00564</td>\n      <td>0.00000</td>\n      <td>5.98788</td>\n      <td>0.00000</td>\n      <td>7.13397</td>\n    </tr>\n    <tr>\n      <th>[0, 5]</th>\n      <td>-0.03630</td>\n      <td>0.00002</td>\n      <td>4.54386</td>\n      <td>0.01897</td>\n      <td>2.34603</td>\n    </tr>\n    <tr>\n      <th>[0, 1]</th>\n      <td>0.00432</td>\n      <td>0.00001</td>\n      <td>4.59055</td>\n      <td>0.00096</td>\n      <td>3.30056</td>\n    </tr>\n    <tr>\n      <th rowspan=\"4\" valign=\"top\">S - Sale</th>\n      <th>[-20, -1]</th>\n      <td>-0.03233</td>\n      <td>0.00000</td>\n      <td>11.76900</td>\n      <td>0.00000</td>\n      <td>15.75555</td>\n    </tr>\n    <tr>\n      <th>[0, 20]</th>\n      <td>0.03956</td>\n      <td>0.00000</td>\n      <td>-9.83919</td>\n      <td>0.00000</td>\n      <td>-14.00199</td>\n    </tr>\n    <tr>\n      <th>[0, 5]</th>\n      <td>-0.01321</td>\n      <td>0.00000</td>\n      <td>-5.06119</td>\n      <td>0.00000</td>\n      <td>-9.89732</td>\n    </tr>\n    <tr>\n      <th>[0, 1]</th>\n      <td>-0.02499</td>\n      <td>0.00000</td>\n      <td>-5.74581</td>\n      <td>0.00000</td>\n      <td>-9.96426</td>\n    </tr>\n    <tr>\n      <th rowspan=\"4\" valign=\"top\">S - Sale+OE</th>\n      <th>[-20, -1]</th>\n      <td>0.03428</td>\n      <td>0.00000</td>\n      <td>14.76889</td>\n      <td>0.00000</td>\n      <td>23.07054</td>\n    </tr>\n    <tr>\n      <th>[0, 20]</th>\n      <td>0.04130</td>\n      <td>0.00000</td>\n      <td>-12.47214</td>\n      <td>0.00000</td>\n      <td>-17.60576</td>\n    </tr>\n    <tr>\n      <th>[0, 5]</th>\n      <td>0.07956</td>\n      <td>0.00000</td>\n      <td>-6.99570</td>\n      <td>0.00000</td>\n      <td>-11.08443</td>\n    </tr>\n    <tr>\n      <th>[0, 1]</th>\n      <td>0.08286</td>\n      <td>0.00000</td>\n      <td>-5.30607</td>\n      <td>0.00000</td>\n      <td>-8.57419</td>\n    </tr>\n  </tbody>\n</table>\n</div>"
     },
     "execution_count": 11,
     "metadata": {},
     "output_type": "execute_result"
    }
   ],
   "source": [
    "df_tests"
   ]
  },
  {
   "cell_type": "code",
   "execution_count": 12,
   "metadata": {
    "collapsed": false,
    "execution": {
     "iopub.execute_input": "2022-11-09T14:59:19.603909Z",
     "iopub.status.busy": "2022-11-09T14:59:19.603909Z",
     "iopub.status.idle": "2022-11-09T14:59:19.949909Z",
     "shell.execute_reply": "2022-11-09T14:59:19.949909Z"
    },
    "jupyter": {
     "outputs_hidden": false
    },
    "pycharm": {
     "name": "#%%\n"
    }
   },
   "outputs": [
    {
     "name": "stdout",
     "output_type": "stream",
     "text": [
      "\\begin{tabular}{llrrrrr}\n",
      "\\toprule\n",
      "         &        &     CAAR &  GRANK p-value &  GRANK t-statistic &  adjBMP p-value &  adjBMP t-statistic \\\\\n",
      "Investigation Period & CAR Period &          &                &                    &                 &                     \\\\\n",
      "\\midrule\n",
      "Overall & [-20, -1] &  0.07738 &        0.05834 &           -1.91534 &         0.00000 &           -13.83046 \\\\\n",
      "         & [0, 20] & -0.00598 &        0.00000 &            7.00676 &         0.00000 &            18.07963 \\\\\n",
      "         & [0, 5] & -0.00982 &        0.00003 &            4.34952 &         0.00000 &             8.44142 \\\\\n",
      "         & [0, 1] &  0.00300 &        0.00001 &            4.65399 &         0.00000 &             9.90125 \\\\\n",
      "Pre-Pandemic & [-20, -1] &  0.04821 &        0.76667 &            0.29755 &         0.00097 &            -3.30002 \\\\\n",
      "         & [0, 20] & -0.00555 &        0.00000 &            6.62851 &         0.00000 &            20.38712 \\\\\n",
      "         & [0, 5] &  0.13287 &        0.00000 &            6.36876 &         0.00000 &            21.63987 \\\\\n",
      "         & [0, 1] &  0.14861 &        0.00000 &            5.72469 &         0.00000 &            22.52152 \\\\\n",
      "Pandemic & [-20, -1] &  0.08070 &        0.00000 &           -5.32643 &         0.00000 &           -16.64912 \\\\\n",
      "         & [0, 20] & -0.00564 &        0.00000 &            5.98788 &         0.00000 &             7.13397 \\\\\n",
      "         & [0, 5] & -0.03630 &        0.00002 &            4.54386 &         0.01897 &             2.34603 \\\\\n",
      "         & [0, 1] &  0.00432 &        0.00001 &            4.59055 &         0.00096 &             3.30056 \\\\\n",
      "\\bottomrule\n",
      "\\end{tabular}\n",
      "\n"
     ]
    },
    {
     "name": "stderr",
     "output_type": "stream",
     "text": [
      "C:\\Users\\Tom\\AppData\\Local\\Temp\\ipykernel_26160\\3489365539.py:1: FutureWarning: In future versions `DataFrame.to_latex` is expected to utilise the base implementation of `Styler.to_latex` for formatting and rendering. The arguments signature may therefore change. It is recommended instead to use `DataFrame.style.to_latex` which also contains additional functionality.\n",
      "  print(df_tests.loc[:,\"P - Purchase\",:,:].to_latex())\n"
     ]
    }
   ],
   "source": [
    "print(df_tests.loc[:,\"P - Purchase\",:,:].to_latex())"
   ]
  },
  {
   "cell_type": "code",
   "execution_count": 13,
   "metadata": {
    "collapsed": false,
    "execution": {
     "iopub.execute_input": "2022-11-09T14:59:19.952910Z",
     "iopub.status.busy": "2022-11-09T14:59:19.951909Z",
     "iopub.status.idle": "2022-11-09T14:59:19.981909Z",
     "shell.execute_reply": "2022-11-09T14:59:19.981909Z"
    },
    "jupyter": {
     "outputs_hidden": false
    },
    "pycharm": {
     "name": "#%%\n"
    }
   },
   "outputs": [
    {
     "name": "stdout",
     "output_type": "stream",
     "text": [
      "\\begin{tabular}{llrrrrr}\n",
      "\\toprule\n",
      "         &        &     CAAR &  GRANK p-value &  GRANK t-statistic &  adjBMP p-value &  adjBMP t-statistic \\\\\n",
      "Investigation Period & CAR Period &          &                &                    &                 &                     \\\\\n",
      "\\midrule\n",
      "Overall & [-20, -1] & -0.03233 &        0.00000 &           18.22464 &         0.00000 &            27.26980 \\\\\n",
      "         & [0, 20] &  0.03634 &        0.00000 &          -13.76241 &         0.00000 &           -22.71980 \\\\\n",
      "         & [0, 5] & -0.01321 &        0.00000 &           -8.59760 &         0.00000 &           -11.87646 \\\\\n",
      "         & [0, 1] & -0.02499 &        0.00000 &           -9.90072 &         0.00000 &           -13.91886 \\\\\n",
      "Pre-Pandemic & [-20, -1] &  0.01871 &        0.00000 &           14.44183 &         0.00000 &            21.08094 \\\\\n",
      "         & [0, 20] &  0.03192 &        0.00000 &           -9.94169 &         0.00000 &           -15.53709 \\\\\n",
      "         & [0, 5] &  0.03862 &        0.00000 &           -6.82441 &         0.00000 &            -9.00427 \\\\\n",
      "         & [0, 1] &  0.12020 &        0.00000 &           -8.13437 &         0.00000 &           -10.92415 \\\\\n",
      "Pandemic & [-20, -1] & -0.03233 &        0.00000 &           11.76900 &         0.00000 &            15.75555 \\\\\n",
      "         & [0, 20] &  0.03956 &        0.00000 &           -9.83919 &         0.00000 &           -14.00199 \\\\\n",
      "         & [0, 5] & -0.01321 &        0.00000 &           -5.06119 &         0.00000 &            -9.89732 \\\\\n",
      "         & [0, 1] & -0.02499 &        0.00000 &           -5.74581 &         0.00000 &            -9.96426 \\\\\n",
      "\\bottomrule\n",
      "\\end{tabular}\n",
      "\n"
     ]
    },
    {
     "name": "stderr",
     "output_type": "stream",
     "text": [
      "C:\\Users\\Tom\\AppData\\Local\\Temp\\ipykernel_26160\\104012444.py:1: FutureWarning: In future versions `DataFrame.to_latex` is expected to utilise the base implementation of `Styler.to_latex` for formatting and rendering. The arguments signature may therefore change. It is recommended instead to use `DataFrame.style.to_latex` which also contains additional functionality.\n",
      "  print(df_tests.loc[:,\"S - Sale\",:,:].to_latex())\n"
     ]
    }
   ],
   "source": [
    "print(df_tests.loc[:,\"S - Sale\",:,:].to_latex())"
   ]
  },
  {
   "cell_type": "code",
   "execution_count": 14,
   "metadata": {
    "collapsed": false,
    "execution": {
     "iopub.execute_input": "2022-11-09T14:59:19.984910Z",
     "iopub.status.busy": "2022-11-09T14:59:19.984910Z",
     "iopub.status.idle": "2022-11-09T14:59:20.012949Z",
     "shell.execute_reply": "2022-11-09T14:59:20.012949Z"
    },
    "jupyter": {
     "outputs_hidden": false
    },
    "pycharm": {
     "name": "#%%\n"
    }
   },
   "outputs": [
    {
     "name": "stdout",
     "output_type": "stream",
     "text": [
      "\\begin{tabular}{llrrrrr}\n",
      "\\toprule\n",
      "         &        &     CAAR &  GRANK p-value &  GRANK t-statistic &  adjBMP p-value &  adjBMP t-statistic \\\\\n",
      "Investigation Period & CAR Period &          &                &                    &                 &                     \\\\\n",
      "\\midrule\n",
      "Overall & [-20, -1] &  0.02581 &        0.00000 &           21.46021 &         0.00000 &            35.85620 \\\\\n",
      "         & [0, 20] & -0.01039 &        0.00000 &          -12.82881 &         0.00000 &           -21.39717 \\\\\n",
      "         & [0, 5] & -0.01294 &        0.00000 &           -7.96740 &         0.00000 &           -12.81949 \\\\\n",
      "         & [0, 1] & -0.04511 &        0.00000 &           -6.39831 &         0.00000 &           -10.59587 \\\\\n",
      "Pre-Pandemic & [-20, -1] & -0.00892 &        0.00000 &           16.73537 &         0.00000 &            26.70375 \\\\\n",
      "         & [0, 20] &  0.02579 &        0.00000 &           -7.13125 &         0.00000 &           -11.87457 \\\\\n",
      "         & [0, 5] &  0.04618 &        0.00002 &           -4.52870 &         0.00000 &            -7.16995 \\\\\n",
      "         & [0, 1] &  0.02849 &        0.00018 &           -3.88754 &         0.00000 &            -6.96879 \\\\\n",
      "Pandemic & [-20, -1] &  0.03428 &        0.00000 &           14.76889 &         0.00000 &            23.07054 \\\\\n",
      "         & [0, 20] &  0.04130 &        0.00000 &          -12.47214 &         0.00000 &           -17.60576 \\\\\n",
      "         & [0, 5] &  0.07956 &        0.00000 &           -6.99570 &         0.00000 &           -11.08443 \\\\\n",
      "         & [0, 1] &  0.08286 &        0.00000 &           -5.30607 &         0.00000 &            -8.57419 \\\\\n",
      "\\bottomrule\n",
      "\\end{tabular}\n",
      "\n"
     ]
    },
    {
     "name": "stderr",
     "output_type": "stream",
     "text": [
      "C:\\Users\\Tom\\AppData\\Local\\Temp\\ipykernel_26160\\1815576417.py:1: FutureWarning: In future versions `DataFrame.to_latex` is expected to utilise the base implementation of `Styler.to_latex` for formatting and rendering. The arguments signature may therefore change. It is recommended instead to use `DataFrame.style.to_latex` which also contains additional functionality.\n",
      "  print(df_tests.loc[:,\"S - Sale+OE\",:,:].to_latex())\n"
     ]
    }
   ],
   "source": [
    "print(df_tests.loc[:,\"S - Sale+OE\",:,:].to_latex())"
   ]
  }
 ],
 "metadata": {
  "kernelspec": {
   "display_name": "Python 3 (ipykernel)",
   "language": "python",
   "name": "python3"
  },
  "language_info": {
   "codemirror_mode": {
    "name": "ipython",
    "version": 3
   },
   "file_extension": ".py",
   "mimetype": "text/x-python",
   "name": "python",
   "nbconvert_exporter": "python",
   "pygments_lexer": "ipython3",
   "version": "3.8.10"
  }
 },
 "nbformat": 4,
 "nbformat_minor": 4
}