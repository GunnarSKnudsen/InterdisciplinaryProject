{
 "cells": [
  {
   "cell_type": "markdown",
   "id": "1851cc57-817d-4b58-a899-6f0664b6c9c1",
   "metadata": {},
   "source": [
    "# Exploratory Data analysis\n",
    "_Written by Thomas Niedermayer and Gunnar Sjúrðarson Knudsen, as a conjoined effort for an interdiscplinary project in Data Science._\n",
    "* Supervisor: Wolfgang Aussenegg\n",
    "* Co-Supervisor: Sascha Hunold\n",
    "\n",
    "Purpose of this notebook is to understand the data quality, and the scale of the task. \n",
    "As we ran into several issues w.r.t. data quality, we want to get a deeper understanding of how which data is being handled. Example errors:\n",
    "* TICKERS being used for multiple companies/ISINS, resulting in not knowing which ISIN an insider trading corresponds to\n",
    "* Missing ISINs; means that no time series data is available\n",
    "* Missing TICKERS; Means that no insider trades are available.\n",
    "* For several companies, there are no insider trades registered. These are therefore also filtered out from the analysis notebook. These wouldn't give an error, but removing them speeds up the runtime\n",
    "* Sometimes there was no return index data available. **Honestly not sure why this didn't break our analaysis. Maybe this was the reason for the `-Inf`?** In any case, they are also removed\n",
    "Check which data we've already extracted, and define how to handle various situations"
   ]
  },
  {
   "cell_type": "markdown",
   "id": "a2bbfa49-f820-4695-a024-a3731769ce65",
   "metadata": {},
   "source": [
    "## Load libraries"
   ]
  },
  {
   "cell_type": "code",
   "execution_count": 1,
   "id": "13e56a34-9ca3-4f3e-9ec1-6db5a33e62ff",
   "metadata": {
    "execution": {
     "iopub.execute_input": "2022-11-11T18:28:30.936623Z",
     "iopub.status.busy": "2022-11-11T18:28:30.936623Z",
     "iopub.status.idle": "2022-11-11T18:28:31.169637Z",
     "shell.execute_reply": "2022-11-11T18:28:31.169637Z"
    },
    "tags": []
   },
   "outputs": [],
   "source": [
    "import pickle\n",
    "import pandas as pd\n",
    "import numpy as np\n",
    "import os\n",
    "import math\n",
    "\n",
    "from IPython.display import clear_output, display\n",
    "from tqdm import tqdm\n",
    "\n",
    "# Load custom libraries\n",
    "import source.read_tickers_and_isins as URTI"
   ]
  },
  {
   "cell_type": "markdown",
   "id": "1d3f9b21-469a-4eb5-882e-365295ec5dc1",
   "metadata": {},
   "source": [
    "## Define which data to be loaded"
   ]
  },
  {
   "cell_type": "code",
   "execution_count": 2,
   "id": "6c4ea762-810a-4922-a75c-003d0e675914",
   "metadata": {
    "execution": {
     "iopub.execute_input": "2022-11-11T18:28:31.173638Z",
     "iopub.status.busy": "2022-11-11T18:28:31.172637Z",
     "iopub.status.idle": "2022-11-11T18:28:31.185490Z",
     "shell.execute_reply": "2022-11-11T18:28:31.185490Z"
    },
    "tags": []
   },
   "outputs": [],
   "source": [
    "from tools import load_settings\n",
    "settings = load_settings()\n",
    "NAME = settings[\"NAME\"]\n",
    "STOCK_EXCHANGE = settings[\"STOCK_EXCHANGE\"]"
   ]
  },
  {
   "cell_type": "code",
   "execution_count": 3,
   "id": "4905b302-5ea8-457e-8068-db80d2640894",
   "metadata": {
    "execution": {
     "iopub.execute_input": "2022-11-11T18:28:31.188496Z",
     "iopub.status.busy": "2022-11-11T18:28:31.187496Z",
     "iopub.status.idle": "2022-11-11T18:28:31.200643Z",
     "shell.execute_reply": "2022-11-11T18:28:31.200643Z"
    },
    "tags": []
   },
   "outputs": [],
   "source": [
    "DATA_LOCATION = f'data/{NAME}/'\n",
    "_insider_location = DATA_LOCATION + 'processed/insider/'"
   ]
  },
  {
   "cell_type": "markdown",
   "id": "231deba6-33c3-4f9d-aa48-a9dedd9bc412",
   "metadata": {},
   "source": [
    "## Read in input data"
   ]
  },
  {
   "cell_type": "code",
   "execution_count": 4,
   "id": "23e8efe5-e81e-4796-8854-69838c81079c",
   "metadata": {
    "execution": {
     "iopub.execute_input": "2022-11-11T18:28:31.203692Z",
     "iopub.status.busy": "2022-11-11T18:28:31.202690Z",
     "iopub.status.idle": "2022-11-11T18:28:31.216650Z",
     "shell.execute_reply": "2022-11-11T18:28:31.216650Z"
    },
    "tags": []
   },
   "outputs": [],
   "source": [
    "INPUT_FILE = f'input_data/{NAME}/{STOCK_EXCHANGE} Composite 16.3.2022 plus dead firms - {NAME}.xlsx'"
   ]
  },
  {
   "cell_type": "code",
   "execution_count": 5,
   "id": "05f4f316-4ca5-4b67-9617-dc43cee22cca",
   "metadata": {
    "execution": {
     "iopub.execute_input": "2022-11-11T18:28:31.219655Z",
     "iopub.status.busy": "2022-11-11T18:28:31.218654Z",
     "iopub.status.idle": "2022-11-11T18:28:31.964417Z",
     "shell.execute_reply": "2022-11-11T18:28:31.963385Z"
    },
    "tags": []
   },
   "outputs": [
    {
     "name": "stdout",
     "output_type": "stream",
     "text": [
      "Reading tickers\n"
     ]
    }
   ],
   "source": [
    "data = URTI.read_tickers_and_isins(INPUT_FILE)"
   ]
  },
  {
   "cell_type": "code",
   "execution_count": 6,
   "id": "b63da7bf-0979-44e4-86ac-a99d7b92452d",
   "metadata": {
    "execution": {
     "iopub.execute_input": "2022-11-11T18:28:31.967420Z",
     "iopub.status.busy": "2022-11-11T18:28:31.967420Z",
     "iopub.status.idle": "2022-11-11T18:28:31.994427Z",
     "shell.execute_reply": "2022-11-11T18:28:31.994427Z"
    },
    "tags": []
   },
   "outputs": [
    {
     "data": {
      "text/html": [
       "<div>\n",
       "<style scoped>\n",
       "    .dataframe tbody tr th:only-of-type {\n",
       "        vertical-align: middle;\n",
       "    }\n",
       "\n",
       "    .dataframe tbody tr th {\n",
       "        vertical-align: top;\n",
       "    }\n",
       "\n",
       "    .dataframe thead th {\n",
       "        text-align: right;\n",
       "    }\n",
       "</style>\n",
       "<table border=\"1\" class=\"dataframe\">\n",
       "  <thead>\n",
       "    <tr style=\"text-align: right;\">\n",
       "      <th></th>\n",
       "      <th>Type</th>\n",
       "      <th>ISIN CODE</th>\n",
       "      <th>LOC OFF. CODE</th>\n",
       "      <th>NAME</th>\n",
       "      <th>DATASTREAM CODE</th>\n",
       "      <th>CUSIP</th>\n",
       "      <th>TICKER SYMBOL</th>\n",
       "      <th>BASE OR ST DATE</th>\n",
       "      <th>DATE/TIME (DS End Date)</th>\n",
       "    </tr>\n",
       "  </thead>\n",
       "  <tbody>\n",
       "    <tr>\n",
       "      <th>0</th>\n",
       "      <td>756064</td>\n",
       "      <td>US88554D2053</td>\n",
       "      <td>U88554D205</td>\n",
       "      <td>3D SYSTEMS</td>\n",
       "      <td>756064</td>\n",
       "      <td>88554D205</td>\n",
       "      <td>DDD</td>\n",
       "      <td>1988-03-10</td>\n",
       "      <td>2022-03-16 00:00:00</td>\n",
       "    </tr>\n",
       "    <tr>\n",
       "      <th>1</th>\n",
       "      <td>902172</td>\n",
       "      <td>US88579Y1010</td>\n",
       "      <td>U88579Y101</td>\n",
       "      <td>3M</td>\n",
       "      <td>902172</td>\n",
       "      <td>88579Y101</td>\n",
       "      <td>MMM</td>\n",
       "      <td>1973-01-02</td>\n",
       "      <td>2022-03-16 00:00:00</td>\n",
       "    </tr>\n",
       "    <tr>\n",
       "      <th>2</th>\n",
       "      <td>877226</td>\n",
       "      <td>US2829141009</td>\n",
       "      <td>U282914100</td>\n",
       "      <td>8X8</td>\n",
       "      <td>877226</td>\n",
       "      <td>282914100</td>\n",
       "      <td>EGHT</td>\n",
       "      <td>1997-07-03</td>\n",
       "      <td>2022-03-16 00:00:00</td>\n",
       "    </tr>\n",
       "    <tr>\n",
       "      <th>3</th>\n",
       "      <td>2603Y7</td>\n",
       "      <td>US00152K1016</td>\n",
       "      <td>U00152K101</td>\n",
       "      <td>A K A BRANDS HOLDING</td>\n",
       "      <td>2603Y7</td>\n",
       "      <td>00152K101</td>\n",
       "      <td>AKA</td>\n",
       "      <td>2021-09-22</td>\n",
       "      <td>2022-03-16 00:00:00</td>\n",
       "    </tr>\n",
       "    <tr>\n",
       "      <th>4</th>\n",
       "      <td>8748C6</td>\n",
       "      <td>US0021211018</td>\n",
       "      <td>U002121101</td>\n",
       "      <td>A10 NETWORKS</td>\n",
       "      <td>8748C6</td>\n",
       "      <td>2121101</td>\n",
       "      <td>ATEN</td>\n",
       "      <td>2014-03-21</td>\n",
       "      <td>2022-03-16 00:00:00</td>\n",
       "    </tr>\n",
       "    <tr>\n",
       "      <th>...</th>\n",
       "      <td>...</td>\n",
       "      <td>...</td>\n",
       "      <td>...</td>\n",
       "      <td>...</td>\n",
       "      <td>...</td>\n",
       "      <td>...</td>\n",
       "      <td>...</td>\n",
       "      <td>...</td>\n",
       "      <td>...</td>\n",
       "    </tr>\n",
       "    <tr>\n",
       "      <th>3637</th>\n",
       "      <td>94419W</td>\n",
       "      <td>NA</td>\n",
       "      <td>NA</td>\n",
       "      <td>ZOOM VIDEO COMM CL B</td>\n",
       "      <td>94419W</td>\n",
       "      <td>98980L101</td>\n",
       "      <td>ZM</td>\n",
       "      <td>2019-04-18</td>\n",
       "      <td>NA</td>\n",
       "    </tr>\n",
       "    <tr>\n",
       "      <th>3638</th>\n",
       "      <td>9924R8</td>\n",
       "      <td>NA</td>\n",
       "      <td>NA</td>\n",
       "      <td>ZOOMINFO TECHNOLOGIES INC CL B</td>\n",
       "      <td>9924R8</td>\n",
       "      <td>98980F104</td>\n",
       "      <td>ZI</td>\n",
       "      <td>2020-06-04</td>\n",
       "      <td>NA</td>\n",
       "    </tr>\n",
       "    <tr>\n",
       "      <th>3639</th>\n",
       "      <td>9924TA</td>\n",
       "      <td>NA</td>\n",
       "      <td>NA</td>\n",
       "      <td>ZOOMINFO TECHNOLOGIES INC CL C</td>\n",
       "      <td>9924TA</td>\n",
       "      <td>98980F104</td>\n",
       "      <td>ZI</td>\n",
       "      <td>2020-06-04</td>\n",
       "      <td>NA</td>\n",
       "    </tr>\n",
       "    <tr>\n",
       "      <th>3640</th>\n",
       "      <td>9295TV</td>\n",
       "      <td>NA</td>\n",
       "      <td>NA</td>\n",
       "      <td>ZUORA INC CL B</td>\n",
       "      <td>9295TV</td>\n",
       "      <td>98983V106</td>\n",
       "      <td>ZUO</td>\n",
       "      <td>2018-04-12</td>\n",
       "      <td>NA</td>\n",
       "    </tr>\n",
       "    <tr>\n",
       "      <th>3641</th>\n",
       "      <td>2567FV</td>\n",
       "      <td>NA</td>\n",
       "      <td>NA</td>\n",
       "      <td>Z-WORK ACQUISITION CORP CL B</td>\n",
       "      <td>2567FV</td>\n",
       "      <td>98880C102</td>\n",
       "      <td>ZWRK</td>\n",
       "      <td>2021-01-29</td>\n",
       "      <td>NA</td>\n",
       "    </tr>\n",
       "  </tbody>\n",
       "</table>\n",
       "<p>3642 rows × 9 columns</p>\n",
       "</div>"
      ],
      "text/plain": [
       "        Type     ISIN CODE LOC OFF. CODE                            NAME  \\\n",
       "0     756064  US88554D2053    U88554D205                      3D SYSTEMS   \n",
       "1     902172  US88579Y1010    U88579Y101                              3M   \n",
       "2     877226  US2829141009    U282914100                             8X8   \n",
       "3     2603Y7  US00152K1016    U00152K101            A K A BRANDS HOLDING   \n",
       "4     8748C6  US0021211018    U002121101                    A10 NETWORKS   \n",
       "...      ...           ...           ...                             ...   \n",
       "3637  94419W            NA            NA            ZOOM VIDEO COMM CL B   \n",
       "3638  9924R8            NA            NA  ZOOMINFO TECHNOLOGIES INC CL B   \n",
       "3639  9924TA            NA            NA  ZOOMINFO TECHNOLOGIES INC CL C   \n",
       "3640  9295TV            NA            NA                  ZUORA INC CL B   \n",
       "3641  2567FV            NA            NA    Z-WORK ACQUISITION CORP CL B   \n",
       "\n",
       "     DATASTREAM CODE      CUSIP TICKER SYMBOL BASE OR ST DATE  \\\n",
       "0             756064  88554D205           DDD      1988-03-10   \n",
       "1             902172  88579Y101           MMM      1973-01-02   \n",
       "2             877226  282914100          EGHT      1997-07-03   \n",
       "3             2603Y7  00152K101           AKA      2021-09-22   \n",
       "4             8748C6    2121101          ATEN      2014-03-21   \n",
       "...              ...        ...           ...             ...   \n",
       "3637          94419W  98980L101            ZM      2019-04-18   \n",
       "3638          9924R8  98980F104            ZI      2020-06-04   \n",
       "3639          9924TA  98980F104            ZI      2020-06-04   \n",
       "3640          9295TV  98983V106           ZUO      2018-04-12   \n",
       "3641          2567FV  98880C102          ZWRK      2021-01-29   \n",
       "\n",
       "     DATE/TIME (DS End Date)  \n",
       "0        2022-03-16 00:00:00  \n",
       "1        2022-03-16 00:00:00  \n",
       "2        2022-03-16 00:00:00  \n",
       "3        2022-03-16 00:00:00  \n",
       "4        2022-03-16 00:00:00  \n",
       "...                      ...  \n",
       "3637                      NA  \n",
       "3638                      NA  \n",
       "3639                      NA  \n",
       "3640                      NA  \n",
       "3641                      NA  \n",
       "\n",
       "[3642 rows x 9 columns]"
      ]
     },
     "execution_count": 6,
     "metadata": {},
     "output_type": "execute_result"
    }
   ],
   "source": [
    "data"
   ]
  },
  {
   "cell_type": "markdown",
   "id": "b742aac2-c385-4e3e-8815-f632ab7dc31b",
   "metadata": {},
   "source": [
    "## Read in scraped data\n",
    "We need this, so we can also exclude handling where we didn't get any data from whereever"
   ]
  },
  {
   "cell_type": "markdown",
   "id": "ef6a3ce6-a45b-4f4f-9338-4b076931d6ac",
   "metadata": {},
   "source": [
    "### Insider trades"
   ]
  },
  {
   "cell_type": "code",
   "execution_count": 7,
   "id": "4d53a085-84e9-49c3-bc03-773fd10fdf02",
   "metadata": {
    "execution": {
     "iopub.execute_input": "2022-11-11T18:28:31.998431Z",
     "iopub.status.busy": "2022-11-11T18:28:31.997431Z",
     "iopub.status.idle": "2022-11-11T18:28:49.634057Z",
     "shell.execute_reply": "2022-11-11T18:28:49.633415Z"
    }
   },
   "outputs": [
    {
     "name": "stdout",
     "output_type": "stream",
     "text": [
      "Handling 3642 of 3642. Currently doing: ZWRK\n"
     ]
    }
   ],
   "source": [
    "# Define dummy placeholders\n",
    "tickers = []\n",
    "trade_counts = []\n",
    "min_filing_date = []\n",
    "max_filing_date = []\n",
    "min_trade_date = []\n",
    "max_trade_date = []\n",
    "n_distinct_traders = []\n",
    "n_distinct_trade_types = []\n",
    "\n",
    "n_p = []\n",
    "n_s = []\n",
    "n_s2 = []\n",
    "n_a = []\n",
    "n_d = []\n",
    "n_g = []\n",
    "n_f = []\n",
    "n_m = []\n",
    "n_x = []\n",
    "n_c = []\n",
    "n_w = []\n",
    "\n",
    "# helpers\n",
    "counter = 0\n",
    "total_count = len(data['TICKER SYMBOL'])\n",
    "\n",
    "# Read in scraped files, and do various aggregations\n",
    "for ticker in data['TICKER SYMBOL']:\n",
    "    counter = counter +1\n",
    "    clear_output(wait=True)\n",
    "    print(f'Handling {counter} of {total_count}. Currently doing: {ticker}')\n",
    "    \n",
    "    dat = pd.read_csv(_insider_location + ticker + '.csv', index_col=0, parse_dates=['FilingDate', 'TradeDate'])\n",
    "\n",
    "    tickers.append(ticker)\n",
    "    trade_counts.append(dat.shape[0])\n",
    "\n",
    "    min_filing_date.append(dat['FilingDate'].min())\n",
    "    max_filing_date.append(dat['FilingDate'].max())\n",
    "\n",
    "    min_trade_date.append(dat['TradeDate'].min())\n",
    "    max_trade_date.append(dat['TradeDate'].max())\n",
    "\n",
    "    n_distinct_traders.append(dat['InsiderName'].nunique())\n",
    "    n_distinct_trade_types.append(dat['TradeType'].nunique())\n",
    "\n",
    "\n",
    "    n_p.append(sum(dat['TradeType'] == 'P - Purchase'))\n",
    "    n_s.append(sum(dat['TradeType'] == 'S - Sale'))\n",
    "    n_s2.append(sum(dat['TradeType'] == 'S - Sale+OE'))\n",
    "\n",
    "    n_a.append(sum(dat['TradeType'] == 'A - Grant'))\n",
    "    n_d.append(sum(dat['TradeType'] == 'D - Sale to Iss') + sum(dat['TradeType'] == 'D - Sale to issuer'))\n",
    "    n_g.append(sum(dat['TradeType'] == 'G - Gift'))\n",
    "    n_f.append(sum(dat['TradeType'] == 'F - Tax'))\n",
    "    n_m.append(sum(dat['TradeType'] == 'M - Option Ex') + sum(dat['TradeType'] == 'M - OptEx'))\n",
    "    n_x.append(sum(dat['TradeType'] == 'X - Option Ex') + sum(dat['TradeType'] == 'X - OptEx'))\n",
    "    n_c.append(sum(dat['TradeType'] == 'C - Cnv Deriv') + sum(dat['TradeType'] == 'C - Converted deriv'))\n",
    "    n_w.append(sum(dat['TradeType'] == 'W - Inherited'))\n",
    "    \n",
    "# Collect to a single data frame\n",
    "scraped_insider_df = pd.DataFrame({'tickers': tickers\n",
    "                                   , 'trade_count': trade_counts\n",
    "                                   , 'min_filing_date': min_filing_date\n",
    "                                   , 'max_filing_date': max_filing_date\n",
    "                                   , 'min_trade_date': min_trade_date\n",
    "                                   , 'max_trade_date': max_trade_date\n",
    "                                   , 'n_distinct_traders': n_distinct_traders\n",
    "                                   , 'n_distinct_trade_types': n_distinct_trade_types\n",
    "                                   , 'P - Purchase (count)': n_p\n",
    "                                   , 'S - Sale (count)': n_s\n",
    "                                   , 'S - Sale+OE': n_s2\n",
    "                                   , 'A - Grant (count)': n_a\n",
    "                                   , 'D - Sale to Iss (count)': n_d\n",
    "                                   , 'G - Gift (count)': n_g\n",
    "                                   , 'F - Tax (count)': n_f\n",
    "                                   , 'M - Option Ex (count)': n_m\n",
    "                                   , 'X - Option Ex (count)': n_x\n",
    "                                   , 'C - Cnv Deriv (count)': n_c\n",
    "                                   , 'W - Inherited (count)': n_w\n",
    "                   })\n",
    "scraped_insider_df\n",
    "scraped_insider_df = scraped_insider_df.drop_duplicates()"
   ]
  },
  {
   "cell_type": "code",
   "execution_count": 8,
   "id": "e29634cd",
   "metadata": {
    "collapsed": false,
    "execution": {
     "iopub.execute_input": "2022-11-11T18:28:49.637056Z",
     "iopub.status.busy": "2022-11-11T18:28:49.637056Z",
     "iopub.status.idle": "2022-11-11T18:28:49.648640Z",
     "shell.execute_reply": "2022-11-11T18:28:49.648640Z"
    }
   },
   "outputs": [],
   "source": [
    "ticker = \"AAIC\"\n",
    "dat = pd.read_csv(_insider_location + ticker + '.csv', index_col=0, parse_dates=['FilingDate', 'TradeDate'])"
   ]
  },
  {
   "cell_type": "markdown",
   "id": "6d30b2d5-11dd-4d91-8bf5-741733293d66",
   "metadata": {},
   "source": [
    "#### Join the data"
   ]
  },
  {
   "cell_type": "code",
   "execution_count": 9,
   "id": "16645912-ab96-4246-a530-91f9eac965df",
   "metadata": {
    "execution": {
     "iopub.execute_input": "2022-11-11T18:28:49.651640Z",
     "iopub.status.busy": "2022-11-11T18:28:49.651640Z",
     "iopub.status.idle": "2022-11-11T18:28:49.663887Z",
     "shell.execute_reply": "2022-11-11T18:28:49.663887Z"
    }
   },
   "outputs": [],
   "source": [
    "#data = data.join(scraped_insider_df, rsuffix='_given', lsuffix='_insider', how=\"left\")\n",
    "data = pd.merge(data, scraped_insider_df, how='left', left_on = 'TICKER SYMBOL', right_on = 'tickers')"
   ]
  },
  {
   "cell_type": "markdown",
   "id": "c5116027-3eac-428f-9651-6412c8c6b0de",
   "metadata": {},
   "source": [
    "### Read in market timeseries"
   ]
  },
  {
   "cell_type": "code",
   "execution_count": 10,
   "id": "63ef6af6-4a23-4cf3-9fa7-6654b3e1a03f",
   "metadata": {
    "execution": {
     "iopub.execute_input": "2022-11-11T18:28:49.666876Z",
     "iopub.status.busy": "2022-11-11T18:28:49.666876Z",
     "iopub.status.idle": "2022-11-11T18:28:58.239879Z",
     "shell.execute_reply": "2022-11-11T18:28:58.239879Z"
    }
   },
   "outputs": [
    {
     "name": "stdout",
     "output_type": "stream",
     "text": [
      "loading return series...\n"
     ]
    },
    {
     "name": "stderr",
     "output_type": "stream",
     "text": [
      "100%|██████████| 2171/2171 [00:08<00:00, 253.80it/s]\n"
     ]
    }
   ],
   "source": [
    "# File location (needs cleansing)\n",
    "DATA_LOCATION_RI = DATA_LOCATION + 'processed/RI_discard/'\n",
    "_ri_location = DATA_LOCATION_RI\n",
    "\n",
    "file_locs_ = os.listdir(_ri_location)\n",
    "file_locs = [_ri_location + f for f in file_locs_]\n",
    "\n",
    "# Actually read in the company information\n",
    "companies = []\n",
    "print(\"loading return series...\")\n",
    "for file_loc in tqdm(file_locs):\n",
    "    with open(file_loc, \"rb\") as f:\n",
    "        company = pickle.load(f)\n",
    "    companies.append(company)"
   ]
  },
  {
   "cell_type": "code",
   "execution_count": 11,
   "id": "93d044ec",
   "metadata": {
    "collapsed": false,
    "execution": {
     "iopub.execute_input": "2022-11-11T18:28:58.242882Z",
     "iopub.status.busy": "2022-11-11T18:28:58.242882Z",
     "iopub.status.idle": "2022-11-11T18:28:59.404405Z",
     "shell.execute_reply": "2022-11-11T18:28:59.404405Z"
    }
   },
   "outputs": [
    {
     "name": "stdout",
     "output_type": "stream",
     "text": [
      "FUBO: inf True\n",
      "IVT: inf True\n"
     ]
    },
    {
     "data": {
      "text/html": [
       "<div>\n",
       "<style scoped>\n",
       "    .dataframe tbody tr th:only-of-type {\n",
       "        vertical-align: middle;\n",
       "    }\n",
       "\n",
       "    .dataframe tbody tr th {\n",
       "        vertical-align: top;\n",
       "    }\n",
       "\n",
       "    .dataframe thead th {\n",
       "        text-align: right;\n",
       "    }\n",
       "</style>\n",
       "<table border=\"1\" class=\"dataframe\">\n",
       "  <thead>\n",
       "    <tr style=\"text-align: right;\">\n",
       "      <th></th>\n",
       "      <th>isin</th>\n",
       "      <th>ts_rows</th>\n",
       "      <th>name</th>\n",
       "      <th>ticker</th>\n",
       "      <th>start_date</th>\n",
       "      <th>end_date</th>\n",
       "      <th>start_date_ts</th>\n",
       "      <th>end_date_ts</th>\n",
       "      <th>RI_Errors</th>\n",
       "      <th>filings_rows</th>\n",
       "    </tr>\n",
       "  </thead>\n",
       "  <tbody>\n",
       "    <tr>\n",
       "      <th>0</th>\n",
       "      <td>AN8068571086</td>\n",
       "      <td>1509</td>\n",
       "      <td>SCHLUMBERGER</td>\n",
       "      <td>SLB</td>\n",
       "      <td>1973-01-02</td>\n",
       "      <td>2022-03-16</td>\n",
       "      <td>2016-03-21</td>\n",
       "      <td>2022-03-16</td>\n",
       "      <td>False</td>\n",
       "      <td>39</td>\n",
       "    </tr>\n",
       "    <tr>\n",
       "      <th>1</th>\n",
       "      <td>BE0003816338</td>\n",
       "      <td>1509</td>\n",
       "      <td>EURONAV (NYS)</td>\n",
       "      <td>EURN</td>\n",
       "      <td>2015-01-23</td>\n",
       "      <td>2022-03-16</td>\n",
       "      <td>2016-03-21</td>\n",
       "      <td>2022-03-16</td>\n",
       "      <td>False</td>\n",
       "      <td>0</td>\n",
       "    </tr>\n",
       "    <tr>\n",
       "      <th>2</th>\n",
       "      <td>BMG0464B1072</td>\n",
       "      <td>1509</td>\n",
       "      <td>ARGO GP.INTL.HOLDINGS</td>\n",
       "      <td>ARGO</td>\n",
       "      <td>1987-03-25</td>\n",
       "      <td>2022-03-16</td>\n",
       "      <td>2016-03-21</td>\n",
       "      <td>2022-03-16</td>\n",
       "      <td>False</td>\n",
       "      <td>33</td>\n",
       "    </tr>\n",
       "    <tr>\n",
       "      <th>3</th>\n",
       "      <td>BMG053841059</td>\n",
       "      <td>732</td>\n",
       "      <td>ASPEN IN.HDG. DEAD - DELIST.16/02/19</td>\n",
       "      <td>AHL</td>\n",
       "      <td>2003-12-04</td>\n",
       "      <td>2019-02-14</td>\n",
       "      <td>2016-03-21</td>\n",
       "      <td>2019-02-14</td>\n",
       "      <td>False</td>\n",
       "      <td>0</td>\n",
       "    </tr>\n",
       "    <tr>\n",
       "      <th>4</th>\n",
       "      <td>BMG0585R1060</td>\n",
       "      <td>1509</td>\n",
       "      <td>ASSURED GUARANTY</td>\n",
       "      <td>AGO</td>\n",
       "      <td>2004-04-23</td>\n",
       "      <td>2022-03-16</td>\n",
       "      <td>2016-03-21</td>\n",
       "      <td>2022-03-16</td>\n",
       "      <td>False</td>\n",
       "      <td>50</td>\n",
       "    </tr>\n",
       "    <tr>\n",
       "      <th>...</th>\n",
       "      <td>...</td>\n",
       "      <td>...</td>\n",
       "      <td>...</td>\n",
       "      <td>...</td>\n",
       "      <td>...</td>\n",
       "      <td>...</td>\n",
       "      <td>...</td>\n",
       "      <td>...</td>\n",
       "      <td>...</td>\n",
       "      <td>...</td>\n",
       "    </tr>\n",
       "    <tr>\n",
       "      <th>2166</th>\n",
       "      <td>VGG1890L1076</td>\n",
       "      <td>1509</td>\n",
       "      <td>CAPRI HOLDINGS</td>\n",
       "      <td>CPRI</td>\n",
       "      <td>2011-12-15</td>\n",
       "      <td>2022-03-16</td>\n",
       "      <td>2016-03-21</td>\n",
       "      <td>2022-03-16</td>\n",
       "      <td>False</td>\n",
       "      <td>30</td>\n",
       "    </tr>\n",
       "    <tr>\n",
       "      <th>2167</th>\n",
       "      <td>VGG273581030</td>\n",
       "      <td>1130</td>\n",
       "      <td>DESPEGAR COM</td>\n",
       "      <td>DESP</td>\n",
       "      <td>2017-09-20</td>\n",
       "      <td>2022-03-16</td>\n",
       "      <td>2017-09-20</td>\n",
       "      <td>2022-03-16</td>\n",
       "      <td>False</td>\n",
       "      <td>0</td>\n",
       "    </tr>\n",
       "    <tr>\n",
       "      <th>2168</th>\n",
       "      <td>VGG572791041</td>\n",
       "      <td>814</td>\n",
       "      <td>LUXOFT HOLDING DEAD - DELIST.14/06/19</td>\n",
       "      <td>LXFT</td>\n",
       "      <td>2013-06-26</td>\n",
       "      <td>2019-06-13</td>\n",
       "      <td>2016-03-21</td>\n",
       "      <td>2019-06-13</td>\n",
       "      <td>False</td>\n",
       "      <td>0</td>\n",
       "    </tr>\n",
       "    <tr>\n",
       "      <th>2169</th>\n",
       "      <td>VGG639071023</td>\n",
       "      <td>1509</td>\n",
       "      <td>NAM TAI PROPERTY</td>\n",
       "      <td>NTP</td>\n",
       "      <td>1990-11-26</td>\n",
       "      <td>2022-03-16</td>\n",
       "      <td>2016-03-21</td>\n",
       "      <td>2022-03-16</td>\n",
       "      <td>False</td>\n",
       "      <td>0</td>\n",
       "    </tr>\n",
       "    <tr>\n",
       "      <th>2170</th>\n",
       "      <td>VGG6564A1057</td>\n",
       "      <td>1509</td>\n",
       "      <td>NOMAD FOODS</td>\n",
       "      <td>NOMD</td>\n",
       "      <td>2014-09-09</td>\n",
       "      <td>2022-03-16</td>\n",
       "      <td>2016-03-21</td>\n",
       "      <td>2022-03-16</td>\n",
       "      <td>False</td>\n",
       "      <td>0</td>\n",
       "    </tr>\n",
       "  </tbody>\n",
       "</table>\n",
       "<p>2171 rows × 10 columns</p>\n",
       "</div>"
      ],
      "text/plain": [
       "              isin  ts_rows                                   name ticker  \\\n",
       "0     AN8068571086     1509                           SCHLUMBERGER    SLB   \n",
       "1     BE0003816338     1509                          EURONAV (NYS)   EURN   \n",
       "2     BMG0464B1072     1509                  ARGO GP.INTL.HOLDINGS   ARGO   \n",
       "3     BMG053841059      732   ASPEN IN.HDG. DEAD - DELIST.16/02/19    AHL   \n",
       "4     BMG0585R1060     1509                       ASSURED GUARANTY    AGO   \n",
       "...            ...      ...                                    ...    ...   \n",
       "2166  VGG1890L1076     1509                         CAPRI HOLDINGS   CPRI   \n",
       "2167  VGG273581030     1130                           DESPEGAR COM   DESP   \n",
       "2168  VGG572791041      814  LUXOFT HOLDING DEAD - DELIST.14/06/19   LXFT   \n",
       "2169  VGG639071023     1509                       NAM TAI PROPERTY    NTP   \n",
       "2170  VGG6564A1057     1509                            NOMAD FOODS   NOMD   \n",
       "\n",
       "     start_date   end_date start_date_ts end_date_ts  RI_Errors  filings_rows  \n",
       "0    1973-01-02 2022-03-16    2016-03-21  2022-03-16      False            39  \n",
       "1    2015-01-23 2022-03-16    2016-03-21  2022-03-16      False             0  \n",
       "2    1987-03-25 2022-03-16    2016-03-21  2022-03-16      False            33  \n",
       "3    2003-12-04 2019-02-14    2016-03-21  2019-02-14      False             0  \n",
       "4    2004-04-23 2022-03-16    2016-03-21  2022-03-16      False            50  \n",
       "...         ...        ...           ...         ...        ...           ...  \n",
       "2166 2011-12-15 2022-03-16    2016-03-21  2022-03-16      False            30  \n",
       "2167 2017-09-20 2022-03-16    2017-09-20  2022-03-16      False             0  \n",
       "2168 2013-06-26 2019-06-13    2016-03-21  2019-06-13      False             0  \n",
       "2169 1990-11-26 2022-03-16    2016-03-21  2022-03-16      False             0  \n",
       "2170 2014-09-09 2022-03-16    2016-03-21  2022-03-16      False             0  \n",
       "\n",
       "[2171 rows x 10 columns]"
      ]
     },
     "execution_count": 11,
     "metadata": {},
     "output_type": "execute_result"
    }
   ],
   "source": [
    "isins = []\n",
    "names = []\n",
    "tickers = []\n",
    "start_dates = []\n",
    "end_dates = []\n",
    "start_dates_ts = []\n",
    "end_dates_ts = []\n",
    "ts_rows = []\n",
    "ri_ts_errors = []\n",
    "filings_rows = []\n",
    "for company in companies:\n",
    "    isins.append(company.isin)\n",
    "    names.append(company.name)\n",
    "    tickers.append(company.ticker)\n",
    "    start_dates.append(company.start_date)\n",
    "    end_dates.append(company.end_date)\n",
    "    start_dates_ts.append(company.return_index_df.index.min())\n",
    "    end_dates_ts.append(company.return_index_df.index.max())\n",
    "    ts_rows.append(company.return_index_df.shape[0])\n",
    "    filings_rows.append(company.insider_data_df.shape[0])\n",
    "    \n",
    "    # In some cases, the RI is the same for all days in a company, followed by missing days.\n",
    "    ts_ri_sum = company.return_index_df[1:].company_return.sum() \n",
    "    \n",
    "    # Add check to see if there is a change in price at all\n",
    "    ts_ri_diff = company.return_index_df[1:].company_return.min() - company.return_index_df[1:].company_return.max()\n",
    "    \n",
    "    if (ts_ri_sum == np.Inf):\n",
    "        contains_error_in_timeseries = True\n",
    "    elif (-ts_ri_sum == np.Inf):\n",
    "        contains_error_in_timeseries = True\n",
    "    elif (math.isnan(ts_ri_sum)):\n",
    "        contains_error_in_timeseries = True\n",
    "    elif (math.isnan(ts_ri_diff)):\n",
    "        contains_error_in_timeseries = True\n",
    "    elif (ts_ri_diff == 0):\n",
    "        contains_error_in_timeseries = True\n",
    "    elif (company.return_index_df[1:].company_return.isnull().any() == True):\n",
    "        contains_error_in_timeseries = True\n",
    "    else:\n",
    "        contains_error_in_timeseries = False\n",
    "    ri_ts_errors.append(contains_error_in_timeseries)\n",
    "    \n",
    "    if (contains_error_in_timeseries):\n",
    "        print(f'{company.ticker}: {ts_ri_sum} {contains_error_in_timeseries}')\n",
    "    \n",
    "        \n",
    "# Collect to a single data frame\n",
    "scraped_ts_df = pd.DataFrame({'isin': isins\n",
    "                              , 'ts_rows': ts_rows\n",
    "                              , 'name': names\n",
    "                              , 'ticker': tickers\n",
    "                              , 'start_date': start_dates\n",
    "                              , 'end_date': end_dates\n",
    "                              , 'start_date_ts': start_dates_ts\n",
    "                              , 'end_date_ts': end_dates_ts\n",
    "                              , 'RI_Errors': ri_ts_errors\n",
    "                              , \"filings_rows\": filings_rows\n",
    "                             })\n",
    "scraped_ts_df = scraped_ts_df.drop_duplicates()\n",
    "scraped_ts_df#[scraped_ts_df['ticker'] == 'ABIO']"
   ]
  },
  {
   "cell_type": "markdown",
   "id": "4c869b06",
   "metadata": {
    "collapsed": false
   },
   "source": [
    "#### Join the data"
   ]
  },
  {
   "cell_type": "code",
   "execution_count": 12,
   "id": "e8dc1931",
   "metadata": {
    "collapsed": false,
    "execution": {
     "iopub.execute_input": "2022-11-11T18:28:59.407406Z",
     "iopub.status.busy": "2022-11-11T18:28:59.407406Z",
     "iopub.status.idle": "2022-11-11T18:28:59.419609Z",
     "shell.execute_reply": "2022-11-11T18:28:59.419609Z"
    }
   },
   "outputs": [],
   "source": [
    "#data = data.join(scraped_ts_df, rsuffix='_given', lsuffix='_ts', how=\"left\", left_on = 'ISIN CODE', right_on = 'isin')\n",
    "data = pd.merge(data, scraped_ts_df, how=\"left\", left_on = 'ISIN CODE', right_on = 'isin')"
   ]
  },
  {
   "cell_type": "markdown",
   "id": "08434a89",
   "metadata": {
    "collapsed": false
   },
   "source": [
    "### Start filtering"
   ]
  },
  {
   "cell_type": "code",
   "execution_count": 13,
   "id": "e45beb73",
   "metadata": {
    "collapsed": false,
    "execution": {
     "iopub.execute_input": "2022-11-11T18:28:59.423417Z",
     "iopub.status.busy": "2022-11-11T18:28:59.422416Z",
     "iopub.status.idle": "2022-11-11T18:28:59.434425Z",
     "shell.execute_reply": "2022-11-11T18:28:59.434425Z"
    }
   },
   "outputs": [],
   "source": [
    "data['reason_to_exclude'] = 'None'"
   ]
  },
  {
   "cell_type": "markdown",
   "id": "bddf88a9",
   "metadata": {
    "collapsed": false
   },
   "source": [
    "#### Remove Companies without ISINs"
   ]
  },
  {
   "cell_type": "code",
   "execution_count": 14,
   "id": "aa465423",
   "metadata": {
    "collapsed": false,
    "execution": {
     "iopub.execute_input": "2022-11-11T18:28:59.437429Z",
     "iopub.status.busy": "2022-11-11T18:28:59.437429Z",
     "iopub.status.idle": "2022-11-11T18:28:59.450438Z",
     "shell.execute_reply": "2022-11-11T18:28:59.450438Z"
    }
   },
   "outputs": [
    {
     "data": {
      "text/plain": [
       "(1402, 39)"
      ]
     },
     "execution_count": 14,
     "metadata": {},
     "output_type": "execute_result"
    }
   ],
   "source": [
    "mask = data['ISIN CODE'] == 'NA'\n",
    "#data.loc[mask, 'reason_to_exclude'] = 'NA ticker'\n",
    "data.loc[mask, 'reason_to_exclude'] = 'Missing ISIN'\n",
    "data.loc[mask].shape"
   ]
  },
  {
   "cell_type": "markdown",
   "id": "1a486f53",
   "metadata": {
    "collapsed": false
   },
   "source": [
    "#### Remove companies without trades"
   ]
  },
  {
   "cell_type": "code",
   "execution_count": 15,
   "id": "d26430dc",
   "metadata": {
    "collapsed": false,
    "execution": {
     "iopub.execute_input": "2022-11-11T18:28:59.453441Z",
     "iopub.status.busy": "2022-11-11T18:28:59.453441Z",
     "iopub.status.idle": "2022-11-11T18:28:59.466402Z",
     "shell.execute_reply": "2022-11-11T18:28:59.466402Z"
    }
   },
   "outputs": [
    {
     "data": {
      "text/plain": [
       "(1339, 39)"
      ]
     },
     "execution_count": 15,
     "metadata": {},
     "output_type": "execute_result"
    }
   ],
   "source": [
    "mask = data['trade_count'] == 0\n",
    "#data.loc[mask, 'reason_to_exclude'] = 'NA ticker'\n",
    "data.loc[mask, 'reason_to_exclude'] = 'No trades done'\n",
    "data.loc[mask].shape"
   ]
  },
  {
   "cell_type": "markdown",
   "id": "670b4c35",
   "metadata": {
    "collapsed": false
   },
   "source": [
    "#### Remove companies without timeseries"
   ]
  },
  {
   "cell_type": "code",
   "execution_count": 97,
   "id": "1df95fc8",
   "metadata": {
    "collapsed": false
   },
   "outputs": [],
   "source": []
  },
  {
   "cell_type": "code",
   "execution_count": 16,
   "id": "84e2f26f",
   "metadata": {
    "collapsed": false,
    "execution": {
     "iopub.execute_input": "2022-11-11T18:28:59.469405Z",
     "iopub.status.busy": "2022-11-11T18:28:59.469405Z",
     "iopub.status.idle": "2022-11-11T18:28:59.482411Z",
     "shell.execute_reply": "2022-11-11T18:28:59.482411Z"
    }
   },
   "outputs": [
    {
     "data": {
      "text/plain": [
       "(69, 39)"
      ]
     },
     "execution_count": 16,
     "metadata": {},
     "output_type": "execute_result"
    }
   ],
   "source": [
    "mask = data['ts_rows'].isnull()\n",
    "data.loc[mask, 'reason_to_exclude'] = 'No timeseries data'\n",
    "data.loc[mask].shape"
   ]
  },
  {
   "cell_type": "markdown",
   "id": "00705cbe",
   "metadata": {
    "collapsed": false
   },
   "source": [
    "#### Remove companies where company time-series from source if wrong"
   ]
  },
  {
   "cell_type": "code",
   "execution_count": 17,
   "id": "f033ff12",
   "metadata": {
    "collapsed": false,
    "execution": {
     "iopub.execute_input": "2022-11-11T18:28:59.485412Z",
     "iopub.status.busy": "2022-11-11T18:28:59.484412Z",
     "iopub.status.idle": "2022-11-11T18:28:59.498416Z",
     "shell.execute_reply": "2022-11-11T18:28:59.498416Z"
    }
   },
   "outputs": [
    {
     "data": {
      "text/plain": [
       "(2, 39)"
      ]
     },
     "execution_count": 17,
     "metadata": {},
     "output_type": "execute_result"
    }
   ],
   "source": [
    "mask = data['RI_Errors'] == True\n",
    "data.loc[mask, 'reason_to_exclude'] = 'Faulty timeseries data'\n",
    "data.loc[mask].shape"
   ]
  },
  {
   "cell_type": "markdown",
   "id": "3c288362",
   "metadata": {
    "collapsed": false
   },
   "source": [
    "#### Find non-unique tickers"
   ]
  },
  {
   "cell_type": "code",
   "execution_count": 18,
   "id": "fa1e3d69",
   "metadata": {
    "collapsed": false,
    "execution": {
     "iopub.execute_input": "2022-11-11T18:28:59.501420Z",
     "iopub.status.busy": "2022-11-11T18:28:59.501420Z",
     "iopub.status.idle": "2022-11-11T18:28:59.514427Z",
     "shell.execute_reply": "2022-11-11T18:28:59.514427Z"
    }
   },
   "outputs": [
    {
     "data": {
      "text/plain": [
       "(672, 39)"
      ]
     },
     "execution_count": 18,
     "metadata": {},
     "output_type": "execute_result"
    }
   ],
   "source": [
    "dublicate_tickers = data[data.duplicated(subset=['TICKER SYMBOL'],keep=False)]['TICKER SYMBOL']\n",
    "dublicate_tickers_mask = data['TICKER SYMBOL'].isin(dublicate_tickers)\n",
    "data.loc[dublicate_tickers_mask, 'reason_to_exclude'] = 'Non-unique-ticker'\n",
    "data.loc[dublicate_tickers_mask].shape"
   ]
  },
  {
   "cell_type": "markdown",
   "id": "b5d3fbc3",
   "metadata": {
    "collapsed": false
   },
   "source": [
    "#### Find NA tickers"
   ]
  },
  {
   "cell_type": "code",
   "execution_count": 19,
   "id": "885786e6",
   "metadata": {
    "collapsed": false,
    "execution": {
     "iopub.execute_input": "2022-11-11T18:28:59.517427Z",
     "iopub.status.busy": "2022-11-11T18:28:59.517427Z",
     "iopub.status.idle": "2022-11-11T18:28:59.530433Z",
     "shell.execute_reply": "2022-11-11T18:28:59.530433Z"
    }
   },
   "outputs": [
    {
     "data": {
      "text/plain": [
       "(7, 39)"
      ]
     },
     "execution_count": 19,
     "metadata": {},
     "output_type": "execute_result"
    }
   ],
   "source": [
    "mask = data['TICKER SYMBOL'] == 'NA'\n",
    "data.loc[mask, 'reason_to_exclude'] = 'NA ticker'\n",
    "data.loc[mask].shape"
   ]
  },
  {
   "cell_type": "markdown",
   "id": "9500b281",
   "metadata": {
    "collapsed": false
   },
   "source": [
    "#### In case there are no filings for company"
   ]
  },
  {
   "cell_type": "code",
   "execution_count": 20,
   "id": "6610b7db",
   "metadata": {
    "collapsed": false,
    "execution": {
     "iopub.execute_input": "2022-11-11T18:28:59.533436Z",
     "iopub.status.busy": "2022-11-11T18:28:59.533436Z",
     "iopub.status.idle": "2022-11-11T18:28:59.545441Z",
     "shell.execute_reply": "2022-11-11T18:28:59.545441Z"
    },
    "pycharm": {
     "is_executing": true
    }
   },
   "outputs": [],
   "source": [
    "# Tom: I think i resolved it upstream\n",
    "#mask = data['filings_rows'] == 0\n",
    "#data.loc[mask, 'reason_to_exclude'] = 'No filings'\n",
    "#data[data[\"ISIN CODE\"] == \"US0003752047\"]"
   ]
  },
  {
   "cell_type": "markdown",
   "id": "144e184b",
   "metadata": {
    "collapsed": false
   },
   "source": [
    "### Show what we have"
   ]
  },
  {
   "cell_type": "code",
   "execution_count": 21,
   "id": "880a21d8",
   "metadata": {
    "collapsed": false,
    "execution": {
     "iopub.execute_input": "2022-11-11T18:28:59.548445Z",
     "iopub.status.busy": "2022-11-11T18:28:59.547445Z",
     "iopub.status.idle": "2022-11-11T18:28:59.577197Z",
     "shell.execute_reply": "2022-11-11T18:28:59.577197Z"
    }
   },
   "outputs": [
    {
     "data": {
      "text/html": [
       "<div>\n",
       "<style scoped>\n",
       "    .dataframe tbody tr th:only-of-type {\n",
       "        vertical-align: middle;\n",
       "    }\n",
       "\n",
       "    .dataframe tbody tr th {\n",
       "        vertical-align: top;\n",
       "    }\n",
       "\n",
       "    .dataframe thead th {\n",
       "        text-align: right;\n",
       "    }\n",
       "</style>\n",
       "<table border=\"1\" class=\"dataframe\">\n",
       "  <thead>\n",
       "    <tr style=\"text-align: right;\">\n",
       "      <th></th>\n",
       "      <th>Type</th>\n",
       "      <th>ISIN CODE</th>\n",
       "      <th>LOC OFF. CODE</th>\n",
       "      <th>NAME</th>\n",
       "      <th>DATASTREAM CODE</th>\n",
       "      <th>CUSIP</th>\n",
       "      <th>TICKER SYMBOL</th>\n",
       "      <th>BASE OR ST DATE</th>\n",
       "      <th>DATE/TIME (DS End Date)</th>\n",
       "      <th>tickers</th>\n",
       "      <th>...</th>\n",
       "      <th>ts_rows</th>\n",
       "      <th>name</th>\n",
       "      <th>ticker</th>\n",
       "      <th>start_date</th>\n",
       "      <th>end_date</th>\n",
       "      <th>start_date_ts</th>\n",
       "      <th>end_date_ts</th>\n",
       "      <th>RI_Errors</th>\n",
       "      <th>filings_rows</th>\n",
       "      <th>reason_to_exclude</th>\n",
       "    </tr>\n",
       "  </thead>\n",
       "  <tbody>\n",
       "    <tr>\n",
       "      <th>0</th>\n",
       "      <td>756064</td>\n",
       "      <td>US88554D2053</td>\n",
       "      <td>U88554D205</td>\n",
       "      <td>3D SYSTEMS</td>\n",
       "      <td>756064</td>\n",
       "      <td>88554D205</td>\n",
       "      <td>DDD</td>\n",
       "      <td>1988-03-10</td>\n",
       "      <td>2022-03-16 00:00:00</td>\n",
       "      <td>DDD</td>\n",
       "      <td>...</td>\n",
       "      <td>1509.0</td>\n",
       "      <td>3D SYSTEMS</td>\n",
       "      <td>DDD</td>\n",
       "      <td>1988-03-10</td>\n",
       "      <td>2022-03-16</td>\n",
       "      <td>2016-03-21</td>\n",
       "      <td>2022-03-16</td>\n",
       "      <td>False</td>\n",
       "      <td>40.0</td>\n",
       "      <td>None</td>\n",
       "    </tr>\n",
       "    <tr>\n",
       "      <th>1</th>\n",
       "      <td>902172</td>\n",
       "      <td>US88579Y1010</td>\n",
       "      <td>U88579Y101</td>\n",
       "      <td>3M</td>\n",
       "      <td>902172</td>\n",
       "      <td>88579Y101</td>\n",
       "      <td>MMM</td>\n",
       "      <td>1973-01-02</td>\n",
       "      <td>2022-03-16 00:00:00</td>\n",
       "      <td>MMM</td>\n",
       "      <td>...</td>\n",
       "      <td>1509.0</td>\n",
       "      <td>3M</td>\n",
       "      <td>MMM</td>\n",
       "      <td>1973-01-02</td>\n",
       "      <td>2022-03-16</td>\n",
       "      <td>2016-03-21</td>\n",
       "      <td>2022-03-16</td>\n",
       "      <td>False</td>\n",
       "      <td>75.0</td>\n",
       "      <td>Non-unique-ticker</td>\n",
       "    </tr>\n",
       "    <tr>\n",
       "      <th>2</th>\n",
       "      <td>877226</td>\n",
       "      <td>US2829141009</td>\n",
       "      <td>U282914100</td>\n",
       "      <td>8X8</td>\n",
       "      <td>877226</td>\n",
       "      <td>282914100</td>\n",
       "      <td>EGHT</td>\n",
       "      <td>1997-07-03</td>\n",
       "      <td>2022-03-16 00:00:00</td>\n",
       "      <td>EGHT</td>\n",
       "      <td>...</td>\n",
       "      <td>1509.0</td>\n",
       "      <td>8X8</td>\n",
       "      <td>EGHT</td>\n",
       "      <td>1997-07-03</td>\n",
       "      <td>2022-03-16</td>\n",
       "      <td>2016-03-21</td>\n",
       "      <td>2022-03-16</td>\n",
       "      <td>False</td>\n",
       "      <td>162.0</td>\n",
       "      <td>None</td>\n",
       "    </tr>\n",
       "    <tr>\n",
       "      <th>3</th>\n",
       "      <td>2603Y7</td>\n",
       "      <td>US00152K1016</td>\n",
       "      <td>U00152K101</td>\n",
       "      <td>A K A BRANDS HOLDING</td>\n",
       "      <td>2603Y7</td>\n",
       "      <td>00152K101</td>\n",
       "      <td>AKA</td>\n",
       "      <td>2021-09-22</td>\n",
       "      <td>2022-03-16 00:00:00</td>\n",
       "      <td>AKA</td>\n",
       "      <td>...</td>\n",
       "      <td>122.0</td>\n",
       "      <td>A K A BRANDS HOLDING</td>\n",
       "      <td>AKA</td>\n",
       "      <td>2021-09-22</td>\n",
       "      <td>2022-03-16</td>\n",
       "      <td>2021-09-22</td>\n",
       "      <td>2022-03-16</td>\n",
       "      <td>False</td>\n",
       "      <td>5.0</td>\n",
       "      <td>None</td>\n",
       "    </tr>\n",
       "    <tr>\n",
       "      <th>4</th>\n",
       "      <td>8748C6</td>\n",
       "      <td>US0021211018</td>\n",
       "      <td>U002121101</td>\n",
       "      <td>A10 NETWORKS</td>\n",
       "      <td>8748C6</td>\n",
       "      <td>2121101</td>\n",
       "      <td>ATEN</td>\n",
       "      <td>2014-03-21</td>\n",
       "      <td>2022-03-16 00:00:00</td>\n",
       "      <td>ATEN</td>\n",
       "      <td>...</td>\n",
       "      <td>1509.0</td>\n",
       "      <td>A10 NETWORKS</td>\n",
       "      <td>ATEN</td>\n",
       "      <td>2014-03-21</td>\n",
       "      <td>2022-03-16</td>\n",
       "      <td>2016-03-21</td>\n",
       "      <td>2022-03-16</td>\n",
       "      <td>False</td>\n",
       "      <td>76.0</td>\n",
       "      <td>None</td>\n",
       "    </tr>\n",
       "    <tr>\n",
       "      <th>...</th>\n",
       "      <td>...</td>\n",
       "      <td>...</td>\n",
       "      <td>...</td>\n",
       "      <td>...</td>\n",
       "      <td>...</td>\n",
       "      <td>...</td>\n",
       "      <td>...</td>\n",
       "      <td>...</td>\n",
       "      <td>...</td>\n",
       "      <td>...</td>\n",
       "      <td>...</td>\n",
       "      <td>...</td>\n",
       "      <td>...</td>\n",
       "      <td>...</td>\n",
       "      <td>...</td>\n",
       "      <td>...</td>\n",
       "      <td>...</td>\n",
       "      <td>...</td>\n",
       "      <td>...</td>\n",
       "      <td>...</td>\n",
       "      <td>...</td>\n",
       "    </tr>\n",
       "    <tr>\n",
       "      <th>3637</th>\n",
       "      <td>94419W</td>\n",
       "      <td>NA</td>\n",
       "      <td>NA</td>\n",
       "      <td>ZOOM VIDEO COMM CL B</td>\n",
       "      <td>94419W</td>\n",
       "      <td>98980L101</td>\n",
       "      <td>ZM</td>\n",
       "      <td>2019-04-18</td>\n",
       "      <td>NA</td>\n",
       "      <td>ZM</td>\n",
       "      <td>...</td>\n",
       "      <td>824.0</td>\n",
       "      <td>SUNCOKE ENERGY PARTNERS COMMON UNITS</td>\n",
       "      <td>SXCP</td>\n",
       "      <td>2013-01-18</td>\n",
       "      <td>2019-06-27</td>\n",
       "      <td>2016-03-21</td>\n",
       "      <td>2019-06-27</td>\n",
       "      <td>False</td>\n",
       "      <td>10.0</td>\n",
       "      <td>Missing ISIN</td>\n",
       "    </tr>\n",
       "    <tr>\n",
       "      <th>3638</th>\n",
       "      <td>9924R8</td>\n",
       "      <td>NA</td>\n",
       "      <td>NA</td>\n",
       "      <td>ZOOMINFO TECHNOLOGIES INC CL B</td>\n",
       "      <td>9924R8</td>\n",
       "      <td>98980F104</td>\n",
       "      <td>ZI</td>\n",
       "      <td>2020-06-04</td>\n",
       "      <td>NA</td>\n",
       "      <td>ZI</td>\n",
       "      <td>...</td>\n",
       "      <td>824.0</td>\n",
       "      <td>SUNCOKE ENERGY PARTNERS COMMON UNITS</td>\n",
       "      <td>SXCP</td>\n",
       "      <td>2013-01-18</td>\n",
       "      <td>2019-06-27</td>\n",
       "      <td>2016-03-21</td>\n",
       "      <td>2019-06-27</td>\n",
       "      <td>False</td>\n",
       "      <td>10.0</td>\n",
       "      <td>Non-unique-ticker</td>\n",
       "    </tr>\n",
       "    <tr>\n",
       "      <th>3639</th>\n",
       "      <td>9924TA</td>\n",
       "      <td>NA</td>\n",
       "      <td>NA</td>\n",
       "      <td>ZOOMINFO TECHNOLOGIES INC CL C</td>\n",
       "      <td>9924TA</td>\n",
       "      <td>98980F104</td>\n",
       "      <td>ZI</td>\n",
       "      <td>2020-06-04</td>\n",
       "      <td>NA</td>\n",
       "      <td>ZI</td>\n",
       "      <td>...</td>\n",
       "      <td>824.0</td>\n",
       "      <td>SUNCOKE ENERGY PARTNERS COMMON UNITS</td>\n",
       "      <td>SXCP</td>\n",
       "      <td>2013-01-18</td>\n",
       "      <td>2019-06-27</td>\n",
       "      <td>2016-03-21</td>\n",
       "      <td>2019-06-27</td>\n",
       "      <td>False</td>\n",
       "      <td>10.0</td>\n",
       "      <td>Non-unique-ticker</td>\n",
       "    </tr>\n",
       "    <tr>\n",
       "      <th>3640</th>\n",
       "      <td>9295TV</td>\n",
       "      <td>NA</td>\n",
       "      <td>NA</td>\n",
       "      <td>ZUORA INC CL B</td>\n",
       "      <td>9295TV</td>\n",
       "      <td>98983V106</td>\n",
       "      <td>ZUO</td>\n",
       "      <td>2018-04-12</td>\n",
       "      <td>NA</td>\n",
       "      <td>ZUO</td>\n",
       "      <td>...</td>\n",
       "      <td>824.0</td>\n",
       "      <td>SUNCOKE ENERGY PARTNERS COMMON UNITS</td>\n",
       "      <td>SXCP</td>\n",
       "      <td>2013-01-18</td>\n",
       "      <td>2019-06-27</td>\n",
       "      <td>2016-03-21</td>\n",
       "      <td>2019-06-27</td>\n",
       "      <td>False</td>\n",
       "      <td>10.0</td>\n",
       "      <td>Non-unique-ticker</td>\n",
       "    </tr>\n",
       "    <tr>\n",
       "      <th>3641</th>\n",
       "      <td>2567FV</td>\n",
       "      <td>NA</td>\n",
       "      <td>NA</td>\n",
       "      <td>Z-WORK ACQUISITION CORP CL B</td>\n",
       "      <td>2567FV</td>\n",
       "      <td>98880C102</td>\n",
       "      <td>ZWRK</td>\n",
       "      <td>2021-01-29</td>\n",
       "      <td>NA</td>\n",
       "      <td>ZWRK</td>\n",
       "      <td>...</td>\n",
       "      <td>824.0</td>\n",
       "      <td>SUNCOKE ENERGY PARTNERS COMMON UNITS</td>\n",
       "      <td>SXCP</td>\n",
       "      <td>2013-01-18</td>\n",
       "      <td>2019-06-27</td>\n",
       "      <td>2016-03-21</td>\n",
       "      <td>2019-06-27</td>\n",
       "      <td>False</td>\n",
       "      <td>10.0</td>\n",
       "      <td>No trades done</td>\n",
       "    </tr>\n",
       "  </tbody>\n",
       "</table>\n",
       "<p>3642 rows × 39 columns</p>\n",
       "</div>"
      ],
      "text/plain": [
       "        Type     ISIN CODE LOC OFF. CODE                            NAME  \\\n",
       "0     756064  US88554D2053    U88554D205                      3D SYSTEMS   \n",
       "1     902172  US88579Y1010    U88579Y101                              3M   \n",
       "2     877226  US2829141009    U282914100                             8X8   \n",
       "3     2603Y7  US00152K1016    U00152K101            A K A BRANDS HOLDING   \n",
       "4     8748C6  US0021211018    U002121101                    A10 NETWORKS   \n",
       "...      ...           ...           ...                             ...   \n",
       "3637  94419W            NA            NA            ZOOM VIDEO COMM CL B   \n",
       "3638  9924R8            NA            NA  ZOOMINFO TECHNOLOGIES INC CL B   \n",
       "3639  9924TA            NA            NA  ZOOMINFO TECHNOLOGIES INC CL C   \n",
       "3640  9295TV            NA            NA                  ZUORA INC CL B   \n",
       "3641  2567FV            NA            NA    Z-WORK ACQUISITION CORP CL B   \n",
       "\n",
       "     DATASTREAM CODE      CUSIP TICKER SYMBOL BASE OR ST DATE  \\\n",
       "0             756064  88554D205           DDD      1988-03-10   \n",
       "1             902172  88579Y101           MMM      1973-01-02   \n",
       "2             877226  282914100          EGHT      1997-07-03   \n",
       "3             2603Y7  00152K101           AKA      2021-09-22   \n",
       "4             8748C6    2121101          ATEN      2014-03-21   \n",
       "...              ...        ...           ...             ...   \n",
       "3637          94419W  98980L101            ZM      2019-04-18   \n",
       "3638          9924R8  98980F104            ZI      2020-06-04   \n",
       "3639          9924TA  98980F104            ZI      2020-06-04   \n",
       "3640          9295TV  98983V106           ZUO      2018-04-12   \n",
       "3641          2567FV  98880C102          ZWRK      2021-01-29   \n",
       "\n",
       "     DATE/TIME (DS End Date) tickers  ...  ts_rows  \\\n",
       "0        2022-03-16 00:00:00     DDD  ...   1509.0   \n",
       "1        2022-03-16 00:00:00     MMM  ...   1509.0   \n",
       "2        2022-03-16 00:00:00    EGHT  ...   1509.0   \n",
       "3        2022-03-16 00:00:00     AKA  ...    122.0   \n",
       "4        2022-03-16 00:00:00    ATEN  ...   1509.0   \n",
       "...                      ...     ...  ...      ...   \n",
       "3637                      NA      ZM  ...    824.0   \n",
       "3638                      NA      ZI  ...    824.0   \n",
       "3639                      NA      ZI  ...    824.0   \n",
       "3640                      NA     ZUO  ...    824.0   \n",
       "3641                      NA    ZWRK  ...    824.0   \n",
       "\n",
       "                                      name ticker start_date   end_date  \\\n",
       "0                               3D SYSTEMS    DDD 1988-03-10 2022-03-16   \n",
       "1                                       3M    MMM 1973-01-02 2022-03-16   \n",
       "2                                      8X8   EGHT 1997-07-03 2022-03-16   \n",
       "3                     A K A BRANDS HOLDING    AKA 2021-09-22 2022-03-16   \n",
       "4                             A10 NETWORKS   ATEN 2014-03-21 2022-03-16   \n",
       "...                                    ...    ...        ...        ...   \n",
       "3637  SUNCOKE ENERGY PARTNERS COMMON UNITS   SXCP 2013-01-18 2019-06-27   \n",
       "3638  SUNCOKE ENERGY PARTNERS COMMON UNITS   SXCP 2013-01-18 2019-06-27   \n",
       "3639  SUNCOKE ENERGY PARTNERS COMMON UNITS   SXCP 2013-01-18 2019-06-27   \n",
       "3640  SUNCOKE ENERGY PARTNERS COMMON UNITS   SXCP 2013-01-18 2019-06-27   \n",
       "3641  SUNCOKE ENERGY PARTNERS COMMON UNITS   SXCP 2013-01-18 2019-06-27   \n",
       "\n",
       "      start_date_ts  end_date_ts  RI_Errors  filings_rows  reason_to_exclude  \n",
       "0        2016-03-21   2022-03-16      False          40.0               None  \n",
       "1        2016-03-21   2022-03-16      False          75.0  Non-unique-ticker  \n",
       "2        2016-03-21   2022-03-16      False         162.0               None  \n",
       "3        2021-09-22   2022-03-16      False           5.0               None  \n",
       "4        2016-03-21   2022-03-16      False          76.0               None  \n",
       "...             ...          ...        ...           ...                ...  \n",
       "3637     2016-03-21   2019-06-27      False          10.0       Missing ISIN  \n",
       "3638     2016-03-21   2019-06-27      False          10.0  Non-unique-ticker  \n",
       "3639     2016-03-21   2019-06-27      False          10.0  Non-unique-ticker  \n",
       "3640     2016-03-21   2019-06-27      False          10.0  Non-unique-ticker  \n",
       "3641     2016-03-21   2019-06-27      False          10.0     No trades done  \n",
       "\n",
       "[3642 rows x 39 columns]"
      ]
     },
     "execution_count": 21,
     "metadata": {},
     "output_type": "execute_result"
    }
   ],
   "source": [
    "data"
   ]
  },
  {
   "cell_type": "markdown",
   "id": "11f4ff1f",
   "metadata": {
    "collapsed": false
   },
   "source": [
    "#### Show which ones are excluded:\n",
    "Also stores to csv for later use"
   ]
  },
  {
   "cell_type": "code",
   "execution_count": 22,
   "id": "b25eaa5e",
   "metadata": {
    "collapsed": false,
    "execution": {
     "iopub.execute_input": "2022-11-11T18:28:59.580201Z",
     "iopub.status.busy": "2022-11-11T18:28:59.580201Z",
     "iopub.status.idle": "2022-11-11T18:28:59.609208Z",
     "shell.execute_reply": "2022-11-11T18:28:59.609208Z"
    }
   },
   "outputs": [
    {
     "data": {
      "text/html": [
       "<div>\n",
       "<style scoped>\n",
       "    .dataframe tbody tr th:only-of-type {\n",
       "        vertical-align: middle;\n",
       "    }\n",
       "\n",
       "    .dataframe tbody tr th {\n",
       "        vertical-align: top;\n",
       "    }\n",
       "\n",
       "    .dataframe thead th {\n",
       "        text-align: right;\n",
       "    }\n",
       "</style>\n",
       "<table border=\"1\" class=\"dataframe\">\n",
       "  <thead>\n",
       "    <tr style=\"text-align: right;\">\n",
       "      <th></th>\n",
       "      <th>ISIN CODE</th>\n",
       "      <th>NAME</th>\n",
       "      <th>TICKER SYMBOL</th>\n",
       "      <th>trade_count</th>\n",
       "      <th>n_distinct_traders</th>\n",
       "      <th>n_distinct_trade_types</th>\n",
       "      <th>ts_rows</th>\n",
       "      <th>reason_to_exclude</th>\n",
       "    </tr>\n",
       "  </thead>\n",
       "  <tbody>\n",
       "    <tr>\n",
       "      <th>764</th>\n",
       "      <td>US35953D1046</td>\n",
       "      <td>FUBOTV</td>\n",
       "      <td>FUBO</td>\n",
       "      <td>20</td>\n",
       "      <td>6</td>\n",
       "      <td>3</td>\n",
       "      <td>1509.0</td>\n",
       "      <td>Faulty timeseries data</td>\n",
       "    </tr>\n",
       "    <tr>\n",
       "      <th>954</th>\n",
       "      <td>US46124J2015</td>\n",
       "      <td>INVENTRUST PROPERTIES</td>\n",
       "      <td>IVT</td>\n",
       "      <td>0</td>\n",
       "      <td>0</td>\n",
       "      <td>0</td>\n",
       "      <td>1509.0</td>\n",
       "      <td>Faulty timeseries data</td>\n",
       "    </tr>\n",
       "    <tr>\n",
       "      <th>2066</th>\n",
       "      <td>NA</td>\n",
       "      <td>ARES ACQUISITION CORP CL B</td>\n",
       "      <td>AAC</td>\n",
       "      <td>15</td>\n",
       "      <td>8</td>\n",
       "      <td>2</td>\n",
       "      <td>824.0</td>\n",
       "      <td>Missing ISIN</td>\n",
       "    </tr>\n",
       "    <tr>\n",
       "      <th>2093</th>\n",
       "      <td>NA</td>\n",
       "      <td>ATHENA CONSUMER ACQUISITION CL B</td>\n",
       "      <td>ACAQ</td>\n",
       "      <td>1</td>\n",
       "      <td>1</td>\n",
       "      <td>1</td>\n",
       "      <td>824.0</td>\n",
       "      <td>Missing ISIN</td>\n",
       "    </tr>\n",
       "    <tr>\n",
       "      <th>2101</th>\n",
       "      <td>NA</td>\n",
       "      <td>ATLAS CRST.INV.CORP.CL B</td>\n",
       "      <td>ACHR</td>\n",
       "      <td>5</td>\n",
       "      <td>3</td>\n",
       "      <td>1</td>\n",
       "      <td>824.0</td>\n",
       "      <td>Missing ISIN</td>\n",
       "    </tr>\n",
       "    <tr>\n",
       "      <th>...</th>\n",
       "      <td>...</td>\n",
       "      <td>...</td>\n",
       "      <td>...</td>\n",
       "      <td>...</td>\n",
       "      <td>...</td>\n",
       "      <td>...</td>\n",
       "      <td>...</td>\n",
       "      <td>...</td>\n",
       "    </tr>\n",
       "    <tr>\n",
       "      <th>1914</th>\n",
       "      <td>US98936J1016</td>\n",
       "      <td>ZENDESK</td>\n",
       "      <td>ZEN</td>\n",
       "      <td>313</td>\n",
       "      <td>18</td>\n",
       "      <td>2</td>\n",
       "      <td>1509.0</td>\n",
       "      <td>None</td>\n",
       "    </tr>\n",
       "    <tr>\n",
       "      <th>1057</th>\n",
       "      <td>US53228T1016</td>\n",
       "      <td>LIGHTNING EMOTORS</td>\n",
       "      <td>ZEV</td>\n",
       "      <td>6</td>\n",
       "      <td>6</td>\n",
       "      <td>2</td>\n",
       "      <td>430.0</td>\n",
       "      <td>None</td>\n",
       "    </tr>\n",
       "    <tr>\n",
       "      <th>3636</th>\n",
       "      <td>US98979J1097</td>\n",
       "      <td>ZOES KITCHEN DEAD - DELIST.21/11/18</td>\n",
       "      <td>ZOES</td>\n",
       "      <td>1</td>\n",
       "      <td>1</td>\n",
       "      <td>1</td>\n",
       "      <td>675.0</td>\n",
       "      <td>None</td>\n",
       "    </tr>\n",
       "    <tr>\n",
       "      <th>1923</th>\n",
       "      <td>US98978V1035</td>\n",
       "      <td>ZOETIS A</td>\n",
       "      <td>ZTS</td>\n",
       "      <td>117</td>\n",
       "      <td>15</td>\n",
       "      <td>3</td>\n",
       "      <td>1509.0</td>\n",
       "      <td>None</td>\n",
       "    </tr>\n",
       "    <tr>\n",
       "      <th>1926</th>\n",
       "      <td>US98983L1089</td>\n",
       "      <td>ZURN WATER SOLUTIONS</td>\n",
       "      <td>ZWS</td>\n",
       "      <td>107</td>\n",
       "      <td>14</td>\n",
       "      <td>3</td>\n",
       "      <td>1509.0</td>\n",
       "      <td>None</td>\n",
       "    </tr>\n",
       "  </tbody>\n",
       "</table>\n",
       "<p>3642 rows × 8 columns</p>\n",
       "</div>"
      ],
      "text/plain": [
       "         ISIN CODE                                 NAME TICKER SYMBOL  \\\n",
       "764   US35953D1046                               FUBOTV          FUBO   \n",
       "954   US46124J2015                INVENTRUST PROPERTIES           IVT   \n",
       "2066            NA           ARES ACQUISITION CORP CL B           AAC   \n",
       "2093            NA     ATHENA CONSUMER ACQUISITION CL B          ACAQ   \n",
       "2101            NA             ATLAS CRST.INV.CORP.CL B          ACHR   \n",
       "...            ...                                  ...           ...   \n",
       "1914  US98936J1016                              ZENDESK           ZEN   \n",
       "1057  US53228T1016                    LIGHTNING EMOTORS           ZEV   \n",
       "3636  US98979J1097  ZOES KITCHEN DEAD - DELIST.21/11/18          ZOES   \n",
       "1923  US98978V1035                             ZOETIS A           ZTS   \n",
       "1926  US98983L1089                 ZURN WATER SOLUTIONS           ZWS   \n",
       "\n",
       "      trade_count  n_distinct_traders  n_distinct_trade_types  ts_rows  \\\n",
       "764            20                   6                       3   1509.0   \n",
       "954             0                   0                       0   1509.0   \n",
       "2066           15                   8                       2    824.0   \n",
       "2093            1                   1                       1    824.0   \n",
       "2101            5                   3                       1    824.0   \n",
       "...           ...                 ...                     ...      ...   \n",
       "1914          313                  18                       2   1509.0   \n",
       "1057            6                   6                       2    430.0   \n",
       "3636            1                   1                       1    675.0   \n",
       "1923          117                  15                       3   1509.0   \n",
       "1926          107                  14                       3   1509.0   \n",
       "\n",
       "           reason_to_exclude  \n",
       "764   Faulty timeseries data  \n",
       "954   Faulty timeseries data  \n",
       "2066            Missing ISIN  \n",
       "2093            Missing ISIN  \n",
       "2101            Missing ISIN  \n",
       "...                      ...  \n",
       "1914                    None  \n",
       "1057                    None  \n",
       "3636                    None  \n",
       "1923                    None  \n",
       "1926                    None  \n",
       "\n",
       "[3642 rows x 8 columns]"
      ]
     },
     "execution_count": 22,
     "metadata": {},
     "output_type": "execute_result"
    }
   ],
   "source": [
    "#scraping_summary = data[data['reason_to_exclude']!='None']\n",
    "scraping_summary = data\n",
    "scraping_summary = scraping_summary[[#'Type'\n",
    "                      'ISIN CODE'\n",
    "                     #, 'LOC OFF. CODE'\n",
    "                     , 'NAME'\n",
    "                     #, 'DATASTREAM CODE'\n",
    "                     #, 'CUSIP'\n",
    "                     , 'TICKER SYMBOL'\n",
    "                     #, 'BASE OR ST DATE'\n",
    "                     #, 'DATE/TIME (DS End Date)'\n",
    "                     #, 'tickers'\n",
    "                     , 'trade_count'\n",
    "                     #, 'min_filing_date'\n",
    "                     #, 'max_filing_date'\n",
    "                     #, 'min_trade_date'\n",
    "                     #, 'max_trade_date'\n",
    "                     , 'n_distinct_traders'\n",
    "                     , 'n_distinct_trade_types'\n",
    "                     #, 'P - Purchase (count)'\n",
    "                     #, 'S - Sale (count)'\n",
    "                     #, 'S - Sale+OE'\n",
    "                     #, 'A - Grant (count)'\n",
    "                     #, 'D - Sale to Iss (count)'\n",
    "                     #, 'G - Gift (count)'\n",
    "                     #, 'F - Tax (count)'\n",
    "                     #, 'M - Option Ex (count)'\n",
    "                     #, 'X - Option Ex (count)'\n",
    "                     #, 'C - Cnv Deriv (count)'\n",
    "                     #, 'W - Inherited (count)'\n",
    "                     #, 'isin'\n",
    "                     , 'ts_rows'\n",
    "                     #, 'name'\n",
    "                     #, 'ticker'\n",
    "                     #, 'start_date'\n",
    "                     #, 'end_date'\n",
    "                     #, 'start_date_ts'\n",
    "                     #, 'end_date_ts'\n",
    "                     , 'reason_to_exclude'\n",
    "                    ]].sort_values(by=['reason_to_exclude', 'TICKER SYMBOL', 'ISIN CODE'])\n",
    "scraping_summary.to_csv(DATA_LOCATION + '/scraping_summary.csv')\n",
    "scraping_summary"
   ]
  },
  {
   "cell_type": "markdown",
   "id": "f79ea2ea",
   "metadata": {
    "collapsed": false
   },
   "source": [
    "#### Do basic statistics of what was taken out\n"
   ]
  },
  {
   "cell_type": "code",
   "execution_count": 23,
   "id": "c1f9cc47",
   "metadata": {
    "collapsed": false,
    "execution": {
     "iopub.execute_input": "2022-11-11T18:28:59.612209Z",
     "iopub.status.busy": "2022-11-11T18:28:59.612209Z",
     "iopub.status.idle": "2022-11-11T18:28:59.624963Z",
     "shell.execute_reply": "2022-11-11T18:28:59.624963Z"
    }
   },
   "outputs": [],
   "source": [
    "agg_scraping_summary = scraping_summary.groupby('reason_to_exclude').agg({'ISIN CODE': 'count'\n",
    "                                                                          , 'trade_count': 'sum'\n",
    "                                                                          , 'n_distinct_traders':'sum'\n",
    "                                                                          , 'ts_rows':'sum'}).reset_index().rename(columns={'reason_to_exclude': 'Exclusion Reason'\n",
    "                                                                                                                           , 'ISIN CODE': 'N Companies'\n",
    "                                                                                                                           , 'trade_count': 'N trades'\n",
    "                                                                                                                           , 'n_distinct_traders': 'N distinct traders'\n",
    "                                                                                                                           , 'ts_rows': 'N TS rows'})\n",
    "agg_scraping_summary[\"N TS rows\"] = agg_scraping_summary[\"N TS rows\"].astype(int)"
   ]
  },
  {
   "cell_type": "markdown",
   "id": "0d6ec96a",
   "metadata": {
    "collapsed": false
   },
   "source": [
    "##### And print it to latex code for report"
   ]
  },
  {
   "cell_type": "markdown",
   "id": "1ec84e7a",
   "metadata": {
    "collapsed": false
   },
   "source": []
  },
  {
   "cell_type": "code",
   "execution_count": 25,
   "id": "2f2530be",
   "metadata": {
    "collapsed": false,
    "execution": {
     "iopub.execute_input": "2022-11-11T18:28:59.643504Z",
     "iopub.status.busy": "2022-11-11T18:28:59.642504Z",
     "iopub.status.idle": "2022-11-11T18:29:00.193407Z",
     "shell.execute_reply": "2022-11-11T18:29:00.193407Z"
    }
   },
   "outputs": [
    {
     "name": "stdout",
     "output_type": "stream",
     "text": [
      "\\begin{table}[H]\n",
      "\\centering\n",
      "\\caption{Summary of discarded input}\n",
      "\\label{table:excluded_companies}\n",
      "\\begin{tabular}{llllll}\n",
      "\\toprule\n",
      "{\\bfseries  } & {\\bfseries Exclusion Reason} & {\\bfseries N Companies} & {\\bfseries N trades} & {\\bfseries N distinct traders} & {N TS rows} \\\\\n",
      "\\midrule\n",
      "\\bfseries Before Filtering & \\bfseries   & \\bfseries 3,642 & \\bfseries 109,591 & \\bfseries 22,246 & \\bfseries 3,913,207 \\\\\n",
      "\\bottomrule\n",
      "\\end{tabular}\n",
      "\\end{table}\n",
      "\n",
      "\\begin{table}[H]\n",
      "\\centering\n",
      "\\caption{Summary of discarded input}\n",
      "\\label{table:excluded_companies}\n",
      "\\begin{tabular}{llSSSS}\n",
      "\\toprule\n",
      "{\\bfseries } & {\\bfseries  } & {\\bfseries   } & {\\bfseries    } & {\\bfseries     } & {     } \\\\\n",
      "\\midrule\n",
      "\\bfseries   & Faulty timeseries data & 2 & 20 & 6 & 3,018 \\\\\n",
      "\\bfseries   & Missing ISIN & 330 & 9,917 & 1,931 & 271,920 \\\\\n",
      "\\bfseries   & NA ticker & 7 & 175 & 42 & 3,492 \\\\\n",
      "\\bfseries   & No timeseries data & 48 & 781 & 150 & 0 \\\\\n",
      "\\bfseries   & No trades done & 1,153 & 0 & 0 & 1,112,269 \\\\\n",
      "\\bfseries   & \\bfseries Non-unique-ticker & \\bfseries 665 & \\bfseries 27,227 & \\bfseries 4,984 & \\bfseries 578,867 \\\\\n",
      "\\bottomrule\n",
      "\\end{tabular}\n",
      "\\end{table}\n",
      "\n",
      "\\begin{table}[H]\n",
      "\\centering\n",
      "\\caption{Summary of discarded input}\n",
      "\\label{table:excluded_companies}\n",
      "\\begin{tabular}{lllllll}\n",
      "\\toprule\n",
      "{\\bfseries index} & {\\bfseries } & {\\bfseries  } & {\\bfseries   } & {\\bfseries    } & {\\bfseries     } & {     } \\\\\n",
      "\\midrule\n",
      "Removed &        & Faulty timeseries dataMissing ISINNA tickerNo timeseries dataNo trades doneNon-unique-ticker & 2,205 & 38,120 & 7,113 & 1,969,566 \\\\\n",
      "\\bfseries Remaining & \\bfseries   & \\bfseries None & \\bfseries 1,437 & \\bfseries 71,471 & \\bfseries 15,133 & \\bfseries 1,943,641 \\\\\n",
      "\\bottomrule\n",
      "\\end{tabular}\n",
      "\\end{table}\n",
      "\n"
     ]
    }
   ],
   "source": [
    "# Tom stuff, for table\n",
    "from tools import pretty_latex\n",
    "overall_companies = agg_scraping_summary.iloc[:,1:].sum(axis=0).values\n",
    "overall_companies = pd.DataFrame([\"Before Filtering\", \" \"] + list(overall_companies)).transpose()\n",
    "overall_companies.index = [0]\n",
    "overall_companies.columns = [\" \"] + list(agg_scraping_summary.columns)\n",
    "overall_companies\n",
    "\n",
    "print(pretty_latex(overall_companies))\n",
    "agg_scraping_summary_tom = agg_scraping_summary.copy()\n",
    "agg_scraping_summary_tom.insert(0, \" \", len(agg_scraping_summary)*[\" \"])\n",
    "agg_scraping_summary_tom.columns = [\"\"] + [(i+1)*\" \" for i in range((len(agg_scraping_summary_tom.columns)-1))]\n",
    "print(pretty_latex(agg_scraping_summary_tom.iloc[:-1,:]))\n",
    "\n",
    "removed = agg_scraping_summary_tom.iloc[:-1,:].sum(axis = 0)\n",
    "remaining = agg_scraping_summary_tom.iloc[-1,:]\n",
    "result = pd.DataFrame({\"Removed\": removed, \"Remaining\": remaining}).transpose().reset_index()\n",
    "print(pretty_latex(result))"
   ]
  },
  {
   "cell_type": "code",
   "execution_count": 26,
   "id": "13c88ef4",
   "metadata": {
    "collapsed": false,
    "execution": {
     "iopub.execute_input": "2022-11-11T18:29:00.196407Z",
     "iopub.status.busy": "2022-11-11T18:29:00.196407Z",
     "iopub.status.idle": "2022-11-11T18:29:00.209412Z",
     "shell.execute_reply": "2022-11-11T18:29:00.209412Z"
    }
   },
   "outputs": [
    {
     "data": {
      "text/html": [
       "<div>\n",
       "<style scoped>\n",
       "    .dataframe tbody tr th:only-of-type {\n",
       "        vertical-align: middle;\n",
       "    }\n",
       "\n",
       "    .dataframe tbody tr th {\n",
       "        vertical-align: top;\n",
       "    }\n",
       "\n",
       "    .dataframe thead th {\n",
       "        text-align: right;\n",
       "    }\n",
       "</style>\n",
       "<table border=\"1\" class=\"dataframe\">\n",
       "  <thead>\n",
       "    <tr style=\"text-align: right;\">\n",
       "      <th></th>\n",
       "      <th>index</th>\n",
       "      <th></th>\n",
       "      <th></th>\n",
       "      <th></th>\n",
       "      <th></th>\n",
       "      <th></th>\n",
       "      <th></th>\n",
       "    </tr>\n",
       "  </thead>\n",
       "  <tbody>\n",
       "    <tr>\n",
       "      <th>0</th>\n",
       "      <td>Removed</td>\n",
       "      <td></td>\n",
       "      <td>Faulty timeseries dataMissing ISINNA tickerNo ...</td>\n",
       "      <td>2205</td>\n",
       "      <td>38120</td>\n",
       "      <td>7113</td>\n",
       "      <td>1969566</td>\n",
       "    </tr>\n",
       "    <tr>\n",
       "      <th>1</th>\n",
       "      <td>Remaining</td>\n",
       "      <td></td>\n",
       "      <td>None</td>\n",
       "      <td>1437</td>\n",
       "      <td>71471</td>\n",
       "      <td>15133</td>\n",
       "      <td>1943641</td>\n",
       "    </tr>\n",
       "  </tbody>\n",
       "</table>\n",
       "</div>"
      ],
      "text/plain": [
       "       index                                                                   \\\n",
       "0    Removed          Faulty timeseries dataMissing ISINNA tickerNo ...  2205   \n",
       "1  Remaining                                                       None  1437   \n",
       "\n",
       "                          \n",
       "0  38120   7113  1969566  \n",
       "1  71471  15133  1943641  "
      ]
     },
     "execution_count": 26,
     "metadata": {},
     "output_type": "execute_result"
    }
   ],
   "source": [
    "result"
   ]
  },
  {
   "cell_type": "code",
   "execution_count": 27,
   "id": "eef38540",
   "metadata": {
    "collapsed": false,
    "execution": {
     "iopub.execute_input": "2022-11-11T18:29:00.211417Z",
     "iopub.status.busy": "2022-11-11T18:29:00.211417Z",
     "iopub.status.idle": "2022-11-11T18:29:00.225421Z",
     "shell.execute_reply": "2022-11-11T18:29:00.225421Z"
    }
   },
   "outputs": [
    {
     "name": "stdout",
     "output_type": "stream",
     "text": [
      "\\begin{table}[H]\n",
      "\\centering\n",
      "\\caption{Summary of discarded input}\n",
      "\\label{table:excluded_companies}\n",
      "\\begin{tabular}{lrrrr}\n",
      "\\toprule\n",
      "{\\bfseries Exclusion Reason} & {\\bfseries N Companies} & {\\bfseries N trades} & {\\bfseries N distinct traders} & {N TS rows} \\\\\n",
      "\\midrule\n",
      "Faulty timeseries data & 2 & 20 & 6 & 3,018 \\\\\n",
      "Missing ISIN & 330 & 9,917 & 1,931 & 271,920 \\\\\n",
      "NA ticker & 7 & 175 & 42 & 3,492 \\\\\n",
      "No timeseries data & 48 & 781 & 150 & 0 \\\\\n",
      "No trades done & 1,153 & 0 & 0 & 1,112,269 \\\\\n",
      "Non-unique-ticker & 665 & 27,227 & 4,984 & 578,867 \\\\\n",
      "\\bfseries None & \\bfseries 1,437 & \\bfseries 71,471 & \\bfseries 15,133 & \\bfseries 1,943,641 \\\\\n",
      "\\bottomrule\n",
      "\\end{tabular}\n",
      "\\end{table}\n",
      "\n",
      "---------------\n"
     ]
    },
    {
     "data": {
      "text/plain": [
       "'\\\\begin{table}[H]\\n\\\\centering\\n\\\\caption{Summary of discarded input}\\n\\\\label{table:excluded_companies}\\n\\\\begin{tabular}{lrrrr}\\n\\\\toprule\\n{\\\\bfseries Exclusion Reason} & {\\\\bfseries N Companies} & {\\\\bfseries N trades} & {\\\\bfseries N distinct traders} & {N TS rows} \\\\\\\\\\n\\\\midrule\\nFaulty timeseries data & 2 & 20 & 6 & 3,018 \\\\\\\\\\nMissing ISIN & 330 & 9,917 & 1,931 & 271,920 \\\\\\\\\\nNA ticker & 7 & 175 & 42 & 3,492 \\\\\\\\\\nNo timeseries data & 48 & 781 & 150 & 0 \\\\\\\\\\nNo trades done & 1,153 & 0 & 0 & 1,112,269 \\\\\\\\\\nNon-unique-ticker & 665 & 27,227 & 4,984 & 578,867 \\\\\\\\\\n\\\\bfseries None & \\\\bfseries 1,437 & \\\\bfseries 71,471 & \\\\bfseries 15,133 & \\\\bfseries 1,943,641 \\\\\\\\\\n\\\\bottomrule\\n\\\\end{tabular}\\n\\\\end{table}\\n'"
      ]
     },
     "execution_count": 27,
     "metadata": {},
     "output_type": "execute_result"
    }
   ],
   "source": [
    "\n",
    "\n",
    "latex = pretty_latex(agg_scraping_summary, column_format=\"lrrrr\")\n",
    "print(latex)\n",
    "print(\"---------------\")\n",
    "latex"
   ]
  },
  {
   "cell_type": "markdown",
   "id": "d1a4dcc7",
   "metadata": {
    "collapsed": false
   },
   "source": [
    "## Check how to read in, into the analysis notebook"
   ]
  },
  {
   "cell_type": "markdown",
   "id": "8ba98196",
   "metadata": {
    "collapsed": false
   },
   "source": [
    "### This should be done early in cell 3:"
   ]
  },
  {
   "cell_type": "code",
   "execution_count": 28,
   "id": "937f9c06",
   "metadata": {
    "collapsed": false,
    "execution": {
     "iopub.execute_input": "2022-11-11T18:29:00.228428Z",
     "iopub.status.busy": "2022-11-11T18:29:00.228428Z",
     "iopub.status.idle": "2022-11-11T18:29:00.257231Z",
     "shell.execute_reply": "2022-11-11T18:29:00.257231Z"
    }
   },
   "outputs": [
    {
     "data": {
      "text/html": [
       "<div>\n",
       "<style scoped>\n",
       "    .dataframe tbody tr th:only-of-type {\n",
       "        vertical-align: middle;\n",
       "    }\n",
       "\n",
       "    .dataframe tbody tr th {\n",
       "        vertical-align: top;\n",
       "    }\n",
       "\n",
       "    .dataframe thead th {\n",
       "        text-align: right;\n",
       "    }\n",
       "</style>\n",
       "<table border=\"1\" class=\"dataframe\">\n",
       "  <thead>\n",
       "    <tr style=\"text-align: right;\">\n",
       "      <th></th>\n",
       "      <th>ISIN CODE</th>\n",
       "      <th>NAME</th>\n",
       "      <th>TICKER SYMBOL</th>\n",
       "      <th>trade_count</th>\n",
       "      <th>n_distinct_traders</th>\n",
       "      <th>n_distinct_trade_types</th>\n",
       "      <th>ts_rows</th>\n",
       "      <th>reason_to_exclude</th>\n",
       "    </tr>\n",
       "  </thead>\n",
       "  <tbody>\n",
       "    <tr>\n",
       "      <th>764</th>\n",
       "      <td>US35953D1046</td>\n",
       "      <td>FUBOTV</td>\n",
       "      <td>FUBO</td>\n",
       "      <td>20</td>\n",
       "      <td>6</td>\n",
       "      <td>3</td>\n",
       "      <td>1509.0</td>\n",
       "      <td>Faulty timeseries data</td>\n",
       "    </tr>\n",
       "    <tr>\n",
       "      <th>954</th>\n",
       "      <td>US46124J2015</td>\n",
       "      <td>INVENTRUST PROPERTIES</td>\n",
       "      <td>IVT</td>\n",
       "      <td>0</td>\n",
       "      <td>0</td>\n",
       "      <td>0</td>\n",
       "      <td>1509.0</td>\n",
       "      <td>Faulty timeseries data</td>\n",
       "    </tr>\n",
       "    <tr>\n",
       "      <th>2066</th>\n",
       "      <td>NaN</td>\n",
       "      <td>ARES ACQUISITION CORP CL B</td>\n",
       "      <td>AAC</td>\n",
       "      <td>15</td>\n",
       "      <td>8</td>\n",
       "      <td>2</td>\n",
       "      <td>824.0</td>\n",
       "      <td>Missing ISIN</td>\n",
       "    </tr>\n",
       "    <tr>\n",
       "      <th>2093</th>\n",
       "      <td>NaN</td>\n",
       "      <td>ATHENA CONSUMER ACQUISITION CL B</td>\n",
       "      <td>ACAQ</td>\n",
       "      <td>1</td>\n",
       "      <td>1</td>\n",
       "      <td>1</td>\n",
       "      <td>824.0</td>\n",
       "      <td>Missing ISIN</td>\n",
       "    </tr>\n",
       "    <tr>\n",
       "      <th>2101</th>\n",
       "      <td>NaN</td>\n",
       "      <td>ATLAS CRST.INV.CORP.CL B</td>\n",
       "      <td>ACHR</td>\n",
       "      <td>5</td>\n",
       "      <td>3</td>\n",
       "      <td>1</td>\n",
       "      <td>824.0</td>\n",
       "      <td>Missing ISIN</td>\n",
       "    </tr>\n",
       "    <tr>\n",
       "      <th>...</th>\n",
       "      <td>...</td>\n",
       "      <td>...</td>\n",
       "      <td>...</td>\n",
       "      <td>...</td>\n",
       "      <td>...</td>\n",
       "      <td>...</td>\n",
       "      <td>...</td>\n",
       "      <td>...</td>\n",
       "    </tr>\n",
       "    <tr>\n",
       "      <th>1914</th>\n",
       "      <td>US98936J1016</td>\n",
       "      <td>ZENDESK</td>\n",
       "      <td>ZEN</td>\n",
       "      <td>313</td>\n",
       "      <td>18</td>\n",
       "      <td>2</td>\n",
       "      <td>1509.0</td>\n",
       "      <td>None</td>\n",
       "    </tr>\n",
       "    <tr>\n",
       "      <th>1057</th>\n",
       "      <td>US53228T1016</td>\n",
       "      <td>LIGHTNING EMOTORS</td>\n",
       "      <td>ZEV</td>\n",
       "      <td>6</td>\n",
       "      <td>6</td>\n",
       "      <td>2</td>\n",
       "      <td>430.0</td>\n",
       "      <td>None</td>\n",
       "    </tr>\n",
       "    <tr>\n",
       "      <th>3636</th>\n",
       "      <td>US98979J1097</td>\n",
       "      <td>ZOES KITCHEN DEAD - DELIST.21/11/18</td>\n",
       "      <td>ZOES</td>\n",
       "      <td>1</td>\n",
       "      <td>1</td>\n",
       "      <td>1</td>\n",
       "      <td>675.0</td>\n",
       "      <td>None</td>\n",
       "    </tr>\n",
       "    <tr>\n",
       "      <th>1923</th>\n",
       "      <td>US98978V1035</td>\n",
       "      <td>ZOETIS A</td>\n",
       "      <td>ZTS</td>\n",
       "      <td>117</td>\n",
       "      <td>15</td>\n",
       "      <td>3</td>\n",
       "      <td>1509.0</td>\n",
       "      <td>None</td>\n",
       "    </tr>\n",
       "    <tr>\n",
       "      <th>1926</th>\n",
       "      <td>US98983L1089</td>\n",
       "      <td>ZURN WATER SOLUTIONS</td>\n",
       "      <td>ZWS</td>\n",
       "      <td>107</td>\n",
       "      <td>14</td>\n",
       "      <td>3</td>\n",
       "      <td>1509.0</td>\n",
       "      <td>None</td>\n",
       "    </tr>\n",
       "  </tbody>\n",
       "</table>\n",
       "<p>3642 rows × 8 columns</p>\n",
       "</div>"
      ],
      "text/plain": [
       "         ISIN CODE                                 NAME TICKER SYMBOL  \\\n",
       "764   US35953D1046                               FUBOTV          FUBO   \n",
       "954   US46124J2015                INVENTRUST PROPERTIES           IVT   \n",
       "2066           NaN           ARES ACQUISITION CORP CL B           AAC   \n",
       "2093           NaN     ATHENA CONSUMER ACQUISITION CL B          ACAQ   \n",
       "2101           NaN             ATLAS CRST.INV.CORP.CL B          ACHR   \n",
       "...            ...                                  ...           ...   \n",
       "1914  US98936J1016                              ZENDESK           ZEN   \n",
       "1057  US53228T1016                    LIGHTNING EMOTORS           ZEV   \n",
       "3636  US98979J1097  ZOES KITCHEN DEAD - DELIST.21/11/18          ZOES   \n",
       "1923  US98978V1035                             ZOETIS A           ZTS   \n",
       "1926  US98983L1089                 ZURN WATER SOLUTIONS           ZWS   \n",
       "\n",
       "      trade_count  n_distinct_traders  n_distinct_trade_types  ts_rows  \\\n",
       "764            20                   6                       3   1509.0   \n",
       "954             0                   0                       0   1509.0   \n",
       "2066           15                   8                       2    824.0   \n",
       "2093            1                   1                       1    824.0   \n",
       "2101            5                   3                       1    824.0   \n",
       "...           ...                 ...                     ...      ...   \n",
       "1914          313                  18                       2   1509.0   \n",
       "1057            6                   6                       2    430.0   \n",
       "3636            1                   1                       1    675.0   \n",
       "1923          117                  15                       3   1509.0   \n",
       "1926          107                  14                       3   1509.0   \n",
       "\n",
       "           reason_to_exclude  \n",
       "764   Faulty timeseries data  \n",
       "954   Faulty timeseries data  \n",
       "2066            Missing ISIN  \n",
       "2093            Missing ISIN  \n",
       "2101            Missing ISIN  \n",
       "...                      ...  \n",
       "1914                    None  \n",
       "1057                    None  \n",
       "3636                    None  \n",
       "1923                    None  \n",
       "1926                    None  \n",
       "\n",
       "[3642 rows x 8 columns]"
      ]
     },
     "metadata": {},
     "output_type": "display_data"
    },
    {
     "name": "stdout",
     "output_type": "stream",
     "text": [
      "We want to reduce to 1437 isins\n"
     ]
    }
   ],
   "source": [
    "# Read in the summary data from \"CompaniesToExclude\" notebook\n",
    "summary_data = pd.read_csv(DATA_LOCATION + '/scraping_summary.csv', index_col=0)\n",
    "# Generate list of which companies to analyse\n",
    "isins_to_use = summary_data[summary_data['reason_to_exclude'] == 'None']['ISIN CODE'].to_list()\n",
    "display(summary_data)\n",
    "print(f'We want to reduce to {len(isins_to_use)} isins')"
   ]
  },
  {
   "cell_type": "code",
   "execution_count": 29,
   "id": "b1cbd3c7",
   "metadata": {
    "collapsed": false,
    "execution": {
     "iopub.execute_input": "2022-11-11T18:29:00.260235Z",
     "iopub.status.busy": "2022-11-11T18:29:00.260235Z",
     "iopub.status.idle": "2022-11-11T18:29:00.273240Z",
     "shell.execute_reply": "2022-11-11T18:29:00.273240Z"
    }
   },
   "outputs": [],
   "source": [
    "#summary_data[summary_data['TICKER SYMBOL'] == 'CLBS']\n",
    "#summary_data[summary_data['TICKER SYMBOL'] == 'VIVE']"
   ]
  },
  {
   "cell_type": "code",
   "execution_count": 111,
   "id": "90f1393c",
   "metadata": {
    "collapsed": false
   },
   "outputs": [],
   "source": []
  },
  {
   "cell_type": "markdown",
   "id": "d903d706-17c1-49c8-8967-28f28df56c54",
   "metadata": {},
   "source": [
    "## Check how to read in, into the analysis notebook"
   ]
  },
  {
   "cell_type": "markdown",
   "id": "762634cb-dc72-4c8c-969d-2049e1e4314f",
   "metadata": {},
   "source": [
    "### This should be done early in cell 3:"
   ]
  },
  {
   "cell_type": "code",
   "execution_count": 30,
   "id": "750920a9-4802-4069-a5c4-5c143e6d3086",
   "metadata": {
    "execution": {
     "iopub.execute_input": "2022-11-11T18:29:00.277244Z",
     "iopub.status.busy": "2022-11-11T18:29:00.277244Z",
     "iopub.status.idle": "2022-11-11T18:29:00.304796Z",
     "shell.execute_reply": "2022-11-11T18:29:00.304796Z"
    },
    "tags": []
   },
   "outputs": [
    {
     "data": {
      "text/html": [
       "<div>\n",
       "<style scoped>\n",
       "    .dataframe tbody tr th:only-of-type {\n",
       "        vertical-align: middle;\n",
       "    }\n",
       "\n",
       "    .dataframe tbody tr th {\n",
       "        vertical-align: top;\n",
       "    }\n",
       "\n",
       "    .dataframe thead th {\n",
       "        text-align: right;\n",
       "    }\n",
       "</style>\n",
       "<table border=\"1\" class=\"dataframe\">\n",
       "  <thead>\n",
       "    <tr style=\"text-align: right;\">\n",
       "      <th></th>\n",
       "      <th>ISIN CODE</th>\n",
       "      <th>NAME</th>\n",
       "      <th>TICKER SYMBOL</th>\n",
       "      <th>trade_count</th>\n",
       "      <th>n_distinct_traders</th>\n",
       "      <th>n_distinct_trade_types</th>\n",
       "      <th>ts_rows</th>\n",
       "      <th>reason_to_exclude</th>\n",
       "    </tr>\n",
       "  </thead>\n",
       "  <tbody>\n",
       "    <tr>\n",
       "      <th>764</th>\n",
       "      <td>US35953D1046</td>\n",
       "      <td>FUBOTV</td>\n",
       "      <td>FUBO</td>\n",
       "      <td>20</td>\n",
       "      <td>6</td>\n",
       "      <td>3</td>\n",
       "      <td>1509.0</td>\n",
       "      <td>Faulty timeseries data</td>\n",
       "    </tr>\n",
       "    <tr>\n",
       "      <th>954</th>\n",
       "      <td>US46124J2015</td>\n",
       "      <td>INVENTRUST PROPERTIES</td>\n",
       "      <td>IVT</td>\n",
       "      <td>0</td>\n",
       "      <td>0</td>\n",
       "      <td>0</td>\n",
       "      <td>1509.0</td>\n",
       "      <td>Faulty timeseries data</td>\n",
       "    </tr>\n",
       "    <tr>\n",
       "      <th>2066</th>\n",
       "      <td>NaN</td>\n",
       "      <td>ARES ACQUISITION CORP CL B</td>\n",
       "      <td>AAC</td>\n",
       "      <td>15</td>\n",
       "      <td>8</td>\n",
       "      <td>2</td>\n",
       "      <td>824.0</td>\n",
       "      <td>Missing ISIN</td>\n",
       "    </tr>\n",
       "    <tr>\n",
       "      <th>2093</th>\n",
       "      <td>NaN</td>\n",
       "      <td>ATHENA CONSUMER ACQUISITION CL B</td>\n",
       "      <td>ACAQ</td>\n",
       "      <td>1</td>\n",
       "      <td>1</td>\n",
       "      <td>1</td>\n",
       "      <td>824.0</td>\n",
       "      <td>Missing ISIN</td>\n",
       "    </tr>\n",
       "    <tr>\n",
       "      <th>2101</th>\n",
       "      <td>NaN</td>\n",
       "      <td>ATLAS CRST.INV.CORP.CL B</td>\n",
       "      <td>ACHR</td>\n",
       "      <td>5</td>\n",
       "      <td>3</td>\n",
       "      <td>1</td>\n",
       "      <td>824.0</td>\n",
       "      <td>Missing ISIN</td>\n",
       "    </tr>\n",
       "    <tr>\n",
       "      <th>...</th>\n",
       "      <td>...</td>\n",
       "      <td>...</td>\n",
       "      <td>...</td>\n",
       "      <td>...</td>\n",
       "      <td>...</td>\n",
       "      <td>...</td>\n",
       "      <td>...</td>\n",
       "      <td>...</td>\n",
       "    </tr>\n",
       "    <tr>\n",
       "      <th>1914</th>\n",
       "      <td>US98936J1016</td>\n",
       "      <td>ZENDESK</td>\n",
       "      <td>ZEN</td>\n",
       "      <td>313</td>\n",
       "      <td>18</td>\n",
       "      <td>2</td>\n",
       "      <td>1509.0</td>\n",
       "      <td>None</td>\n",
       "    </tr>\n",
       "    <tr>\n",
       "      <th>1057</th>\n",
       "      <td>US53228T1016</td>\n",
       "      <td>LIGHTNING EMOTORS</td>\n",
       "      <td>ZEV</td>\n",
       "      <td>6</td>\n",
       "      <td>6</td>\n",
       "      <td>2</td>\n",
       "      <td>430.0</td>\n",
       "      <td>None</td>\n",
       "    </tr>\n",
       "    <tr>\n",
       "      <th>3636</th>\n",
       "      <td>US98979J1097</td>\n",
       "      <td>ZOES KITCHEN DEAD - DELIST.21/11/18</td>\n",
       "      <td>ZOES</td>\n",
       "      <td>1</td>\n",
       "      <td>1</td>\n",
       "      <td>1</td>\n",
       "      <td>675.0</td>\n",
       "      <td>None</td>\n",
       "    </tr>\n",
       "    <tr>\n",
       "      <th>1923</th>\n",
       "      <td>US98978V1035</td>\n",
       "      <td>ZOETIS A</td>\n",
       "      <td>ZTS</td>\n",
       "      <td>117</td>\n",
       "      <td>15</td>\n",
       "      <td>3</td>\n",
       "      <td>1509.0</td>\n",
       "      <td>None</td>\n",
       "    </tr>\n",
       "    <tr>\n",
       "      <th>1926</th>\n",
       "      <td>US98983L1089</td>\n",
       "      <td>ZURN WATER SOLUTIONS</td>\n",
       "      <td>ZWS</td>\n",
       "      <td>107</td>\n",
       "      <td>14</td>\n",
       "      <td>3</td>\n",
       "      <td>1509.0</td>\n",
       "      <td>None</td>\n",
       "    </tr>\n",
       "  </tbody>\n",
       "</table>\n",
       "<p>3642 rows × 8 columns</p>\n",
       "</div>"
      ],
      "text/plain": [
       "         ISIN CODE                                 NAME TICKER SYMBOL  \\\n",
       "764   US35953D1046                               FUBOTV          FUBO   \n",
       "954   US46124J2015                INVENTRUST PROPERTIES           IVT   \n",
       "2066           NaN           ARES ACQUISITION CORP CL B           AAC   \n",
       "2093           NaN     ATHENA CONSUMER ACQUISITION CL B          ACAQ   \n",
       "2101           NaN             ATLAS CRST.INV.CORP.CL B          ACHR   \n",
       "...            ...                                  ...           ...   \n",
       "1914  US98936J1016                              ZENDESK           ZEN   \n",
       "1057  US53228T1016                    LIGHTNING EMOTORS           ZEV   \n",
       "3636  US98979J1097  ZOES KITCHEN DEAD - DELIST.21/11/18          ZOES   \n",
       "1923  US98978V1035                             ZOETIS A           ZTS   \n",
       "1926  US98983L1089                 ZURN WATER SOLUTIONS           ZWS   \n",
       "\n",
       "      trade_count  n_distinct_traders  n_distinct_trade_types  ts_rows  \\\n",
       "764            20                   6                       3   1509.0   \n",
       "954             0                   0                       0   1509.0   \n",
       "2066           15                   8                       2    824.0   \n",
       "2093            1                   1                       1    824.0   \n",
       "2101            5                   3                       1    824.0   \n",
       "...           ...                 ...                     ...      ...   \n",
       "1914          313                  18                       2   1509.0   \n",
       "1057            6                   6                       2    430.0   \n",
       "3636            1                   1                       1    675.0   \n",
       "1923          117                  15                       3   1509.0   \n",
       "1926          107                  14                       3   1509.0   \n",
       "\n",
       "           reason_to_exclude  \n",
       "764   Faulty timeseries data  \n",
       "954   Faulty timeseries data  \n",
       "2066            Missing ISIN  \n",
       "2093            Missing ISIN  \n",
       "2101            Missing ISIN  \n",
       "...                      ...  \n",
       "1914                    None  \n",
       "1057                    None  \n",
       "3636                    None  \n",
       "1923                    None  \n",
       "1926                    None  \n",
       "\n",
       "[3642 rows x 8 columns]"
      ]
     },
     "metadata": {},
     "output_type": "display_data"
    },
    {
     "name": "stdout",
     "output_type": "stream",
     "text": [
      "We want to reduce to 1437 isins\n"
     ]
    }
   ],
   "source": [
    "# Read in the summary data from \"CompaniesToExclude\" notebook\n",
    "summary_data = pd.read_csv(DATA_LOCATION + '/scraping_summary.csv', index_col=0)\n",
    "# Generate list of which companies to analyse\n",
    "isins_to_use = summary_data[summary_data['reason_to_exclude'] == 'None']['ISIN CODE'].to_list()\n",
    "display(summary_data)\n",
    "print(f'We want to reduce to {len(isins_to_use)} isins')"
   ]
  },
  {
   "cell_type": "code",
   "execution_count": 31,
   "id": "1772fe54-5795-4709-883a-dcbaea7678f3",
   "metadata": {
    "execution": {
     "iopub.execute_input": "2022-11-11T18:29:00.307797Z",
     "iopub.status.busy": "2022-11-11T18:29:00.307797Z",
     "iopub.status.idle": "2022-11-11T18:29:00.320804Z",
     "shell.execute_reply": "2022-11-11T18:29:00.320804Z"
    }
   },
   "outputs": [],
   "source": [
    "#summary_data[summary_data['TICKER SYMBOL'] == 'CLBS']\n",
    "#summary_data[summary_data['TICKER SYMBOL'] == 'VIVE']"
   ]
  },
  {
   "cell_type": "code",
   "execution_count": 113,
   "id": "4aca2fa5-74b3-4fd4-80da-891ee8878b0d",
   "metadata": {},
   "outputs": [],
   "source": []
  },
  {
   "cell_type": "markdown",
   "id": "dd019861-a973-4f2a-9f08-c8b65acf70e3",
   "metadata": {},
   "source": [
    "### This needs to be changed in other notebook! in Cell 3:"
   ]
  },
  {
   "cell_type": "code",
   "execution_count": 32,
   "id": "633d74ef-b71f-48d5-9099-23fd14fdaf42",
   "metadata": {
    "execution": {
     "iopub.execute_input": "2022-11-11T18:29:00.323804Z",
     "iopub.status.busy": "2022-11-11T18:29:00.323804Z",
     "iopub.status.idle": "2022-11-11T18:29:00.366818Z",
     "shell.execute_reply": "2022-11-11T18:29:00.366818Z"
    }
   },
   "outputs": [
    {
     "name": "stdout",
     "output_type": "stream",
     "text": [
      "Found 2171 possible files to analyze\n",
      "We are left with 1437 to analyze\n"
     ]
    }
   ],
   "source": [
    "# Data locations\n",
    "DATA_LOCATION = f'data/{NAME}/'\n",
    "DATA_LOCATION_INSIDER_PROCESSED = DATA_LOCATION + 'processed/insider/'\n",
    "DATA_LOCATION_RI = DATA_LOCATION + 'processed/RI_discard/'\n",
    "\n",
    "## Not sure why we do this - maybe refactor\n",
    "_ri_location = DATA_LOCATION_RI\n",
    "_insider_location = DATA_LOCATION_INSIDER_PROCESSED\n",
    "\n",
    "# Get locations to read in\n",
    "file_locs_ = os.listdir(_ri_location)\n",
    "print(f'Found {len(file_locs_)} possible files to analyze')\n",
    "# Filter files for analysis, and append path:\n",
    "file_locs = [_ri_location + f for f in file_locs_ if f[:-7] in isins_to_use]\n",
    "print(f'We are left with {len(file_locs)} to analyze')\n"
   ]
  },
  {
   "cell_type": "markdown",
   "id": "450015fc-cdf6-440b-b25e-8e6379dd8652",
   "metadata": {},
   "source": [
    "### In the next cell (5):\n",
    "I'm sorry, but this will have to replace the beautiful `ISINs = [rick[:-7] for rick in pickles]`"
   ]
  },
  {
   "cell_type": "code",
   "execution_count": 33,
   "id": "1fa57dcb-f480-4b4a-aa53-c911963c4d4b",
   "metadata": {
    "execution": {
     "iopub.execute_input": "2022-11-11T18:29:00.369822Z",
     "iopub.status.busy": "2022-11-11T18:29:00.369822Z",
     "iopub.status.idle": "2022-11-11T18:29:00.413051Z",
     "shell.execute_reply": "2022-11-11T18:29:00.413051Z"
    },
    "tags": []
   },
   "outputs": [
    {
     "name": "stdout",
     "output_type": "stream",
     "text": [
      "1437\n"
     ]
    }
   ],
   "source": [
    "#ISINs = [f for f in file_locs_ if f[:-7] in isins_to_use]\n",
    "#ISINs = isins_to_use\n",
    "ISINs =  [f[:-7] for f in file_locs_ if f[:-7] in isins_to_use]\n",
    "print(len(ISINs))"
   ]
  }
 ],
 "metadata": {
  "kernelspec": {
   "display_name": "Python 3 (ipykernel)",
   "language": "python",
   "name": "python3"
  },
  "language_info": {
   "codemirror_mode": {
    "name": "ipython",
    "version": 3
   },
   "file_extension": ".py",
   "mimetype": "text/x-python",
   "name": "python",
   "nbconvert_exporter": "python",
   "pygments_lexer": "ipython3",
   "version": "3.8.13"
  }
 },
 "nbformat": 4,
 "nbformat_minor": 5
}
