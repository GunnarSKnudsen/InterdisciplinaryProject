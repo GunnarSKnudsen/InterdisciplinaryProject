{
 "cells": [
  {
   "cell_type": "markdown",
   "id": "1851cc57-817d-4b58-a899-6f0664b6c9c1",
   "metadata": {},
   "source": [
    "# Exploratory Data analysis\n",
    "_Written by Thomas Niedermayer and Gunnar Sjúrðarson Knudsen, as a conjoined effort for an interdiscplinary project in Data Science._\n",
    "* Supervisor: Wolfgang Aussenegg\n",
    "* Co-Supervisor: Sascha Hunold\n",
    "\n",
    "Purpose of this notebook is to understand the data quality, and the scale of the task. \n",
    "As we ran into several issues w.r.t. data quality, we want to get a deeper understanding of how which data is being handled. Example errors:\n",
    "* TICKERS being used for multiple companies/ISINS, resulting in not knowing which ISIN an insider trading corresponds to\n",
    "* Missing ISINs; means that no time series data is available\n",
    "* Missing TICKERS; Means that no insider trades are available.\n",
    "* For several companies, there are no insider trades registered. These are therefore also filtered out from the analysis notebook. These wouldn't give an error, but removing them speeds up the runtime\n",
    "* Sometimes there was no return index data available."
   ]
  },
  {
   "cell_type": "markdown",
   "id": "a2bbfa49-f820-4695-a024-a3731769ce65",
   "metadata": {},
   "source": [
    "## Load libraries"
   ]
  },
  {
   "cell_type": "code",
   "execution_count": null,
   "id": "13e56a34-9ca3-4f3e-9ec1-6db5a33e62ff",
   "metadata": {
    "execution": {
     "iopub.execute_input": "2022-11-22T14:52:04.572668Z",
     "iopub.status.busy": "2022-11-22T14:52:04.572668Z",
     "iopub.status.idle": "2022-11-22T14:52:05.135440Z",
     "shell.execute_reply": "2022-11-22T14:52:05.133411Z"
    },
    "tags": [],
    "pycharm": {
     "name": "#%%\n"
    }
   },
   "outputs": [],
   "source": [
    "import pickle\n",
    "import pandas as pd\n",
    "import numpy as np\n",
    "import os\n",
    "import math\n",
    "from tools import load_settings, display_table\n",
    "from IPython.display import clear_output, display\n",
    "from tqdm import tqdm\n",
    "\n",
    "# Load custom libraries\n",
    "import source.read_tickers_and_isins as URTI"
   ]
  },
  {
   "cell_type": "markdown",
   "id": "1d3f9b21-469a-4eb5-882e-365295ec5dc1",
   "metadata": {},
   "source": [
    "## Define which data to be loaded"
   ]
  },
  {
   "cell_type": "code",
   "execution_count": null,
   "id": "6c4ea762-810a-4922-a75c-003d0e675914",
   "metadata": {
    "execution": {
     "iopub.execute_input": "2022-11-22T14:52:05.143469Z",
     "iopub.status.busy": "2022-11-22T14:52:05.142472Z",
     "iopub.status.idle": "2022-11-22T14:52:05.160768Z",
     "shell.execute_reply": "2022-11-22T14:52:05.159521Z"
    },
    "tags": [],
    "pycharm": {
     "name": "#%%\n"
    }
   },
   "outputs": [],
   "source": [
    "\n",
    "settings = load_settings()\n",
    "NAME = settings[\"NAME\"]\n",
    "STOCK_EXCHANGE = settings[\"STOCK_EXCHANGE\"]"
   ]
  },
  {
   "cell_type": "code",
   "execution_count": null,
   "id": "4905b302-5ea8-457e-8068-db80d2640894",
   "metadata": {
    "execution": {
     "iopub.execute_input": "2022-11-22T14:52:05.168528Z",
     "iopub.status.busy": "2022-11-22T14:52:05.168102Z",
     "iopub.status.idle": "2022-11-22T14:52:05.184276Z",
     "shell.execute_reply": "2022-11-22T14:52:05.182230Z"
    },
    "tags": []
   },
   "outputs": [],
   "source": [
    "DATA_LOCATION = f'data/{NAME}/'\n",
    "_insider_location = DATA_LOCATION + 'processed/insider/'"
   ]
  },
  {
   "cell_type": "markdown",
   "id": "231deba6-33c3-4f9d-aa48-a9dedd9bc412",
   "metadata": {},
   "source": [
    "## Read in input data"
   ]
  },
  {
   "cell_type": "code",
   "execution_count": null,
   "id": "23e8efe5-e81e-4796-8854-69838c81079c",
   "metadata": {
    "execution": {
     "iopub.execute_input": "2022-11-22T14:52:05.193798Z",
     "iopub.status.busy": "2022-11-22T14:52:05.193798Z",
     "iopub.status.idle": "2022-11-22T14:52:05.213073Z",
     "shell.execute_reply": "2022-11-22T14:52:05.210537Z"
    },
    "tags": []
   },
   "outputs": [],
   "source": [
    "INPUT_FILE = f'input_data/{NAME}/{STOCK_EXCHANGE} Composite 16.3.2022 plus dead firms - {NAME}.xlsx'"
   ]
  },
  {
   "cell_type": "code",
   "execution_count": null,
   "id": "05f4f316-4ca5-4b67-9617-dc43cee22cca",
   "metadata": {
    "execution": {
     "iopub.execute_input": "2022-11-22T14:52:05.220843Z",
     "iopub.status.busy": "2022-11-22T14:52:05.220843Z",
     "iopub.status.idle": "2022-11-22T14:52:06.135190Z",
     "shell.execute_reply": "2022-11-22T14:52:06.133865Z"
    },
    "tags": []
   },
   "outputs": [],
   "source": [
    "data = URTI.read_tickers_and_isins(INPUT_FILE)"
   ]
  },
  {
   "cell_type": "code",
   "execution_count": null,
   "id": "b63da7bf-0979-44e4-86ac-a99d7b92452d",
   "metadata": {
    "execution": {
     "iopub.execute_input": "2022-11-22T14:52:06.143054Z",
     "iopub.status.busy": "2022-11-22T14:52:06.141734Z",
     "iopub.status.idle": "2022-11-22T14:52:06.179646Z",
     "shell.execute_reply": "2022-11-22T14:52:06.177021Z"
    },
    "tags": []
   },
   "outputs": [],
   "source": [
    "data"
   ]
  },
  {
   "cell_type": "markdown",
   "id": "b742aac2-c385-4e3e-8815-f632ab7dc31b",
   "metadata": {},
   "source": [
    "## Read in scraped data\n",
    "We need this, so we can also exclude handling where we didn't get any data from whereever"
   ]
  },
  {
   "cell_type": "markdown",
   "id": "ef6a3ce6-a45b-4f4f-9338-4b076931d6ac",
   "metadata": {},
   "source": [
    "### Insider trades"
   ]
  },
  {
   "cell_type": "code",
   "execution_count": null,
   "id": "4d53a085-84e9-49c3-bc03-773fd10fdf02",
   "metadata": {
    "execution": {
     "iopub.execute_input": "2022-11-22T14:52:06.194031Z",
     "iopub.status.busy": "2022-11-22T14:52:06.193003Z",
     "iopub.status.idle": "2022-11-22T14:52:50.246628Z",
     "shell.execute_reply": "2022-11-22T14:52:50.245440Z"
    }
   },
   "outputs": [],
   "source": [
    "# Define dummy placeholders\n",
    "tickers = []\n",
    "trade_counts = []\n",
    "min_filing_date = []\n",
    "max_filing_date = []\n",
    "min_trade_date = []\n",
    "max_trade_date = []\n",
    "n_distinct_traders = []\n",
    "n_distinct_trade_types = []\n",
    "\n",
    "n_p = []\n",
    "n_s = []\n",
    "n_s2 = []\n",
    "n_a = []\n",
    "n_d = []\n",
    "n_g = []\n",
    "n_f = []\n",
    "n_m = []\n",
    "n_x = []\n",
    "n_c = []\n",
    "n_w = []\n",
    "\n",
    "# helpers\n",
    "counter = 0\n",
    "total_count = len(data['TICKER SYMBOL'])\n",
    "\n",
    "# Read in scraped files, and do various aggregations\n",
    "for ticker in data['TICKER SYMBOL']:\n",
    "    counter = counter +1\n",
    "    clear_output(wait=True)\n",
    "    print(f'Handling {counter} of {total_count}. Currently doing: {ticker}')\n",
    "    \n",
    "    dat = pd.read_csv(_insider_location + ticker + '.csv', index_col=0, parse_dates=['FilingDate', 'TradeDate'])\n",
    "\n",
    "    tickers.append(ticker)\n",
    "    trade_counts.append(dat.shape[0])\n",
    "\n",
    "    min_filing_date.append(dat['FilingDate'].min())\n",
    "    max_filing_date.append(dat['FilingDate'].max())\n",
    "\n",
    "    min_trade_date.append(dat['TradeDate'].min())\n",
    "    max_trade_date.append(dat['TradeDate'].max())\n",
    "\n",
    "    n_distinct_traders.append(dat['InsiderName'].nunique())\n",
    "    n_distinct_trade_types.append(dat['TradeType'].nunique())\n",
    "\n",
    "\n",
    "    n_p.append(sum(dat['TradeType'] == 'P - Purchase'))\n",
    "    n_s.append(sum(dat['TradeType'] == 'S - Sale'))\n",
    "    n_s2.append(sum(dat['TradeType'] == 'S - Sale+OE'))\n",
    "\n",
    "    n_a.append(sum(dat['TradeType'] == 'A - Grant'))\n",
    "    n_d.append(sum(dat['TradeType'] == 'D - Sale to Iss') + sum(dat['TradeType'] == 'D - Sale to issuer'))\n",
    "    n_g.append(sum(dat['TradeType'] == 'G - Gift'))\n",
    "    n_f.append(sum(dat['TradeType'] == 'F - Tax'))\n",
    "    n_m.append(sum(dat['TradeType'] == 'M - Option Ex') + sum(dat['TradeType'] == 'M - OptEx'))\n",
    "    n_x.append(sum(dat['TradeType'] == 'X - Option Ex') + sum(dat['TradeType'] == 'X - OptEx'))\n",
    "    n_c.append(sum(dat['TradeType'] == 'C - Cnv Deriv') + sum(dat['TradeType'] == 'C - Converted deriv'))\n",
    "    n_w.append(sum(dat['TradeType'] == 'W - Inherited'))\n",
    "    \n",
    "# Collect to a single data frame\n",
    "scraped_insider_df = pd.DataFrame({'tickers': tickers\n",
    "                                   , 'trade_count': trade_counts\n",
    "                                   , 'min_filing_date': min_filing_date\n",
    "                                   , 'max_filing_date': max_filing_date\n",
    "                                   , 'min_trade_date': min_trade_date\n",
    "                                   , 'max_trade_date': max_trade_date\n",
    "                                   , 'n_distinct_traders': n_distinct_traders\n",
    "                                   , 'n_distinct_trade_types': n_distinct_trade_types\n",
    "                                   , 'P - Purchase (count)': n_p\n",
    "                                   , 'S - Sale (count)': n_s\n",
    "                                   , 'S - Sale+OE': n_s2\n",
    "                                   , 'A - Grant (count)': n_a\n",
    "                                   , 'D - Sale to Iss (count)': n_d\n",
    "                                   , 'G - Gift (count)': n_g\n",
    "                                   , 'F - Tax (count)': n_f\n",
    "                                   , 'M - Option Ex (count)': n_m\n",
    "                                   , 'X - Option Ex (count)': n_x\n",
    "                                   , 'C - Cnv Deriv (count)': n_c\n",
    "                                   , 'W - Inherited (count)': n_w\n",
    "                   })\n",
    "scraped_insider_df\n",
    "scraped_insider_df = scraped_insider_df.drop_duplicates()"
   ]
  },
  {
   "cell_type": "markdown",
   "id": "6d30b2d5-11dd-4d91-8bf5-741733293d66",
   "metadata": {},
   "source": [
    "#### Join the data"
   ]
  },
  {
   "cell_type": "code",
   "execution_count": null,
   "id": "16645912-ab96-4246-a530-91f9eac965df",
   "metadata": {
    "execution": {
     "iopub.execute_input": "2022-11-22T14:52:50.252809Z",
     "iopub.status.busy": "2022-11-22T14:52:50.252809Z",
     "iopub.status.idle": "2022-11-22T14:52:50.272203Z",
     "shell.execute_reply": "2022-11-22T14:52:50.271167Z"
    }
   },
   "outputs": [],
   "source": [
    "data = pd.merge(data, scraped_insider_df, how='left', left_on = 'TICKER SYMBOL', right_on = 'tickers')"
   ]
  },
  {
   "cell_type": "markdown",
   "id": "c5116027-3eac-428f-9651-6412c8c6b0de",
   "metadata": {},
   "source": [
    "### Read in market timeseries"
   ]
  },
  {
   "cell_type": "code",
   "execution_count": null,
   "id": "63ef6af6-4a23-4cf3-9fa7-6654b3e1a03f",
   "metadata": {
    "execution": {
     "iopub.execute_input": "2022-11-22T14:52:50.278512Z",
     "iopub.status.busy": "2022-11-22T14:52:50.278512Z",
     "iopub.status.idle": "2022-11-22T14:53:13.707147Z",
     "shell.execute_reply": "2022-11-22T14:53:13.707147Z"
    }
   },
   "outputs": [],
   "source": [
    "DATA_LOCATION_RI = DATA_LOCATION + 'processed/RI_discard/'\n",
    "_ri_location = DATA_LOCATION_RI\n",
    "\n",
    "file_locs_ = os.listdir(_ri_location)\n",
    "file_locs = [_ri_location + f for f in file_locs_]\n",
    "\n",
    "# Actually read in the company information\n",
    "companies = []\n",
    "print(\"loading return series...\")\n",
    "for file_loc in tqdm(file_locs):\n",
    "    with open(file_loc, \"rb\") as f:\n",
    "        company = pickle.load(f)\n",
    "    companies.append(company)"
   ]
  },
  {
   "cell_type": "code",
   "execution_count": null,
   "id": "93d044ec",
   "metadata": {
    "execution": {
     "iopub.execute_input": "2022-11-22T14:53:13.710128Z",
     "iopub.status.busy": "2022-11-22T14:53:13.710128Z",
     "iopub.status.idle": "2022-11-22T14:53:16.394994Z",
     "shell.execute_reply": "2022-11-22T14:53:16.394037Z"
    },
    "jupyter": {
     "outputs_hidden": false
    },
    "pycharm": {
     "name": "#%%\n"
    }
   },
   "outputs": [],
   "source": [
    "isins = []\n",
    "names = []\n",
    "tickers = []\n",
    "start_dates = []\n",
    "end_dates = []\n",
    "start_dates_ts = []\n",
    "end_dates_ts = []\n",
    "ts_rows = []\n",
    "ri_ts_errors = []\n",
    "filings_rows = []\n",
    "# Do checks for each company\n",
    "for company in companies:\n",
    "    isins.append(company.isin)\n",
    "    names.append(company.name)\n",
    "    tickers.append(company.ticker)\n",
    "    start_dates.append(company.start_date)\n",
    "    end_dates.append(company.end_date)\n",
    "    start_dates_ts.append(company.return_index_df.index.min())\n",
    "    end_dates_ts.append(company.return_index_df.index.max())\n",
    "    ts_rows.append(company.return_index_df.shape[0])\n",
    "    filings_rows.append(company.insider_data_df.shape[0])\n",
    "    \n",
    "    # In some cases, the RI is the same for all days in a company, followed by missing days.\n",
    "    ts_ri_sum = company.return_index_df[1:].company_return.sum() \n",
    "    \n",
    "    # Add check to see if there is a change in price at all\n",
    "    ts_ri_diff = company.return_index_df[1:].company_return.min() - company.return_index_df[1:].company_return.max()\n",
    "\n",
    "    if (ts_ri_sum == np.Inf):\n",
    "        contains_error_in_timeseries = True\n",
    "    elif (-ts_ri_sum == np.Inf):\n",
    "        contains_error_in_timeseries = True\n",
    "    elif (math.isnan(ts_ri_sum)):\n",
    "        contains_error_in_timeseries = True\n",
    "    elif (math.isnan(ts_ri_diff)):\n",
    "        contains_error_in_timeseries = True\n",
    "    elif (ts_ri_diff == 0):\n",
    "        contains_error_in_timeseries = True\n",
    "    elif (company.return_index_df[1:].company_return.isnull().any() == True):\n",
    "        contains_error_in_timeseries = True\n",
    "    else:\n",
    "        contains_error_in_timeseries = False\n",
    "    ri_ts_errors.append(contains_error_in_timeseries)\n",
    "    \n",
    "    if (contains_error_in_timeseries):\n",
    "        print(f'{company.ticker}: {ts_ri_sum} {contains_error_in_timeseries}')\n",
    "    \n",
    "        \n",
    "# Collect to a single data frame\n",
    "scraped_ts_df = pd.DataFrame({'isin': isins\n",
    "                              , 'ts_rows': ts_rows\n",
    "                              , 'name': names\n",
    "                              , 'ticker': tickers\n",
    "                              , 'start_date': start_dates\n",
    "                              , 'end_date': end_dates\n",
    "                              , 'start_date_ts': start_dates_ts\n",
    "                              , 'end_date_ts': end_dates_ts\n",
    "                              , 'RI_Errors': ri_ts_errors\n",
    "                              , \"filings_rows\": filings_rows\n",
    "                             })\n",
    "scraped_ts_df = scraped_ts_df.drop_duplicates()\n",
    "scraped_ts_df#[scraped_ts_df['ticker'] == 'ABIO']"
   ]
  },
  {
   "cell_type": "markdown",
   "id": "4c869b06",
   "metadata": {},
   "source": [
    "#### Join the data"
   ]
  },
  {
   "cell_type": "code",
   "execution_count": null,
   "id": "e8dc1931",
   "metadata": {
    "execution": {
     "iopub.execute_input": "2022-11-22T14:53:16.403684Z",
     "iopub.status.busy": "2022-11-22T14:53:16.402647Z",
     "iopub.status.idle": "2022-11-22T14:53:16.426074Z",
     "shell.execute_reply": "2022-11-22T14:53:16.424460Z"
    },
    "jupyter": {
     "outputs_hidden": false
    }
   },
   "outputs": [],
   "source": [
    "#data = data.join(scraped_ts_df, rsuffix='_given', lsuffix='_ts', how=\"left\", left_on = 'ISIN CODE', right_on = 'isin')\n",
    "data = pd.merge(data, scraped_ts_df, how=\"left\", left_on = 'ISIN CODE', right_on = 'isin')"
   ]
  },
  {
   "cell_type": "markdown",
   "id": "08434a89",
   "metadata": {},
   "source": [
    "### Start filtering"
   ]
  },
  {
   "cell_type": "code",
   "execution_count": null,
   "id": "e45beb73",
   "metadata": {
    "execution": {
     "iopub.execute_input": "2022-11-22T14:53:16.435370Z",
     "iopub.status.busy": "2022-11-22T14:53:16.434374Z",
     "iopub.status.idle": "2022-11-22T14:53:16.445041Z",
     "shell.execute_reply": "2022-11-22T14:53:16.443049Z"
    },
    "jupyter": {
     "outputs_hidden": false
    }
   },
   "outputs": [],
   "source": [
    "data['reason_to_exclude'] = 'None'"
   ]
  },
  {
   "cell_type": "markdown",
   "id": "bddf88a9",
   "metadata": {},
   "source": [
    "#### Remove Companies without ISINs"
   ]
  },
  {
   "cell_type": "code",
   "execution_count": null,
   "id": "aa465423",
   "metadata": {
    "execution": {
     "iopub.execute_input": "2022-11-22T14:53:16.453966Z",
     "iopub.status.busy": "2022-11-22T14:53:16.453069Z",
     "iopub.status.idle": "2022-11-22T14:53:16.488519Z",
     "shell.execute_reply": "2022-11-22T14:53:16.486526Z"
    },
    "jupyter": {
     "outputs_hidden": false
    }
   },
   "outputs": [],
   "source": [
    "mask = data['ISIN CODE'] == 'NA'\n",
    "#data.loc[mask, 'reason_to_exclude'] = 'NA ticker'\n",
    "data.loc[mask, 'reason_to_exclude'] = 'Missing ISIN'\n",
    "data.loc[mask].shape"
   ]
  },
  {
   "cell_type": "markdown",
   "id": "1a486f53",
   "metadata": {},
   "source": [
    "#### Remove companies without Trades"
   ]
  },
  {
   "cell_type": "code",
   "execution_count": null,
   "id": "d26430dc",
   "metadata": {
    "execution": {
     "iopub.execute_input": "2022-11-22T14:53:16.498061Z",
     "iopub.status.busy": "2022-11-22T14:53:16.497075Z",
     "iopub.status.idle": "2022-11-22T14:53:16.511587Z",
     "shell.execute_reply": "2022-11-22T14:53:16.510590Z"
    },
    "jupyter": {
     "outputs_hidden": false
    }
   },
   "outputs": [],
   "source": [
    "mask = data['trade_count'] == 0\n",
    "#data.loc[mask, 'reason_to_exclude'] = 'NA ticker'\n",
    "data.loc[mask, 'reason_to_exclude'] = 'No trades done'\n",
    "data.loc[mask].shape"
   ]
  },
  {
   "cell_type": "markdown",
   "id": "670b4c35",
   "metadata": {},
   "source": [
    "#### Remove companies without Timeseries"
   ]
  },
  {
   "cell_type": "code",
   "execution_count": null,
   "id": "84e2f26f",
   "metadata": {
    "execution": {
     "iopub.execute_input": "2022-11-22T14:53:16.518455Z",
     "iopub.status.busy": "2022-11-22T14:53:16.518455Z",
     "iopub.status.idle": "2022-11-22T14:53:16.538405Z",
     "shell.execute_reply": "2022-11-22T14:53:16.536374Z"
    },
    "jupyter": {
     "outputs_hidden": false
    }
   },
   "outputs": [],
   "source": [
    "mask = data['ts_rows'].isnull()\n",
    "data.loc[mask, 'reason_to_exclude'] = 'No timeseries data'\n",
    "data.loc[mask].shape"
   ]
  },
  {
   "cell_type": "markdown",
   "id": "00705cbe",
   "metadata": {},
   "source": [
    "#### Remove companies where company time-series from source if wrong"
   ]
  },
  {
   "cell_type": "code",
   "execution_count": null,
   "id": "f033ff12",
   "metadata": {
    "execution": {
     "iopub.execute_input": "2022-11-22T14:53:16.545419Z",
     "iopub.status.busy": "2022-11-22T14:53:16.545419Z",
     "iopub.status.idle": "2022-11-22T14:53:16.560321Z",
     "shell.execute_reply": "2022-11-22T14:53:16.559044Z"
    },
    "jupyter": {
     "outputs_hidden": false
    }
   },
   "outputs": [],
   "source": [
    "mask = data['RI_Errors'] == True\n",
    "data.loc[mask, 'reason_to_exclude'] = 'Faulty timeseries data'\n",
    "data.loc[mask].shape"
   ]
  },
  {
   "cell_type": "markdown",
   "id": "3c288362",
   "metadata": {},
   "source": [
    "#### Find non-unique tickers"
   ]
  },
  {
   "cell_type": "code",
   "execution_count": null,
   "id": "fa1e3d69",
   "metadata": {
    "execution": {
     "iopub.execute_input": "2022-11-22T14:53:16.567695Z",
     "iopub.status.busy": "2022-11-22T14:53:16.567695Z",
     "iopub.status.idle": "2022-11-22T14:53:16.594245Z",
     "shell.execute_reply": "2022-11-22T14:53:16.593200Z"
    },
    "jupyter": {
     "outputs_hidden": false
    },
    "pycharm": {
     "name": "#%%\n"
    }
   },
   "outputs": [],
   "source": [
    "duplicate_tickers = data[data.duplicated(subset=['TICKER SYMBOL'],keep=False)]['TICKER SYMBOL']\n",
    "duplicate_tickers_mask = data['TICKER SYMBOL'].isin(duplicate_tickers)\n",
    "data.loc[duplicate_tickers_mask, 'reason_to_exclude'] = 'Non-unique-ticker'\n",
    "data.loc[duplicate_tickers_mask].shape"
   ]
  },
  {
   "cell_type": "markdown",
   "id": "b5d3fbc3",
   "metadata": {},
   "source": [
    "#### Find NA tickers"
   ]
  },
  {
   "cell_type": "code",
   "execution_count": null,
   "id": "885786e6",
   "metadata": {
    "execution": {
     "iopub.execute_input": "2022-11-22T14:53:16.602654Z",
     "iopub.status.busy": "2022-11-22T14:53:16.602654Z",
     "iopub.status.idle": "2022-11-22T14:53:16.620274Z",
     "shell.execute_reply": "2022-11-22T14:53:16.619020Z"
    },
    "jupyter": {
     "outputs_hidden": false
    }
   },
   "outputs": [],
   "source": [
    "mask = data['TICKER SYMBOL'] == 'NA'\n",
    "data.loc[mask, 'reason_to_exclude'] = 'NA ticker'\n",
    "data.loc[mask].shape"
   ]
  },
  {
   "cell_type": "markdown",
   "id": "9500b281",
   "metadata": {},
   "source": [
    "#### In case there are no filings for company"
   ]
  },
  {
   "cell_type": "code",
   "execution_count": null,
   "id": "6610b7db",
   "metadata": {
    "execution": {
     "iopub.execute_input": "2022-11-22T14:53:16.628518Z",
     "iopub.status.busy": "2022-11-22T14:53:16.628518Z",
     "iopub.status.idle": "2022-11-22T14:53:16.639233Z",
     "shell.execute_reply": "2022-11-22T14:53:16.637889Z"
    },
    "jupyter": {
     "outputs_hidden": false
    },
    "pycharm": {
     "is_executing": true
    },
    "tags": []
   },
   "outputs": [],
   "source": [
    "#mask = data['filings_rows'] == 0\n",
    "#data.loc[mask, 'reason_to_exclude'] = 'No filings'"
   ]
  },
  {
   "cell_type": "markdown",
   "id": "144e184b",
   "metadata": {},
   "source": [
    "### Show what we have"
   ]
  },
  {
   "cell_type": "code",
   "execution_count": null,
   "id": "880a21d8",
   "metadata": {
    "execution": {
     "iopub.execute_input": "2022-11-22T14:53:16.647792Z",
     "iopub.status.busy": "2022-11-22T14:53:16.647792Z",
     "iopub.status.idle": "2022-11-22T14:53:16.711780Z",
     "shell.execute_reply": "2022-11-22T14:53:16.710834Z"
    },
    "jupyter": {
     "outputs_hidden": false
    }
   },
   "outputs": [],
   "source": [
    "data"
   ]
  },
  {
   "cell_type": "markdown",
   "id": "11f4ff1f",
   "metadata": {},
   "source": [
    "#### Show which ones are excluded:\n",
    "Also stores to csv for later use"
   ]
  },
  {
   "cell_type": "code",
   "execution_count": null,
   "id": "b25eaa5e",
   "metadata": {
    "execution": {
     "iopub.execute_input": "2022-11-22T14:53:16.718013Z",
     "iopub.status.busy": "2022-11-22T14:53:16.718013Z",
     "iopub.status.idle": "2022-11-22T14:53:16.810980Z",
     "shell.execute_reply": "2022-11-22T14:53:16.809948Z"
    },
    "jupyter": {
     "outputs_hidden": false
    }
   },
   "outputs": [],
   "source": [
    "#scraping_summary = data[data['reason_to_exclude']!='None']\n",
    "scraping_summary = data\n",
    "scraping_summary = scraping_summary[[#'Type'\n",
    "                      'ISIN CODE'\n",
    "                     #, 'LOC OFF. CODE'\n",
    "                     , 'NAME'\n",
    "                     #, 'DATASTREAM CODE'\n",
    "                     #, 'CUSIP'\n",
    "                     , 'TICKER SYMBOL'\n",
    "                     #, 'BASE OR ST DATE'\n",
    "                     #, 'DATE/TIME (DS End Date)'\n",
    "                     #, 'tickers'\n",
    "                     , 'trade_count'\n",
    "                     #, 'min_filing_date'\n",
    "                     #, 'max_filing_date'\n",
    "                     #, 'min_trade_date'\n",
    "                     #, 'max_trade_date'\n",
    "                     , 'n_distinct_traders'\n",
    "                     , 'n_distinct_trade_types'\n",
    "                     #, 'P - Purchase (count)'\n",
    "                     #, 'S - Sale (count)'\n",
    "                     #, 'S - Sale+OE'\n",
    "                     #, 'A - Grant (count)'\n",
    "                     #, 'D - Sale to Iss (count)'\n",
    "                     #, 'G - Gift (count)'\n",
    "                     #, 'F - Tax (count)'\n",
    "                     #, 'M - Option Ex (count)'\n",
    "                     #, 'X - Option Ex (count)'\n",
    "                     #, 'C - Cnv Deriv (count)'\n",
    "                     #, 'W - Inherited (count)'\n",
    "                     #, 'isin'\n",
    "                     , 'ts_rows'\n",
    "                     #, 'name'\n",
    "                     #, 'ticker'\n",
    "                     #, 'start_date'\n",
    "                     #, 'end_date'\n",
    "                     #, 'start_date_ts'\n",
    "                     #, 'end_date_ts'\n",
    "                     , 'reason_to_exclude'\n",
    "                    ]].sort_values(by=['reason_to_exclude', 'TICKER SYMBOL', 'ISIN CODE'])\n",
    "scraping_summary.to_csv(DATA_LOCATION + '/scraping_summary.csv')\n",
    "scraping_summary"
   ]
  },
  {
   "cell_type": "markdown",
   "id": "f79ea2ea",
   "metadata": {},
   "source": [
    "#### Do basic statistics of what was taken out\n"
   ]
  },
  {
   "cell_type": "code",
   "execution_count": null,
   "id": "c1f9cc47",
   "metadata": {
    "execution": {
     "iopub.execute_input": "2022-11-22T14:53:16.818024Z",
     "iopub.status.busy": "2022-11-22T14:53:16.818024Z",
     "iopub.status.idle": "2022-11-22T14:53:16.835105Z",
     "shell.execute_reply": "2022-11-22T14:53:16.834143Z"
    },
    "jupyter": {
     "outputs_hidden": false
    }
   },
   "outputs": [],
   "source": [
    "agg_scraping_summary = scraping_summary.groupby('reason_to_exclude').agg({'ISIN CODE': 'count'\n",
    "                                                                          , 'trade_count': 'sum'\n",
    "                                                                          , 'n_distinct_traders':'sum'\n",
    "                                                                          , 'ts_rows':'sum'}).reset_index().rename(columns={'reason_to_exclude': 'Exclusion Reason'\n",
    "                                                                                                                           , 'ISIN CODE': 'N Companies'\n",
    "                                                                                                                           , 'trade_count': 'N trades'\n",
    "                                                                                                                           , 'n_distinct_traders': 'N distinct traders'\n",
    "                                                                                                                           , 'ts_rows': 'N TS rows'})\n",
    "agg_scraping_summary[\"N TS rows\"] = agg_scraping_summary[\"N TS rows\"].astype(int)"
   ]
  },
  {
   "cell_type": "markdown",
   "id": "0d6ec96a",
   "metadata": {},
   "source": [
    "##### And print it to latex code for report"
   ]
  },
  {
   "cell_type": "code",
   "execution_count": null,
   "id": "2f2530be",
   "metadata": {
    "execution": {
     "iopub.execute_input": "2022-11-22T14:53:16.839043Z",
     "iopub.status.busy": "2022-11-22T14:53:16.838038Z",
     "iopub.status.idle": "2022-11-22T14:53:18.873010Z",
     "shell.execute_reply": "2022-11-22T14:53:18.871016Z"
    },
    "jupyter": {
     "outputs_hidden": false
    },
    "pycharm": {
     "name": "#%%\n"
    }
   },
   "outputs": [],
   "source": [
    "overall_companies = agg_scraping_summary.iloc[:,1:].sum(axis=0).values\n",
    "overall_companies = pd.DataFrame([\"Before Filtering\", \" \"] + list(overall_companies)).transpose()\n",
    "overall_companies.index = [0]\n",
    "overall_companies.columns = [\" \"] + list(agg_scraping_summary.columns)\n",
    "print(display_table(overall_companies))\n",
    "\n",
    "agg_scraping_summary_tom = agg_scraping_summary.copy()\n",
    "agg_scraping_summary_tom.insert(0, \" \", len(agg_scraping_summary)*[\" \"])\n",
    "agg_scraping_summary_tom.columns = [\"\"] + [(i+1)*\" \" for i in range((len(agg_scraping_summary_tom.columns)-1))]\n",
    "print(display_table(agg_scraping_summary_tom.iloc[:-1,:]))\n",
    "\n",
    "removed = agg_scraping_summary_tom.iloc[:-1,:].sum(axis = 0)\n",
    "remaining = agg_scraping_summary_tom.iloc[-1,:]\n",
    "result = pd.DataFrame({\"Removed\": removed, \"Remaining\": remaining}).transpose().reset_index()\n",
    "print(display_table(result))"
   ]
  },
  {
   "cell_type": "code",
   "execution_count": null,
   "id": "13c88ef4",
   "metadata": {
    "execution": {
     "iopub.execute_input": "2022-11-22T14:53:18.879114Z",
     "iopub.status.busy": "2022-11-22T14:53:18.878092Z",
     "iopub.status.idle": "2022-11-22T14:53:18.906327Z",
     "shell.execute_reply": "2022-11-22T14:53:18.905471Z"
    },
    "jupyter": {
     "outputs_hidden": false
    },
    "tags": []
   },
   "outputs": [],
   "source": [
    "result"
   ]
  },
  {
   "cell_type": "code",
   "execution_count": null,
   "id": "eef38540",
   "metadata": {
    "execution": {
     "iopub.execute_input": "2022-11-22T14:53:18.914763Z",
     "iopub.status.busy": "2022-11-22T14:53:18.913765Z",
     "iopub.status.idle": "2022-11-22T14:53:18.945863Z",
     "shell.execute_reply": "2022-11-22T14:53:18.944600Z"
    },
    "jupyter": {
     "outputs_hidden": false
    },
    "tags": [],
    "pycharm": {
     "name": "#%%\n"
    }
   },
   "outputs": [],
   "source": [
    "latex = display_table(agg_scraping_summary, column_format=\"lrrrr\")\n",
    "print(latex)"
   ]
  }
 ],
 "metadata": {
  "kernelspec": {
   "display_name": "Python 3 (ipykernel)",
   "language": "python",
   "name": "python3"
  },
  "language_info": {
   "codemirror_mode": {
    "name": "ipython",
    "version": 3
   },
   "file_extension": ".py",
   "mimetype": "text/x-python",
   "name": "python",
   "nbconvert_exporter": "python",
   "pygments_lexer": "ipython3",
   "version": "3.9.13"
  }
 },
 "nbformat": 4,
 "nbformat_minor": 5
}