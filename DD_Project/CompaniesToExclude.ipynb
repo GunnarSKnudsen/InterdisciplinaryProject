{
 "cells": [
  {
   "cell_type": "markdown",
   "id": "1851cc57-817d-4b58-a899-6f0664b6c9c1",
   "metadata": {
    "pycharm": {
     "name": "#%% md\n"
    }
   },
   "source": [
    "# Exploratory Data analysis\n",
    "_Written by Thomas Niedermayer and Gunnar Sjúrðarson Knudsen, as a conjoined effort for an interdiscplinary project in Data Science._\n",
    "* Supervisor: Wolfgang Aussenegg\n",
    "* Co-Supervisor: Sascha Hunold\n",
    "\n",
    "Purpose of this notebook is to understand the data quality, and the scale of the task. \n",
    "As we ran into several issues w.r.t. data quality, we want to get a deeper understanding of how which data is being handled. Example errors:\n",
    "* TICKERS being used for multiple companies/ISINS, resulting in not knowing which ISIN an insider trading corresponds to\n",
    "* Missing ISINs; means that no time series data is available\n",
    "* Missing TICKERS; Means that no insider trades are available.\n",
    "* For several companies, there are no insider trades registered. These are therefore also filtered out from the analysis notebook. These wouldn't give an error, but removing them speeds up the runtime\n",
    "* Sometimes there was no return index data available. **Honestly not sure why this didn't break our analaysis. Maybe this was the reason for the `-Inf`?** In any case, they are also removed\n",
    "Check which data we've already extracted, and define how to handle various situations"
   ]
  },
  {
   "cell_type": "markdown",
   "id": "a2bbfa49-f820-4695-a024-a3731769ce65",
   "metadata": {
    "pycharm": {
     "name": "#%% md\n"
    }
   },
   "source": [
    "## Load libraries"
   ]
  },
  {
   "cell_type": "code",
   "execution_count": 1,
   "id": "13e56a34-9ca3-4f3e-9ec1-6db5a33e62ff",
   "metadata": {
    "execution": {
     "iopub.execute_input": "2022-11-03T16:48:28.859578Z",
     "iopub.status.busy": "2022-11-03T16:48:28.859578Z",
     "iopub.status.idle": "2022-11-03T16:48:29.093945Z",
     "shell.execute_reply": "2022-11-03T16:48:29.093945Z"
    },
    "pycharm": {
     "name": "#%%\n"
    },
    "tags": []
   },
   "outputs": [],
   "source": [
    "import pickle\n",
    "import pandas as pd\n",
    "import numpy as np\n",
    "import os\n",
    "import math\n",
    "\n",
    "from IPython.display import clear_output, display\n",
    "from tqdm import tqdm\n",
    "\n",
    "# Load custom libraries\n",
    "import source.read_tickers_and_isins as URTI"
   ]
  },
  {
   "cell_type": "markdown",
   "id": "1d3f9b21-469a-4eb5-882e-365295ec5dc1",
   "metadata": {
    "pycharm": {
     "name": "#%% md\n"
    }
   },
   "source": [
    "## Define which data to be loaded"
   ]
  },
  {
   "cell_type": "code",
   "execution_count": 2,
   "id": "6c4ea762-810a-4922-a75c-003d0e675914",
   "metadata": {
    "execution": {
     "iopub.execute_input": "2022-11-03T16:48:29.098012Z",
     "iopub.status.busy": "2022-11-03T16:48:29.097012Z",
     "iopub.status.idle": "2022-11-03T16:48:29.110016Z",
     "shell.execute_reply": "2022-11-03T16:48:29.110016Z"
    },
    "pycharm": {
     "name": "#%%\n"
    },
    "tags": []
   },
   "outputs": [],
   "source": [
    "from tools import load_settings\n",
    "settings = load_settings()\n",
    "NAME = settings[\"NAME\"]\n",
    "STOCK_EXCHANGE = settings[\"STOCK_EXCHANGE\"]"
   ]
  },
  {
   "cell_type": "code",
   "execution_count": 3,
   "id": "4905b302-5ea8-457e-8068-db80d2640894",
   "metadata": {
    "execution": {
     "iopub.execute_input": "2022-11-03T16:48:29.113044Z",
     "iopub.status.busy": "2022-11-03T16:48:29.112044Z",
     "iopub.status.idle": "2022-11-03T16:48:29.126026Z",
     "shell.execute_reply": "2022-11-03T16:48:29.126026Z"
    },
    "pycharm": {
     "name": "#%%\n"
    },
    "tags": []
   },
   "outputs": [],
   "source": [
    "DATA_LOCATION = f'data/{NAME}/'\n",
    "_insider_location = DATA_LOCATION + 'processed/insider/'"
   ]
  },
  {
   "cell_type": "markdown",
   "id": "231deba6-33c3-4f9d-aa48-a9dedd9bc412",
   "metadata": {
    "pycharm": {
     "name": "#%% md\n"
    }
   },
   "source": [
    "## Read in input data"
   ]
  },
  {
   "cell_type": "code",
   "execution_count": 4,
   "id": "23e8efe5-e81e-4796-8854-69838c81079c",
   "metadata": {
    "execution": {
     "iopub.execute_input": "2022-11-03T16:48:29.129029Z",
     "iopub.status.busy": "2022-11-03T16:48:29.129029Z",
     "iopub.status.idle": "2022-11-03T16:48:29.142106Z",
     "shell.execute_reply": "2022-11-03T16:48:29.142106Z"
    },
    "pycharm": {
     "name": "#%%\n"
    },
    "tags": []
   },
   "outputs": [],
   "source": [
    "INPUT_FILE = f'input_data/{NAME}/{STOCK_EXCHANGE} Composite 16.3.2022 plus dead firms - {NAME}.xlsx'"
   ]
  },
  {
   "cell_type": "code",
   "execution_count": 5,
   "id": "05f4f316-4ca5-4b67-9617-dc43cee22cca",
   "metadata": {
    "execution": {
     "iopub.execute_input": "2022-11-03T16:48:29.145120Z",
     "iopub.status.busy": "2022-11-03T16:48:29.144120Z",
     "iopub.status.idle": "2022-11-03T16:48:29.886092Z",
     "shell.execute_reply": "2022-11-03T16:48:29.886092Z"
    },
    "pycharm": {
     "name": "#%%\n"
    },
    "tags": []
   },
   "outputs": [
    {
     "name": "stdout",
     "output_type": "stream",
     "text": [
      "Reading tickers\n"
     ]
    }
   ],
   "source": [
    "data = URTI.read_tickers_and_isins(INPUT_FILE)"
   ]
  },
  {
   "cell_type": "code",
   "execution_count": 6,
   "id": "b63da7bf-0979-44e4-86ac-a99d7b92452d",
   "metadata": {
    "execution": {
     "iopub.execute_input": "2022-11-03T16:48:29.889092Z",
     "iopub.status.busy": "2022-11-03T16:48:29.889092Z",
     "iopub.status.idle": "2022-11-03T16:48:29.918296Z",
     "shell.execute_reply": "2022-11-03T16:48:29.918296Z"
    },
    "pycharm": {
     "name": "#%%\n"
    },
    "tags": []
   },
   "outputs": [
    {
     "data": {
      "text/html": [
       "<div>\n",
       "<style scoped>\n",
       "    .dataframe tbody tr th:only-of-type {\n",
       "        vertical-align: middle;\n",
       "    }\n",
       "\n",
       "    .dataframe tbody tr th {\n",
       "        vertical-align: top;\n",
       "    }\n",
       "\n",
       "    .dataframe thead th {\n",
       "        text-align: right;\n",
       "    }\n",
       "</style>\n",
       "<table border=\"1\" class=\"dataframe\">\n",
       "  <thead>\n",
       "    <tr style=\"text-align: right;\">\n",
       "      <th></th>\n",
       "      <th>Type</th>\n",
       "      <th>ISIN CODE</th>\n",
       "      <th>LOC OFF. CODE</th>\n",
       "      <th>NAME</th>\n",
       "      <th>DATASTREAM CODE</th>\n",
       "      <th>CUSIP</th>\n",
       "      <th>TICKER SYMBOL</th>\n",
       "      <th>BASE OR ST DATE</th>\n",
       "      <th>DATE/TIME (DS End Date)</th>\n",
       "    </tr>\n",
       "  </thead>\n",
       "  <tbody>\n",
       "    <tr>\n",
       "      <th>0</th>\n",
       "      <td>756064</td>\n",
       "      <td>US88554D2053</td>\n",
       "      <td>U88554D205</td>\n",
       "      <td>3D SYSTEMS</td>\n",
       "      <td>756064</td>\n",
       "      <td>88554D205</td>\n",
       "      <td>DDD</td>\n",
       "      <td>1988-03-10</td>\n",
       "      <td>2022-03-16 00:00:00</td>\n",
       "    </tr>\n",
       "    <tr>\n",
       "      <th>1</th>\n",
       "      <td>902172</td>\n",
       "      <td>US88579Y1010</td>\n",
       "      <td>U88579Y101</td>\n",
       "      <td>3M</td>\n",
       "      <td>902172</td>\n",
       "      <td>88579Y101</td>\n",
       "      <td>MMM</td>\n",
       "      <td>1973-01-02</td>\n",
       "      <td>2022-03-16 00:00:00</td>\n",
       "    </tr>\n",
       "    <tr>\n",
       "      <th>2</th>\n",
       "      <td>877226</td>\n",
       "      <td>US2829141009</td>\n",
       "      <td>U282914100</td>\n",
       "      <td>8X8</td>\n",
       "      <td>877226</td>\n",
       "      <td>282914100</td>\n",
       "      <td>EGHT</td>\n",
       "      <td>1997-07-03</td>\n",
       "      <td>2022-03-16 00:00:00</td>\n",
       "    </tr>\n",
       "    <tr>\n",
       "      <th>3</th>\n",
       "      <td>2603Y7</td>\n",
       "      <td>US00152K1016</td>\n",
       "      <td>U00152K101</td>\n",
       "      <td>A K A BRANDS HOLDING</td>\n",
       "      <td>2603Y7</td>\n",
       "      <td>00152K101</td>\n",
       "      <td>AKA</td>\n",
       "      <td>2021-09-22</td>\n",
       "      <td>2022-03-16 00:00:00</td>\n",
       "    </tr>\n",
       "    <tr>\n",
       "      <th>4</th>\n",
       "      <td>8748C6</td>\n",
       "      <td>US0021211018</td>\n",
       "      <td>U002121101</td>\n",
       "      <td>A10 NETWORKS</td>\n",
       "      <td>8748C6</td>\n",
       "      <td>2121101</td>\n",
       "      <td>ATEN</td>\n",
       "      <td>2014-03-21</td>\n",
       "      <td>2022-03-16 00:00:00</td>\n",
       "    </tr>\n",
       "    <tr>\n",
       "      <th>...</th>\n",
       "      <td>...</td>\n",
       "      <td>...</td>\n",
       "      <td>...</td>\n",
       "      <td>...</td>\n",
       "      <td>...</td>\n",
       "      <td>...</td>\n",
       "      <td>...</td>\n",
       "      <td>...</td>\n",
       "      <td>...</td>\n",
       "    </tr>\n",
       "    <tr>\n",
       "      <th>3637</th>\n",
       "      <td>94419W</td>\n",
       "      <td>NA</td>\n",
       "      <td>NA</td>\n",
       "      <td>ZOOM VIDEO COMM CL B</td>\n",
       "      <td>94419W</td>\n",
       "      <td>98980L101</td>\n",
       "      <td>ZM</td>\n",
       "      <td>2019-04-18</td>\n",
       "      <td>NA</td>\n",
       "    </tr>\n",
       "    <tr>\n",
       "      <th>3638</th>\n",
       "      <td>9924R8</td>\n",
       "      <td>NA</td>\n",
       "      <td>NA</td>\n",
       "      <td>ZOOMINFO TECHNOLOGIES INC CL B</td>\n",
       "      <td>9924R8</td>\n",
       "      <td>98980F104</td>\n",
       "      <td>ZI</td>\n",
       "      <td>2020-06-04</td>\n",
       "      <td>NA</td>\n",
       "    </tr>\n",
       "    <tr>\n",
       "      <th>3639</th>\n",
       "      <td>9924TA</td>\n",
       "      <td>NA</td>\n",
       "      <td>NA</td>\n",
       "      <td>ZOOMINFO TECHNOLOGIES INC CL C</td>\n",
       "      <td>9924TA</td>\n",
       "      <td>98980F104</td>\n",
       "      <td>ZI</td>\n",
       "      <td>2020-06-04</td>\n",
       "      <td>NA</td>\n",
       "    </tr>\n",
       "    <tr>\n",
       "      <th>3640</th>\n",
       "      <td>9295TV</td>\n",
       "      <td>NA</td>\n",
       "      <td>NA</td>\n",
       "      <td>ZUORA INC CL B</td>\n",
       "      <td>9295TV</td>\n",
       "      <td>98983V106</td>\n",
       "      <td>ZUO</td>\n",
       "      <td>2018-04-12</td>\n",
       "      <td>NA</td>\n",
       "    </tr>\n",
       "    <tr>\n",
       "      <th>3641</th>\n",
       "      <td>2567FV</td>\n",
       "      <td>NA</td>\n",
       "      <td>NA</td>\n",
       "      <td>Z-WORK ACQUISITION CORP CL B</td>\n",
       "      <td>2567FV</td>\n",
       "      <td>98880C102</td>\n",
       "      <td>ZWRK</td>\n",
       "      <td>2021-01-29</td>\n",
       "      <td>NA</td>\n",
       "    </tr>\n",
       "  </tbody>\n",
       "</table>\n",
       "<p>3642 rows × 9 columns</p>\n",
       "</div>"
      ],
      "text/plain": [
       "        Type     ISIN CODE LOC OFF. CODE                            NAME  \\\n",
       "0     756064  US88554D2053    U88554D205                      3D SYSTEMS   \n",
       "1     902172  US88579Y1010    U88579Y101                              3M   \n",
       "2     877226  US2829141009    U282914100                             8X8   \n",
       "3     2603Y7  US00152K1016    U00152K101            A K A BRANDS HOLDING   \n",
       "4     8748C6  US0021211018    U002121101                    A10 NETWORKS   \n",
       "...      ...           ...           ...                             ...   \n",
       "3637  94419W            NA            NA            ZOOM VIDEO COMM CL B   \n",
       "3638  9924R8            NA            NA  ZOOMINFO TECHNOLOGIES INC CL B   \n",
       "3639  9924TA            NA            NA  ZOOMINFO TECHNOLOGIES INC CL C   \n",
       "3640  9295TV            NA            NA                  ZUORA INC CL B   \n",
       "3641  2567FV            NA            NA    Z-WORK ACQUISITION CORP CL B   \n",
       "\n",
       "     DATASTREAM CODE      CUSIP TICKER SYMBOL BASE OR ST DATE  \\\n",
       "0             756064  88554D205           DDD      1988-03-10   \n",
       "1             902172  88579Y101           MMM      1973-01-02   \n",
       "2             877226  282914100          EGHT      1997-07-03   \n",
       "3             2603Y7  00152K101           AKA      2021-09-22   \n",
       "4             8748C6    2121101          ATEN      2014-03-21   \n",
       "...              ...        ...           ...             ...   \n",
       "3637          94419W  98980L101            ZM      2019-04-18   \n",
       "3638          9924R8  98980F104            ZI      2020-06-04   \n",
       "3639          9924TA  98980F104            ZI      2020-06-04   \n",
       "3640          9295TV  98983V106           ZUO      2018-04-12   \n",
       "3641          2567FV  98880C102          ZWRK      2021-01-29   \n",
       "\n",
       "     DATE/TIME (DS End Date)  \n",
       "0        2022-03-16 00:00:00  \n",
       "1        2022-03-16 00:00:00  \n",
       "2        2022-03-16 00:00:00  \n",
       "3        2022-03-16 00:00:00  \n",
       "4        2022-03-16 00:00:00  \n",
       "...                      ...  \n",
       "3637                      NA  \n",
       "3638                      NA  \n",
       "3639                      NA  \n",
       "3640                      NA  \n",
       "3641                      NA  \n",
       "\n",
       "[3642 rows x 9 columns]"
      ]
     },
     "execution_count": 6,
     "metadata": {},
     "output_type": "execute_result"
    }
   ],
   "source": [
    "data"
   ]
  },
  {
   "cell_type": "markdown",
   "id": "b742aac2-c385-4e3e-8815-f632ab7dc31b",
   "metadata": {
    "pycharm": {
     "name": "#%% md\n"
    }
   },
   "source": [
    "## Read in scraped data\n",
    "We need this, so we can also exclude handling where we didn't get any data from whereever"
   ]
  },
  {
   "cell_type": "markdown",
   "id": "ef6a3ce6-a45b-4f4f-9338-4b076931d6ac",
   "metadata": {
    "pycharm": {
     "name": "#%% md\n"
    }
   },
   "source": [
    "### Insider trades"
   ]
  },
  {
   "cell_type": "code",
   "execution_count": 7,
   "id": "4d53a085-84e9-49c3-bc03-773fd10fdf02",
   "metadata": {
    "execution": {
     "iopub.execute_input": "2022-11-03T16:48:29.922323Z",
     "iopub.status.busy": "2022-11-03T16:48:29.922323Z",
     "iopub.status.idle": "2022-11-03T16:48:53.315781Z",
     "shell.execute_reply": "2022-11-03T16:48:53.315781Z"
    },
    "pycharm": {
     "name": "#%%\n"
    }
   },
   "outputs": [
    {
     "name": "stdout",
     "output_type": "stream",
     "text": [
      "Handling 3642 of 3642. Currently doing: ZWRK\n"
     ]
    }
   ],
   "source": [
    "# Define dummy placeholders\n",
    "tickers = []\n",
    "trade_counts = []\n",
    "min_filing_date = []\n",
    "max_filing_date = []\n",
    "min_trade_date = []\n",
    "max_trade_date = []\n",
    "n_distinct_traders = []\n",
    "n_distinct_trade_types = []\n",
    "\n",
    "n_p = []\n",
    "n_s = []\n",
    "n_s2 = []\n",
    "n_a = []\n",
    "n_d = []\n",
    "n_g = []\n",
    "n_f = []\n",
    "n_m = []\n",
    "n_x = []\n",
    "n_c = []\n",
    "n_w = []\n",
    "\n",
    "# helpers\n",
    "counter = 0\n",
    "total_count = len(data['TICKER SYMBOL'])\n",
    "\n",
    "# Read in scraped files, and do various aggregations\n",
    "for ticker in data['TICKER SYMBOL']:\n",
    "    counter = counter +1\n",
    "    clear_output(wait=True)\n",
    "    print(f'Handling {counter} of {total_count}. Currently doing: {ticker}')\n",
    "    \n",
    "    dat = pd.read_csv(_insider_location + ticker + '.csv', index_col=0, parse_dates=['FilingDate', 'TradeDate'])\n",
    "\n",
    "    tickers.append(ticker)\n",
    "    trade_counts.append(dat.shape[0])\n",
    "\n",
    "    min_filing_date.append(dat['FilingDate'].min())\n",
    "    max_filing_date.append(dat['FilingDate'].max())\n",
    "\n",
    "    min_trade_date.append(dat['TradeDate'].min())\n",
    "    max_trade_date.append(dat['TradeDate'].max())\n",
    "\n",
    "    n_distinct_traders.append(dat['InsiderName'].nunique())\n",
    "    n_distinct_trade_types.append(dat['TradeType'].nunique())\n",
    "\n",
    "\n",
    "    n_p.append(sum(dat['TradeType'] == 'P - Purchase'))\n",
    "    n_s.append(sum(dat['TradeType'] == 'S - Sale'))\n",
    "    n_s2.append(sum(dat['TradeType'] == 'S - Sale+OE'))\n",
    "\n",
    "    n_a.append(sum(dat['TradeType'] == 'A - Grant'))\n",
    "    n_d.append(sum(dat['TradeType'] == 'D - Sale to Iss') + sum(dat['TradeType'] == 'D - Sale to issuer'))\n",
    "    n_g.append(sum(dat['TradeType'] == 'G - Gift'))\n",
    "    n_f.append(sum(dat['TradeType'] == 'F - Tax'))\n",
    "    n_m.append(sum(dat['TradeType'] == 'M - Option Ex') + sum(dat['TradeType'] == 'M - OptEx'))\n",
    "    n_x.append(sum(dat['TradeType'] == 'X - Option Ex') + sum(dat['TradeType'] == 'X - OptEx'))\n",
    "    n_c.append(sum(dat['TradeType'] == 'C - Cnv Deriv') + sum(dat['TradeType'] == 'C - Converted deriv'))\n",
    "    n_w.append(sum(dat['TradeType'] == 'W - Inherited'))\n",
    "    \n",
    "# Collect to a single data frame\n",
    "scraped_insider_df = pd.DataFrame({'tickers': tickers\n",
    "                                   , 'trade_count': trade_counts\n",
    "                                   , 'min_filing_date': min_filing_date\n",
    "                                   , 'max_filing_date': max_filing_date\n",
    "                                   , 'min_trade_date': min_trade_date\n",
    "                                   , 'max_trade_date': max_trade_date\n",
    "                                   , 'n_distinct_traders': n_distinct_traders\n",
    "                                   , 'n_distinct_trade_types': n_distinct_trade_types\n",
    "                                   , 'P - Purchase (count)': n_p\n",
    "                                   , 'S - Sale (count)': n_s\n",
    "                                   , 'S - Sale+OE': n_s2\n",
    "                                   , 'A - Grant (count)': n_a\n",
    "                                   , 'D - Sale to Iss (count)': n_d\n",
    "                                   , 'G - Gift (count)': n_g\n",
    "                                   , 'F - Tax (count)': n_f\n",
    "                                   , 'M - Option Ex (count)': n_m\n",
    "                                   , 'X - Option Ex (count)': n_x\n",
    "                                   , 'C - Cnv Deriv (count)': n_c\n",
    "                                   , 'W - Inherited (count)': n_w\n",
    "                   })\n",
    "scraped_insider_df\n",
    "scraped_insider_df = scraped_insider_df.drop_duplicates()"
   ]
  },
  {
   "cell_type": "markdown",
   "id": "6d30b2d5-11dd-4d91-8bf5-741733293d66",
   "metadata": {
    "pycharm": {
     "name": "#%% md\n"
    }
   },
   "source": [
    "#### Join the data"
   ]
  },
  {
   "cell_type": "code",
   "execution_count": 8,
   "id": "16645912-ab96-4246-a530-91f9eac965df",
   "metadata": {
    "execution": {
     "iopub.execute_input": "2022-11-03T16:48:53.318786Z",
     "iopub.status.busy": "2022-11-03T16:48:53.318786Z",
     "iopub.status.idle": "2022-11-03T16:48:53.330815Z",
     "shell.execute_reply": "2022-11-03T16:48:53.330815Z"
    },
    "pycharm": {
     "name": "#%%\n"
    }
   },
   "outputs": [],
   "source": [
    "#data = data.join(scraped_insider_df, rsuffix='_given', lsuffix='_insider', how=\"left\")\n",
    "data = pd.merge(data, scraped_insider_df, how='left', left_on = 'TICKER SYMBOL', right_on = 'tickers')"
   ]
  },
  {
   "cell_type": "markdown",
   "id": "c5116027-3eac-428f-9651-6412c8c6b0de",
   "metadata": {
    "pycharm": {
     "name": "#%% md\n"
    }
   },
   "source": [
    "### Read in market timeseries"
   ]
  },
  {
   "cell_type": "code",
   "execution_count": 9,
   "id": "63ef6af6-4a23-4cf3-9fa7-6654b3e1a03f",
   "metadata": {
    "execution": {
     "iopub.execute_input": "2022-11-03T16:48:53.333958Z",
     "iopub.status.busy": "2022-11-03T16:48:53.333958Z",
     "iopub.status.idle": "2022-11-03T16:49:03.052799Z",
     "shell.execute_reply": "2022-11-03T16:49:03.052799Z"
    },
    "pycharm": {
     "name": "#%%\n"
    }
   },
   "outputs": [
    {
     "name": "stdout",
     "output_type": "stream",
     "text": [
      "loading return series...\n"
     ]
    },
    {
     "name": "stderr",
     "output_type": "stream",
     "text": [
      "100%|██████████| 2171/2171 [00:09<00:00, 223.84it/s]\n"
     ]
    }
   ],
   "source": [
    "# File location (needs cleansing)\n",
    "DATA_LOCATION_RI = DATA_LOCATION + 'processed/RI_discard/'\n",
    "_ri_location = DATA_LOCATION_RI\n",
    "\n",
    "file_locs_ = os.listdir(_ri_location)\n",
    "file_locs = [_ri_location + f for f in file_locs_]\n",
    "\n",
    "# Actually read in the company information\n",
    "companies = []\n",
    "print(\"loading return series...\")\n",
    "for file_loc in tqdm(file_locs):\n",
    "    with open(file_loc, \"rb\") as f:\n",
    "        company = pickle.load(f)\n",
    "    companies.append(company)"
   ]
  },
  {
   "cell_type": "code",
   "execution_count": 10,
   "id": "23b047e5-c424-42af-a89e-550bebd15258",
   "metadata": {
    "execution": {
     "iopub.execute_input": "2022-11-03T16:49:03.055800Z",
     "iopub.status.busy": "2022-11-03T16:49:03.055800Z",
     "iopub.status.idle": "2022-11-03T16:49:04.220052Z",
     "shell.execute_reply": "2022-11-03T16:49:04.220052Z"
    },
    "pycharm": {
     "name": "#%%\n"
    },
    "tags": []
   },
   "outputs": [
    {
     "name": "stdout",
     "output_type": "stream",
     "text": [
      "FUBO: inf True\n",
      "IVT: inf True\n"
     ]
    },
    {
     "data": {
      "text/html": [
       "<div>\n",
       "<style scoped>\n",
       "    .dataframe tbody tr th:only-of-type {\n",
       "        vertical-align: middle;\n",
       "    }\n",
       "\n",
       "    .dataframe tbody tr th {\n",
       "        vertical-align: top;\n",
       "    }\n",
       "\n",
       "    .dataframe thead th {\n",
       "        text-align: right;\n",
       "    }\n",
       "</style>\n",
       "<table border=\"1\" class=\"dataframe\">\n",
       "  <thead>\n",
       "    <tr style=\"text-align: right;\">\n",
       "      <th></th>\n",
       "      <th>isin</th>\n",
       "      <th>ts_rows</th>\n",
       "      <th>name</th>\n",
       "      <th>ticker</th>\n",
       "      <th>start_date</th>\n",
       "      <th>end_date</th>\n",
       "      <th>start_date_ts</th>\n",
       "      <th>end_date_ts</th>\n",
       "      <th>RI_Errors</th>\n",
       "    </tr>\n",
       "  </thead>\n",
       "  <tbody>\n",
       "    <tr>\n",
       "      <th>0</th>\n",
       "      <td>AN8068571086</td>\n",
       "      <td>1509</td>\n",
       "      <td>SCHLUMBERGER</td>\n",
       "      <td>SLB</td>\n",
       "      <td>1973-01-02</td>\n",
       "      <td>2022-03-16</td>\n",
       "      <td>2016-03-21</td>\n",
       "      <td>2022-03-16</td>\n",
       "      <td>False</td>\n",
       "    </tr>\n",
       "    <tr>\n",
       "      <th>1</th>\n",
       "      <td>BE0003816338</td>\n",
       "      <td>1509</td>\n",
       "      <td>EURONAV (NYS)</td>\n",
       "      <td>EURN</td>\n",
       "      <td>2015-01-23</td>\n",
       "      <td>2022-03-16</td>\n",
       "      <td>2016-03-21</td>\n",
       "      <td>2022-03-16</td>\n",
       "      <td>False</td>\n",
       "    </tr>\n",
       "    <tr>\n",
       "      <th>2</th>\n",
       "      <td>BMG0464B1072</td>\n",
       "      <td>1509</td>\n",
       "      <td>ARGO GP.INTL.HOLDINGS</td>\n",
       "      <td>ARGO</td>\n",
       "      <td>1987-03-25</td>\n",
       "      <td>2022-03-16</td>\n",
       "      <td>2016-03-21</td>\n",
       "      <td>2022-03-16</td>\n",
       "      <td>False</td>\n",
       "    </tr>\n",
       "    <tr>\n",
       "      <th>3</th>\n",
       "      <td>BMG053841059</td>\n",
       "      <td>732</td>\n",
       "      <td>ASPEN IN.HDG. DEAD - DELIST.16/02/19</td>\n",
       "      <td>AHL</td>\n",
       "      <td>2003-12-04</td>\n",
       "      <td>2019-02-14</td>\n",
       "      <td>2016-03-21</td>\n",
       "      <td>2019-02-14</td>\n",
       "      <td>False</td>\n",
       "    </tr>\n",
       "    <tr>\n",
       "      <th>4</th>\n",
       "      <td>BMG0585R1060</td>\n",
       "      <td>1509</td>\n",
       "      <td>ASSURED GUARANTY</td>\n",
       "      <td>AGO</td>\n",
       "      <td>2004-04-23</td>\n",
       "      <td>2022-03-16</td>\n",
       "      <td>2016-03-21</td>\n",
       "      <td>2022-03-16</td>\n",
       "      <td>False</td>\n",
       "    </tr>\n",
       "    <tr>\n",
       "      <th>...</th>\n",
       "      <td>...</td>\n",
       "      <td>...</td>\n",
       "      <td>...</td>\n",
       "      <td>...</td>\n",
       "      <td>...</td>\n",
       "      <td>...</td>\n",
       "      <td>...</td>\n",
       "      <td>...</td>\n",
       "      <td>...</td>\n",
       "    </tr>\n",
       "    <tr>\n",
       "      <th>2166</th>\n",
       "      <td>VGG1890L1076</td>\n",
       "      <td>1509</td>\n",
       "      <td>CAPRI HOLDINGS</td>\n",
       "      <td>CPRI</td>\n",
       "      <td>2011-12-15</td>\n",
       "      <td>2022-03-16</td>\n",
       "      <td>2016-03-21</td>\n",
       "      <td>2022-03-16</td>\n",
       "      <td>False</td>\n",
       "    </tr>\n",
       "    <tr>\n",
       "      <th>2167</th>\n",
       "      <td>VGG273581030</td>\n",
       "      <td>1130</td>\n",
       "      <td>DESPEGAR COM</td>\n",
       "      <td>DESP</td>\n",
       "      <td>2017-09-20</td>\n",
       "      <td>2022-03-16</td>\n",
       "      <td>2017-09-20</td>\n",
       "      <td>2022-03-16</td>\n",
       "      <td>False</td>\n",
       "    </tr>\n",
       "    <tr>\n",
       "      <th>2168</th>\n",
       "      <td>VGG572791041</td>\n",
       "      <td>814</td>\n",
       "      <td>LUXOFT HOLDING DEAD - DELIST.14/06/19</td>\n",
       "      <td>LXFT</td>\n",
       "      <td>2013-06-26</td>\n",
       "      <td>2019-06-13</td>\n",
       "      <td>2016-03-21</td>\n",
       "      <td>2019-06-13</td>\n",
       "      <td>False</td>\n",
       "    </tr>\n",
       "    <tr>\n",
       "      <th>2169</th>\n",
       "      <td>VGG639071023</td>\n",
       "      <td>1509</td>\n",
       "      <td>NAM TAI PROPERTY</td>\n",
       "      <td>NTP</td>\n",
       "      <td>1990-11-26</td>\n",
       "      <td>2022-03-16</td>\n",
       "      <td>2016-03-21</td>\n",
       "      <td>2022-03-16</td>\n",
       "      <td>False</td>\n",
       "    </tr>\n",
       "    <tr>\n",
       "      <th>2170</th>\n",
       "      <td>VGG6564A1057</td>\n",
       "      <td>1509</td>\n",
       "      <td>NOMAD FOODS</td>\n",
       "      <td>NOMD</td>\n",
       "      <td>2014-09-09</td>\n",
       "      <td>2022-03-16</td>\n",
       "      <td>2016-03-21</td>\n",
       "      <td>2022-03-16</td>\n",
       "      <td>False</td>\n",
       "    </tr>\n",
       "  </tbody>\n",
       "</table>\n",
       "<p>2171 rows × 9 columns</p>\n",
       "</div>"
      ],
      "text/plain": [
       "              isin  ts_rows                                   name ticker  \\\n",
       "0     AN8068571086     1509                           SCHLUMBERGER    SLB   \n",
       "1     BE0003816338     1509                          EURONAV (NYS)   EURN   \n",
       "2     BMG0464B1072     1509                  ARGO GP.INTL.HOLDINGS   ARGO   \n",
       "3     BMG053841059      732   ASPEN IN.HDG. DEAD - DELIST.16/02/19    AHL   \n",
       "4     BMG0585R1060     1509                       ASSURED GUARANTY    AGO   \n",
       "...            ...      ...                                    ...    ...   \n",
       "2166  VGG1890L1076     1509                         CAPRI HOLDINGS   CPRI   \n",
       "2167  VGG273581030     1130                           DESPEGAR COM   DESP   \n",
       "2168  VGG572791041      814  LUXOFT HOLDING DEAD - DELIST.14/06/19   LXFT   \n",
       "2169  VGG639071023     1509                       NAM TAI PROPERTY    NTP   \n",
       "2170  VGG6564A1057     1509                            NOMAD FOODS   NOMD   \n",
       "\n",
       "     start_date   end_date start_date_ts end_date_ts  RI_Errors  \n",
       "0    1973-01-02 2022-03-16    2016-03-21  2022-03-16      False  \n",
       "1    2015-01-23 2022-03-16    2016-03-21  2022-03-16      False  \n",
       "2    1987-03-25 2022-03-16    2016-03-21  2022-03-16      False  \n",
       "3    2003-12-04 2019-02-14    2016-03-21  2019-02-14      False  \n",
       "4    2004-04-23 2022-03-16    2016-03-21  2022-03-16      False  \n",
       "...         ...        ...           ...         ...        ...  \n",
       "2166 2011-12-15 2022-03-16    2016-03-21  2022-03-16      False  \n",
       "2167 2017-09-20 2022-03-16    2017-09-20  2022-03-16      False  \n",
       "2168 2013-06-26 2019-06-13    2016-03-21  2019-06-13      False  \n",
       "2169 1990-11-26 2022-03-16    2016-03-21  2022-03-16      False  \n",
       "2170 2014-09-09 2022-03-16    2016-03-21  2022-03-16      False  \n",
       "\n",
       "[2171 rows x 9 columns]"
      ]
     },
     "execution_count": 10,
     "metadata": {},
     "output_type": "execute_result"
    }
   ],
   "source": [
    "isins = []\n",
    "names = []\n",
    "tickers = []\n",
    "start_dates = []\n",
    "end_dates = []\n",
    "start_dates_ts = []\n",
    "end_dates_ts = []\n",
    "ts_rows = []\n",
    "ri_ts_errors = []\n",
    "for company in companies:\n",
    "    isins.append(company.isin)\n",
    "    names.append(company.name)\n",
    "    tickers.append(company.ticker)\n",
    "    start_dates.append(company.start_date)\n",
    "    end_dates.append(company.end_date)\n",
    "    start_dates_ts.append(company.return_index_df.index.min())\n",
    "    end_dates_ts.append(company.return_index_df.index.max())\n",
    "    ts_rows.append(company.return_index_df.shape[0])\n",
    "    \n",
    "    # In some cases, the RI is the same for all days in a company, followed by missing days.\n",
    "    ts_ri_sum = company.return_index_df[1:].company_return.sum() \n",
    "    \n",
    "    # Add check to see if there is a change in price at all\n",
    "    ts_ri_diff = company.return_index_df[1:].company_return.min() - company.return_index_df[1:].company_return.max()\n",
    "    \n",
    "    if (ts_ri_sum == np.Inf):\n",
    "        contains_error_in_timeseries = True\n",
    "    elif (-ts_ri_sum == np.Inf):\n",
    "        contains_error_in_timeseries = True\n",
    "    elif (math.isnan(ts_ri_sum)):\n",
    "        contains_error_in_timeseries = True\n",
    "    elif (math.isnan(ts_ri_diff)):\n",
    "        contains_error_in_timeseries = True\n",
    "    elif (ts_ri_diff == 0):\n",
    "        contains_error_in_timeseries = True\n",
    "    elif (company.return_index_df[1:].company_return.isnull().any() == True):\n",
    "        contains_error_in_timeseries = True\n",
    "    else:\n",
    "        contains_error_in_timeseries = False\n",
    "    ri_ts_errors.append(contains_error_in_timeseries)\n",
    "    \n",
    "    if (contains_error_in_timeseries):\n",
    "        print(f'{company.ticker}: {ts_ri_sum} {contains_error_in_timeseries}')\n",
    "    \n",
    "        \n",
    "# Collect to a single data frame\n",
    "scraped_ts_df = pd.DataFrame({'isin': isins\n",
    "                              , 'ts_rows': ts_rows\n",
    "                              , 'name': names\n",
    "                              , 'ticker': tickers\n",
    "                              , 'start_date': start_dates\n",
    "                              , 'end_date': end_dates\n",
    "                              , 'start_date_ts': start_dates_ts\n",
    "                              , 'end_date_ts': end_dates_ts\n",
    "                              , 'RI_Errors': ri_ts_errors\n",
    "                             })\n",
    "scraped_ts_df = scraped_ts_df.drop_duplicates()\n",
    "scraped_ts_df#[scraped_ts_df['ticker'] == 'ABIO']"
   ]
  },
  {
   "cell_type": "markdown",
   "id": "1111f339-39b0-4d5b-8a87-0d76ede18418",
   "metadata": {
    "pycharm": {
     "name": "#%% md\n"
    }
   },
   "source": [
    "#### Join the data"
   ]
  },
  {
   "cell_type": "code",
   "execution_count": 11,
   "id": "a1fd142e-198f-4000-af8b-21935b90f87e",
   "metadata": {
    "execution": {
     "iopub.execute_input": "2022-11-03T16:49:04.223052Z",
     "iopub.status.busy": "2022-11-03T16:49:04.223052Z",
     "iopub.status.idle": "2022-11-03T16:49:04.235371Z",
     "shell.execute_reply": "2022-11-03T16:49:04.235371Z"
    },
    "pycharm": {
     "name": "#%%\n"
    }
   },
   "outputs": [],
   "source": [
    "#data = data.join(scraped_ts_df, rsuffix='_given', lsuffix='_ts', how=\"left\", left_on = 'ISIN CODE', right_on = 'isin')\n",
    "data = pd.merge(data, scraped_ts_df, how=\"left\", left_on = 'ISIN CODE', right_on = 'isin')"
   ]
  },
  {
   "cell_type": "markdown",
   "id": "c9a24c5e-9fd5-4480-b5a6-bd6a980013e1",
   "metadata": {
    "pycharm": {
     "name": "#%% md\n"
    }
   },
   "source": [
    "### Start filtering"
   ]
  },
  {
   "cell_type": "code",
   "execution_count": 12,
   "id": "e5224aad-507d-401f-a1d4-fe22688c59f7",
   "metadata": {
    "execution": {
     "iopub.execute_input": "2022-11-03T16:49:04.238372Z",
     "iopub.status.busy": "2022-11-03T16:49:04.238372Z",
     "iopub.status.idle": "2022-11-03T16:49:04.251476Z",
     "shell.execute_reply": "2022-11-03T16:49:04.251476Z"
    },
    "pycharm": {
     "name": "#%%\n"
    }
   },
   "outputs": [],
   "source": [
    "data['reason_to_exclude'] = 'None'"
   ]
  },
  {
   "cell_type": "markdown",
   "id": "036e7c49-f47e-47be-8bfc-9496ddea8dd0",
   "metadata": {
    "pycharm": {
     "name": "#%% md\n"
    }
   },
   "source": [
    "#### Remove Companies without ISINs"
   ]
  },
  {
   "cell_type": "code",
   "execution_count": 13,
   "id": "d7a91454-0de1-4f74-8076-2489217b92ea",
   "metadata": {
    "execution": {
     "iopub.execute_input": "2022-11-03T16:49:04.255506Z",
     "iopub.status.busy": "2022-11-03T16:49:04.255506Z",
     "iopub.status.idle": "2022-11-03T16:49:04.267609Z",
     "shell.execute_reply": "2022-11-03T16:49:04.267609Z"
    },
    "pycharm": {
     "name": "#%%\n"
    }
   },
   "outputs": [
    {
     "data": {
      "text/plain": [
       "(1402, 38)"
      ]
     },
     "execution_count": 13,
     "metadata": {},
     "output_type": "execute_result"
    }
   ],
   "source": [
    "mask = data['ISIN CODE'] == 'NA'\n",
    "#data.loc[mask, 'reason_to_exclude'] = 'NA ticker'\n",
    "data.loc[mask, 'reason_to_exclude'] = 'Missing ISIN'\n",
    "data.loc[mask].shape"
   ]
  },
  {
   "cell_type": "markdown",
   "id": "6c5613f3-8084-48d4-bdc3-70915bdb004a",
   "metadata": {
    "pycharm": {
     "name": "#%% md\n"
    }
   },
   "source": [
    "#### Remove companies without trades"
   ]
  },
  {
   "cell_type": "code",
   "execution_count": 14,
   "id": "6d1c70c7-ba22-43c9-b557-cf0d849a3082",
   "metadata": {
    "execution": {
     "iopub.execute_input": "2022-11-03T16:49:04.270602Z",
     "iopub.status.busy": "2022-11-03T16:49:04.270602Z",
     "iopub.status.idle": "2022-11-03T16:49:04.283674Z",
     "shell.execute_reply": "2022-11-03T16:49:04.283674Z"
    },
    "pycharm": {
     "name": "#%%\n"
    }
   },
   "outputs": [
    {
     "data": {
      "text/plain": [
       "(961, 38)"
      ]
     },
     "execution_count": 14,
     "metadata": {},
     "output_type": "execute_result"
    }
   ],
   "source": [
    "mask = data['trade_count'] == 0\n",
    "#data.loc[mask, 'reason_to_exclude'] = 'NA ticker'\n",
    "data.loc[mask, 'reason_to_exclude'] = 'No trades done'\n",
    "data.loc[mask].shape"
   ]
  },
  {
   "cell_type": "markdown",
   "id": "6501379c-fe46-4f33-a5fa-1ac1e3bdd677",
   "metadata": {
    "pycharm": {
     "name": "#%% md\n"
    }
   },
   "source": [
    "#### Remove companies without timeseries"
   ]
  },
  {
   "cell_type": "code",
   "execution_count": 15,
   "id": "65ab6e5e-1790-4a31-9038-a3fcf0624cce",
   "metadata": {
    "execution": {
     "iopub.execute_input": "2022-11-03T16:49:04.286706Z",
     "iopub.status.busy": "2022-11-03T16:49:04.286706Z",
     "iopub.status.idle": "2022-11-03T16:49:04.299833Z",
     "shell.execute_reply": "2022-11-03T16:49:04.299833Z"
    },
    "pycharm": {
     "name": "#%%\n"
    }
   },
   "outputs": [
    {
     "data": {
      "text/plain": [
       "(69, 38)"
      ]
     },
     "execution_count": 15,
     "metadata": {},
     "output_type": "execute_result"
    }
   ],
   "source": [
    "mask = data['ts_rows'].isnull()\n",
    "data.loc[mask, 'reason_to_exclude'] = 'No timeseries data'\n",
    "data.loc[mask].shape"
   ]
  },
  {
   "cell_type": "markdown",
   "id": "cae63947-3c36-4446-ba53-d58be7a1b16b",
   "metadata": {
    "pycharm": {
     "name": "#%% md\n"
    }
   },
   "source": [
    "#### Remove companies where company time-series from source if wrong"
   ]
  },
  {
   "cell_type": "code",
   "execution_count": 16,
   "id": "5c0c027d-040d-4a8b-84c2-287f72730779",
   "metadata": {
    "execution": {
     "iopub.execute_input": "2022-11-03T16:49:04.302845Z",
     "iopub.status.busy": "2022-11-03T16:49:04.302845Z",
     "iopub.status.idle": "2022-11-03T16:49:04.314915Z",
     "shell.execute_reply": "2022-11-03T16:49:04.314915Z"
    },
    "pycharm": {
     "name": "#%%\n"
    }
   },
   "outputs": [
    {
     "data": {
      "text/plain": [
       "(2, 38)"
      ]
     },
     "execution_count": 16,
     "metadata": {},
     "output_type": "execute_result"
    }
   ],
   "source": [
    "mask = data['RI_Errors'] == True\n",
    "data.loc[mask, 'reason_to_exclude'] = 'Faulty timeseries data'\n",
    "data.loc[mask].shape"
   ]
  },
  {
   "cell_type": "markdown",
   "id": "6d12b135-0c68-4a74-8570-37c00b7cf32c",
   "metadata": {
    "pycharm": {
     "name": "#%% md\n"
    }
   },
   "source": [
    "#### Find non-unique tickers"
   ]
  },
  {
   "cell_type": "code",
   "execution_count": 17,
   "id": "901fe043-8fa8-4fe0-a661-42d8e4933a4e",
   "metadata": {
    "execution": {
     "iopub.execute_input": "2022-11-03T16:49:04.317964Z",
     "iopub.status.busy": "2022-11-03T16:49:04.317964Z",
     "iopub.status.idle": "2022-11-03T16:49:04.330099Z",
     "shell.execute_reply": "2022-11-03T16:49:04.330040Z"
    },
    "pycharm": {
     "name": "#%%\n"
    }
   },
   "outputs": [
    {
     "data": {
      "text/plain": [
       "(672, 38)"
      ]
     },
     "execution_count": 17,
     "metadata": {},
     "output_type": "execute_result"
    }
   ],
   "source": [
    "dublicate_tickers = data[data.duplicated(subset=['TICKER SYMBOL'],keep=False)]['TICKER SYMBOL']\n",
    "dublicate_tickers_mask = data['TICKER SYMBOL'].isin(dublicate_tickers)\n",
    "data.loc[dublicate_tickers_mask, 'reason_to_exclude'] = 'Non-unique-ticker'\n",
    "data.loc[dublicate_tickers_mask].shape"
   ]
  },
  {
   "cell_type": "markdown",
   "id": "4bc7b37b-8747-494c-8bd6-ebe2c11047f8",
   "metadata": {
    "pycharm": {
     "name": "#%% md\n"
    }
   },
   "source": [
    "#### Find NA tickers"
   ]
  },
  {
   "cell_type": "code",
   "execution_count": 18,
   "id": "e98b60ad-e72e-4b67-8526-7191fb42bb4d",
   "metadata": {
    "execution": {
     "iopub.execute_input": "2022-11-03T16:49:04.333098Z",
     "iopub.status.busy": "2022-11-03T16:49:04.333098Z",
     "iopub.status.idle": "2022-11-03T16:49:04.346133Z",
     "shell.execute_reply": "2022-11-03T16:49:04.346133Z"
    },
    "pycharm": {
     "name": "#%%\n"
    }
   },
   "outputs": [
    {
     "data": {
      "text/plain": [
       "(7, 38)"
      ]
     },
     "execution_count": 18,
     "metadata": {},
     "output_type": "execute_result"
    }
   ],
   "source": [
    "mask = data['TICKER SYMBOL'] == 'NA'\n",
    "data.loc[mask, 'reason_to_exclude'] = 'NA ticker'\n",
    "data.loc[mask].shape"
   ]
  },
  {
   "cell_type": "markdown",
   "id": "7427e500-ca70-44d7-abe2-c9fdd0b0c1dd",
   "metadata": {
    "pycharm": {
     "name": "#%% md\n"
    }
   },
   "source": [
    "### Show what we have"
   ]
  },
  {
   "cell_type": "code",
   "execution_count": 19,
   "id": "d1851a56-20d9-4a7a-8143-b41fabd065a6",
   "metadata": {
    "execution": {
     "iopub.execute_input": "2022-11-03T16:49:04.349134Z",
     "iopub.status.busy": "2022-11-03T16:49:04.349134Z",
     "iopub.status.idle": "2022-11-03T16:49:04.378143Z",
     "shell.execute_reply": "2022-11-03T16:49:04.378143Z"
    },
    "pycharm": {
     "name": "#%%\n"
    }
   },
   "outputs": [
    {
     "data": {
      "text/html": [
       "<div>\n",
       "<style scoped>\n",
       "    .dataframe tbody tr th:only-of-type {\n",
       "        vertical-align: middle;\n",
       "    }\n",
       "\n",
       "    .dataframe tbody tr th {\n",
       "        vertical-align: top;\n",
       "    }\n",
       "\n",
       "    .dataframe thead th {\n",
       "        text-align: right;\n",
       "    }\n",
       "</style>\n",
       "<table border=\"1\" class=\"dataframe\">\n",
       "  <thead>\n",
       "    <tr style=\"text-align: right;\">\n",
       "      <th></th>\n",
       "      <th>Type</th>\n",
       "      <th>ISIN CODE</th>\n",
       "      <th>LOC OFF. CODE</th>\n",
       "      <th>NAME</th>\n",
       "      <th>DATASTREAM CODE</th>\n",
       "      <th>CUSIP</th>\n",
       "      <th>TICKER SYMBOL</th>\n",
       "      <th>BASE OR ST DATE</th>\n",
       "      <th>DATE/TIME (DS End Date)</th>\n",
       "      <th>tickers</th>\n",
       "      <th>...</th>\n",
       "      <th>isin</th>\n",
       "      <th>ts_rows</th>\n",
       "      <th>name</th>\n",
       "      <th>ticker</th>\n",
       "      <th>start_date</th>\n",
       "      <th>end_date</th>\n",
       "      <th>start_date_ts</th>\n",
       "      <th>end_date_ts</th>\n",
       "      <th>RI_Errors</th>\n",
       "      <th>reason_to_exclude</th>\n",
       "    </tr>\n",
       "  </thead>\n",
       "  <tbody>\n",
       "    <tr>\n",
       "      <th>0</th>\n",
       "      <td>756064</td>\n",
       "      <td>US88554D2053</td>\n",
       "      <td>U88554D205</td>\n",
       "      <td>3D SYSTEMS</td>\n",
       "      <td>756064</td>\n",
       "      <td>88554D205</td>\n",
       "      <td>DDD</td>\n",
       "      <td>1988-03-10</td>\n",
       "      <td>2022-03-16 00:00:00</td>\n",
       "      <td>DDD</td>\n",
       "      <td>...</td>\n",
       "      <td>US88554D2053</td>\n",
       "      <td>1509.0</td>\n",
       "      <td>3D SYSTEMS</td>\n",
       "      <td>DDD</td>\n",
       "      <td>1988-03-10</td>\n",
       "      <td>2022-03-16</td>\n",
       "      <td>2016-03-21</td>\n",
       "      <td>2022-03-16</td>\n",
       "      <td>False</td>\n",
       "      <td>None</td>\n",
       "    </tr>\n",
       "    <tr>\n",
       "      <th>1</th>\n",
       "      <td>902172</td>\n",
       "      <td>US88579Y1010</td>\n",
       "      <td>U88579Y101</td>\n",
       "      <td>3M</td>\n",
       "      <td>902172</td>\n",
       "      <td>88579Y101</td>\n",
       "      <td>MMM</td>\n",
       "      <td>1973-01-02</td>\n",
       "      <td>2022-03-16 00:00:00</td>\n",
       "      <td>MMM</td>\n",
       "      <td>...</td>\n",
       "      <td>US88579Y1010</td>\n",
       "      <td>1509.0</td>\n",
       "      <td>3M</td>\n",
       "      <td>MMM</td>\n",
       "      <td>1973-01-02</td>\n",
       "      <td>2022-03-16</td>\n",
       "      <td>2016-03-21</td>\n",
       "      <td>2022-03-16</td>\n",
       "      <td>False</td>\n",
       "      <td>Non-unique-ticker</td>\n",
       "    </tr>\n",
       "    <tr>\n",
       "      <th>2</th>\n",
       "      <td>877226</td>\n",
       "      <td>US2829141009</td>\n",
       "      <td>U282914100</td>\n",
       "      <td>8X8</td>\n",
       "      <td>877226</td>\n",
       "      <td>282914100</td>\n",
       "      <td>EGHT</td>\n",
       "      <td>1997-07-03</td>\n",
       "      <td>2022-03-16 00:00:00</td>\n",
       "      <td>EGHT</td>\n",
       "      <td>...</td>\n",
       "      <td>US2829141009</td>\n",
       "      <td>1509.0</td>\n",
       "      <td>8X8</td>\n",
       "      <td>EGHT</td>\n",
       "      <td>1997-07-03</td>\n",
       "      <td>2022-03-16</td>\n",
       "      <td>2016-03-21</td>\n",
       "      <td>2022-03-16</td>\n",
       "      <td>False</td>\n",
       "      <td>None</td>\n",
       "    </tr>\n",
       "    <tr>\n",
       "      <th>3</th>\n",
       "      <td>2603Y7</td>\n",
       "      <td>US00152K1016</td>\n",
       "      <td>U00152K101</td>\n",
       "      <td>A K A BRANDS HOLDING</td>\n",
       "      <td>2603Y7</td>\n",
       "      <td>00152K101</td>\n",
       "      <td>AKA</td>\n",
       "      <td>2021-09-22</td>\n",
       "      <td>2022-03-16 00:00:00</td>\n",
       "      <td>AKA</td>\n",
       "      <td>...</td>\n",
       "      <td>US00152K1016</td>\n",
       "      <td>122.0</td>\n",
       "      <td>A K A BRANDS HOLDING</td>\n",
       "      <td>AKA</td>\n",
       "      <td>2021-09-22</td>\n",
       "      <td>2022-03-16</td>\n",
       "      <td>2021-09-22</td>\n",
       "      <td>2022-03-16</td>\n",
       "      <td>False</td>\n",
       "      <td>None</td>\n",
       "    </tr>\n",
       "    <tr>\n",
       "      <th>4</th>\n",
       "      <td>8748C6</td>\n",
       "      <td>US0021211018</td>\n",
       "      <td>U002121101</td>\n",
       "      <td>A10 NETWORKS</td>\n",
       "      <td>8748C6</td>\n",
       "      <td>2121101</td>\n",
       "      <td>ATEN</td>\n",
       "      <td>2014-03-21</td>\n",
       "      <td>2022-03-16 00:00:00</td>\n",
       "      <td>ATEN</td>\n",
       "      <td>...</td>\n",
       "      <td>US0021211018</td>\n",
       "      <td>1509.0</td>\n",
       "      <td>A10 NETWORKS</td>\n",
       "      <td>ATEN</td>\n",
       "      <td>2014-03-21</td>\n",
       "      <td>2022-03-16</td>\n",
       "      <td>2016-03-21</td>\n",
       "      <td>2022-03-16</td>\n",
       "      <td>False</td>\n",
       "      <td>None</td>\n",
       "    </tr>\n",
       "    <tr>\n",
       "      <th>...</th>\n",
       "      <td>...</td>\n",
       "      <td>...</td>\n",
       "      <td>...</td>\n",
       "      <td>...</td>\n",
       "      <td>...</td>\n",
       "      <td>...</td>\n",
       "      <td>...</td>\n",
       "      <td>...</td>\n",
       "      <td>...</td>\n",
       "      <td>...</td>\n",
       "      <td>...</td>\n",
       "      <td>...</td>\n",
       "      <td>...</td>\n",
       "      <td>...</td>\n",
       "      <td>...</td>\n",
       "      <td>...</td>\n",
       "      <td>...</td>\n",
       "      <td>...</td>\n",
       "      <td>...</td>\n",
       "      <td>...</td>\n",
       "      <td>...</td>\n",
       "    </tr>\n",
       "    <tr>\n",
       "      <th>3637</th>\n",
       "      <td>94419W</td>\n",
       "      <td>NA</td>\n",
       "      <td>NA</td>\n",
       "      <td>ZOOM VIDEO COMM CL B</td>\n",
       "      <td>94419W</td>\n",
       "      <td>98980L101</td>\n",
       "      <td>ZM</td>\n",
       "      <td>2019-04-18</td>\n",
       "      <td>NA</td>\n",
       "      <td>ZM</td>\n",
       "      <td>...</td>\n",
       "      <td>NA</td>\n",
       "      <td>824.0</td>\n",
       "      <td>SUNCOKE ENERGY PARTNERS COMMON UNITS</td>\n",
       "      <td>SXCP</td>\n",
       "      <td>2013-01-18</td>\n",
       "      <td>2019-06-27</td>\n",
       "      <td>2016-03-21</td>\n",
       "      <td>2019-06-27</td>\n",
       "      <td>False</td>\n",
       "      <td>Missing ISIN</td>\n",
       "    </tr>\n",
       "    <tr>\n",
       "      <th>3638</th>\n",
       "      <td>9924R8</td>\n",
       "      <td>NA</td>\n",
       "      <td>NA</td>\n",
       "      <td>ZOOMINFO TECHNOLOGIES INC CL B</td>\n",
       "      <td>9924R8</td>\n",
       "      <td>98980F104</td>\n",
       "      <td>ZI</td>\n",
       "      <td>2020-06-04</td>\n",
       "      <td>NA</td>\n",
       "      <td>ZI</td>\n",
       "      <td>...</td>\n",
       "      <td>NA</td>\n",
       "      <td>824.0</td>\n",
       "      <td>SUNCOKE ENERGY PARTNERS COMMON UNITS</td>\n",
       "      <td>SXCP</td>\n",
       "      <td>2013-01-18</td>\n",
       "      <td>2019-06-27</td>\n",
       "      <td>2016-03-21</td>\n",
       "      <td>2019-06-27</td>\n",
       "      <td>False</td>\n",
       "      <td>Non-unique-ticker</td>\n",
       "    </tr>\n",
       "    <tr>\n",
       "      <th>3639</th>\n",
       "      <td>9924TA</td>\n",
       "      <td>NA</td>\n",
       "      <td>NA</td>\n",
       "      <td>ZOOMINFO TECHNOLOGIES INC CL C</td>\n",
       "      <td>9924TA</td>\n",
       "      <td>98980F104</td>\n",
       "      <td>ZI</td>\n",
       "      <td>2020-06-04</td>\n",
       "      <td>NA</td>\n",
       "      <td>ZI</td>\n",
       "      <td>...</td>\n",
       "      <td>NA</td>\n",
       "      <td>824.0</td>\n",
       "      <td>SUNCOKE ENERGY PARTNERS COMMON UNITS</td>\n",
       "      <td>SXCP</td>\n",
       "      <td>2013-01-18</td>\n",
       "      <td>2019-06-27</td>\n",
       "      <td>2016-03-21</td>\n",
       "      <td>2019-06-27</td>\n",
       "      <td>False</td>\n",
       "      <td>Non-unique-ticker</td>\n",
       "    </tr>\n",
       "    <tr>\n",
       "      <th>3640</th>\n",
       "      <td>9295TV</td>\n",
       "      <td>NA</td>\n",
       "      <td>NA</td>\n",
       "      <td>ZUORA INC CL B</td>\n",
       "      <td>9295TV</td>\n",
       "      <td>98983V106</td>\n",
       "      <td>ZUO</td>\n",
       "      <td>2018-04-12</td>\n",
       "      <td>NA</td>\n",
       "      <td>ZUO</td>\n",
       "      <td>...</td>\n",
       "      <td>NA</td>\n",
       "      <td>824.0</td>\n",
       "      <td>SUNCOKE ENERGY PARTNERS COMMON UNITS</td>\n",
       "      <td>SXCP</td>\n",
       "      <td>2013-01-18</td>\n",
       "      <td>2019-06-27</td>\n",
       "      <td>2016-03-21</td>\n",
       "      <td>2019-06-27</td>\n",
       "      <td>False</td>\n",
       "      <td>Non-unique-ticker</td>\n",
       "    </tr>\n",
       "    <tr>\n",
       "      <th>3641</th>\n",
       "      <td>2567FV</td>\n",
       "      <td>NA</td>\n",
       "      <td>NA</td>\n",
       "      <td>Z-WORK ACQUISITION CORP CL B</td>\n",
       "      <td>2567FV</td>\n",
       "      <td>98880C102</td>\n",
       "      <td>ZWRK</td>\n",
       "      <td>2021-01-29</td>\n",
       "      <td>NA</td>\n",
       "      <td>ZWRK</td>\n",
       "      <td>...</td>\n",
       "      <td>NA</td>\n",
       "      <td>824.0</td>\n",
       "      <td>SUNCOKE ENERGY PARTNERS COMMON UNITS</td>\n",
       "      <td>SXCP</td>\n",
       "      <td>2013-01-18</td>\n",
       "      <td>2019-06-27</td>\n",
       "      <td>2016-03-21</td>\n",
       "      <td>2019-06-27</td>\n",
       "      <td>False</td>\n",
       "      <td>No trades done</td>\n",
       "    </tr>\n",
       "  </tbody>\n",
       "</table>\n",
       "<p>3642 rows × 38 columns</p>\n",
       "</div>"
      ],
      "text/plain": [
       "        Type     ISIN CODE LOC OFF. CODE                            NAME  \\\n",
       "0     756064  US88554D2053    U88554D205                      3D SYSTEMS   \n",
       "1     902172  US88579Y1010    U88579Y101                              3M   \n",
       "2     877226  US2829141009    U282914100                             8X8   \n",
       "3     2603Y7  US00152K1016    U00152K101            A K A BRANDS HOLDING   \n",
       "4     8748C6  US0021211018    U002121101                    A10 NETWORKS   \n",
       "...      ...           ...           ...                             ...   \n",
       "3637  94419W            NA            NA            ZOOM VIDEO COMM CL B   \n",
       "3638  9924R8            NA            NA  ZOOMINFO TECHNOLOGIES INC CL B   \n",
       "3639  9924TA            NA            NA  ZOOMINFO TECHNOLOGIES INC CL C   \n",
       "3640  9295TV            NA            NA                  ZUORA INC CL B   \n",
       "3641  2567FV            NA            NA    Z-WORK ACQUISITION CORP CL B   \n",
       "\n",
       "     DATASTREAM CODE      CUSIP TICKER SYMBOL BASE OR ST DATE  \\\n",
       "0             756064  88554D205           DDD      1988-03-10   \n",
       "1             902172  88579Y101           MMM      1973-01-02   \n",
       "2             877226  282914100          EGHT      1997-07-03   \n",
       "3             2603Y7  00152K101           AKA      2021-09-22   \n",
       "4             8748C6    2121101          ATEN      2014-03-21   \n",
       "...              ...        ...           ...             ...   \n",
       "3637          94419W  98980L101            ZM      2019-04-18   \n",
       "3638          9924R8  98980F104            ZI      2020-06-04   \n",
       "3639          9924TA  98980F104            ZI      2020-06-04   \n",
       "3640          9295TV  98983V106           ZUO      2018-04-12   \n",
       "3641          2567FV  98880C102          ZWRK      2021-01-29   \n",
       "\n",
       "     DATE/TIME (DS End Date) tickers  ...          isin ts_rows  \\\n",
       "0        2022-03-16 00:00:00     DDD  ...  US88554D2053  1509.0   \n",
       "1        2022-03-16 00:00:00     MMM  ...  US88579Y1010  1509.0   \n",
       "2        2022-03-16 00:00:00    EGHT  ...  US2829141009  1509.0   \n",
       "3        2022-03-16 00:00:00     AKA  ...  US00152K1016   122.0   \n",
       "4        2022-03-16 00:00:00    ATEN  ...  US0021211018  1509.0   \n",
       "...                      ...     ...  ...           ...     ...   \n",
       "3637                      NA      ZM  ...            NA   824.0   \n",
       "3638                      NA      ZI  ...            NA   824.0   \n",
       "3639                      NA      ZI  ...            NA   824.0   \n",
       "3640                      NA     ZUO  ...            NA   824.0   \n",
       "3641                      NA    ZWRK  ...            NA   824.0   \n",
       "\n",
       "                                      name ticker start_date   end_date  \\\n",
       "0                               3D SYSTEMS    DDD 1988-03-10 2022-03-16   \n",
       "1                                       3M    MMM 1973-01-02 2022-03-16   \n",
       "2                                      8X8   EGHT 1997-07-03 2022-03-16   \n",
       "3                     A K A BRANDS HOLDING    AKA 2021-09-22 2022-03-16   \n",
       "4                             A10 NETWORKS   ATEN 2014-03-21 2022-03-16   \n",
       "...                                    ...    ...        ...        ...   \n",
       "3637  SUNCOKE ENERGY PARTNERS COMMON UNITS   SXCP 2013-01-18 2019-06-27   \n",
       "3638  SUNCOKE ENERGY PARTNERS COMMON UNITS   SXCP 2013-01-18 2019-06-27   \n",
       "3639  SUNCOKE ENERGY PARTNERS COMMON UNITS   SXCP 2013-01-18 2019-06-27   \n",
       "3640  SUNCOKE ENERGY PARTNERS COMMON UNITS   SXCP 2013-01-18 2019-06-27   \n",
       "3641  SUNCOKE ENERGY PARTNERS COMMON UNITS   SXCP 2013-01-18 2019-06-27   \n",
       "\n",
       "      start_date_ts  end_date_ts  RI_Errors  reason_to_exclude  \n",
       "0        2016-03-21   2022-03-16      False               None  \n",
       "1        2016-03-21   2022-03-16      False  Non-unique-ticker  \n",
       "2        2016-03-21   2022-03-16      False               None  \n",
       "3        2021-09-22   2022-03-16      False               None  \n",
       "4        2016-03-21   2022-03-16      False               None  \n",
       "...             ...          ...        ...                ...  \n",
       "3637     2016-03-21   2019-06-27      False       Missing ISIN  \n",
       "3638     2016-03-21   2019-06-27      False  Non-unique-ticker  \n",
       "3639     2016-03-21   2019-06-27      False  Non-unique-ticker  \n",
       "3640     2016-03-21   2019-06-27      False  Non-unique-ticker  \n",
       "3641     2016-03-21   2019-06-27      False     No trades done  \n",
       "\n",
       "[3642 rows x 38 columns]"
      ]
     },
     "execution_count": 19,
     "metadata": {},
     "output_type": "execute_result"
    }
   ],
   "source": [
    "data"
   ]
  },
  {
   "cell_type": "markdown",
   "id": "40804664-e921-42d1-a21a-516c3df3c567",
   "metadata": {
    "pycharm": {
     "name": "#%% md\n"
    }
   },
   "source": [
    "#### Show which ones are excluded:\n",
    "Also stores to csv for later use"
   ]
  },
  {
   "cell_type": "code",
   "execution_count": 20,
   "id": "3731075b-e1ab-4698-abe7-b45baf89636d",
   "metadata": {
    "execution": {
     "iopub.execute_input": "2022-11-03T16:49:04.382198Z",
     "iopub.status.busy": "2022-11-03T16:49:04.381197Z",
     "iopub.status.idle": "2022-11-03T16:49:04.425054Z",
     "shell.execute_reply": "2022-11-03T16:49:04.425054Z"
    },
    "pycharm": {
     "name": "#%%\n"
    }
   },
   "outputs": [
    {
     "data": {
      "text/html": [
       "<div>\n",
       "<style scoped>\n",
       "    .dataframe tbody tr th:only-of-type {\n",
       "        vertical-align: middle;\n",
       "    }\n",
       "\n",
       "    .dataframe tbody tr th {\n",
       "        vertical-align: top;\n",
       "    }\n",
       "\n",
       "    .dataframe thead th {\n",
       "        text-align: right;\n",
       "    }\n",
       "</style>\n",
       "<table border=\"1\" class=\"dataframe\">\n",
       "  <thead>\n",
       "    <tr style=\"text-align: right;\">\n",
       "      <th></th>\n",
       "      <th>ISIN CODE</th>\n",
       "      <th>NAME</th>\n",
       "      <th>TICKER SYMBOL</th>\n",
       "      <th>trade_count</th>\n",
       "      <th>n_distinct_traders</th>\n",
       "      <th>n_distinct_trade_types</th>\n",
       "      <th>ts_rows</th>\n",
       "      <th>reason_to_exclude</th>\n",
       "    </tr>\n",
       "  </thead>\n",
       "  <tbody>\n",
       "    <tr>\n",
       "      <th>764</th>\n",
       "      <td>US35953D1046</td>\n",
       "      <td>FUBOTV</td>\n",
       "      <td>FUBO</td>\n",
       "      <td>40</td>\n",
       "      <td>8</td>\n",
       "      <td>7</td>\n",
       "      <td>1509.0</td>\n",
       "      <td>Faulty timeseries data</td>\n",
       "    </tr>\n",
       "    <tr>\n",
       "      <th>954</th>\n",
       "      <td>US46124J2015</td>\n",
       "      <td>INVENTRUST PROPERTIES</td>\n",
       "      <td>IVT</td>\n",
       "      <td>4</td>\n",
       "      <td>4</td>\n",
       "      <td>1</td>\n",
       "      <td>1509.0</td>\n",
       "      <td>Faulty timeseries data</td>\n",
       "    </tr>\n",
       "    <tr>\n",
       "      <th>1939</th>\n",
       "      <td>NA</td>\n",
       "      <td>ABOVENET 'B'</td>\n",
       "      <td>ABVT</td>\n",
       "      <td>179</td>\n",
       "      <td>21</td>\n",
       "      <td>10</td>\n",
       "      <td>824.0</td>\n",
       "      <td>Missing ISIN</td>\n",
       "    </tr>\n",
       "    <tr>\n",
       "      <th>2093</th>\n",
       "      <td>NA</td>\n",
       "      <td>ATHENA CONSUMER ACQUISITION CL B</td>\n",
       "      <td>ACAQ</td>\n",
       "      <td>1</td>\n",
       "      <td>1</td>\n",
       "      <td>1</td>\n",
       "      <td>824.0</td>\n",
       "      <td>Missing ISIN</td>\n",
       "    </tr>\n",
       "    <tr>\n",
       "      <th>2062</th>\n",
       "      <td>NA</td>\n",
       "      <td>ARCTIC CAT 'B' DEAD - 07/03/17</td>\n",
       "      <td>ACAT</td>\n",
       "      <td>446</td>\n",
       "      <td>33</td>\n",
       "      <td>8</td>\n",
       "      <td>824.0</td>\n",
       "      <td>Missing ISIN</td>\n",
       "    </tr>\n",
       "    <tr>\n",
       "      <th>...</th>\n",
       "      <td>...</td>\n",
       "      <td>...</td>\n",
       "      <td>...</td>\n",
       "      <td>...</td>\n",
       "      <td>...</td>\n",
       "      <td>...</td>\n",
       "      <td>...</td>\n",
       "      <td>...</td>\n",
       "    </tr>\n",
       "    <tr>\n",
       "      <th>1057</th>\n",
       "      <td>US53228T1016</td>\n",
       "      <td>LIGHTNING EMOTORS</td>\n",
       "      <td>ZEV</td>\n",
       "      <td>16</td>\n",
       "      <td>13</td>\n",
       "      <td>5</td>\n",
       "      <td>430.0</td>\n",
       "      <td>None</td>\n",
       "    </tr>\n",
       "    <tr>\n",
       "      <th>3636</th>\n",
       "      <td>US98979J1097</td>\n",
       "      <td>ZOES KITCHEN DEAD - DELIST.21/11/18</td>\n",
       "      <td>ZOES</td>\n",
       "      <td>87</td>\n",
       "      <td>17</td>\n",
       "      <td>8</td>\n",
       "      <td>675.0</td>\n",
       "      <td>None</td>\n",
       "    </tr>\n",
       "    <tr>\n",
       "      <th>1923</th>\n",
       "      <td>US98978V1035</td>\n",
       "      <td>ZOETIS A</td>\n",
       "      <td>ZTS</td>\n",
       "      <td>499</td>\n",
       "      <td>34</td>\n",
       "      <td>8</td>\n",
       "      <td>1509.0</td>\n",
       "      <td>None</td>\n",
       "    </tr>\n",
       "    <tr>\n",
       "      <th>1926</th>\n",
       "      <td>US98983L1089</td>\n",
       "      <td>ZURN WATER SOLUTIONS</td>\n",
       "      <td>ZWS</td>\n",
       "      <td>526</td>\n",
       "      <td>27</td>\n",
       "      <td>8</td>\n",
       "      <td>1509.0</td>\n",
       "      <td>None</td>\n",
       "    </tr>\n",
       "    <tr>\n",
       "      <th>1927</th>\n",
       "      <td>CA98985W1023</td>\n",
       "      <td>ZYMEWORKS (NYS)</td>\n",
       "      <td>ZYME</td>\n",
       "      <td>82</td>\n",
       "      <td>10</td>\n",
       "      <td>5</td>\n",
       "      <td>1230.0</td>\n",
       "      <td>None</td>\n",
       "    </tr>\n",
       "  </tbody>\n",
       "</table>\n",
       "<p>3642 rows × 8 columns</p>\n",
       "</div>"
      ],
      "text/plain": [
       "         ISIN CODE                                 NAME TICKER SYMBOL  \\\n",
       "764   US35953D1046                               FUBOTV          FUBO   \n",
       "954   US46124J2015                INVENTRUST PROPERTIES           IVT   \n",
       "1939            NA                         ABOVENET 'B'          ABVT   \n",
       "2093            NA     ATHENA CONSUMER ACQUISITION CL B          ACAQ   \n",
       "2062            NA       ARCTIC CAT 'B' DEAD - 07/03/17          ACAT   \n",
       "...            ...                                  ...           ...   \n",
       "1057  US53228T1016                    LIGHTNING EMOTORS           ZEV   \n",
       "3636  US98979J1097  ZOES KITCHEN DEAD - DELIST.21/11/18          ZOES   \n",
       "1923  US98978V1035                             ZOETIS A           ZTS   \n",
       "1926  US98983L1089                 ZURN WATER SOLUTIONS           ZWS   \n",
       "1927  CA98985W1023                      ZYMEWORKS (NYS)          ZYME   \n",
       "\n",
       "      trade_count  n_distinct_traders  n_distinct_trade_types  ts_rows  \\\n",
       "764            40                   8                       7   1509.0   \n",
       "954             4                   4                       1   1509.0   \n",
       "1939          179                  21                      10    824.0   \n",
       "2093            1                   1                       1    824.0   \n",
       "2062          446                  33                       8    824.0   \n",
       "...           ...                 ...                     ...      ...   \n",
       "1057           16                  13                       5    430.0   \n",
       "3636           87                  17                       8    675.0   \n",
       "1923          499                  34                       8   1509.0   \n",
       "1926          526                  27                       8   1509.0   \n",
       "1927           82                  10                       5   1230.0   \n",
       "\n",
       "           reason_to_exclude  \n",
       "764   Faulty timeseries data  \n",
       "954   Faulty timeseries data  \n",
       "1939            Missing ISIN  \n",
       "2093            Missing ISIN  \n",
       "2062            Missing ISIN  \n",
       "...                      ...  \n",
       "1057                    None  \n",
       "3636                    None  \n",
       "1923                    None  \n",
       "1926                    None  \n",
       "1927                    None  \n",
       "\n",
       "[3642 rows x 8 columns]"
      ]
     },
     "execution_count": 20,
     "metadata": {},
     "output_type": "execute_result"
    }
   ],
   "source": [
    "#scraping_summary = data[data['reason_to_exclude']!='None']\n",
    "scraping_summary = data\n",
    "scraping_summary = scraping_summary[[#'Type'\n",
    "                      'ISIN CODE'\n",
    "                     #, 'LOC OFF. CODE'\n",
    "                     , 'NAME'\n",
    "                     #, 'DATASTREAM CODE'\n",
    "                     #, 'CUSIP'\n",
    "                     , 'TICKER SYMBOL'\n",
    "                     #, 'BASE OR ST DATE'\n",
    "                     #, 'DATE/TIME (DS End Date)'\n",
    "                     #, 'tickers'\n",
    "                     , 'trade_count'\n",
    "                     #, 'min_filing_date'\n",
    "                     #, 'max_filing_date'\n",
    "                     #, 'min_trade_date'\n",
    "                     #, 'max_trade_date'\n",
    "                     , 'n_distinct_traders'\n",
    "                     , 'n_distinct_trade_types'\n",
    "                     #, 'P - Purchase (count)'\n",
    "                     #, 'S - Sale (count)'\n",
    "                     #, 'S - Sale+OE'\n",
    "                     #, 'A - Grant (count)'\n",
    "                     #, 'D - Sale to Iss (count)'\n",
    "                     #, 'G - Gift (count)'\n",
    "                     #, 'F - Tax (count)'\n",
    "                     #, 'M - Option Ex (count)'\n",
    "                     #, 'X - Option Ex (count)'\n",
    "                     #, 'C - Cnv Deriv (count)'\n",
    "                     #, 'W - Inherited (count)'\n",
    "                     #, 'isin'\n",
    "                     , 'ts_rows'\n",
    "                     #, 'name'\n",
    "                     #, 'ticker'\n",
    "                     #, 'start_date'\n",
    "                     #, 'end_date'\n",
    "                     #, 'start_date_ts'\n",
    "                     #, 'end_date_ts'\n",
    "                     , 'reason_to_exclude'\n",
    "                    ]].sort_values(by=['reason_to_exclude', 'TICKER SYMBOL', 'ISIN CODE'])\n",
    "scraping_summary.to_csv(DATA_LOCATION + '/scraping_summary.csv')\n",
    "scraping_summary"
   ]
  },
  {
   "cell_type": "markdown",
   "id": "30104127-7482-4c27-899f-bf1e2878e299",
   "metadata": {
    "pycharm": {
     "name": "#%% md\n"
    }
   },
   "source": [
    "#### Do basic statistics of what was taken out\n"
   ]
  },
  {
   "cell_type": "code",
   "execution_count": 21,
   "id": "58069dec-f6ed-4f73-b27b-654df746e33f",
   "metadata": {
    "execution": {
     "iopub.execute_input": "2022-11-03T16:49:04.428132Z",
     "iopub.status.busy": "2022-11-03T16:49:04.428132Z",
     "iopub.status.idle": "2022-11-03T16:49:04.440923Z",
     "shell.execute_reply": "2022-11-03T16:49:04.440923Z"
    },
    "pycharm": {
     "name": "#%%\n"
    }
   },
   "outputs": [],
   "source": [
    "agg_scraping_summary = scraping_summary.groupby('reason_to_exclude').agg({'ISIN CODE': 'count'\n",
    "                                                                          , 'trade_count': 'sum'\n",
    "                                                                          , 'n_distinct_traders':'sum'\n",
    "                                                                          , 'ts_rows':'sum'}).reset_index().rename(columns={'reason_to_exclude': 'Exclusion Reason'\n",
    "                                                                                                                           , 'ISIN CODE': 'N Companies'\n",
    "                                                                                                                           , 'trade_count': 'N trades'\n",
    "                                                                                                                           , 'n_distinct_traders': 'N distinct traders'\n",
    "                                                                                                                           , 'ts_rows': 'N TS rows'})\n",
    "agg_scraping_summary[\"N TS rows\"] = agg_scraping_summary[\"N TS rows\"].astype(int)"
   ]
  },
  {
   "cell_type": "markdown",
   "id": "84a3b342-c002-4000-b0f9-88a7cabc5f7f",
   "metadata": {
    "pycharm": {
     "name": "#%% md\n"
    }
   },
   "source": [
    "##### And print it to latex code for report"
   ]
  },
  {
   "cell_type": "code",
   "execution_count": 22,
   "id": "2f2ea47c-d187-48f4-8db8-2eb13fe66d3b",
   "metadata": {
    "execution": {
     "iopub.execute_input": "2022-11-03T16:49:04.443952Z",
     "iopub.status.busy": "2022-11-03T16:49:04.443952Z",
     "iopub.status.idle": "2022-11-03T16:49:05.651776Z",
     "shell.execute_reply": "2022-11-03T16:49:05.651776Z"
    },
    "pycharm": {
     "name": "#%%\n"
    }
   },
   "outputs": [
    {
     "name": "stdout",
     "output_type": "stream",
     "text": [
      "\\begin{table}[H]\n",
      "\\centering\n",
      "\\caption{Summary of discarded input}\n",
      "\\label{table:excluded_companies}\n",
      "\\begin{tabular}{lrrrr}\n",
      "\\toprule\n",
      "{\\bfseries Exclusion Reason} & {\\bfseries N Companies} & {\\bfseries N trades} & {\\bfseries N distinct traders} & {N TS rows} \\\\\n",
      "\\midrule\n",
      "Faulty timeseries data & 2 & 44 & 12 & 3.018 \\\\\n",
      "Missing ISIN & 542 & 85.221 & 8.018 & 446.608 \\\\\n",
      "NA ticker & 7 & 35 & 28 & 3.492 \\\\\n",
      "No timeseries data & 48 & 10.820 & 573 & 0 \\\\\n",
      "No trades done & 844 & 0 & 0 & 839.665 \\\\\n",
      "Non-unique-ticker & 665 & 268.735 & 15.435 & 578.867 \\\\\n",
      "\\bfseries None & \\bfseries 1.534 & \\bfseries 1.098.006 & \\bfseries 54.053 & \\bfseries 2.041.557 \\\\\n",
      "\\bottomrule\n",
      "\\end{tabular}\n",
      "\\end{table}\n",
      "\n",
      "---------------\n"
     ]
    },
    {
     "data": {
      "text/plain": [
       "'\\\\begin{table}[H]\\n\\\\centering\\n\\\\caption{Summary of discarded input}\\n\\\\label{table:excluded_companies}\\n\\\\begin{tabular}{lrrrr}\\n\\\\toprule\\n{\\\\bfseries Exclusion Reason} & {\\\\bfseries N Companies} & {\\\\bfseries N trades} & {\\\\bfseries N distinct traders} & {N TS rows} \\\\\\\\\\n\\\\midrule\\nFaulty timeseries data & 2 & 44 & 12 & 3.018 \\\\\\\\\\nMissing ISIN & 542 & 85.221 & 8.018 & 446.608 \\\\\\\\\\nNA ticker & 7 & 35 & 28 & 3.492 \\\\\\\\\\nNo timeseries data & 48 & 10.820 & 573 & 0 \\\\\\\\\\nNo trades done & 844 & 0 & 0 & 839.665 \\\\\\\\\\nNon-unique-ticker & 665 & 268.735 & 15.435 & 578.867 \\\\\\\\\\n\\\\bfseries None & \\\\bfseries 1.534 & \\\\bfseries 1.098.006 & \\\\bfseries 54.053 & \\\\bfseries 2.041.557 \\\\\\\\\\n\\\\bottomrule\\n\\\\end{tabular}\\n\\\\end{table}\\n'"
      ]
     },
     "execution_count": 22,
     "metadata": {},
     "output_type": "execute_result"
    }
   ],
   "source": [
    "def bold_rows(x):\n",
    "    lenx = x.shape[0]-1\n",
    "    return ['font-weight: bold' if (v == x.loc[lenx]) else '' for v in x]\n",
    "\n",
    "latex = agg_scraping_summary.style\\\n",
    ".apply(bold_rows)\\\n",
    ".applymap_index(lambda v: \"font-weight: bold;\", axis=\"index\")\\\n",
    ".applymap_index(lambda v: \"font-weight: bold;\", axis=\"columns\")\\\n",
    ".format(na_rep=\"-\", precision=1)\\\n",
    ".hide(axis=\"index\")\\\n",
    ".format(thousands=\".\")\\\n",
    ".format_index(escape=\"latex\", axis=1)\\\n",
    ".to_latex(convert_css=True\n",
    "          , column_format=\"lrrrr\"\n",
    "          , position=\"H\"\n",
    "          , position_float=\"centering\"\n",
    "          , hrules=True\n",
    "          , label=\"table:excluded_companies\"\n",
    "          , caption=\"Summary of discarded input\"\n",
    "          , multirow_align=\"t\"\n",
    "          , multicol_align=\"r\"\n",
    "          #, index = False\n",
    "          , siunitx = True\n",
    ")\n",
    "print(latex)\n",
    "print(\"---------------\")\n",
    "latex"
   ]
  },
  {
   "cell_type": "markdown",
   "id": "d903d706-17c1-49c8-8967-28f28df56c54",
   "metadata": {
    "pycharm": {
     "name": "#%% md\n"
    }
   },
   "source": [
    "## Check how to read in, into the analysis notebook"
   ]
  },
  {
   "cell_type": "markdown",
   "id": "762634cb-dc72-4c8c-969d-2049e1e4314f",
   "metadata": {
    "pycharm": {
     "name": "#%% md\n"
    }
   },
   "source": [
    "### This should be done early in cell 3:"
   ]
  },
  {
   "cell_type": "code",
   "execution_count": 23,
   "id": "750920a9-4802-4069-a5c4-5c143e6d3086",
   "metadata": {
    "execution": {
     "iopub.execute_input": "2022-11-03T16:49:05.654776Z",
     "iopub.status.busy": "2022-11-03T16:49:05.654776Z",
     "iopub.status.idle": "2022-11-03T16:49:05.699961Z",
     "shell.execute_reply": "2022-11-03T16:49:05.699961Z"
    },
    "pycharm": {
     "name": "#%%\n"
    },
    "tags": []
   },
   "outputs": [
    {
     "data": {
      "text/html": [
       "<div>\n",
       "<style scoped>\n",
       "    .dataframe tbody tr th:only-of-type {\n",
       "        vertical-align: middle;\n",
       "    }\n",
       "\n",
       "    .dataframe tbody tr th {\n",
       "        vertical-align: top;\n",
       "    }\n",
       "\n",
       "    .dataframe thead th {\n",
       "        text-align: right;\n",
       "    }\n",
       "</style>\n",
       "<table border=\"1\" class=\"dataframe\">\n",
       "  <thead>\n",
       "    <tr style=\"text-align: right;\">\n",
       "      <th></th>\n",
       "      <th>ISIN CODE</th>\n",
       "      <th>NAME</th>\n",
       "      <th>TICKER SYMBOL</th>\n",
       "      <th>trade_count</th>\n",
       "      <th>n_distinct_traders</th>\n",
       "      <th>n_distinct_trade_types</th>\n",
       "      <th>ts_rows</th>\n",
       "      <th>reason_to_exclude</th>\n",
       "    </tr>\n",
       "  </thead>\n",
       "  <tbody>\n",
       "    <tr>\n",
       "      <th>764</th>\n",
       "      <td>US35953D1046</td>\n",
       "      <td>FUBOTV</td>\n",
       "      <td>FUBO</td>\n",
       "      <td>40</td>\n",
       "      <td>8</td>\n",
       "      <td>7</td>\n",
       "      <td>1509.0</td>\n",
       "      <td>Faulty timeseries data</td>\n",
       "    </tr>\n",
       "    <tr>\n",
       "      <th>954</th>\n",
       "      <td>US46124J2015</td>\n",
       "      <td>INVENTRUST PROPERTIES</td>\n",
       "      <td>IVT</td>\n",
       "      <td>4</td>\n",
       "      <td>4</td>\n",
       "      <td>1</td>\n",
       "      <td>1509.0</td>\n",
       "      <td>Faulty timeseries data</td>\n",
       "    </tr>\n",
       "    <tr>\n",
       "      <th>1939</th>\n",
       "      <td>NaN</td>\n",
       "      <td>ABOVENET 'B'</td>\n",
       "      <td>ABVT</td>\n",
       "      <td>179</td>\n",
       "      <td>21</td>\n",
       "      <td>10</td>\n",
       "      <td>824.0</td>\n",
       "      <td>Missing ISIN</td>\n",
       "    </tr>\n",
       "    <tr>\n",
       "      <th>2093</th>\n",
       "      <td>NaN</td>\n",
       "      <td>ATHENA CONSUMER ACQUISITION CL B</td>\n",
       "      <td>ACAQ</td>\n",
       "      <td>1</td>\n",
       "      <td>1</td>\n",
       "      <td>1</td>\n",
       "      <td>824.0</td>\n",
       "      <td>Missing ISIN</td>\n",
       "    </tr>\n",
       "    <tr>\n",
       "      <th>2062</th>\n",
       "      <td>NaN</td>\n",
       "      <td>ARCTIC CAT 'B' DEAD - 07/03/17</td>\n",
       "      <td>ACAT</td>\n",
       "      <td>446</td>\n",
       "      <td>33</td>\n",
       "      <td>8</td>\n",
       "      <td>824.0</td>\n",
       "      <td>Missing ISIN</td>\n",
       "    </tr>\n",
       "    <tr>\n",
       "      <th>...</th>\n",
       "      <td>...</td>\n",
       "      <td>...</td>\n",
       "      <td>...</td>\n",
       "      <td>...</td>\n",
       "      <td>...</td>\n",
       "      <td>...</td>\n",
       "      <td>...</td>\n",
       "      <td>...</td>\n",
       "    </tr>\n",
       "    <tr>\n",
       "      <th>1057</th>\n",
       "      <td>US53228T1016</td>\n",
       "      <td>LIGHTNING EMOTORS</td>\n",
       "      <td>ZEV</td>\n",
       "      <td>16</td>\n",
       "      <td>13</td>\n",
       "      <td>5</td>\n",
       "      <td>430.0</td>\n",
       "      <td>None</td>\n",
       "    </tr>\n",
       "    <tr>\n",
       "      <th>3636</th>\n",
       "      <td>US98979J1097</td>\n",
       "      <td>ZOES KITCHEN DEAD - DELIST.21/11/18</td>\n",
       "      <td>ZOES</td>\n",
       "      <td>87</td>\n",
       "      <td>17</td>\n",
       "      <td>8</td>\n",
       "      <td>675.0</td>\n",
       "      <td>None</td>\n",
       "    </tr>\n",
       "    <tr>\n",
       "      <th>1923</th>\n",
       "      <td>US98978V1035</td>\n",
       "      <td>ZOETIS A</td>\n",
       "      <td>ZTS</td>\n",
       "      <td>499</td>\n",
       "      <td>34</td>\n",
       "      <td>8</td>\n",
       "      <td>1509.0</td>\n",
       "      <td>None</td>\n",
       "    </tr>\n",
       "    <tr>\n",
       "      <th>1926</th>\n",
       "      <td>US98983L1089</td>\n",
       "      <td>ZURN WATER SOLUTIONS</td>\n",
       "      <td>ZWS</td>\n",
       "      <td>526</td>\n",
       "      <td>27</td>\n",
       "      <td>8</td>\n",
       "      <td>1509.0</td>\n",
       "      <td>None</td>\n",
       "    </tr>\n",
       "    <tr>\n",
       "      <th>1927</th>\n",
       "      <td>CA98985W1023</td>\n",
       "      <td>ZYMEWORKS (NYS)</td>\n",
       "      <td>ZYME</td>\n",
       "      <td>82</td>\n",
       "      <td>10</td>\n",
       "      <td>5</td>\n",
       "      <td>1230.0</td>\n",
       "      <td>None</td>\n",
       "    </tr>\n",
       "  </tbody>\n",
       "</table>\n",
       "<p>3642 rows × 8 columns</p>\n",
       "</div>"
      ],
      "text/plain": [
       "         ISIN CODE                                 NAME TICKER SYMBOL  \\\n",
       "764   US35953D1046                               FUBOTV          FUBO   \n",
       "954   US46124J2015                INVENTRUST PROPERTIES           IVT   \n",
       "1939           NaN                         ABOVENET 'B'          ABVT   \n",
       "2093           NaN     ATHENA CONSUMER ACQUISITION CL B          ACAQ   \n",
       "2062           NaN       ARCTIC CAT 'B' DEAD - 07/03/17          ACAT   \n",
       "...            ...                                  ...           ...   \n",
       "1057  US53228T1016                    LIGHTNING EMOTORS           ZEV   \n",
       "3636  US98979J1097  ZOES KITCHEN DEAD - DELIST.21/11/18          ZOES   \n",
       "1923  US98978V1035                             ZOETIS A           ZTS   \n",
       "1926  US98983L1089                 ZURN WATER SOLUTIONS           ZWS   \n",
       "1927  CA98985W1023                      ZYMEWORKS (NYS)          ZYME   \n",
       "\n",
       "      trade_count  n_distinct_traders  n_distinct_trade_types  ts_rows  \\\n",
       "764            40                   8                       7   1509.0   \n",
       "954             4                   4                       1   1509.0   \n",
       "1939          179                  21                      10    824.0   \n",
       "2093            1                   1                       1    824.0   \n",
       "2062          446                  33                       8    824.0   \n",
       "...           ...                 ...                     ...      ...   \n",
       "1057           16                  13                       5    430.0   \n",
       "3636           87                  17                       8    675.0   \n",
       "1923          499                  34                       8   1509.0   \n",
       "1926          526                  27                       8   1509.0   \n",
       "1927           82                  10                       5   1230.0   \n",
       "\n",
       "           reason_to_exclude  \n",
       "764   Faulty timeseries data  \n",
       "954   Faulty timeseries data  \n",
       "1939            Missing ISIN  \n",
       "2093            Missing ISIN  \n",
       "2062            Missing ISIN  \n",
       "...                      ...  \n",
       "1057                    None  \n",
       "3636                    None  \n",
       "1923                    None  \n",
       "1926                    None  \n",
       "1927                    None  \n",
       "\n",
       "[3642 rows x 8 columns]"
      ]
     },
     "metadata": {},
     "output_type": "display_data"
    },
    {
     "name": "stdout",
     "output_type": "stream",
     "text": [
      "We want to reduce to 1534 isins\n"
     ]
    }
   ],
   "source": [
    "# Read in the summary data from \"CompaniesToExclude\" notebook\n",
    "summary_data = pd.read_csv(DATA_LOCATION + '/scraping_summary.csv', index_col=0)\n",
    "# Generate list of which companies to analyse\n",
    "isins_to_use = summary_data[summary_data['reason_to_exclude'] == 'None']['ISIN CODE'].to_list()\n",
    "display(summary_data)\n",
    "print(f'We want to reduce to {len(isins_to_use)} isins')"
   ]
  },
  {
   "cell_type": "code",
   "execution_count": 24,
   "id": "1772fe54-5795-4709-883a-dcbaea7678f3",
   "metadata": {
    "execution": {
     "iopub.execute_input": "2022-11-03T16:49:05.703000Z",
     "iopub.status.busy": "2022-11-03T16:49:05.703000Z",
     "iopub.status.idle": "2022-11-03T16:49:05.715781Z",
     "shell.execute_reply": "2022-11-03T16:49:05.715781Z"
    }
   },
   "outputs": [],
   "source": [
    "#summary_data[summary_data['TICKER SYMBOL'] == 'CLBS']\n",
    "#summary_data[summary_data['TICKER SYMBOL'] == 'VIVE']"
   ]
  },
  {
   "cell_type": "code",
   "execution_count": null,
   "id": "4aca2fa5-74b3-4fd4-80da-891ee8878b0d",
   "metadata": {},
   "outputs": [],
   "source": []
  },
  {
   "cell_type": "markdown",
   "id": "dd019861-a973-4f2a-9f08-c8b65acf70e3",
   "metadata": {
    "pycharm": {
     "name": "#%% md\n"
    }
   },
   "source": [
    "### This needs to be changed in other notebook! in Cell 3:"
   ]
  },
  {
   "cell_type": "code",
   "execution_count": 25,
   "id": "633d74ef-b71f-48d5-9099-23fd14fdaf42",
   "metadata": {
    "execution": {
     "iopub.execute_input": "2022-11-03T16:49:05.718823Z",
     "iopub.status.busy": "2022-11-03T16:49:05.718823Z",
     "iopub.status.idle": "2022-11-03T16:49:05.761918Z",
     "shell.execute_reply": "2022-11-03T16:49:05.761918Z"
    },
    "pycharm": {
     "name": "#%%\n"
    }
   },
   "outputs": [
    {
     "name": "stdout",
     "output_type": "stream",
     "text": [
      "Found 2171 possible files to analyze\n",
      "We are left with 1534 to analyze\n"
     ]
    }
   ],
   "source": [
    "# Data locations\n",
    "DATA_LOCATION = f'data/{NAME}/'\n",
    "DATA_LOCATION_INSIDER_PROCESSED = DATA_LOCATION + 'processed/insider/'\n",
    "DATA_LOCATION_RI = DATA_LOCATION + 'processed/RI_discard/'\n",
    "\n",
    "## Not sure why we do this - maybe refactor\n",
    "_ri_location = DATA_LOCATION_RI\n",
    "_insider_location = DATA_LOCATION_INSIDER_PROCESSED\n",
    "\n",
    "# Get locations to read in\n",
    "file_locs_ = os.listdir(_ri_location)\n",
    "print(f'Found {len(file_locs_)} possible files to analyze')\n",
    "# Filter files for analysis, and append path:\n",
    "file_locs = [_ri_location + f for f in file_locs_ if f[:-7] in isins_to_use]\n",
    "print(f'We are left with {len(file_locs)} to analyze')\n"
   ]
  },
  {
   "cell_type": "markdown",
   "id": "450015fc-cdf6-440b-b25e-8e6379dd8652",
   "metadata": {
    "pycharm": {
     "name": "#%% md\n"
    }
   },
   "source": [
    "### In the next cell (5):\n",
    "I'm sorry, but this will have to replace the beautiful `ISINs = [rick[:-7] for rick in pickles]`"
   ]
  },
  {
   "cell_type": "code",
   "execution_count": 26,
   "id": "1fa57dcb-f480-4b4a-aa53-c911963c4d4b",
   "metadata": {
    "execution": {
     "iopub.execute_input": "2022-11-03T16:49:05.764921Z",
     "iopub.status.busy": "2022-11-03T16:49:05.764921Z",
     "iopub.status.idle": "2022-11-03T16:49:05.809858Z",
     "shell.execute_reply": "2022-11-03T16:49:05.809858Z"
    },
    "pycharm": {
     "name": "#%%\n"
    },
    "tags": []
   },
   "outputs": [
    {
     "name": "stdout",
     "output_type": "stream",
     "text": [
      "1534\n"
     ]
    }
   ],
   "source": [
    "#ISINs = [f for f in file_locs_ if f[:-7] in isins_to_use]\n",
    "#ISINs = isins_to_use\n",
    "ISINs =  [f[:-7] for f in file_locs_ if f[:-7] in isins_to_use]\n",
    "print(len(ISINs))"
   ]
  }
 ],
 "metadata": {
  "kernelspec": {
   "display_name": "Python 3 (ipykernel)",
   "language": "python",
   "name": "python3"
  },
  "language_info": {
   "codemirror_mode": {
    "name": "ipython",
    "version": 3
   },
   "file_extension": ".py",
   "mimetype": "text/x-python",
   "name": "python",
   "nbconvert_exporter": "python",
   "pygments_lexer": "ipython3",
   "version": "3.8.13"
  }
 },
 "nbformat": 4,
 "nbformat_minor": 5
}
