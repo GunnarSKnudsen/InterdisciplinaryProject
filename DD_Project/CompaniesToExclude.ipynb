{
 "cells": [
  {
   "cell_type": "markdown",
   "id": "1851cc57-817d-4b58-a899-6f0664b6c9c1",
   "metadata": {},
   "source": [
    "# Explore which companies should be excluded\n",
    "As we've noticed some errors with our dataset, we need to ignore some companies.\n",
    "\n",
    "This notebook BADLY needs refactoring. I think I can feel the hunger playing in..."
   ]
  },
  {
   "cell_type": "markdown",
   "id": "a2bbfa49-f820-4695-a024-a3731769ce65",
   "metadata": {},
   "source": [
    "## Load libraries"
   ]
  },
  {
   "cell_type": "code",
   "execution_count": 1,
   "id": "13e56a34-9ca3-4f3e-9ec1-6db5a33e62ff",
   "metadata": {},
   "outputs": [],
   "source": [
    "import pickle\n",
    "import pandas as pd\n",
    "import numpy as np\n",
    "import matplotlib.pyplot as plt\n",
    "from matplotlib import pyplot as plt\n",
    "import time\n",
    "import datetime\n",
    "from dateutil.relativedelta import relativedelta\n",
    "import requests\n",
    "import locale\n",
    "from pandas.io.json import json_normalize\n",
    "import os\n",
    "from os.path import exists\n",
    "import sys\n",
    "import io\n",
    "from tqdm import tqdm"
   ]
  },
  {
   "cell_type": "markdown",
   "id": "45c2026f-67a8-4ab8-aa92-01e8e40514b9",
   "metadata": {},
   "source": [
    "## Load custom libraries"
   ]
  },
  {
   "cell_type": "code",
   "execution_count": 2,
   "id": "09e9b0a7-8431-42f7-973f-214076775a88",
   "metadata": {},
   "outputs": [],
   "source": [
    "import source.read_tickers_and_isins as URTI"
   ]
  },
  {
   "cell_type": "markdown",
   "id": "1d3f9b21-469a-4eb5-882e-365295ec5dc1",
   "metadata": {},
   "source": [
    "### Define which data to be loaded"
   ]
  },
  {
   "cell_type": "code",
   "execution_count": 104,
   "id": "6c4ea762-810a-4922-a75c-003d0e675914",
   "metadata": {},
   "outputs": [],
   "source": [
    "# Set flags for what will be handled\n",
    "NAME = \"Knudsen\" # \"Niedermayer\"\n",
    "#NAME = \"Niedermayer\"\n",
    "prepare_and_download = True\n",
    "\n",
    "# Constants:\n",
    "## Different Parameters depending on the setting\n",
    "if NAME == \"Knudsen\":\n",
    "    no_https = False\n",
    "    to_date_name = \"DATE/TIME (DS End Date)\"\n",
    "    STOCK_EXCHANGE = \"Nasdaq\"\n",
    "    n_input_files = 7\n",
    "    _ticker = '%5EIXIC'  \n",
    "elif NAME == \"Niedermayer\":\n",
    "    no_https = True\n",
    "    to_date_name = \"DATE/TIME (DS End Date)\"\n",
    "    STOCK_EXCHANGE = \"NYSE\"\n",
    "    n_input_files = 4\n",
    "    _ticker = \"%5Enya\"\n",
    "else:\n",
    "    raise NotImplementedError"
   ]
  },
  {
   "cell_type": "code",
   "execution_count": null,
   "id": "dd4ed9d3-0705-4606-9dae-2a2cf7dcbb82",
   "metadata": {},
   "outputs": [],
   "source": []
  },
  {
   "cell_type": "code",
   "execution_count": 105,
   "id": "4905b302-5ea8-457e-8068-db80d2640894",
   "metadata": {},
   "outputs": [],
   "source": [
    "DATA_LOCATION = f'data/{NAME}/'\n",
    "_insider_location = DATA_LOCATION + 'processed/insider/'"
   ]
  },
  {
   "cell_type": "code",
   "execution_count": null,
   "id": "5f071af8-ec8a-4796-ab3b-2ce92c2c3798",
   "metadata": {},
   "outputs": [],
   "source": []
  },
  {
   "cell_type": "code",
   "execution_count": 106,
   "id": "23e8efe5-e81e-4796-8854-69838c81079c",
   "metadata": {},
   "outputs": [],
   "source": [
    "INPUT_FILE = f'input_data/{NAME}/{STOCK_EXCHANGE} Composite 16.3.2022 plus dead firms - {NAME}.xlsx'"
   ]
  },
  {
   "cell_type": "code",
   "execution_count": 107,
   "id": "05f4f316-4ca5-4b67-9617-dc43cee22cca",
   "metadata": {},
   "outputs": [
    {
     "name": "stdout",
     "output_type": "stream",
     "text": [
      "Reading tickers\n"
     ]
    }
   ],
   "source": [
    "data = URTI.read_tickers_and_isins(INPUT_FILE)"
   ]
  },
  {
   "cell_type": "markdown",
   "id": "c9a24c5e-9fd5-4480-b5a6-bd6a980013e1",
   "metadata": {},
   "source": [
    "### Start filtering"
   ]
  },
  {
   "cell_type": "code",
   "execution_count": 108,
   "id": "e5224aad-507d-401f-a1d4-fe22688c59f7",
   "metadata": {},
   "outputs": [],
   "source": [
    "data['reason_to_exclude'] = 'None'"
   ]
  },
  {
   "cell_type": "markdown",
   "id": "6d12b135-0c68-4a74-8570-37c00b7cf32c",
   "metadata": {},
   "source": [
    "### Find non-unique tickers"
   ]
  },
  {
   "cell_type": "code",
   "execution_count": 116,
   "id": "901fe043-8fa8-4fe0-a661-42d8e4933a4e",
   "metadata": {},
   "outputs": [],
   "source": [
    "dublicate_tickers = data[data.duplicated(subset=['TICKER SYMBOL'],keep=False)]['TICKER SYMBOL']\n",
    "dublicate_tickers_mask = data['TICKER SYMBOL'].isin(dublicate_tickers)"
   ]
  },
  {
   "cell_type": "code",
   "execution_count": 117,
   "id": "39728d53-38f5-4451-9764-2359fd17cb5e",
   "metadata": {},
   "outputs": [],
   "source": [
    "data.loc[dublicate_tickers_mask, 'reason_to_exclude'] = 'Non-unique-ticker'"
   ]
  },
  {
   "cell_type": "markdown",
   "id": "4bc7b37b-8747-494c-8bd6-ebe2c11047f8",
   "metadata": {},
   "source": [
    "### Find NA tickers"
   ]
  },
  {
   "cell_type": "code",
   "execution_count": 118,
   "id": "e98b60ad-e72e-4b67-8526-7191fb42bb4d",
   "metadata": {},
   "outputs": [],
   "source": [
    "mask = data['TICKER SYMBOL'] == 'NA'\n",
    "data.loc[mask, 'reason_to_exclude'] = 'NA ticker'"
   ]
  },
  {
   "cell_type": "markdown",
   "id": "7427e500-ca70-44d7-abe2-c9fdd0b0c1dd",
   "metadata": {},
   "source": [
    "### Show what we have"
   ]
  },
  {
   "cell_type": "code",
   "execution_count": 119,
   "id": "d1851a56-20d9-4a7a-8143-b41fabd065a6",
   "metadata": {},
   "outputs": [
    {
     "data": {
      "text/html": [
       "<div>\n",
       "<style scoped>\n",
       "    .dataframe tbody tr th:only-of-type {\n",
       "        vertical-align: middle;\n",
       "    }\n",
       "\n",
       "    .dataframe tbody tr th {\n",
       "        vertical-align: top;\n",
       "    }\n",
       "\n",
       "    .dataframe thead th {\n",
       "        text-align: right;\n",
       "    }\n",
       "</style>\n",
       "<table border=\"1\" class=\"dataframe\">\n",
       "  <thead>\n",
       "    <tr style=\"text-align: right;\">\n",
       "      <th></th>\n",
       "      <th>Type</th>\n",
       "      <th>ISIN CODE</th>\n",
       "      <th>LOC OFF. CODE</th>\n",
       "      <th>NAME</th>\n",
       "      <th>DATASTREAM CODE</th>\n",
       "      <th>CUSIP</th>\n",
       "      <th>TICKER SYMBOL</th>\n",
       "      <th>BASE OR ST DATE</th>\n",
       "      <th>DATE/TIME (DS End Date)</th>\n",
       "      <th>reason_to_exclude</th>\n",
       "    </tr>\n",
       "  </thead>\n",
       "  <tbody>\n",
       "    <tr>\n",
       "      <th>0</th>\n",
       "      <td>2606T9</td>\n",
       "      <td>KYG870761080</td>\n",
       "      <td>UG87076108</td>\n",
       "      <td>10X CAPITAL VENTURE ACQUISITION II A</td>\n",
       "      <td>2606T9</td>\n",
       "      <td>G87076108</td>\n",
       "      <td>VCXA</td>\n",
       "      <td>2021-10-05</td>\n",
       "      <td>2022-03-16</td>\n",
       "      <td>None</td>\n",
       "    </tr>\n",
       "    <tr>\n",
       "      <th>1</th>\n",
       "      <td>95118Z</td>\n",
       "      <td>US88025U1097</td>\n",
       "      <td>U88025U109</td>\n",
       "      <td>10X GENOMICS A</td>\n",
       "      <td>95118Z</td>\n",
       "      <td>88025U109</td>\n",
       "      <td>TXG</td>\n",
       "      <td>2019-09-12</td>\n",
       "      <td>2022-03-16</td>\n",
       "      <td>None</td>\n",
       "    </tr>\n",
       "    <tr>\n",
       "      <th>2</th>\n",
       "      <td>9330V3</td>\n",
       "      <td>US68247Q1022</td>\n",
       "      <td>U68247Q102</td>\n",
       "      <td>111 ADR 1:2</td>\n",
       "      <td>9330V3</td>\n",
       "      <td>68247Q102</td>\n",
       "      <td>YI</td>\n",
       "      <td>2018-09-12</td>\n",
       "      <td>2022-03-16</td>\n",
       "      <td>None</td>\n",
       "    </tr>\n",
       "    <tr>\n",
       "      <th>3</th>\n",
       "      <td>99133U</td>\n",
       "      <td>US81807M2052</td>\n",
       "      <td>U81807M205</td>\n",
       "      <td>17 ED.TGP.ADR 1:10</td>\n",
       "      <td>99133U</td>\n",
       "      <td>81807M205</td>\n",
       "      <td>YQ</td>\n",
       "      <td>2020-12-04</td>\n",
       "      <td>2022-03-16</td>\n",
       "      <td>None</td>\n",
       "    </tr>\n",
       "    <tr>\n",
       "      <th>4</th>\n",
       "      <td>9101KM</td>\n",
       "      <td>US68236V1044</td>\n",
       "      <td>U68236V104</td>\n",
       "      <td>180 LIFE SCIENCES</td>\n",
       "      <td>9101KM</td>\n",
       "      <td>68236V104</td>\n",
       "      <td>ATNF</td>\n",
       "      <td>2017-06-27</td>\n",
       "      <td>2022-03-16</td>\n",
       "      <td>None</td>\n",
       "    </tr>\n",
       "    <tr>\n",
       "      <th>...</th>\n",
       "      <td>...</td>\n",
       "      <td>...</td>\n",
       "      <td>...</td>\n",
       "      <td>...</td>\n",
       "      <td>...</td>\n",
       "      <td>...</td>\n",
       "      <td>...</td>\n",
       "      <td>...</td>\n",
       "      <td>...</td>\n",
       "      <td>...</td>\n",
       "    </tr>\n",
       "    <tr>\n",
       "      <th>4073</th>\n",
       "      <td>30358V</td>\n",
       "      <td>US9898171015</td>\n",
       "      <td>U989817101</td>\n",
       "      <td>ZUMIEZ</td>\n",
       "      <td>30358V</td>\n",
       "      <td>989817101</td>\n",
       "      <td>ZUMZ</td>\n",
       "      <td>2005-05-06</td>\n",
       "      <td>2022-03-16</td>\n",
       "      <td>None</td>\n",
       "    </tr>\n",
       "    <tr>\n",
       "      <th>4074</th>\n",
       "      <td>50259R</td>\n",
       "      <td>US98880R1095</td>\n",
       "      <td>U98880R109</td>\n",
       "      <td>ZW DATA ACTION TECHNOLOGIES</td>\n",
       "      <td>50259R</td>\n",
       "      <td>98880R109</td>\n",
       "      <td>CNET</td>\n",
       "      <td>2007-10-15</td>\n",
       "      <td>2022-03-16</td>\n",
       "      <td>None</td>\n",
       "    </tr>\n",
       "    <tr>\n",
       "      <th>4075</th>\n",
       "      <td>2568RT</td>\n",
       "      <td>US98985X1000</td>\n",
       "      <td>U98985X100</td>\n",
       "      <td>ZYMERGEN</td>\n",
       "      <td>2568RT</td>\n",
       "      <td>98985X100</td>\n",
       "      <td>ZY</td>\n",
       "      <td>2021-04-22</td>\n",
       "      <td>2022-03-16</td>\n",
       "      <td>None</td>\n",
       "    </tr>\n",
       "    <tr>\n",
       "      <th>4076</th>\n",
       "      <td>98116P</td>\n",
       "      <td>US98986X1090</td>\n",
       "      <td>U98986X109</td>\n",
       "      <td>ZYNERBA PHARMACEUTICALS</td>\n",
       "      <td>98116P</td>\n",
       "      <td>98986X109</td>\n",
       "      <td>ZYNE</td>\n",
       "      <td>2015-08-05</td>\n",
       "      <td>2022-03-16</td>\n",
       "      <td>None</td>\n",
       "    </tr>\n",
       "    <tr>\n",
       "      <th>4077</th>\n",
       "      <td>774464</td>\n",
       "      <td>US98986T1088</td>\n",
       "      <td>U98986T108</td>\n",
       "      <td>ZYNGA 'A'</td>\n",
       "      <td>774464</td>\n",
       "      <td>98986T108</td>\n",
       "      <td>ZNGA</td>\n",
       "      <td>2011-12-16</td>\n",
       "      <td>2022-03-16</td>\n",
       "      <td>None</td>\n",
       "    </tr>\n",
       "  </tbody>\n",
       "</table>\n",
       "<p>4078 rows × 10 columns</p>\n",
       "</div>"
      ],
      "text/plain": [
       "        Type     ISIN CODE LOC OFF. CODE  \\\n",
       "0     2606T9  KYG870761080    UG87076108   \n",
       "1     95118Z  US88025U1097    U88025U109   \n",
       "2     9330V3  US68247Q1022    U68247Q102   \n",
       "3     99133U  US81807M2052    U81807M205   \n",
       "4     9101KM  US68236V1044    U68236V104   \n",
       "...      ...           ...           ...   \n",
       "4073  30358V  US9898171015    U989817101   \n",
       "4074  50259R  US98880R1095    U98880R109   \n",
       "4075  2568RT  US98985X1000    U98985X100   \n",
       "4076  98116P  US98986X1090    U98986X109   \n",
       "4077  774464  US98986T1088    U98986T108   \n",
       "\n",
       "                                      NAME DATASTREAM CODE      CUSIP  \\\n",
       "0     10X CAPITAL VENTURE ACQUISITION II A          2606T9  G87076108   \n",
       "1                           10X GENOMICS A          95118Z  88025U109   \n",
       "2                              111 ADR 1:2          9330V3  68247Q102   \n",
       "3                       17 ED.TGP.ADR 1:10          99133U  81807M205   \n",
       "4                        180 LIFE SCIENCES          9101KM  68236V104   \n",
       "...                                    ...             ...        ...   \n",
       "4073                                ZUMIEZ          30358V  989817101   \n",
       "4074           ZW DATA ACTION TECHNOLOGIES          50259R  98880R109   \n",
       "4075                              ZYMERGEN          2568RT  98985X100   \n",
       "4076               ZYNERBA PHARMACEUTICALS          98116P  98986X109   \n",
       "4077                             ZYNGA 'A'          774464  98986T108   \n",
       "\n",
       "     TICKER SYMBOL BASE OR ST DATE DATE/TIME (DS End Date) reason_to_exclude  \n",
       "0             VCXA      2021-10-05              2022-03-16              None  \n",
       "1              TXG      2019-09-12              2022-03-16              None  \n",
       "2               YI      2018-09-12              2022-03-16              None  \n",
       "3               YQ      2020-12-04              2022-03-16              None  \n",
       "4             ATNF      2017-06-27              2022-03-16              None  \n",
       "...            ...             ...                     ...               ...  \n",
       "4073          ZUMZ      2005-05-06              2022-03-16              None  \n",
       "4074          CNET      2007-10-15              2022-03-16              None  \n",
       "4075            ZY      2021-04-22              2022-03-16              None  \n",
       "4076          ZYNE      2015-08-05              2022-03-16              None  \n",
       "4077          ZNGA      2011-12-16              2022-03-16              None  \n",
       "\n",
       "[4078 rows x 10 columns]"
      ]
     },
     "execution_count": 119,
     "metadata": {},
     "output_type": "execute_result"
    }
   ],
   "source": [
    "data"
   ]
  },
  {
   "cell_type": "markdown",
   "id": "30104127-7482-4c27-899f-bf1e2878e299",
   "metadata": {},
   "source": [
    "### Show amounts that are excluded"
   ]
  },
  {
   "cell_type": "code",
   "execution_count": 131,
   "id": "f43941c4-b204-4bfe-92c9-17026bb798f1",
   "metadata": {},
   "outputs": [
    {
     "data": {
      "text/html": [
       "<div>\n",
       "<style scoped>\n",
       "    .dataframe tbody tr th:only-of-type {\n",
       "        vertical-align: middle;\n",
       "    }\n",
       "\n",
       "    .dataframe tbody tr th {\n",
       "        vertical-align: top;\n",
       "    }\n",
       "\n",
       "    .dataframe thead th {\n",
       "        text-align: right;\n",
       "    }\n",
       "</style>\n",
       "<table border=\"1\" class=\"dataframe\">\n",
       "  <thead>\n",
       "    <tr style=\"text-align: right;\">\n",
       "      <th></th>\n",
       "      <th>Type</th>\n",
       "      <th>ISIN CODE</th>\n",
       "      <th>LOC OFF. CODE</th>\n",
       "      <th>NAME</th>\n",
       "      <th>DATASTREAM CODE</th>\n",
       "      <th>CUSIP</th>\n",
       "      <th>TICKER SYMBOL</th>\n",
       "      <th>BASE OR ST DATE</th>\n",
       "      <th>DATE/TIME (DS End Date)</th>\n",
       "    </tr>\n",
       "    <tr>\n",
       "      <th>reason_to_exclude</th>\n",
       "      <th></th>\n",
       "      <th></th>\n",
       "      <th></th>\n",
       "      <th></th>\n",
       "      <th></th>\n",
       "      <th></th>\n",
       "      <th></th>\n",
       "      <th></th>\n",
       "      <th></th>\n",
       "    </tr>\n",
       "  </thead>\n",
       "  <tbody>\n",
       "    <tr>\n",
       "      <th>NA ticker</th>\n",
       "      <td>158</td>\n",
       "      <td>158</td>\n",
       "      <td>158</td>\n",
       "      <td>158</td>\n",
       "      <td>158</td>\n",
       "      <td>158</td>\n",
       "      <td>158</td>\n",
       "      <td>158</td>\n",
       "      <td>158</td>\n",
       "    </tr>\n",
       "    <tr>\n",
       "      <th>Non-unique-ticker</th>\n",
       "      <td>93</td>\n",
       "      <td>93</td>\n",
       "      <td>93</td>\n",
       "      <td>93</td>\n",
       "      <td>93</td>\n",
       "      <td>93</td>\n",
       "      <td>93</td>\n",
       "      <td>93</td>\n",
       "      <td>93</td>\n",
       "    </tr>\n",
       "    <tr>\n",
       "      <th>None</th>\n",
       "      <td>3827</td>\n",
       "      <td>3827</td>\n",
       "      <td>3827</td>\n",
       "      <td>3827</td>\n",
       "      <td>3827</td>\n",
       "      <td>3827</td>\n",
       "      <td>3827</td>\n",
       "      <td>3827</td>\n",
       "      <td>3827</td>\n",
       "    </tr>\n",
       "  </tbody>\n",
       "</table>\n",
       "</div>"
      ],
      "text/plain": [
       "                   Type  ISIN CODE  LOC OFF. CODE  NAME  DATASTREAM CODE  \\\n",
       "reason_to_exclude                                                          \n",
       "NA ticker           158        158            158   158              158   \n",
       "Non-unique-ticker    93         93             93    93               93   \n",
       "None               3827       3827           3827  3827             3827   \n",
       "\n",
       "                   CUSIP  TICKER SYMBOL  BASE OR ST DATE  \\\n",
       "reason_to_exclude                                          \n",
       "NA ticker            158            158              158   \n",
       "Non-unique-ticker     93             93               93   \n",
       "None                3827           3827             3827   \n",
       "\n",
       "                   DATE/TIME (DS End Date)  \n",
       "reason_to_exclude                           \n",
       "NA ticker                              158  \n",
       "Non-unique-ticker                       93  \n",
       "None                                  3827  "
      ]
     },
     "execution_count": 131,
     "metadata": {},
     "output_type": "execute_result"
    }
   ],
   "source": [
    "data.groupby(['reason_to_exclude']).count()"
   ]
  },
  {
   "cell_type": "markdown",
   "id": "40804664-e921-42d1-a21a-516c3df3c567",
   "metadata": {},
   "source": [
    "### Show which ones are excluded:"
   ]
  },
  {
   "cell_type": "code",
   "execution_count": 132,
   "id": "3731075b-e1ab-4698-abe7-b45baf89636d",
   "metadata": {},
   "outputs": [
    {
     "data": {
      "text/html": [
       "<div>\n",
       "<style scoped>\n",
       "    .dataframe tbody tr th:only-of-type {\n",
       "        vertical-align: middle;\n",
       "    }\n",
       "\n",
       "    .dataframe tbody tr th {\n",
       "        vertical-align: top;\n",
       "    }\n",
       "\n",
       "    .dataframe thead th {\n",
       "        text-align: right;\n",
       "    }\n",
       "</style>\n",
       "<table border=\"1\" class=\"dataframe\">\n",
       "  <thead>\n",
       "    <tr style=\"text-align: right;\">\n",
       "      <th></th>\n",
       "      <th>Type</th>\n",
       "      <th>ISIN CODE</th>\n",
       "      <th>LOC OFF. CODE</th>\n",
       "      <th>NAME</th>\n",
       "      <th>DATASTREAM CODE</th>\n",
       "      <th>CUSIP</th>\n",
       "      <th>TICKER SYMBOL</th>\n",
       "      <th>BASE OR ST DATE</th>\n",
       "      <th>DATE/TIME (DS End Date)</th>\n",
       "      <th>reason_to_exclude</th>\n",
       "    </tr>\n",
       "  </thead>\n",
       "  <tbody>\n",
       "    <tr>\n",
       "      <th>18</th>\n",
       "      <td>2560C4</td>\n",
       "      <td>US35085K1097</td>\n",
       "      <td>U35085K109</td>\n",
       "      <td>4D PHARMA AMERICAN DEPOSITARY SHARES 1:8</td>\n",
       "      <td>2560C4</td>\n",
       "      <td>NA</td>\n",
       "      <td>NA</td>\n",
       "      <td>2021-03-22</td>\n",
       "      <td>2022-03-16</td>\n",
       "      <td>NA ticker</td>\n",
       "    </tr>\n",
       "    <tr>\n",
       "      <th>21</th>\n",
       "      <td>2654F6</td>\n",
       "      <td>US33830Q1094</td>\n",
       "      <td>U33830Q109</td>\n",
       "      <td>5E ADVANCED MATERIALS</td>\n",
       "      <td>2654F6</td>\n",
       "      <td>NA</td>\n",
       "      <td>NA</td>\n",
       "      <td>2022-03-15</td>\n",
       "      <td>2022-03-16</td>\n",
       "      <td>NA ticker</td>\n",
       "    </tr>\n",
       "    <tr>\n",
       "      <th>40</th>\n",
       "      <td>9070VE</td>\n",
       "      <td>US00372Y1055</td>\n",
       "      <td>U00372Y105</td>\n",
       "      <td>ABLYNX SPONSORED ADR 1:1 DEAD - DELIST.13/06/18</td>\n",
       "      <td>9070VE</td>\n",
       "      <td>NA</td>\n",
       "      <td>NA</td>\n",
       "      <td>2017-10-20</td>\n",
       "      <td>2018-06-12</td>\n",
       "      <td>NA ticker</td>\n",
       "    </tr>\n",
       "    <tr>\n",
       "      <th>58</th>\n",
       "      <td>2576J8</td>\n",
       "      <td>VGG0083E1025</td>\n",
       "      <td>UG0083E102</td>\n",
       "      <td>ACE GLOBAL BUSINESS ACQUISITION</td>\n",
       "      <td>2576J8</td>\n",
       "      <td>NA</td>\n",
       "      <td>NA</td>\n",
       "      <td>2021-05-26</td>\n",
       "      <td>2022-03-16</td>\n",
       "      <td>NA ticker</td>\n",
       "    </tr>\n",
       "    <tr>\n",
       "      <th>63</th>\n",
       "      <td>2619K4</td>\n",
       "      <td>US00444X1019</td>\n",
       "      <td>U00444X101</td>\n",
       "      <td>ACHARI VENTURES HOLDINGS I</td>\n",
       "      <td>2619K4</td>\n",
       "      <td>NA</td>\n",
       "      <td>NA</td>\n",
       "      <td>2021-11-17</td>\n",
       "      <td>2022-03-16</td>\n",
       "      <td>NA ticker</td>\n",
       "    </tr>\n",
       "    <tr>\n",
       "      <th>...</th>\n",
       "      <td>...</td>\n",
       "      <td>...</td>\n",
       "      <td>...</td>\n",
       "      <td>...</td>\n",
       "      <td>...</td>\n",
       "      <td>...</td>\n",
       "      <td>...</td>\n",
       "      <td>...</td>\n",
       "      <td>...</td>\n",
       "      <td>...</td>\n",
       "    </tr>\n",
       "    <tr>\n",
       "      <th>4005</th>\n",
       "      <td>9302NX</td>\n",
       "      <td>US98212N1072</td>\n",
       "      <td>U98212N107</td>\n",
       "      <td>WRAP TECHNOLOGIES</td>\n",
       "      <td>9302NX</td>\n",
       "      <td>NA</td>\n",
       "      <td>NA</td>\n",
       "      <td>2018-05-29</td>\n",
       "      <td>2022-03-16</td>\n",
       "      <td>NA ticker</td>\n",
       "    </tr>\n",
       "    <tr>\n",
       "      <th>4043</th>\n",
       "      <td>2640FQ</td>\n",
       "      <td>US98741L1017</td>\n",
       "      <td>U98741L101</td>\n",
       "      <td>YOSHITSU ADR 1:1</td>\n",
       "      <td>2640FQ</td>\n",
       "      <td>NA</td>\n",
       "      <td>NA</td>\n",
       "      <td>2022-01-18</td>\n",
       "      <td>2022-03-16</td>\n",
       "      <td>NA ticker</td>\n",
       "    </tr>\n",
       "    <tr>\n",
       "      <th>4054</th>\n",
       "      <td>91232M</td>\n",
       "      <td>US98920Y3045</td>\n",
       "      <td>U98920Y304</td>\n",
       "      <td>ZEALAND PHARMA ADR.1:1</td>\n",
       "      <td>91232M</td>\n",
       "      <td>NA</td>\n",
       "      <td>NA</td>\n",
       "      <td>2017-08-09</td>\n",
       "      <td>2022-03-16</td>\n",
       "      <td>NA ticker</td>\n",
       "    </tr>\n",
       "    <tr>\n",
       "      <th>4060</th>\n",
       "      <td>77170U</td>\n",
       "      <td>US98954M1018</td>\n",
       "      <td>U98954M101</td>\n",
       "      <td>ZILLOW GROUP CLASS A</td>\n",
       "      <td>77170U</td>\n",
       "      <td>98954M101</td>\n",
       "      <td>ZG</td>\n",
       "      <td>2011-07-20</td>\n",
       "      <td>2022-03-16</td>\n",
       "      <td>Non-unique-ticker</td>\n",
       "    </tr>\n",
       "    <tr>\n",
       "      <th>4061</th>\n",
       "      <td>98396T</td>\n",
       "      <td>US98954M2008</td>\n",
       "      <td>U98954M200</td>\n",
       "      <td>ZILLOW GROUP CLASS C</td>\n",
       "      <td>98396T</td>\n",
       "      <td>98954M101</td>\n",
       "      <td>ZG</td>\n",
       "      <td>2015-08-03</td>\n",
       "      <td>2022-03-16</td>\n",
       "      <td>Non-unique-ticker</td>\n",
       "    </tr>\n",
       "  </tbody>\n",
       "</table>\n",
       "<p>251 rows × 10 columns</p>\n",
       "</div>"
      ],
      "text/plain": [
       "        Type     ISIN CODE LOC OFF. CODE  \\\n",
       "18    2560C4  US35085K1097    U35085K109   \n",
       "21    2654F6  US33830Q1094    U33830Q109   \n",
       "40    9070VE  US00372Y1055    U00372Y105   \n",
       "58    2576J8  VGG0083E1025    UG0083E102   \n",
       "63    2619K4  US00444X1019    U00444X101   \n",
       "...      ...           ...           ...   \n",
       "4005  9302NX  US98212N1072    U98212N107   \n",
       "4043  2640FQ  US98741L1017    U98741L101   \n",
       "4054  91232M  US98920Y3045    U98920Y304   \n",
       "4060  77170U  US98954M1018    U98954M101   \n",
       "4061  98396T  US98954M2008    U98954M200   \n",
       "\n",
       "                                                 NAME DATASTREAM CODE  \\\n",
       "18           4D PHARMA AMERICAN DEPOSITARY SHARES 1:8          2560C4   \n",
       "21                              5E ADVANCED MATERIALS          2654F6   \n",
       "40    ABLYNX SPONSORED ADR 1:1 DEAD - DELIST.13/06/18          9070VE   \n",
       "58                    ACE GLOBAL BUSINESS ACQUISITION          2576J8   \n",
       "63                         ACHARI VENTURES HOLDINGS I          2619K4   \n",
       "...                                               ...             ...   \n",
       "4005                                WRAP TECHNOLOGIES          9302NX   \n",
       "4043                                 YOSHITSU ADR 1:1          2640FQ   \n",
       "4054                           ZEALAND PHARMA ADR.1:1          91232M   \n",
       "4060                             ZILLOW GROUP CLASS A          77170U   \n",
       "4061                             ZILLOW GROUP CLASS C          98396T   \n",
       "\n",
       "          CUSIP TICKER SYMBOL BASE OR ST DATE DATE/TIME (DS End Date)  \\\n",
       "18           NA            NA      2021-03-22              2022-03-16   \n",
       "21           NA            NA      2022-03-15              2022-03-16   \n",
       "40           NA            NA      2017-10-20              2018-06-12   \n",
       "58           NA            NA      2021-05-26              2022-03-16   \n",
       "63           NA            NA      2021-11-17              2022-03-16   \n",
       "...         ...           ...             ...                     ...   \n",
       "4005         NA            NA      2018-05-29              2022-03-16   \n",
       "4043         NA            NA      2022-01-18              2022-03-16   \n",
       "4054         NA            NA      2017-08-09              2022-03-16   \n",
       "4060  98954M101            ZG      2011-07-20              2022-03-16   \n",
       "4061  98954M101            ZG      2015-08-03              2022-03-16   \n",
       "\n",
       "      reason_to_exclude  \n",
       "18            NA ticker  \n",
       "21            NA ticker  \n",
       "40            NA ticker  \n",
       "58            NA ticker  \n",
       "63            NA ticker  \n",
       "...                 ...  \n",
       "4005          NA ticker  \n",
       "4043          NA ticker  \n",
       "4054          NA ticker  \n",
       "4060  Non-unique-ticker  \n",
       "4061  Non-unique-ticker  \n",
       "\n",
       "[251 rows x 10 columns]"
      ]
     },
     "execution_count": 132,
     "metadata": {},
     "output_type": "execute_result"
    }
   ],
   "source": [
    "data[data['reason_to_exclude']!='None']"
   ]
  },
  {
   "cell_type": "markdown",
   "id": "d903d706-17c1-49c8-8967-28f28df56c54",
   "metadata": {},
   "source": [
    "# Figure out a method to store results, so we filter in main notebook"
   ]
  },
  {
   "cell_type": "code",
   "execution_count": 133,
   "id": "52c9f298-0645-4cf2-a993-be1126260c29",
   "metadata": {},
   "outputs": [],
   "source": [
    "isins_to_ignore = data[data['reason_to_exclude']!='None']['ISIN CODE'].to_list()\n",
    "tickers_to_ignore = data[data['reason_to_exclude']!='None']['TICKER SYMBOL'].to_list()"
   ]
  },
  {
   "cell_type": "code",
   "execution_count": 142,
   "id": "2c68eafa-33c7-4af5-9e53-232c15198436",
   "metadata": {},
   "outputs": [
    {
     "name": "stdout",
     "output_type": "stream",
     "text": [
      "ISINS: 251\n",
      "tickers: 251\n"
     ]
    }
   ],
   "source": [
    "print(f'ISINS: {len(isins_to_ignore)}')\n",
    "print(f'tickers: {len(tickers_to_ignore)}')"
   ]
  },
  {
   "cell_type": "markdown",
   "id": "dffcfe7b-f0ac-4b3d-9cf8-fe03cdb7329a",
   "metadata": {},
   "source": [
    "## Left to do\n",
    "* Store these ISINs/tickers\n",
    "* change analysis notebook to exclude them\n",
    "* check how many insider tradings we have for the various tickers\n",
    "* check how many we have time series for.\n",
    "* Do some analysis/visualization of what we are taking out\n",
    "  * Hypothesis: We are mainly taking out small companies (based on not a lot)"
   ]
  },
  {
   "cell_type": "code",
   "execution_count": null,
   "id": "7df530af-a208-49d6-9f80-d3a22686646d",
   "metadata": {},
   "outputs": [],
   "source": []
  },
  {
   "cell_type": "code",
   "execution_count": null,
   "id": "c2469082-29fe-42be-8dd6-b6d4e7f59ddd",
   "metadata": {},
   "outputs": [],
   "source": []
  },
  {
   "cell_type": "code",
   "execution_count": null,
   "id": "263a5798-e882-4e75-8449-13786264b97b",
   "metadata": {},
   "outputs": [],
   "source": []
  },
  {
   "cell_type": "code",
   "execution_count": null,
   "id": "16911d4d-0df7-44b0-9ce1-cedfb0de58bb",
   "metadata": {},
   "outputs": [],
   "source": []
  },
  {
   "cell_type": "code",
   "execution_count": null,
   "id": "e550c44c-efb5-4f84-b878-f1145e23b88a",
   "metadata": {},
   "outputs": [],
   "source": []
  },
  {
   "cell_type": "code",
   "execution_count": null,
   "id": "45941ef8-0e0a-461d-bb64-1fb0821dc178",
   "metadata": {},
   "outputs": [],
   "source": []
  },
  {
   "cell_type": "code",
   "execution_count": null,
   "id": "14adbcef-c7cd-48c9-9ebe-c4333a2e624b",
   "metadata": {},
   "outputs": [],
   "source": []
  },
  {
   "cell_type": "code",
   "execution_count": null,
   "id": "f36c6556-726f-40b6-a9c2-7416d1cecc32",
   "metadata": {},
   "outputs": [],
   "source": []
  },
  {
   "cell_type": "code",
   "execution_count": null,
   "id": "1fee3f8b-813a-4671-a61b-39da54132da5",
   "metadata": {},
   "outputs": [],
   "source": []
  },
  {
   "cell_type": "code",
   "execution_count": null,
   "id": "956142ad-890c-4bd6-ba4a-9e8a369d0a66",
   "metadata": {},
   "outputs": [],
   "source": []
  },
  {
   "cell_type": "code",
   "execution_count": null,
   "id": "90dc0ed4-0669-417a-ae4c-cbee1fa5cd40",
   "metadata": {},
   "outputs": [],
   "source": []
  },
  {
   "cell_type": "code",
   "execution_count": null,
   "id": "bd010d49-8480-4dd9-90f1-2c6a77f55ce3",
   "metadata": {},
   "outputs": [],
   "source": []
  },
  {
   "cell_type": "code",
   "execution_count": null,
   "id": "ccdb06bb-50c1-4834-97f9-627a82edd193",
   "metadata": {},
   "outputs": [],
   "source": []
  },
  {
   "cell_type": "code",
   "execution_count": null,
   "id": "bcf05a51-e18d-4a1a-a0b0-ed96d37c173c",
   "metadata": {},
   "outputs": [],
   "source": []
  },
  {
   "cell_type": "code",
   "execution_count": null,
   "id": "f6f0838d-1b29-49cc-82bd-fd46940cb719",
   "metadata": {},
   "outputs": [],
   "source": []
  },
  {
   "cell_type": "code",
   "execution_count": null,
   "id": "c73126d1-3e19-4737-a61d-c5eb05b79f17",
   "metadata": {},
   "outputs": [],
   "source": []
  },
  {
   "cell_type": "raw",
   "id": "95b72c0f-14b4-4fd8-aaaa-b3b705c17763",
   "metadata": {},
   "source": [
    "ISINs_to_ignore = []\n",
    "tickers_to_ignore = []"
   ]
  },
  {
   "cell_type": "markdown",
   "id": "a0ef4b47-7f03-471f-94a5-efee28bb0c8d",
   "metadata": {},
   "source": [
    "### Find which ISINS didn't have any Ticker associated:"
   ]
  },
  {
   "cell_type": "raw",
   "id": "62277749-5b76-4e58-8cdb-75238a574991",
   "metadata": {},
   "source": [
    "# Define what to remove\n",
    "mask = data['TICKER SYMBOL'] == 'NA'\n",
    "\n",
    "# Store to list for later filtering\n",
    "temp_list = data[mask]['ISIN CODE'].to_list()\n",
    "ISINs_to_ignore.extend(temp_list)\n",
    "\n",
    "temp_list = data[mask]['TICKER SYMBOL'].to_list()\n",
    "tickers_to_ignore.extend(temp_list)\n",
    "\n",
    "# Show what it is\n",
    "display(data[mask])\n",
    "\n",
    "# Keep the non-filtered:\n",
    "data_filtered = data[~mask]"
   ]
  },
  {
   "cell_type": "raw",
   "id": "0632ed9a-8243-469c-bb62-81e6cc9b5495",
   "metadata": {},
   "source": [
    "print(f'After filtering NAs, we have  {data_filtered.shape[0]} rows')"
   ]
  },
  {
   "cell_type": "code",
   "execution_count": null,
   "id": "7c871e96-06f7-4d6e-8a3d-571fc72f49ab",
   "metadata": {},
   "outputs": [],
   "source": []
  },
  {
   "cell_type": "code",
   "execution_count": null,
   "id": "6238b266-dc0e-4a10-a2a5-8225a179dd86",
   "metadata": {},
   "outputs": [],
   "source": []
  },
  {
   "cell_type": "code",
   "execution_count": null,
   "id": "444275fb-834c-46a7-a92f-1e1b993191ec",
   "metadata": {},
   "outputs": [],
   "source": []
  },
  {
   "cell_type": "code",
   "execution_count": null,
   "id": "155123ce-cca1-4610-8f46-f6d3e7ec09d6",
   "metadata": {},
   "outputs": [],
   "source": []
  },
  {
   "cell_type": "code",
   "execution_count": null,
   "id": "9862ff62-7639-4c5d-8167-bd05063411b0",
   "metadata": {},
   "outputs": [],
   "source": []
  },
  {
   "cell_type": "code",
   "execution_count": null,
   "id": "bd6c3731-fbee-4f39-a673-ae57783bc82f",
   "metadata": {},
   "outputs": [],
   "source": []
  },
  {
   "cell_type": "raw",
   "id": "d5dbbc85-5312-48c2-a1b6-e8045ff2192d",
   "metadata": {},
   "source": [
    "data_filtered[data_filtered.duplicated(subset=['TICKER SYMBOL'],keep=False)]['TICKER SYMBOL']"
   ]
  },
  {
   "cell_type": "code",
   "execution_count": null,
   "id": "080c9d41-7762-4ece-a7fa-dd1afb037e25",
   "metadata": {},
   "outputs": [],
   "source": []
  },
  {
   "cell_type": "raw",
   "id": "3f93dbb8-a054-4362-855e-a3aba036695b",
   "metadata": {},
   "source": [
    "dublicate_tickers = data_filtered[data_filtered.duplicated(subset=['TICKER SYMBOL'],keep=False)]['TICKER SYMBOL']\n",
    "dublicate_tickers_mask = data_filtered['TICKER SYMBOL'].isin(dublicate_tickers)\n"
   ]
  },
  {
   "cell_type": "raw",
   "id": "4e8c06fd-9515-449b-81ce-1e5e769c56ad",
   "metadata": {},
   "source": [
    "tmp_list = data_filtered[dublicate_tickers_mask]['ISIN CODE'].to_list()\n",
    "ISINs_to_ignore.extend(tmp_list)\n",
    "\n",
    "temp_list = data_filtered[dublicate_tickers_mask]['TICKER SYMBOL'].to_list()\n",
    "tickers_to_ignore.extend(temp_list)"
   ]
  },
  {
   "cell_type": "raw",
   "id": "b2165f09-0817-40be-ac1d-320b7cb6459f",
   "metadata": {},
   "source": [
    "data_filtered[dublicate_tickers_mask].to_csv('gskIsSceptical.csv')"
   ]
  },
  {
   "cell_type": "raw",
   "id": "d6e08444-0ecc-4274-be5f-6b447252aad9",
   "metadata": {},
   "source": [
    "data_filtered[dublicate_tickers_mask]['TICKER SYMBOL'].to_list()"
   ]
  },
  {
   "cell_type": "raw",
   "id": "751615fd-d8ad-4edf-aa8d-9c68a927b9bb",
   "metadata": {},
   "source": [
    "data_filtered[dublicate_tickers_mask]"
   ]
  },
  {
   "cell_type": "raw",
   "id": "fb74c460-d2e1-4bd9-b43f-30a0f8b448ca",
   "metadata": {},
   "source": [
    "print(f'ISINS: {len(ISINs_to_ignore)}')\n",
    "print(f'tickers: {len(tickers_to_ignore)}')"
   ]
  },
  {
   "cell_type": "raw",
   "id": "06b80019-8518-4322-8a53-71c1a1ac085c",
   "metadata": {},
   "source": [
    "data_filtered = data_filtered[~dublicate_tickers_mask]\n",
    "print(f'After filtering non-unique tickers, we have  {data_filtered.shape[0]} rows')\n",
    "data_filtered"
   ]
  },
  {
   "cell_type": "raw",
   "id": "7872e39a-f5da-4382-ac04-c129206d8e0a",
   "metadata": {},
   "source": [
    "data_filtered"
   ]
  },
  {
   "cell_type": "code",
   "execution_count": 143,
   "id": "402317c8-dbde-4129-95d4-30fc593cc633",
   "metadata": {},
   "outputs": [],
   "source": [
    "DATA_LOCATION_RI = DATA_LOCATION + 'processed/RI_discard/'\n",
    "_ri_location = DATA_LOCATION_RI"
   ]
  },
  {
   "cell_type": "raw",
   "id": "d8c8fa33-8d89-4aac-be29-7cbda2579a8f",
   "metadata": {},
   "source": []
  },
  {
   "cell_type": "code",
   "execution_count": 144,
   "id": "a6c26654-deb4-40e2-8e65-7dc100a2082d",
   "metadata": {},
   "outputs": [],
   "source": [
    "file_locs_ = os.listdir(_ri_location)\n",
    "file_locs = [_ri_location + f for f in file_locs_]"
   ]
  },
  {
   "cell_type": "code",
   "execution_count": 145,
   "id": "6bf2cb0e-a64d-4a27-94cd-623865661c77",
   "metadata": {},
   "outputs": [],
   "source": [
    "drop_these = [_ri_location + isin + '.pickle' for isin in ISINs_to_ignore]"
   ]
  },
  {
   "cell_type": "raw",
   "id": "33c2953b-0057-4dc3-a177-611e80414586",
   "metadata": {},
   "source": []
  },
  {
   "cell_type": "code",
   "execution_count": 146,
   "id": "1e823e3c-7eb5-46a8-a0cd-7030cacf9f71",
   "metadata": {},
   "outputs": [
    {
     "data": {
      "text/plain": [
       "4077"
      ]
     },
     "execution_count": 146,
     "metadata": {},
     "output_type": "execute_result"
    }
   ],
   "source": [
    "len(file_locs)"
   ]
  },
  {
   "cell_type": "code",
   "execution_count": 147,
   "id": "f5651fe8-7411-4ef0-a22b-9b9fb9aa5b52",
   "metadata": {},
   "outputs": [],
   "source": [
    "keep_these = [x for x in file_locs if x not in drop_these]"
   ]
  },
  {
   "cell_type": "code",
   "execution_count": 148,
   "id": "71ef90ee-b08e-4a00-8908-ef6a8f747f47",
   "metadata": {},
   "outputs": [
    {
     "data": {
      "text/plain": [
       "4075"
      ]
     },
     "execution_count": 148,
     "metadata": {},
     "output_type": "execute_result"
    }
   ],
   "source": [
    "len(keep_these)"
   ]
  },
  {
   "cell_type": "code",
   "execution_count": null,
   "id": "24f88ed6-3fd5-4cab-8eb3-88793fa5492b",
   "metadata": {},
   "outputs": [],
   "source": []
  },
  {
   "cell_type": "code",
   "execution_count": null,
   "id": "a8fc110b-3e85-4bb8-893a-5e5cb8b93cbe",
   "metadata": {},
   "outputs": [],
   "source": []
  },
  {
   "cell_type": "code",
   "execution_count": 150,
   "id": "7ad99172-9c0d-491b-9205-dd44d264a792",
   "metadata": {},
   "outputs": [
    {
     "data": {
      "text/plain": [
       "'data/Knudsen/processed/insider/'"
      ]
     },
     "execution_count": 150,
     "metadata": {},
     "output_type": "execute_result"
    }
   ],
   "source": [
    "_insider_location"
   ]
  },
  {
   "cell_type": "code",
   "execution_count": 27,
   "id": "874a99a0-c36b-4e69-8d0f-9c4db14db532",
   "metadata": {},
   "outputs": [],
   "source": [
    "#ticker = company.ticker\n",
    "ticker = 'asdgjgff'"
   ]
  },
  {
   "cell_type": "code",
   "execution_count": 28,
   "id": "73206a91-b87f-4241-a385-2b46aba5a084",
   "metadata": {},
   "outputs": [
    {
     "ename": "FileNotFoundError",
     "evalue": "[Errno 2] No such file or directory: 'data/Niedermayer/processed/insider/asdgjgff.csv'",
     "output_type": "error",
     "traceback": [
      "\u001b[1;31m---------------------------------------------------------------------------\u001b[0m",
      "\u001b[1;31mFileNotFoundError\u001b[0m                         Traceback (most recent call last)",
      "Cell \u001b[1;32mIn [28], line 1\u001b[0m\n\u001b[1;32m----> 1\u001b[0m insider_data_df \u001b[38;5;241m=\u001b[39m \u001b[43mpd\u001b[49m\u001b[38;5;241;43m.\u001b[39;49m\u001b[43mread_csv\u001b[49m\u001b[43m(\u001b[49m\u001b[43m_insider_location\u001b[49m\u001b[43m \u001b[49m\u001b[38;5;241;43m+\u001b[39;49m\u001b[43m \u001b[49m\u001b[43mticker\u001b[49m\u001b[43m \u001b[49m\u001b[38;5;241;43m+\u001b[39;49m\u001b[43m \u001b[49m\u001b[38;5;124;43m'\u001b[39;49m\u001b[38;5;124;43m.csv\u001b[39;49m\u001b[38;5;124;43m'\u001b[39;49m\u001b[43m,\u001b[49m\u001b[43m \u001b[49m\u001b[43mindex_col\u001b[49m\u001b[38;5;241;43m=\u001b[39;49m\u001b[38;5;241;43m0\u001b[39;49m\u001b[43m,\u001b[49m\u001b[43m \u001b[49m\u001b[43mparse_dates\u001b[49m\u001b[38;5;241;43m=\u001b[39;49m\u001b[43m[\u001b[49m\u001b[38;5;124;43m'\u001b[39;49m\u001b[38;5;124;43mFilingDate\u001b[39;49m\u001b[38;5;124;43m'\u001b[39;49m\u001b[43m,\u001b[49m\u001b[43m \u001b[49m\u001b[38;5;124;43m'\u001b[39;49m\u001b[38;5;124;43mTradeDate\u001b[39;49m\u001b[38;5;124;43m'\u001b[39;49m\u001b[43m]\u001b[49m\u001b[43m)\u001b[49m\n",
      "File \u001b[1;32m~\\.conda\\envs\\intDisp\\lib\\site-packages\\pandas\\util\\_decorators.py:311\u001b[0m, in \u001b[0;36mdeprecate_nonkeyword_arguments.<locals>.decorate.<locals>.wrapper\u001b[1;34m(*args, **kwargs)\u001b[0m\n\u001b[0;32m    305\u001b[0m \u001b[38;5;28;01mif\u001b[39;00m \u001b[38;5;28mlen\u001b[39m(args) \u001b[38;5;241m>\u001b[39m num_allow_args:\n\u001b[0;32m    306\u001b[0m     warnings\u001b[38;5;241m.\u001b[39mwarn(\n\u001b[0;32m    307\u001b[0m         msg\u001b[38;5;241m.\u001b[39mformat(arguments\u001b[38;5;241m=\u001b[39marguments),\n\u001b[0;32m    308\u001b[0m         \u001b[38;5;167;01mFutureWarning\u001b[39;00m,\n\u001b[0;32m    309\u001b[0m         stacklevel\u001b[38;5;241m=\u001b[39mstacklevel,\n\u001b[0;32m    310\u001b[0m     )\n\u001b[1;32m--> 311\u001b[0m \u001b[38;5;28;01mreturn\u001b[39;00m func(\u001b[38;5;241m*\u001b[39margs, \u001b[38;5;241m*\u001b[39m\u001b[38;5;241m*\u001b[39mkwargs)\n",
      "File \u001b[1;32m~\\.conda\\envs\\intDisp\\lib\\site-packages\\pandas\\io\\parsers\\readers.py:680\u001b[0m, in \u001b[0;36mread_csv\u001b[1;34m(filepath_or_buffer, sep, delimiter, header, names, index_col, usecols, squeeze, prefix, mangle_dupe_cols, dtype, engine, converters, true_values, false_values, skipinitialspace, skiprows, skipfooter, nrows, na_values, keep_default_na, na_filter, verbose, skip_blank_lines, parse_dates, infer_datetime_format, keep_date_col, date_parser, dayfirst, cache_dates, iterator, chunksize, compression, thousands, decimal, lineterminator, quotechar, quoting, doublequote, escapechar, comment, encoding, encoding_errors, dialect, error_bad_lines, warn_bad_lines, on_bad_lines, delim_whitespace, low_memory, memory_map, float_precision, storage_options)\u001b[0m\n\u001b[0;32m    665\u001b[0m kwds_defaults \u001b[38;5;241m=\u001b[39m _refine_defaults_read(\n\u001b[0;32m    666\u001b[0m     dialect,\n\u001b[0;32m    667\u001b[0m     delimiter,\n\u001b[1;32m   (...)\u001b[0m\n\u001b[0;32m    676\u001b[0m     defaults\u001b[38;5;241m=\u001b[39m{\u001b[38;5;124m\"\u001b[39m\u001b[38;5;124mdelimiter\u001b[39m\u001b[38;5;124m\"\u001b[39m: \u001b[38;5;124m\"\u001b[39m\u001b[38;5;124m,\u001b[39m\u001b[38;5;124m\"\u001b[39m},\n\u001b[0;32m    677\u001b[0m )\n\u001b[0;32m    678\u001b[0m kwds\u001b[38;5;241m.\u001b[39mupdate(kwds_defaults)\n\u001b[1;32m--> 680\u001b[0m \u001b[38;5;28;01mreturn\u001b[39;00m \u001b[43m_read\u001b[49m\u001b[43m(\u001b[49m\u001b[43mfilepath_or_buffer\u001b[49m\u001b[43m,\u001b[49m\u001b[43m \u001b[49m\u001b[43mkwds\u001b[49m\u001b[43m)\u001b[49m\n",
      "File \u001b[1;32m~\\.conda\\envs\\intDisp\\lib\\site-packages\\pandas\\io\\parsers\\readers.py:575\u001b[0m, in \u001b[0;36m_read\u001b[1;34m(filepath_or_buffer, kwds)\u001b[0m\n\u001b[0;32m    572\u001b[0m _validate_names(kwds\u001b[38;5;241m.\u001b[39mget(\u001b[38;5;124m\"\u001b[39m\u001b[38;5;124mnames\u001b[39m\u001b[38;5;124m\"\u001b[39m, \u001b[38;5;28;01mNone\u001b[39;00m))\n\u001b[0;32m    574\u001b[0m \u001b[38;5;66;03m# Create the parser.\u001b[39;00m\n\u001b[1;32m--> 575\u001b[0m parser \u001b[38;5;241m=\u001b[39m TextFileReader(filepath_or_buffer, \u001b[38;5;241m*\u001b[39m\u001b[38;5;241m*\u001b[39mkwds)\n\u001b[0;32m    577\u001b[0m \u001b[38;5;28;01mif\u001b[39;00m chunksize \u001b[38;5;129;01mor\u001b[39;00m iterator:\n\u001b[0;32m    578\u001b[0m     \u001b[38;5;28;01mreturn\u001b[39;00m parser\n",
      "File \u001b[1;32m~\\.conda\\envs\\intDisp\\lib\\site-packages\\pandas\\io\\parsers\\readers.py:934\u001b[0m, in \u001b[0;36mTextFileReader.__init__\u001b[1;34m(self, f, engine, **kwds)\u001b[0m\n\u001b[0;32m    931\u001b[0m     \u001b[38;5;28mself\u001b[39m\u001b[38;5;241m.\u001b[39moptions[\u001b[38;5;124m\"\u001b[39m\u001b[38;5;124mhas_index_names\u001b[39m\u001b[38;5;124m\"\u001b[39m] \u001b[38;5;241m=\u001b[39m kwds[\u001b[38;5;124m\"\u001b[39m\u001b[38;5;124mhas_index_names\u001b[39m\u001b[38;5;124m\"\u001b[39m]\n\u001b[0;32m    933\u001b[0m \u001b[38;5;28mself\u001b[39m\u001b[38;5;241m.\u001b[39mhandles: IOHandles \u001b[38;5;241m|\u001b[39m \u001b[38;5;28;01mNone\u001b[39;00m \u001b[38;5;241m=\u001b[39m \u001b[38;5;28;01mNone\u001b[39;00m\n\u001b[1;32m--> 934\u001b[0m \u001b[38;5;28mself\u001b[39m\u001b[38;5;241m.\u001b[39m_engine \u001b[38;5;241m=\u001b[39m \u001b[38;5;28;43mself\u001b[39;49m\u001b[38;5;241;43m.\u001b[39;49m\u001b[43m_make_engine\u001b[49m\u001b[43m(\u001b[49m\u001b[43mf\u001b[49m\u001b[43m,\u001b[49m\u001b[43m \u001b[49m\u001b[38;5;28;43mself\u001b[39;49m\u001b[38;5;241;43m.\u001b[39;49m\u001b[43mengine\u001b[49m\u001b[43m)\u001b[49m\n",
      "File \u001b[1;32m~\\.conda\\envs\\intDisp\\lib\\site-packages\\pandas\\io\\parsers\\readers.py:1218\u001b[0m, in \u001b[0;36mTextFileReader._make_engine\u001b[1;34m(self, f, engine)\u001b[0m\n\u001b[0;32m   1214\u001b[0m     mode \u001b[38;5;241m=\u001b[39m \u001b[38;5;124m\"\u001b[39m\u001b[38;5;124mrb\u001b[39m\u001b[38;5;124m\"\u001b[39m\n\u001b[0;32m   1215\u001b[0m \u001b[38;5;66;03m# error: No overload variant of \"get_handle\" matches argument types\u001b[39;00m\n\u001b[0;32m   1216\u001b[0m \u001b[38;5;66;03m# \"Union[str, PathLike[str], ReadCsvBuffer[bytes], ReadCsvBuffer[str]]\"\u001b[39;00m\n\u001b[0;32m   1217\u001b[0m \u001b[38;5;66;03m# , \"str\", \"bool\", \"Any\", \"Any\", \"Any\", \"Any\", \"Any\"\u001b[39;00m\n\u001b[1;32m-> 1218\u001b[0m \u001b[38;5;28mself\u001b[39m\u001b[38;5;241m.\u001b[39mhandles \u001b[38;5;241m=\u001b[39m \u001b[43mget_handle\u001b[49m\u001b[43m(\u001b[49m\u001b[43m  \u001b[49m\u001b[38;5;66;43;03m# type: ignore[call-overload]\u001b[39;49;00m\n\u001b[0;32m   1219\u001b[0m \u001b[43m    \u001b[49m\u001b[43mf\u001b[49m\u001b[43m,\u001b[49m\n\u001b[0;32m   1220\u001b[0m \u001b[43m    \u001b[49m\u001b[43mmode\u001b[49m\u001b[43m,\u001b[49m\n\u001b[0;32m   1221\u001b[0m \u001b[43m    \u001b[49m\u001b[43mencoding\u001b[49m\u001b[38;5;241;43m=\u001b[39;49m\u001b[38;5;28;43mself\u001b[39;49m\u001b[38;5;241;43m.\u001b[39;49m\u001b[43moptions\u001b[49m\u001b[38;5;241;43m.\u001b[39;49m\u001b[43mget\u001b[49m\u001b[43m(\u001b[49m\u001b[38;5;124;43m\"\u001b[39;49m\u001b[38;5;124;43mencoding\u001b[39;49m\u001b[38;5;124;43m\"\u001b[39;49m\u001b[43m,\u001b[49m\u001b[43m \u001b[49m\u001b[38;5;28;43;01mNone\u001b[39;49;00m\u001b[43m)\u001b[49m\u001b[43m,\u001b[49m\n\u001b[0;32m   1222\u001b[0m \u001b[43m    \u001b[49m\u001b[43mcompression\u001b[49m\u001b[38;5;241;43m=\u001b[39;49m\u001b[38;5;28;43mself\u001b[39;49m\u001b[38;5;241;43m.\u001b[39;49m\u001b[43moptions\u001b[49m\u001b[38;5;241;43m.\u001b[39;49m\u001b[43mget\u001b[49m\u001b[43m(\u001b[49m\u001b[38;5;124;43m\"\u001b[39;49m\u001b[38;5;124;43mcompression\u001b[39;49m\u001b[38;5;124;43m\"\u001b[39;49m\u001b[43m,\u001b[49m\u001b[43m \u001b[49m\u001b[38;5;28;43;01mNone\u001b[39;49;00m\u001b[43m)\u001b[49m\u001b[43m,\u001b[49m\n\u001b[0;32m   1223\u001b[0m \u001b[43m    \u001b[49m\u001b[43mmemory_map\u001b[49m\u001b[38;5;241;43m=\u001b[39;49m\u001b[38;5;28;43mself\u001b[39;49m\u001b[38;5;241;43m.\u001b[39;49m\u001b[43moptions\u001b[49m\u001b[38;5;241;43m.\u001b[39;49m\u001b[43mget\u001b[49m\u001b[43m(\u001b[49m\u001b[38;5;124;43m\"\u001b[39;49m\u001b[38;5;124;43mmemory_map\u001b[39;49m\u001b[38;5;124;43m\"\u001b[39;49m\u001b[43m,\u001b[49m\u001b[43m \u001b[49m\u001b[38;5;28;43;01mFalse\u001b[39;49;00m\u001b[43m)\u001b[49m\u001b[43m,\u001b[49m\n\u001b[0;32m   1224\u001b[0m \u001b[43m    \u001b[49m\u001b[43mis_text\u001b[49m\u001b[38;5;241;43m=\u001b[39;49m\u001b[43mis_text\u001b[49m\u001b[43m,\u001b[49m\n\u001b[0;32m   1225\u001b[0m \u001b[43m    \u001b[49m\u001b[43merrors\u001b[49m\u001b[38;5;241;43m=\u001b[39;49m\u001b[38;5;28;43mself\u001b[39;49m\u001b[38;5;241;43m.\u001b[39;49m\u001b[43moptions\u001b[49m\u001b[38;5;241;43m.\u001b[39;49m\u001b[43mget\u001b[49m\u001b[43m(\u001b[49m\u001b[38;5;124;43m\"\u001b[39;49m\u001b[38;5;124;43mencoding_errors\u001b[39;49m\u001b[38;5;124;43m\"\u001b[39;49m\u001b[43m,\u001b[49m\u001b[43m \u001b[49m\u001b[38;5;124;43m\"\u001b[39;49m\u001b[38;5;124;43mstrict\u001b[39;49m\u001b[38;5;124;43m\"\u001b[39;49m\u001b[43m)\u001b[49m\u001b[43m,\u001b[49m\n\u001b[0;32m   1226\u001b[0m \u001b[43m    \u001b[49m\u001b[43mstorage_options\u001b[49m\u001b[38;5;241;43m=\u001b[39;49m\u001b[38;5;28;43mself\u001b[39;49m\u001b[38;5;241;43m.\u001b[39;49m\u001b[43moptions\u001b[49m\u001b[38;5;241;43m.\u001b[39;49m\u001b[43mget\u001b[49m\u001b[43m(\u001b[49m\u001b[38;5;124;43m\"\u001b[39;49m\u001b[38;5;124;43mstorage_options\u001b[39;49m\u001b[38;5;124;43m\"\u001b[39;49m\u001b[43m,\u001b[49m\u001b[43m \u001b[49m\u001b[38;5;28;43;01mNone\u001b[39;49;00m\u001b[43m)\u001b[49m\u001b[43m,\u001b[49m\n\u001b[0;32m   1227\u001b[0m \u001b[43m\u001b[49m\u001b[43m)\u001b[49m\n\u001b[0;32m   1228\u001b[0m \u001b[38;5;28;01massert\u001b[39;00m \u001b[38;5;28mself\u001b[39m\u001b[38;5;241m.\u001b[39mhandles \u001b[38;5;129;01mis\u001b[39;00m \u001b[38;5;129;01mnot\u001b[39;00m \u001b[38;5;28;01mNone\u001b[39;00m\n\u001b[0;32m   1229\u001b[0m f \u001b[38;5;241m=\u001b[39m \u001b[38;5;28mself\u001b[39m\u001b[38;5;241m.\u001b[39mhandles\u001b[38;5;241m.\u001b[39mhandle\n",
      "File \u001b[1;32m~\\.conda\\envs\\intDisp\\lib\\site-packages\\pandas\\io\\common.py:786\u001b[0m, in \u001b[0;36mget_handle\u001b[1;34m(path_or_buf, mode, encoding, compression, memory_map, is_text, errors, storage_options)\u001b[0m\n\u001b[0;32m    781\u001b[0m \u001b[38;5;28;01melif\u001b[39;00m \u001b[38;5;28misinstance\u001b[39m(handle, \u001b[38;5;28mstr\u001b[39m):\n\u001b[0;32m    782\u001b[0m     \u001b[38;5;66;03m# Check whether the filename is to be opened in binary mode.\u001b[39;00m\n\u001b[0;32m    783\u001b[0m     \u001b[38;5;66;03m# Binary mode does not support 'encoding' and 'newline'.\u001b[39;00m\n\u001b[0;32m    784\u001b[0m     \u001b[38;5;28;01mif\u001b[39;00m ioargs\u001b[38;5;241m.\u001b[39mencoding \u001b[38;5;129;01mand\u001b[39;00m \u001b[38;5;124m\"\u001b[39m\u001b[38;5;124mb\u001b[39m\u001b[38;5;124m\"\u001b[39m \u001b[38;5;129;01mnot\u001b[39;00m \u001b[38;5;129;01min\u001b[39;00m ioargs\u001b[38;5;241m.\u001b[39mmode:\n\u001b[0;32m    785\u001b[0m         \u001b[38;5;66;03m# Encoding\u001b[39;00m\n\u001b[1;32m--> 786\u001b[0m         handle \u001b[38;5;241m=\u001b[39m \u001b[38;5;28;43mopen\u001b[39;49m\u001b[43m(\u001b[49m\n\u001b[0;32m    787\u001b[0m \u001b[43m            \u001b[49m\u001b[43mhandle\u001b[49m\u001b[43m,\u001b[49m\n\u001b[0;32m    788\u001b[0m \u001b[43m            \u001b[49m\u001b[43mioargs\u001b[49m\u001b[38;5;241;43m.\u001b[39;49m\u001b[43mmode\u001b[49m\u001b[43m,\u001b[49m\n\u001b[0;32m    789\u001b[0m \u001b[43m            \u001b[49m\u001b[43mencoding\u001b[49m\u001b[38;5;241;43m=\u001b[39;49m\u001b[43mioargs\u001b[49m\u001b[38;5;241;43m.\u001b[39;49m\u001b[43mencoding\u001b[49m\u001b[43m,\u001b[49m\n\u001b[0;32m    790\u001b[0m \u001b[43m            \u001b[49m\u001b[43merrors\u001b[49m\u001b[38;5;241;43m=\u001b[39;49m\u001b[43merrors\u001b[49m\u001b[43m,\u001b[49m\n\u001b[0;32m    791\u001b[0m \u001b[43m            \u001b[49m\u001b[43mnewline\u001b[49m\u001b[38;5;241;43m=\u001b[39;49m\u001b[38;5;124;43m\"\u001b[39;49m\u001b[38;5;124;43m\"\u001b[39;49m\u001b[43m,\u001b[49m\n\u001b[0;32m    792\u001b[0m \u001b[43m        \u001b[49m\u001b[43m)\u001b[49m\n\u001b[0;32m    793\u001b[0m     \u001b[38;5;28;01melse\u001b[39;00m:\n\u001b[0;32m    794\u001b[0m         \u001b[38;5;66;03m# Binary mode\u001b[39;00m\n\u001b[0;32m    795\u001b[0m         handle \u001b[38;5;241m=\u001b[39m \u001b[38;5;28mopen\u001b[39m(handle, ioargs\u001b[38;5;241m.\u001b[39mmode)\n",
      "\u001b[1;31mFileNotFoundError\u001b[0m: [Errno 2] No such file or directory: 'data/Niedermayer/processed/insider/asdgjgff.csv'"
     ]
    }
   ],
   "source": [
    "insider_data_df = pd.read_csv(_insider_location + ticker + '.csv', index_col=0, parse_dates=['FilingDate', 'TradeDate'])"
   ]
  },
  {
   "cell_type": "code",
   "execution_count": null,
   "id": "ed8b6455-a0b8-4e4e-8797-837be72f55c8",
   "metadata": {},
   "outputs": [],
   "source": [
    "insider_data_df"
   ]
  }
 ],
 "metadata": {
  "kernelspec": {
   "display_name": "Python 3 (ipykernel)",
   "language": "python",
   "name": "python3"
  },
  "language_info": {
   "codemirror_mode": {
    "name": "ipython",
    "version": 3
   },
   "file_extension": ".py",
   "mimetype": "text/x-python",
   "name": "python",
   "nbconvert_exporter": "python",
   "pygments_lexer": "ipython3",
   "version": "3.9.13"
  }
 },
 "nbformat": 4,
 "nbformat_minor": 5
}
