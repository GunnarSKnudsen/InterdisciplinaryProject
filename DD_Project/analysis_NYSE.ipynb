{
 "cells": [
  {
   "cell_type": "code",
   "execution_count": null,
   "metadata": {
    "pycharm": {
     "is_executing": true,
     "name": "#%%\n"
    }
   },
   "outputs": [],
   "source": [
    "# Standard\n",
    "import pandas as pd\n",
    "import numpy as np\n",
    "import pickle\n",
    "\n",
    "# Time Cleaning\n",
    "import time\n",
    "import datetime\n",
    "from dateutil.relativedelta import relativedelta\n",
    "\n",
    "# Scraping\n",
    "import requests\n",
    "import locale\n",
    "from pandas.io.json import json_normalize\n",
    "import io\n",
    "\n",
    "import os\n",
    "from os.path import exists\n",
    "\n",
    "import statsmodels.api as sm\n",
    "from statsmodels import regression\n",
    "\n",
    "\n",
    "import matplotlib.pyplot as plt\n",
    "\n",
    "# Import User Defined functions\n",
    "import source.read_tickers_and_isins as URTI\n",
    "import source.get_directors_dealings as UGDD\n",
    "import source.get_timeseries as UGT\n",
    "import source.analyze_get_summary_of_data as AGSOD\n",
    "import source.preprocess_directors_dealings as UPDD\n",
    "import source.preprocess_timeseries as UPTS\n",
    "import source.preprocess_timeseries_from_excel as UPTFE\n",
    "import source.analyse_single_company as UASC\n",
    "import source.calculate_daily_returns_for_period as CDRFP\n",
    "from tqdm import tqdm\n"
   ]
  },
  {
   "cell_type": "code",
   "execution_count": null,
   "metadata": {
    "pycharm": {
     "is_executing": true,
     "name": "#%%\n"
    }
   },
   "outputs": [],
   "source": [
    "NAME = \"Niedermayer\" # \"Knudsen\"\n",
    "DATA_LOCATION = f'data/{NAME}/'\n",
    "DATA_LOCATION_INSIDER_RAW = DATA_LOCATION + 'raw/insider/'\n",
    "DATA_LOCATION_INSIDER_PROCESSED = DATA_LOCATION + 'processed/insider/'\n",
    "DATA_LOCATION_TIME_SERIES_RAW = DATA_LOCATION + 'raw/timeseries/'\n",
    "DATA_LOCATION_TIME_SERIES_PROCESSED = DATA_LOCATION + 'processed/timeseries/'\n",
    "DATA_LOCATION_RI = DATA_LOCATION + 'processed/RI/'\n",
    "\n",
    "_ri_location = DATA_LOCATION_RI\n",
    "_insider_location = DATA_LOCATION_INSIDER_PROCESSED\n",
    "\n",
    "\n",
    "file_locs_ = os.listdir(_ri_location)\n",
    "file_locs = [_ri_location + f for f in file_locs_]\n",
    "return_index_dfs = []\n",
    "isins = []\n",
    "print(\"loading return series...\")\n",
    "for file_loc in tqdm(file_locs):\n",
    "    with open(file_loc, \"rb\") as f:\n",
    "        company = pickle.load(f)\n",
    "    return_index_dfs.append(company.return_index_df)\n",
    "    isins.append(company.isin)\n",
    "\n",
    "company_return = return_index_dfs[0]\n",
    "\n",
    "insider_data_df = pd.read_csv(_insider_location + company.ticker + '.csv', index_col=0, parse_dates=['FilingDate', 'TradeDate'])\n",
    "\n",
    "\n",
    "print(\"calculate returns\")\n",
    "returns_df = [CDRFP.calculate_daily_returns(ts) for ts in return_index_dfs]\n",
    "\n",
    "print(\"concatenate\")\n",
    "df_returns = pd.concat(returns_df[:10000], axis=1) # TODO remove the slice\n",
    "df_return_index = pd.concat(return_index_dfs[:10], axis=1)\n",
    "\n",
    "print(df_returns.head())\n",
    "\n",
    "plt.rc('font', family='serif')\n",
    "plt.rc('xtick')\n",
    "plt.rc('ytick')\n",
    "\n",
    "fig = plt.figure(figsize=(7, 5))\n",
    "ax = fig.add_subplot(1, 1, 1)\n",
    "\n",
    "returns_companies = df_returns.mean(axis=1)\n",
    "returns_companies.plot(color=\"k\", linewidth=0.7)\n",
    "\n",
    "ax.set_xlabel('Time (Years)')\n",
    "ax.set_ylabel('Mean Daily Return')\n",
    "ax.set_title('Mean Daily Returns Over Time')\n",
    "\n",
    "interval_borders = [\"2020-02-01\"] # TODO see if it makes sense to actually take first of Feb\n",
    "for int_ in interval_borders:\n",
    "    plt.axvline(x = int_, color = 'red', label = 'DD Event time', linewidth = 1)\n",
    "\n",
    "plt.savefig(DATA_LOCATION +\"visualisations/NYSE_daily_returns.jpg\", dpi=600)\n",
    "plt.show()\n",
    "\n",
    "pickles = os.listdir(DATA_LOCATION_RI)[:100] # TODO remove\n",
    "ISINs = [rick[:-7] for rick in pickles]\n",
    "\n",
    "outputs = []\n",
    "for isin in tqdm(ISINs):\n",
    "    outputs.append(UASC.analyse_single_company(isin, DATA_LOCATION_RI, DATA_LOCATION_INSIDER_PROCESSED))\n",
    "\n",
    "sum_returns = sum([x[0] for x in outputs], [])\n",
    "filing_trade_lags = sum([x[1] for x in outputs], [])\n",
    "\n",
    "\n",
    "\n",
    "\n",
    "from matplotlib import pyplot as plt\n",
    "import numpy as np\n",
    "\n",
    "lag_in_hours = np.asarray(filing_trade_lags)\n",
    "negative_lag_mask = lag_in_hours < 0\n",
    "in_21_days = lags_in_hours < 21*24\n",
    "positive_lag = lag_in_hours[~negative_lag_mask]\n",
    "relevant_lag = positive_lag[in_21_days]\n",
    "print(f\"Negative lag for {negative_lag_mask.sum()} out of {len(negative_lag_mask)} trades.\")\n",
    "print(f\"Lag longer than 21 days for {len(positive_lag) - len(relevant_lag)} out of {len(negative_lag_mask)} trades.\")\n",
    "print(f\"Eligible trades: {len(relevant_lag)} out of {len(negative_lag_mask)} trades.\")\n",
    "\n",
    "fig = plt.figure(figsize=(7, 5))\n",
    "ax = fig.add_subplot(1, 1, 1)\n",
    "plt.hist(np.log(positive_lag), bins=\"auto\")\n",
    "ax.set_xlabel('Time (Log(Hours))')\n",
    "ax.set_ylabel('Trades')\n",
    "ax.set_title('Distribution of Log Lag Times between Filing and Trade')\n",
    "\n",
    "plt.savefig(DATA_LOCATION +\"visualisations/log_transformed_lags.jpg\", dpi=600)\n",
    "plt.show()\n",
    "\n",
    "without_outliers = positive_lag[positive_lag < 24*21]\n",
    "\n",
    "fig = plt.figure(figsize=(7, 5))\n",
    "ax = fig.add_subplot(1, 1, 1)\n",
    "plt.hist(without_outliers, bins=\"auto\")\n",
    "plt.xticks(np.arange(0, max(without_outliers) + 1, 24))\n",
    "ax.set_xlabel('Time (Hours)')\n",
    "ax.set_ylabel('Trades')\n",
    "ax.set_title('Distribution of Lag Times between Filing and Trade')\n",
    "\n",
    "plt.savefig(DATA_LOCATION +\"visualisations/lags_without_outliers.jpg\", dpi=600)"
   ]
  },
  {
   "cell_type": "markdown",
   "metadata": {
    "pycharm": {
     "name": ""
    }
   },
   "source": [
    "\n",
    "### Investigate Filing Trade Lag Times\n"
   ]
  },
  {
   "cell_type": "code",
   "execution_count": null,
   "metadata": {},
   "outputs": [],
   "source": [
    "from matplotlib import pyplot as plt\n",
    "import numpy as np\n",
    "\n",
    "lag_in_hours = np.asarray(filing_trade_lags)\n",
    "negative_lag_mask = lag_in_hours < 0\n",
    "positive_lag = lag_in_hours[~negative_lag_mask]\n",
    "print(f\"Negative lag for {negative_lag_mask.sum()} out of {len(negative_lag_mask)} trades.\")\n",
    "print(lag_in_hours[negative_lag_mask])\n",
    "\n",
    "fig = plt.figure(figsize=(7, 5))\n",
    "ax = fig.add_subplot(1, 1, 1)\n",
    "plt.hist(np.log(positive_lag), bins=\"auto\")\n",
    "ax.set_xlabel('Time (Log(Hours))')\n",
    "ax.set_ylabel('Trades')\n",
    "ax.set_title('Distribution of Log Lag Times between Filing and Trade')\n",
    "\n",
    "plt.savefig(DATA_LOCATION +\"visualisations/log_transformed_lags.jpg\", dpi=600)\n",
    "plt.show()\n",
    "\n",
    "without_outliers = positive_lag[positive_lag < 240]\n",
    "\n",
    "fig = plt.figure(figsize=(7, 5))\n",
    "ax = fig.add_subplot(1, 1, 1)\n",
    "plt.hist(without_outliers, bins=\"auto\")\n",
    "plt.xticks(np.arange(0, max(without_outliers) + 1, 24))\n",
    "ax.set_xlabel('Time (Hours)')\n",
    "ax.set_ylabel('Trades')\n",
    "ax.set_title('Distribution of Lag Times between Filing and Trade')\n",
    "\n",
    "plt.savefig(DATA_LOCATION +\"visualisations/lags_without_outliers.jpg\", dpi=600)"
   ]
  },
  {
   "cell_type": "markdown",
   "metadata": {
    "pycharm": {
     "is_executing": true
    }
   },
   "source": [
    "# Get Market timeseries"
   ]
  },
  {
   "cell_type": "code",
   "execution_count": null,
   "metadata": {
    "pycharm": {
     "is_executing": true,
     "name": "#%% markdown\n"
    }
   },
   "outputs": [],
   "source": [
    "end_time = datetime.datetime(2022, 3, 21, 23, 59, 59)\n",
    "_end_time_unix = int(time.mktime(end_time.timetuple()))\n",
    "print(_end_time_unix)\n",
    "\n",
    "start_time = datetime.datetime(2016, 3, 21, 0, 0, 0)\n",
    "_start_time_unix = int(time.mktime(start_time.timetuple()))\n",
    "\n",
    "print(_start_time_unix)\n",
    "\n",
    "if NAME == \"Knudsen\":\n",
    "    _ticker = '%5EIXIC'\n",
    "    \n",
    "if NAME == \"Niedermayer\":\n",
    "    _ticker = \"%5Enya\"\n",
    "else:\n",
    "    raise NotImplementedError\n",
    "    \n",
    "url = f'https://query1.finance.yahoo.com/v7/finance/download/{_ticker}?period1={_start_time_unix}&period2={_end_time_unix}&interval=1d&events=history&includeAdjustedClose=true'\n",
    "market_timeseries = pd.read_csv(url)\n",
    "\n",
    "market_timeseries = market_timeseries.set_index('Date')\n",
    "market_timeseries.index = market_timeseries.index.astype('datetime64[ns]')\n",
    "\n",
    "\n",
    "market_timeseries"
   ]
  },
  {
   "cell_type": "markdown",
   "metadata": {
    "pycharm": {
     "is_executing": true,
     "name": "#%%\n"
    }
   },
   "source": [
    "# Define windows\n",
    "\n",
    "![alt text](assets/images/windows.png \"Title\")\n"
   ]
  },
  {
   "cell_type": "code",
   "execution_count": null,
   "metadata": {
    "pycharm": {
     "is_executing": true
    }
   },
   "outputs": [],
   "source": [
    "import sys\n",
    "\n",
    "# This date will be moved to a loop\n",
    "## Define which periods we are looking at.\n",
    "event_timestamp = insider_data_df['FilingDate'][0].floor('d')\n",
    "\n",
    "## Constants defining how long both Estimation Window and Event Window are - See page 34 in PEF_8\n",
    "### Probably also input parameters to a function call, as we need loops later...\n",
    "L1_length = 100\n",
    "L2_length = 40 # TODO +-20 days = 40 days, right?"
   ]
  },
  {
   "cell_type": "markdown",
   "metadata": {
    "pycharm": {
     "is_executing": true
    }
   },
   "source": [
    "# Technical Checks"
   ]
  },
  {
   "cell_type": "code",
   "execution_count": null,
   "metadata": {},
   "outputs": [],
   "source": [
    "from source import data_checks, determine_T0_T1_T2\n",
    "\n",
    "check_lengths.run(L1_length, L2_length, event_timestamp, company_return, market_timeseries)"
   ]
  },
  {
   "cell_type": "markdown",
   "metadata": {},
   "source": [
    "### Determine T0, T1 and T2"
   ]
  },
  {
   "cell_type": "code",
   "execution_count": null,
   "metadata": {},
   "outputs": [],
   "source": [
    "T0_, T1_, T0, T1, T2 = determine_T0_T1_T2.run(L1_length, L2_length, event_timestamp, company_return, market_timeseries)"
   ]
  },
  {
   "cell_type": "markdown",
   "metadata": {
    "pycharm": {
     "is_executing": true
    }
   },
   "source": [
    "# Abnormal and Normal Returns\n",
    "\n",
    "![alt text](assets/images/return_estimation.png \"Title\")"
   ]
  },
  {
   "cell_type": "code",
   "execution_count": null,
   "metadata": {},
   "outputs": [],
   "source": [
    "# Cut return timeseries into correct periods\n",
    "\n",
    "\n",
    "\n",
    "## Estimation Window\n",
    "### For estimating alphas and betas\n",
    "estimation_window_index_market = (market_timeseries.index >= T0_) & (market_timeseries.index < T1)\n",
    "estimation_window_index_company = (company_return.index >= T0_) & (company_return.index < T1)\n",
    "\n",
    "estimation_window_market_timeseries = market_timeseries[estimation_window_index_market]\n",
    "estimation_market_count = estimation_window_market_timeseries.shape[0]\n",
    "\n",
    "estimation_window_company_timeseries = company_return[estimation_window_index_company]\n",
    "estimation_company_count = estimation_window_company_timeseries.shape[0]\n",
    "\n",
    "## Event-Window\n",
    "event_window_index_market = (market_timeseries.index >= T1_) & (market_timeseries.index < T2)\n",
    "event_window_index_company = (company_return.index >= T1_) & (company_return.index < T2)\n",
    "\n",
    "event_window_market_timeseries = market_timeseries[event_window_index_market]\n",
    "event_market_count = event_window_market_timeseries.shape[0]\n",
    "\n",
    "event_window_company_timeseries = company_return[event_window_index_company]\n",
    "event_company_count = event_window_company_timeseries.shape[0]\n",
    "\n",
    "print('shape before aggregating')\n",
    "print(f'# estimation_window_market_timeseries: {estimation_window_market_timeseries.shape}')\n",
    "print(f'# estimation_window_company_timeseries: {estimation_window_company_timeseries.shape}')\n",
    "print(f'# event_window_market_timeseries: {event_window_market_timeseries.shape}')\n",
    "print(f'# event_window_company_timeseries: {event_window_company_timeseries.shape}')\n",
    "\n",
    "\n",
    "# Unify indexing, so that both contain same amount of trading days.\n",
    "if (estimation_company_count > estimation_market_count):\n",
    "    idx = estimation_window_company_timeseries.index\n",
    "    estimation_window_market_timeseries = estimation_window_market_timeseries.reindex(idx, fill_value = np.NaN)\n",
    "    # Fill missing with previous observation\n",
    "    estimation_window_market_timeseries['Adj Close'] = estimation_window_market_timeseries['Adj Close'].fillna(method='ffill')\n",
    "if (estimation_market_count > estimation_company_count):\n",
    "    idx = estimation_window_market_timeseries.index\n",
    "    estimation_window_company_timeseries = estimation_window_company_timeseries.reindex(idx, fill_value = np.NaN)\n",
    "    # Fill missing with previous observation\n",
    "    estimation_window_company_timeseries['ReturnIndex'] = estimation_window_company_timeseries['ReturnIndex'].fillna(method='ffill')\n",
    "\n",
    "\n",
    "# Unify indexing, so that both contain same amount of trading days.\n",
    "if (event_company_count > event_market_count):\n",
    "    idx = event_window_company_timeseries.index\n",
    "    event_window_market_timeseries = event_window_market_timeseries.reindex(idx, fill_value = np.NaN)\n",
    "    # Fill missing with previous observation\n",
    "    event_window_market_timeseries['Adj Close'] = event_window_market_timeseries['Adj Close'].fillna(method='ffill')\n",
    "if (event_market_count > event_company_count):\n",
    "    idx = event_window_market_timeseries.index\n",
    "    event_window_company_timeseries = event_window_company_timeseries.reindex(idx, fill_value = np.NaN)\n",
    "    # Fill missing with previous observation\n",
    "    event_window_company_timeseries['ReturnIndex'] = event_window_company_timeseries['ReturnIndex'].fillna(method='ffill')\n",
    "# Calculate percentage returns\n",
    "estimation_window_market_return = estimation_window_market_timeseries['Adj Close'].pct_change()\n",
    "estimation_window_company_return = estimation_window_company_timeseries['ReturnIndex'].pct_change()\n",
    "\n",
    "event_window_market_return = event_window_market_timeseries['Adj Close'].pct_change()\n",
    "event_window_company_return = event_window_company_timeseries['ReturnIndex'].pct_change()\n",
    "\n",
    "## Remove the fake first date\n",
    "estimation_window_market_return = estimation_window_market_return.iloc[1:]\n",
    "estimation_window_company_return = estimation_window_company_return.iloc[1:]\n",
    "\n",
    "event_window_market_return = event_window_market_return.iloc[1:]\n",
    "event_window_company_return = event_window_company_return.iloc[1:]\n",
    "\n",
    "print('shape after aggregating')\n",
    "print(f'# estimation_window_market_return: {estimation_window_market_return.shape}')\n",
    "print(f'# estimation_window_market_return: {estimation_window_market_return.shape}')\n",
    "print(f'# event_window_market_return: {event_window_market_return.shape}')\n",
    "print(f'# event_window_company_return: {event_window_company_return.shape}')\n"
   ]
  },
  {
   "cell_type": "code",
   "execution_count": null,
   "metadata": {},
   "outputs": [],
   "source": [
    "# Calculate coefficients\n",
    "\n",
    "X = estimation_window_market_return.values\n",
    "Y = estimation_window_company_return.values\n",
    "\n",
    "def linreg(x,y):\n",
    "    x = sm.add_constant(x)\n",
    "    model = regression.linear_model.OLS(y,x).fit()\n",
    "    \n",
    "    print(model.summary())\n",
    "    \n",
    "    # Remove the constant\n",
    "    x = x[:,1]\n",
    "    return model.params[0], model.params[1]\n",
    "\n",
    "alpha, beta = linreg(X,Y)\n",
    "\n",
    "print(f'alpha: {str(alpha)}')\n",
    "print(f'beta: {str(beta)}')"
   ]
  },
  {
   "cell_type": "code",
   "execution_count": null,
   "metadata": {},
   "outputs": [],
   "source": [
    "import pandas_market_calendars as mcal\n",
    "\n",
    "# Create a calendar\n",
    "nyse = mcal.get_calendar('NYSE')\n",
    "\n",
    "# Show available calendars\n",
    "print(mcal.get_calendar_names())\n"
   ]
  },
  {
   "cell_type": "code",
   "execution_count": null,
   "metadata": {
    "pycharm": {
     "is_executing": true
    }
   },
   "outputs": [],
   "source": [
    "# I think you are the purest of garbage, and can thus be discarded\n",
    "X2 = np.linspace(X.min(), X.max(), 100)\n",
    "Y_hat = X2 * beta + alpha\n",
    "plt.figure(figsize=(10,7))\n",
    "plt.scatter(X,Y, alpha = 0.3) # Plot the raw data\n",
    "plt.xlabel('Market Daily Return')\n",
    "plt.ylabel(f'Company {Company_name} Returns')\n",
    "           \n",
    "plt.plot(X2, Y_hat, alpha = 0.9)\n",
    "plt.show()\n"
   ]
  },
  {
   "cell_type": "code",
   "execution_count": null,
   "metadata": {
    "pycharm": {
     "is_executing": true
    }
   },
   "outputs": [],
   "source": [
    "\n",
    "Company_name = 'Placeholder'\n",
    "\n",
    "# Estimations\n",
    "est_estimation = estimation_window_market_return * beta + alpha\n",
    "est_event = event_window_market_return * beta + alpha\n",
    "\n",
    "\n",
    "plt.figure(figsize=(20,10))\n",
    "estimation_window_market_return.plot(color = 'black', alpha = 0.6, linewidth=4, label = 'Market Return (Estimation Window)')\n",
    "event_window_market_return.plot(color = 'black', alpha = 0.9, linewidth=4, label = 'Market Return (Event Window)')\n",
    "\n",
    "estimation_window_company_return.plot(color = 'blue', alpha = 0.6, linewidth = 4, label = f'{Company_name} Return (Estimation Window)')\n",
    "event_window_company_return.plot(color = 'blue', alpha = 0.9, linewidth = 4, label = f'{Company_name} Return (Event Window)')\n",
    "\n",
    "plt.axvline(x = event_timestamp, color = 'red', label = 'DD Event time', linewidth = 5)\n",
    "plt.ylabel(f'Daily Returns of Company {Company_name} and Market')\n",
    "est_estimation.plot(color = 'green', label = f'Regression Estimate for {Company_name}', alpha = 0.8)\n",
    "est_event.plot(color = 'green', label = f'Regression Estimate for {Company_name}', alpha = 1)\n",
    "\n",
    "plt.axvspan(T0, T1, ymin = 0.05, ymax = 0.95, facecolor='black', alpha=0.1, label = 'Estimation Window', edgecolor='g', linewidth=5)\n",
    "plt.axvspan(T1, T2, ymin = 0.05, ymax = 0.95, facecolor='black', alpha=0.2, label = 'Event Window', edgecolor='r', linewidth=5)\n",
    "plt.legend(bbox_to_anchor = (1.0, 1), loc = 'upper left')\n",
    "\n",
    "plt.title(f'Show how company {Company_name} moves around the event, compared to the market')\n",
    "plt.show()\n",
    "print(\"I'm impressed! It looks like a five-year-old drew this plot in paint\")\n"
   ]
  },
  {
   "cell_type": "markdown",
   "metadata": {},
   "source": [
    "TODO: distinguish between sales and purchases. Should be included in the trade dataclass\n",
    "TODO: find out how events should be handled. A filing is an event\n"
   ]
  }
 ],
 "metadata": {
  "kernelspec": {
   "display_name": "IDP",
   "language": "python",
   "name": "idp"
  },
  "language_info": {
   "codemirror_mode": {
    "name": "ipython",
    "version": 3
   },
   "file_extension": ".py",
   "mimetype": "text/x-python",
   "name": "python",
   "nbconvert_exporter": "python",
   "pygments_lexer": "ipython3",
   "version": "3.8.13"
  },
  "pycharm": {
   "stem_cell": {
    "cell_type": "raw",
    "metadata": {
     "collapsed": false
    },
    "source": []
   }
  }
 },
 "nbformat": 4,
 "nbformat_minor": 1
}
