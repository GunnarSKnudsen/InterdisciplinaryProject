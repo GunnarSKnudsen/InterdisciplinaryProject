{
 "cells": [
  {
   "cell_type": "markdown",
   "metadata": {
    "pycharm": {
     "name": "#%% md\n"
    }
   },
   "source": [
    "# Statistics and Visualisations\n",
    "_Written by Thomas Niedermayer and Gunnar Sjúrðarson Knudsen, as a conjoined effort for an interdiscplinary project in Data Science._\n",
    "* Supervisor: Wolfgang Aussenegg\n",
    "* Co-Supervisor: Sascha Hunold\n",
    "\n",
    "Purpose of this notebook is to calculate the statistics needed, in order to answer our hypotheses in the reports"
   ]
  },
  {
   "cell_type": "code",
   "execution_count": null,
   "metadata": {
    "jupyter": {
     "outputs_hidden": false
    },
    "pycharm": {
     "name": "#%%\n"
    }
   },
   "outputs": [],
   "source": [
    "from tools import load_settings\n",
    "settings = load_settings()\n",
    "NAME = settings[\"NAME\"]"
   ]
  },
  {
   "cell_type": "code",
   "execution_count": null,
   "metadata": {
    "jupyter": {
     "outputs_hidden": false
    },
    "pycharm": {
     "name": "#%%\n"
    }
   },
   "outputs": [],
   "source": [
    "import pickle\n",
    "from scipy.stats import ttest_ind\n",
    "import pandas as pd\n",
    "from eventstudystatistics import grank, adjBMP\n",
    "import numpy as np\n",
    "import matplotlib.pyplot as plt\n",
    "import scipy.stats as stats\n",
    "from tools import display_table\n",
    "# set logging to warning\n",
    "import logging\n",
    "logging.getLogger().setLevel(logging.WARNING)\n",
    "# unpickle the abnormal returns\n",
    "df_abnormal_returns = pd.read_pickle(f\"data/{NAME}/calculate_AR_results/df_abnormal_returns.pkl\")\n",
    "\n",
    "# set plotting sizes\n",
    "tick_size = 15\n",
    "label_size = 20\n",
    "title_size = 30\n",
    "fig_height = 20\n",
    "\n",
    "EVENT_INDEX = 0\n",
    "\n",
    "investigation_periods = settings[\"investigation_periods\"]\n",
    "\n",
    "day_labels = np.asarray(list(range(settings[\"L2\"]))) - (settings[\"L2\"]-1)/2\n",
    "\n",
    "CAR_repr = lambda x: str([x[0]-(settings[\"L2\"]-1)/2, x[1]-(settings[\"L2\"]-1)/2])\n",
    "CAR_periods = settings[\"CAR_periods\"]\n",
    "event_day = settings[\"event_day\"]\n",
    "\n",
    "with open(f\"data/{NAME}/calculate_AR_results/companies.pkl\", \"rb\") as f:\n",
    "    companies = pickle.load(f)\n"
   ]
  },
  {
   "cell_type": "markdown",
   "metadata": {
    "pycharm": {
     "name": "#%% md\n"
    }
   },
   "source": [
    "### Having a look at all trade types together"
   ]
  },
  {
   "cell_type": "code",
   "execution_count": null,
   "metadata": {
    "jupyter": {
     "outputs_hidden": false
    },
    "pycharm": {
     "name": "#%%\n"
    }
   },
   "outputs": [],
   "source": [
    "types_of_interest = settings[\"types_of_interest\"]\n",
    "counts = df_abnormal_returns.groupby(level=2).count()[0].rename({0: \"N\"})\n",
    "print(f\"relevant filings: \",counts[types_of_interest].sum())\n",
    "print(counts[types_of_interest])\n",
    "print(f\"dropped filings \", counts.sum() - counts[types_of_interest].sum())"
   ]
  },
  {
   "cell_type": "code",
   "execution_count": null,
   "metadata": {
    "jupyter": {
     "outputs_hidden": false
    },
    "pycharm": {
     "name": "#%%\n"
    }
   },
   "outputs": [],
   "source": [
    "# enable multiindex slicing\n",
    "df_abnormal_returns.sort_index(level=[\"Company\", \"i\", \"TradeType\", \"event_timestamp\"], ascending=True, inplace=True)"
   ]
  },
  {
   "cell_type": "code",
   "execution_count": null,
   "metadata": {
    "jupyter": {
     "outputs_hidden": false
    },
    "pycharm": {
     "name": "#%%\n"
    }
   },
   "outputs": [],
   "source": [
    "for investigation_period, (start, end) in investigation_periods.items():\n",
    "    a = df_abnormal_returns.loc[:,:,types_of_interest,start:end].groupby(level=[2]).mean().transpose().set_index(day_labels).plot(figsize=(fig_height, 10))\n",
    "    plt.plot(day_labels, np.zeros(len(df_abnormal_returns.columns)), color=\"black\", linewidth=0.5)\n",
    "    a.set_title(f\"AAR Of Selected Trade Types For The {investigation_period} Time Frame\",fontsize=title_size)\n",
    "\n",
    "    a.set_xlabel(\"Days\", fontsize=label_size)\n",
    "    a.set_ylabel(\"AAR\", fontsize=label_size)\n",
    "    plt.xticks(fontsize=tick_size)\n",
    "    plt.yticks(fontsize=tick_size)\n",
    "    plt.axvline(x = EVENT_INDEX, color = 'red', label = 'DD Event time', linewidth = 1.5)\n",
    "    plt.legend(fontsize=label_size)\n",
    "    plt.savefig(f\"data/{NAME}/visualisations/AAR_selected_tradetypes_{investigation_period}.svg\", dpi=600, bbox_inches='tight')"
   ]
  },
  {
   "cell_type": "code",
   "execution_count": null,
   "metadata": {
    "jupyter": {
     "outputs_hidden": false
    },
    "pycharm": {
     "name": "#%%\n"
    }
   },
   "outputs": [],
   "source": [
    "for investigation_period, (start, end) in investigation_periods.items():\n",
    "    a = df_abnormal_returns.loc[:,:,types_of_interest,start:end].cumsum(axis=1).groupby(level=[2]).mean().transpose().set_index(day_labels).plot(figsize=(fig_height, 10))\n",
    "    plt.plot(day_labels, np.zeros(len(df_abnormal_returns.columns)), color=\"black\", linewidth=0.5)\n",
    "    a.set_title(f\"CAAR Of Selected Trade Types For The {investigation_period} Time Frame\",fontsize=title_size)\n",
    "    a.set_xlabel(\"Days\", fontsize=label_size)\n",
    "    a.set_ylabel(\"CAAR\", fontsize=label_size)\n",
    "    plt.xticks(fontsize=tick_size)\n",
    "    plt.yticks(fontsize=tick_size)\n",
    "    plt.axvline(x = EVENT_INDEX, color = 'red', label = 'DD Event time', linewidth = 1.5)\n",
    "    plt.legend(fontsize=label_size)\n",
    "    plt.savefig(f\"data/{NAME}/visualisations/CAAR_selected_tradetypes_{investigation_period}.svg\", dpi=600, bbox_inches='tight')"
   ]
  },
  {
   "cell_type": "code",
   "execution_count": null,
   "outputs": [],
   "source": [
    "for investigation_period, (start, end) in investigation_periods.items():\n",
    "    a = df_abnormal_returns.loc[:,:,types_of_interest,start:end].cumsum(axis=1).groupby(level=[2]).median().transpose().set_index(day_labels).plot(figsize=(fig_height, 10))\n",
    "    plt.plot(day_labels, np.zeros(len(df_abnormal_returns.columns)), color=\"black\", linewidth=0.5)\n",
    "    a.set_title(f\"MCAR Of Selected Trade Types For The {investigation_period} Time Frame\",fontsize=title_size)\n",
    "    a.set_xlabel(\"Days\", fontsize=label_size)\n",
    "    a.set_ylabel(\"MCAR\", fontsize=label_size)\n",
    "    plt.xticks(fontsize=tick_size)\n",
    "    plt.yticks(fontsize=tick_size)\n",
    "    plt.axvline(x = EVENT_INDEX, color = 'red', label = 'DD Event time', linewidth = 1.5)\n",
    "    plt.legend(fontsize=label_size)\n",
    "    plt.savefig(f\"data/{NAME}/visualisations/CMAR_selected_tradetypes_{investigation_period}.svg\", dpi=600, bbox_inches='tight')\n",
    "\n",
    "for investigation_period, (start, end) in investigation_periods.items():\n",
    "    a = df_abnormal_returns.loc[:,:,types_of_interest,start:end].groupby(level=[2]).median().transpose().set_index(day_labels).plot(figsize=(fig_height, 10))\n",
    "    plt.plot(day_labels, np.zeros(len(df_abnormal_returns.columns)), color=\"black\", linewidth=0.5)\n",
    "    a.set_title(f\"MAR Of Selected Trade Types For The {investigation_period} Time Frame\",fontsize=title_size)\n",
    "    a.set_xlabel(\"Days\", fontsize=label_size)\n",
    "    a.set_ylabel(\"MAR\", fontsize=label_size)\n",
    "    plt.xticks(fontsize=tick_size)\n",
    "    plt.yticks(fontsize=tick_size)\n",
    "    plt.axvline(x = EVENT_INDEX, color = 'red', label = 'DD Event time', linewidth = 1.5)\n",
    "    plt.legend(fontsize=label_size)\n",
    "    plt.savefig(f\"data/{NAME}/visualisations/MAR_selected_tradetypes_{investigation_period}.svg\", dpi=600, bbox_inches='tight')"
   ],
   "metadata": {
    "collapsed": false,
    "pycharm": {
     "name": "#%%\n"
    }
   }
  },
  {
   "cell_type": "code",
   "execution_count": null,
   "outputs": [],
   "source": [
    "df_abnormal_returns"
   ],
   "metadata": {
    "collapsed": false,
    "pycharm": {
     "name": "#%%\n"
    }
   }
  },
  {
   "cell_type": "code",
   "execution_count": null,
   "outputs": [],
   "source": [
    "ax = df_abnormal_returns.groupby(level=[2]).sum().transpose().set_index(day_labels).plot.box(rot=90, figsize=(fig_height, 10))\n",
    "ax.set_title(\"Boxplots of the Abnormal Returns for each Trade Type\",fontsize=title_size)\n",
    "ax.set_xlabel(\"Trade Type\", fontsize=label_size)\n",
    "ax.set_ylabel(\"Abnormal Return\", fontsize=label_size)\n",
    "\n",
    "plt.xticks(fontsize=tick_size)\n",
    "plt.yticks(fontsize=tick_size)\n",
    "\n",
    "plt.savefig(f\"data/{NAME}/visualisations/AR_all_tradetypes_boxplot.svg\", dpi=600, bbox_inches='tight')"
   ],
   "metadata": {
    "collapsed": false,
    "pycharm": {
     "name": "#%%\n"
    }
   }
  },
  {
   "cell_type": "code",
   "execution_count": null,
   "outputs": [],
   "source": [
    "types = list(set([x[2] for x in df_abnormal_returns.index]))\n",
    "types"
   ],
   "metadata": {
    "collapsed": false,
    "pycharm": {
     "name": "#%%\n"
    }
   }
  },
  {
   "cell_type": "markdown",
   "source": [
    "Specify the type of the trades to investigate"
   ],
   "metadata": {
    "collapsed": false,
    "pycharm": {
     "name": "#%% md\n"
    }
   }
  },
  {
   "cell_type": "code",
   "execution_count": null,
   "outputs": [],
   "source": [
    "type_ = \"P - Purchase\" # \"S - Sale\"\n",
    "df_abnormal_returns_type = df_abnormal_returns.loc[:,:,type_]"
   ],
   "metadata": {
    "collapsed": false,
    "pycharm": {
     "name": "#%%\n"
    }
   }
  },
  {
   "cell_type": "markdown",
   "source": [
    "The index describes the company and the index of the filing in the compnay, the columns represent the days in the event window"
   ],
   "metadata": {
    "collapsed": false,
    "pycharm": {
     "name": "#%% md\n"
    }
   }
  },
  {
   "cell_type": "code",
   "execution_count": null,
   "outputs": [],
   "source": [
    "df_abnormal_returns_type"
   ],
   "metadata": {
    "collapsed": false,
    "pycharm": {
     "name": "#%%\n"
    }
   }
  },
  {
   "cell_type": "code",
   "execution_count": null,
   "outputs": [],
   "source": [
    "df_abnormal_returns.loc[:,:, types_of_interest].groupby(level=[2]).count()"
   ],
   "metadata": {
    "collapsed": false,
    "pycharm": {
     "name": "#%%\n"
    }
   }
  },
  {
   "cell_type": "code",
   "execution_count": null,
   "outputs": [],
   "source": [
    "CAR = df_abnormal_returns.cumsum(axis =1).loc[:,:, types_of_interest]\n",
    "CAR"
   ],
   "metadata": {
    "collapsed": false,
    "pycharm": {
     "name": "#%%\n"
    }
   }
  },
  {
   "cell_type": "code",
   "execution_count": null,
   "outputs": [],
   "source": [
    "CAR[CAR.isnull().any(axis=1)]"
   ],
   "metadata": {
    "collapsed": false,
    "pycharm": {
     "name": "#%%\n"
    }
   }
  },
  {
   "cell_type": "code",
   "execution_count": null,
   "outputs": [],
   "source": [
    "# Temp fix to make the rest work\n",
    "##CAR = CAR[CAR.isnull().any(axis=1) == False]\n",
    "##CAR\n",
    "df_abnormal_returns[df_abnormal_returns.isnull().any(axis=1)]"
   ],
   "metadata": {
    "collapsed": false,
    "pycharm": {
     "name": "#%%\n"
    }
   }
  },
  {
   "cell_type": "code",
   "execution_count": null,
   "outputs": [],
   "source": [
    "# aggregate on time axis\n",
    "CAAR = CAR.groupby(level=[2]).mean().transpose()\n",
    "print(display_table(CAAR.describe()))"
   ],
   "metadata": {
    "collapsed": false,
    "pycharm": {
     "name": "#%%\n"
    }
   }
  },
  {
   "cell_type": "code",
   "execution_count": null,
   "outputs": [],
   "source": [
    "# aggregate on filings axis\n",
    "results = []\n",
    "index_stats = []\n",
    "for type_ in types_of_interest:\n",
    "    for ip in investigation_periods:\n",
    "        for cp in CAR_periods:\n",
    "            l, r = investigation_periods[ip]\n",
    "            l_CAR, r_CAR = CAR_periods[cp]\n",
    "            CAR = df_abnormal_returns.iloc[:,l_CAR:(r_CAR+1)].sum(axis =1).loc[:,:, types_of_interest]\n",
    "            res = CAR.loc[:,:,type_,l:r].groupby(level=[2]).describe().transpose()\n",
    "            res = res.round(4)\n",
    "            res.loc[\"count\"] = res.loc[\"count\"].astype(int).astype(str)\n",
    "            results.append(res.transpose())\n",
    "            index_stats.append((type_, ip, cp))"
   ],
   "metadata": {
    "collapsed": false,
    "pycharm": {
     "name": "#%%\n"
    }
   }
  },
  {
   "cell_type": "code",
   "execution_count": null,
   "outputs": [],
   "source": [
    "stats_df = pd.concat(results)\n",
    "stats_df.index = pd.MultiIndex.from_tuples(index_stats, names=[\"Trade Type\", \"Investigation Period\", \"CAR period\"])\n",
    "print(stats_df.to_latex())"
   ],
   "metadata": {
    "collapsed": false,
    "pycharm": {
     "name": "#%%\n"
    }
   }
  },
  {
   "cell_type": "code",
   "execution_count": null,
   "metadata": {
    "jupyter": {
     "outputs_hidden": false
    },
    "pycharm": {
     "name": "#%%\n"
    }
   },
   "outputs": [],
   "source": [
    "test_results = []\n",
    "test_index = []\n",
    "\n",
    "for per in investigation_periods.keys():\n",
    "    for type_ in types_of_interest:\n",
    "        for CAR_period_name in CAR_periods.keys():\n",
    "\n",
    "            print(per)\n",
    "            print(type_)\n",
    "            print(CAR_period_name)\n",
    "            CAR_period = CAR_periods[CAR_period_name]\n",
    "\n",
    "            left, right = investigation_periods[per]\n",
    "            AR = df_abnormal_returns.loc[:,:,type_, left:right].values\n",
    "            eps = df_eps.loc[:,:,type_,left:right].values\n",
    "            R_market_estimation_window = df_estimation_window_market_return.loc[:,:,type_,left:right].values\n",
    "            R_market_event_window = df_event_window_market_return.loc[:,:,type_,left:right].values\n",
    "            grank_result = grank(AR, eps, R_market_estimation_window, R_market_event_window, CAR_period, False)\n",
    "            adj_grank_result = grank(AR, eps, R_market_estimation_window, R_market_event_window, CAR_period, True)\n",
    "            adjBMP_result = adjBMP(AR, eps, R_market_estimation_window, R_market_event_window, CAR_period)\n",
    "            CAAR = AR[:,CAR_period[0]:(CAR_period[1]+1)].sum(axis=1).mean() # scalar value\n",
    "            test_results.append((CAAR, grank_result.pvalue, grank_result.statistic, adj_grank_result.pvalue, adj_grank_result.statistic, adjBMP_result.pvalue, adjBMP_result.statistic))\n",
    "            #test_results.append((grank_result.pvalue, grank_result.statistic, adjBMP_result.pvalue, adjBMP_result.statistic))\n",
    "            test_index.append((per, type_, CAR_period_name))"
   ]
  },
  {
   "cell_type": "code",
   "execution_count": null,
   "metadata": {
    "jupyter": {
     "outputs_hidden": false
    },
    "pycharm": {
     "name": "#%%\n"
    }
   },
   "outputs": [],
   "source": [
    "test_results_df = pd.DataFrame(test_results, index=pd.MultiIndex.from_tuples(test_index, names=[\"Investigation Period\", \"Trade Type\", \"CAR Period\"]))\n",
    "test_results_df.columns = [\"CAAR\", \"GRANK p-value\", \"GRANK t-statistic\", \"adj-GRANK p-value\", \"adj-GRANK statistic\", \"adjBMP p-value\", \"adjBMP t-statistic\"]"
   ]
  },
  {
   "cell_type": "code",
   "execution_count": null,
   "metadata": {
    "jupyter": {
     "outputs_hidden": false
    },
    "pycharm": {
     "name": "#%%\n"
    }
   },
   "outputs": [],
   "source": [
    "test_results_df.to_pickle(f\"data/{NAME}/statistical_tests/GRANK_ADJBMP.pkl\")"
   ]
  },
  {
   "cell_type": "code",
   "execution_count": null,
   "metadata": {
    "jupyter": {
     "outputs_hidden": false
    },
    "pycharm": {
     "name": "#%%\n"
    }
   },
   "outputs": [],
   "source": [
    "test_results_df.to_excel(f\"data/{NAME}/statistical_tests/statistical_tests_results.xlsx\")"
   ]
  },
  {
   "cell_type": "markdown",
   "metadata": {
    "pycharm": {
     "name": "#%% md\n"
    }
   },
   "source": [
    "#### Export information to latex"
   ]
  },
  {
   "cell_type": "code",
   "execution_count": null,
   "metadata": {
    "jupyter": {
     "outputs_hidden": false
    },
    "pycharm": {
     "name": "#%%\n"
    },
    "tags": []
   },
   "outputs": [],
   "source": [
    "test_results_df"
   ]
  }
 ],
 "metadata": {
  "kernelspec": {
   "display_name": "Python 3 (ipykernel)",
   "language": "python",
   "name": "python3"
  },
  "language_info": {
   "codemirror_mode": {
    "name": "ipython",
    "version": 3
   },
   "file_extension": ".py",
   "mimetype": "text/x-python",
   "name": "python",
   "nbconvert_exporter": "python",
   "pygments_lexer": "ipython3",
   "version": "3.9.13"
  },
  "pycharm": {
   "stem_cell": {
    "cell_type": "raw",
    "metadata": {
     "collapsed": false
    },
    "source": []
   }
  },
  "toc-autonumbering": false
 },
 "nbformat": 4,
 "nbformat_minor": 4
}