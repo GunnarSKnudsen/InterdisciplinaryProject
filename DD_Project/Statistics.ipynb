{
 "cells": [
  {
   "cell_type": "markdown",
   "metadata": {},
   "source": [
    "# Statistics and Visualisations"
   ]
  },
  {
   "cell_type": "code",
   "execution_count": null,
   "metadata": {
    "collapsed": false,
    "execution": {
     "iopub.execute_input": "2022-11-03T18:58:59.401428Z",
     "iopub.status.busy": "2022-11-03T18:58:59.401428Z",
     "iopub.status.idle": "2022-11-03T18:58:59.413270Z",
     "shell.execute_reply": "2022-11-03T18:58:59.413270Z"
    },
    "jupyter": {
     "outputs_hidden": false
    }
   },
   "outputs": [],
   "source": [
    "from tools import load_settings\n",
    "settings = load_settings()\n",
    "NAME = settings[\"NAME\"]"
   ]
  },
  {
   "cell_type": "code",
   "execution_count": null,
   "metadata": {
    "execution": {
     "iopub.execute_input": "2022-11-03T18:58:59.416277Z",
     "iopub.status.busy": "2022-11-03T18:58:59.416277Z",
     "iopub.status.idle": "2022-11-03T18:59:01.089791Z",
     "shell.execute_reply": "2022-11-03T18:59:01.089791Z"
    }
   },
   "outputs": [],
   "source": [
    "import pickle\n",
    "from scipy.stats import ttest_ind\n",
    "import pandas as pd\n",
    "from eventstudystatistics import grank, adjBMP\n",
    "import numpy as np\n",
    "import matplotlib.pyplot as plt\n",
    "import scipy.stats as stats\n",
    "# set logging to warning\n",
    "import logging\n",
    "logging.getLogger().setLevel(logging.WARNING)\n",
    "# unpickle the abnormal returns\n",
    "df_abnormal_returns = pd.read_pickle(f\"data/{NAME}/calculate_AR_results/df_abnormal_returns.pkl\")\n",
    "\n",
    "# set plotting sizes\n",
    "tick_size = 15\n",
    "label_size = 20\n",
    "title_size = 30\n",
    "fig_height = 20\n",
    "\n",
    "EVENT_INDEX = 0\n",
    "\n",
    "investigation_periods = {\n",
    "    \"Overall\": (pd.Timestamp(\"2018-01-01\"), pd.Timestamp(\"2021-12-31\")),\n",
    "    \"Pre-Pandemic\": (pd.Timestamp(\"2018-01-01\"), pd.Timestamp(\"2020-02-29\")),\n",
    "    \"Pandemic\": (pd.Timestamp(\"2020-03-01\"), pd.Timestamp(\"2021-12-31\")),\n",
    "}\n",
    "\n",
    "day_labels = np.asarray(list(range(41))) -20\n",
    "\n",
    "CAR_repr = lambda x: str([x[0]-20, x[1]-20])\n",
    "CAR_periods = {\n",
    "    #\"[-20, 20]\": np.asarray([0, 40]), # Aussenegg advised to drop this\n",
    "    \"[-20, -1]\": np.asarray([0, 19]),\n",
    "    \"[0, 20]\": np.asarray([20, 40]),\n",
    "    \"[0, 5]\": np.asarray([20, 25]),\n",
    "    \"[0, 1]\": np.asarray([20, 21])\n",
    "}\n",
    "event_day = 20\n",
    "\n",
    "with open(f\"data/{NAME}/calculate_AR_results/companies.pkl\", \"rb\") as f:\n",
    "    companies = pickle.load(f)\n"
   ]
  },
  {
   "cell_type": "markdown",
   "metadata": {},
   "source": [
    "### Having a look at all trade types together"
   ]
  },
  {
   "cell_type": "code",
   "execution_count": null,
   "metadata": {
    "execution": {
     "iopub.execute_input": "2022-11-03T18:59:01.093793Z",
     "iopub.status.busy": "2022-11-03T18:59:01.093793Z",
     "iopub.status.idle": "2022-11-03T18:59:01.151156Z",
     "shell.execute_reply": "2022-11-03T18:59:01.151156Z"
    }
   },
   "outputs": [],
   "source": [
    "types_of_interest = [\"P - Purchase\", \"S - Sale\", \"S - Sale+OE\"]\n",
    "counts = df_abnormal_returns.groupby(level=2).count()[0].rename({0: \"N\"})\n",
    "print(f\"relevant filings: \",counts[types_of_interest].sum())\n",
    "print(counts[types_of_interest])\n",
    "print(f\"dropped filings \", counts.sum() - counts[types_of_interest].sum())"
   ]
  },
  {
   "cell_type": "code",
   "execution_count": null,
   "metadata": {
    "collapsed": false,
    "execution": {
     "iopub.execute_input": "2022-11-03T18:59:01.154157Z",
     "iopub.status.busy": "2022-11-03T18:59:01.154157Z",
     "iopub.status.idle": "2022-11-03T18:59:01.246228Z",
     "shell.execute_reply": "2022-11-03T18:59:01.246228Z"
    },
    "jupyter": {
     "outputs_hidden": false
    }
   },
   "outputs": [],
   "source": [
    "# enable multiindex slicing\n",
    "df_abnormal_returns.sort_index(level=[\"Company\", \"i\", \"TradeType\", \"event_timestamp\"], ascending=True, inplace=True)"
   ]
  },
  {
   "cell_type": "code",
   "execution_count": null,
   "metadata": {
    "execution": {
     "iopub.execute_input": "2022-11-03T18:59:01.250233Z",
     "iopub.status.busy": "2022-11-03T18:59:01.249234Z",
     "iopub.status.idle": "2022-11-03T18:59:08.753011Z",
     "shell.execute_reply": "2022-11-03T18:59:08.753011Z"
    }
   },
   "outputs": [],
   "source": [
    "for investigation_period, (start, end) in investigation_periods.items():\n",
    "    a = df_abnormal_returns.loc[:,:,types_of_interest,start:end].groupby(level=[2]).mean().transpose().set_index(day_labels).plot(figsize=(fig_height, 10))\n",
    "    plt.plot(day_labels, np.zeros(len(df_abnormal_returns.columns)), color=\"black\", linewidth=0.5)\n",
    "    a.set_title(f\"AAR Of Selected Trade Types For The {investigation_period} Time Frame\",fontsize=title_size)\n",
    "\n",
    "    a.set_xlabel(\"Days\", fontsize=label_size)\n",
    "    a.set_ylabel(\"AAR\", fontsize=label_size)\n",
    "    plt.xticks(fontsize=tick_size)\n",
    "    plt.yticks(fontsize=tick_size)\n",
    "    plt.axvline(x = EVENT_INDEX, color = 'red', label = 'DD Event time', linewidth = 1.5)\n",
    "    plt.legend(fontsize=label_size)\n",
    "    plt.savefig(f\"data/{NAME}/visualisations/AAR_selected_tradetypes_{investigation_period}.png\", dpi=600, bbox_inches='tight')"
   ]
  },
  {
   "cell_type": "code",
   "execution_count": null,
   "metadata": {
    "collapsed": false,
    "execution": {
     "iopub.execute_input": "2022-11-03T18:59:08.896952Z",
     "iopub.status.busy": "2022-11-03T18:59:08.895952Z",
     "iopub.status.idle": "2022-11-03T18:59:16.217383Z",
     "shell.execute_reply": "2022-11-03T18:59:16.217383Z"
    },
    "jupyter": {
     "outputs_hidden": false
    }
   },
   "outputs": [],
   "source": [
    "for investigation_period, (start, end) in investigation_periods.items():\n",
    "    a = df_abnormal_returns.loc[:,:,types_of_interest,start:end].cumsum(axis=1).groupby(level=[2]).mean().transpose().set_index(day_labels).plot(figsize=(fig_height, 10))\n",
    "    plt.plot(day_labels, np.zeros(len(df_abnormal_returns.columns)), color=\"black\", linewidth=0.5)\n",
    "    a.set_title(f\"CAAR Of Selected Trade Types For The {investigation_period} Time Frame\",fontsize=title_size)\n",
    "    a.set_xlabel(\"Days\", fontsize=label_size)\n",
    "    a.set_ylabel(\"CAAR\", fontsize=label_size)\n",
    "    plt.xticks(fontsize=tick_size)\n",
    "    plt.yticks(fontsize=tick_size)\n",
    "    plt.axvline(x = EVENT_INDEX, color = 'red', label = 'DD Event time', linewidth = 1.5)\n",
    "    plt.legend(fontsize=label_size)\n",
    "    plt.savefig(f\"data/{NAME}/visualisations/CAAR_selected_tradetypes_{investigation_period}.png\", dpi=600, bbox_inches='tight')"
   ]
  },
  {
   "cell_type": "code",
   "execution_count": null,
   "metadata": {
    "collapsed": false,
    "execution": {
     "iopub.execute_input": "2022-11-03T18:59:16.220386Z",
     "iopub.status.busy": "2022-11-03T18:59:16.220386Z",
     "iopub.status.idle": "2022-11-03T18:59:31.034515Z",
     "shell.execute_reply": "2022-11-03T18:59:31.034515Z"
    },
    "jupyter": {
     "outputs_hidden": false
    }
   },
   "outputs": [],
   "source": [
    "for investigation_period, (start, end) in investigation_periods.items():\n",
    "    a = df_abnormal_returns.loc[:,:,types_of_interest,start:end].cumsum(axis=1).groupby(level=[2]).median().transpose().set_index(day_labels).plot(figsize=(fig_height, 10))\n",
    "    plt.plot(day_labels, np.zeros(len(df_abnormal_returns.columns)), color=\"black\", linewidth=0.5)\n",
    "    a.set_title(f\"MCAR Of Selected Trade Types For The {investigation_period} Time Frame\",fontsize=title_size)\n",
    "    a.set_xlabel(\"Days\", fontsize=label_size)\n",
    "    a.set_ylabel(\"MCAR\", fontsize=label_size)\n",
    "    plt.xticks(fontsize=tick_size)\n",
    "    plt.yticks(fontsize=tick_size)\n",
    "    plt.axvline(x = EVENT_INDEX, color = 'red', label = 'DD Event time', linewidth = 1.5)\n",
    "    plt.legend(fontsize=label_size)\n",
    "    plt.savefig(f\"data/{NAME}/visualisations/CMAR_selected_tradetypes_{investigation_period}.png\", dpi=600, bbox_inches='tight')\n",
    "\n",
    "for investigation_period, (start, end) in investigation_periods.items():\n",
    "    a = df_abnormal_returns.loc[:,:,types_of_interest,start:end].groupby(level=[2]).median().transpose().set_index(day_labels).plot(figsize=(fig_height, 10))\n",
    "    plt.plot(day_labels, np.zeros(len(df_abnormal_returns.columns)), color=\"black\", linewidth=0.5)\n",
    "    a.set_title(f\"MAR Of Selected Trade Types For The {investigation_period} Time Frame\",fontsize=title_size)\n",
    "    a.set_xlabel(\"Days\", fontsize=label_size)\n",
    "    a.set_ylabel(\"MAR\", fontsize=label_size)\n",
    "    plt.xticks(fontsize=tick_size)\n",
    "    plt.yticks(fontsize=tick_size)\n",
    "    plt.axvline(x = EVENT_INDEX, color = 'red', label = 'DD Event time', linewidth = 1.5)\n",
    "    plt.legend(fontsize=label_size)\n",
    "    plt.savefig(f\"data/{NAME}/visualisations/MAR_selected_tradetypes_{investigation_period}.png\", dpi=600, bbox_inches='tight')"
   ]
  },
  {
   "cell_type": "code",
   "execution_count": null,
   "metadata": {
    "execution": {
     "iopub.execute_input": "2022-11-03T18:59:31.037516Z",
     "iopub.status.busy": "2022-11-03T18:59:31.037516Z",
     "iopub.status.idle": "2022-11-03T18:59:31.254619Z",
     "shell.execute_reply": "2022-11-03T18:59:31.254619Z"
    }
   },
   "outputs": [],
   "source": [
    "df_abnormal_returns"
   ]
  },
  {
   "cell_type": "code",
   "execution_count": null,
   "metadata": {
    "execution": {
     "iopub.execute_input": "2022-11-03T18:59:31.258653Z",
     "iopub.status.busy": "2022-11-03T18:59:31.258653Z",
     "iopub.status.idle": "2022-11-03T18:59:33.837901Z",
     "shell.execute_reply": "2022-11-03T18:59:33.837901Z"
    }
   },
   "outputs": [],
   "source": [
    "ax = df_abnormal_returns.groupby(level=[2]).sum().transpose().set_index(day_labels).plot.box(rot=90, figsize=(fig_height, 10))\n",
    "ax.set_title(\"Boxplots of the Abnormal Returns for each Trade Type\",fontsize=title_size)\n",
    "ax.set_xlabel(\"Trade Type\", fontsize=label_size)\n",
    "ax.set_ylabel(\"Abnormal Return\", fontsize=label_size)\n",
    "\n",
    "plt.xticks(fontsize=tick_size)\n",
    "plt.yticks(fontsize=tick_size)\n",
    "\n",
    "plt.savefig(f\"data/{NAME}/visualisations/AR_all_tradetypes_boxplot.png\", dpi=600, bbox_inches='tight')"
   ]
  },
  {
   "cell_type": "code",
   "execution_count": null,
   "metadata": {
    "execution": {
     "iopub.execute_input": "2022-11-03T18:59:33.841928Z",
     "iopub.status.busy": "2022-11-03T18:59:33.840928Z",
     "iopub.status.idle": "2022-11-03T18:59:34.695425Z",
     "shell.execute_reply": "2022-11-03T18:59:34.695425Z"
    }
   },
   "outputs": [],
   "source": [
    "types = list(set([x[2] for x in df_abnormal_returns.index]))\n",
    "types"
   ]
  },
  {
   "cell_type": "markdown",
   "metadata": {},
   "source": [
    "Specify the type of the trades to investigate"
   ]
  },
  {
   "cell_type": "code",
   "execution_count": null,
   "metadata": {
    "execution": {
     "iopub.execute_input": "2022-11-03T18:59:34.698426Z",
     "iopub.status.busy": "2022-11-03T18:59:34.698426Z",
     "iopub.status.idle": "2022-11-03T18:59:34.711485Z",
     "shell.execute_reply": "2022-11-03T18:59:34.711485Z"
    }
   },
   "outputs": [],
   "source": [
    "type_ = \"P - Purchase\" # \"S - Sale\"\n",
    "df_abnormal_returns_type = df_abnormal_returns.loc[:,:,type_]"
   ]
  },
  {
   "cell_type": "markdown",
   "metadata": {},
   "source": [
    "The index describes the company and the index of the filing in the compnay, the columns represent the days in the event window"
   ]
  },
  {
   "cell_type": "code",
   "execution_count": null,
   "metadata": {
    "execution": {
     "iopub.execute_input": "2022-11-03T18:59:34.714511Z",
     "iopub.status.busy": "2022-11-03T18:59:34.714511Z",
     "iopub.status.idle": "2022-11-03T18:59:34.741584Z",
     "shell.execute_reply": "2022-11-03T18:59:34.741584Z"
    }
   },
   "outputs": [],
   "source": [
    "df_abnormal_returns_type"
   ]
  },
  {
   "cell_type": "code",
   "execution_count": null,
   "metadata": {
    "collapsed": false,
    "execution": {
     "iopub.execute_input": "2022-11-03T18:59:34.744635Z",
     "iopub.status.busy": "2022-11-03T18:59:34.744635Z",
     "iopub.status.idle": "2022-11-03T18:59:34.803463Z",
     "shell.execute_reply": "2022-11-03T18:59:34.803463Z"
    },
    "jupyter": {
     "outputs_hidden": false
    }
   },
   "outputs": [],
   "source": [
    "df_abnormal_returns.loc[:,:, types_of_interest].groupby(level=[2]).count()"
   ]
  },
  {
   "cell_type": "code",
   "execution_count": null,
   "metadata": {
    "collapsed": false,
    "execution": {
     "iopub.execute_input": "2022-11-03T18:59:34.806465Z",
     "iopub.status.busy": "2022-11-03T18:59:34.806465Z",
     "iopub.status.idle": "2022-11-03T18:59:34.993505Z",
     "shell.execute_reply": "2022-11-03T18:59:34.993505Z"
    },
    "jupyter": {
     "outputs_hidden": false
    }
   },
   "outputs": [],
   "source": [
    "CAR = df_abnormal_returns.cumsum(axis =1).loc[:,:, types_of_interest]\n",
    "CAR"
   ]
  },
  {
   "cell_type": "code",
   "execution_count": null,
   "metadata": {
    "execution": {
     "iopub.execute_input": "2022-11-03T18:59:34.997506Z",
     "iopub.status.busy": "2022-11-03T18:59:34.996506Z",
     "iopub.status.idle": "2022-11-03T18:59:35.009508Z",
     "shell.execute_reply": "2022-11-03T18:59:35.009508Z"
    }
   },
   "outputs": [],
   "source": [
    "CAR[CAR.isnull().any(axis=1)]"
   ]
  },
  {
   "cell_type": "code",
   "execution_count": null,
   "metadata": {
    "execution": {
     "iopub.execute_input": "2022-11-03T18:59:35.012510Z",
     "iopub.status.busy": "2022-11-03T18:59:35.012510Z",
     "iopub.status.idle": "2022-11-03T18:59:35.041516Z",
     "shell.execute_reply": "2022-11-03T18:59:35.041516Z"
    },
    "tags": []
   },
   "outputs": [],
   "source": [
    "# Temp fix to make the rest work\n",
    "##CAR = CAR[CAR.isnull().any(axis=1) == False]\n",
    "##CAR\n",
    "df_abnormal_returns[df_abnormal_returns.isnull().any(axis=1)]"
   ]
  },
  {
   "cell_type": "code",
   "execution_count": null,
   "metadata": {
    "collapsed": false,
    "execution": {
     "iopub.execute_input": "2022-11-03T18:59:35.044517Z",
     "iopub.status.busy": "2022-11-03T18:59:35.044517Z",
     "iopub.status.idle": "2022-11-03T18:59:35.409598Z",
     "shell.execute_reply": "2022-11-03T18:59:35.409598Z"
    },
    "jupyter": {
     "outputs_hidden": false
    }
   },
   "outputs": [],
   "source": [
    "# aggregate on time axis\n",
    "CAAR = CAR.groupby(level=[2]).mean().transpose()\n",
    "print(CAAR.describe().to_latex())"
   ]
  },
  {
   "cell_type": "code",
   "execution_count": null,
   "metadata": {
    "collapsed": false,
    "execution": {
     "iopub.execute_input": "2022-11-03T18:59:35.412599Z",
     "iopub.status.busy": "2022-11-03T18:59:35.412599Z",
     "iopub.status.idle": "2022-11-03T18:59:35.969724Z",
     "shell.execute_reply": "2022-11-03T18:59:35.969724Z"
    },
    "jupyter": {
     "outputs_hidden": false
    }
   },
   "outputs": [],
   "source": [
    "# aggregate on filings axis\n",
    "results = []\n",
    "index_stats = []\n",
    "for type_ in types_of_interest:\n",
    "    for ip in investigation_periods:\n",
    "        for cp in CAR_periods:\n",
    "            l, r = investigation_periods[ip]\n",
    "            l_CAR, r_CAR = CAR_periods[cp]\n",
    "            CAR = df_abnormal_returns.iloc[:,l_CAR:(r_CAR+1)].sum(axis =1).loc[:,:, types_of_interest]\n",
    "            res = CAR.loc[:,:,type_,l:r].groupby(level=[2]).describe().transpose()\n",
    "            res = res.round(4)\n",
    "            res.loc[\"count\"] = res.loc[\"count\"].astype(int).astype(str)\n",
    "            results.append(res.transpose())\n",
    "            index_stats.append((type_, ip, cp))"
   ]
  },
  {
   "cell_type": "code",
   "execution_count": null,
   "metadata": {
    "collapsed": false,
    "execution": {
     "iopub.execute_input": "2022-11-03T18:59:35.972725Z",
     "iopub.status.busy": "2022-11-03T18:59:35.972725Z",
     "iopub.status.idle": "2022-11-03T18:59:36.001731Z",
     "shell.execute_reply": "2022-11-03T18:59:36.001731Z"
    },
    "jupyter": {
     "outputs_hidden": false
    }
   },
   "outputs": [],
   "source": [
    "stats_df = pd.concat(results)\n",
    "stats_df.index = pd.MultiIndex.from_tuples(index_stats, names=[\"Trade Type\", \"Investigation Period\", \"CAR period\"])\n",
    "print(stats_df.to_latex())"
   ]
  },
  {
   "cell_type": "code",
   "execution_count": null,
   "outputs": [],
   "source": [
    "CAR = df_abnormal_returns.cumsum(axis =1).loc[:,:, types_of_interest]"
   ],
   "metadata": {
    "collapsed": false
   }
  },
  {
   "cell_type": "markdown",
   "metadata": {},
   "source": [
    "# Statistics\n"
   ]
  },
  {
   "cell_type": "code",
   "execution_count": null,
   "metadata": {
    "collapsed": false,
    "execution": {
     "iopub.execute_input": "2022-11-03T18:59:39.829700Z",
     "iopub.status.busy": "2022-11-03T18:59:39.829700Z",
     "iopub.status.idle": "2022-11-03T18:59:40.330849Z",
     "shell.execute_reply": "2022-11-03T18:59:40.330849Z"
    },
    "jupyter": {
     "outputs_hidden": false
    }
   },
   "outputs": [],
   "source": [
    "# unpickle the data\n",
    "df_eps = pd.read_pickle(f\"data/{NAME}/calculate_AR_results/df_eps.pkl\")\n",
    "df_estimation_window_market_return = pd.read_pickle(f\"data/{NAME}/calculate_AR_results/df_estimation_window_market_return.pkl\")\n",
    "df_event_window_market_return = pd.read_pickle(f\"data/{NAME}/calculate_AR_results/df_event_window_market_return.pkl\")\n",
    "\n",
    "df_eps.sort_index(level=[\"Company\", \"i\", \"TradeType\", \"event_timestamp\"], ascending=True, inplace=True)\n",
    "df_estimation_window_market_return.sort_index(level=[\"Company\", \"i\", \"TradeType\", \"event_timestamp\"], ascending=True, inplace=True)\n",
    "df_event_window_market_return.sort_index(level=[\"Company\", \"i\", \"TradeType\", \"event_timestamp\"], ascending=True, inplace=True)\n"
   ]
  },
  {
   "cell_type": "code",
   "execution_count": null,
   "metadata": {
    "collapsed": false,
    "execution": {
     "iopub.execute_input": "2022-11-03T18:59:40.333851Z",
     "iopub.status.busy": "2022-11-03T18:59:40.333851Z",
     "iopub.status.idle": "2022-11-03T18:59:40.456653Z",
     "shell.execute_reply": "2022-11-03T18:59:40.456653Z"
    },
    "jupyter": {
     "outputs_hidden": false
    }
   },
   "outputs": [],
   "source": [
    "df_abnormal_returns.sort_index(level=[\"Company\", \"i\", \"TradeType\", \"event_timestamp\"], ascending=True, inplace=True)\n",
    "left, right = investigation_periods[\"Pandemic\"]\n",
    "df_abnormal_returns.loc[:,:,type_, left:right]"
   ]
  },
  {
   "cell_type": "code",
   "execution_count": null,
   "metadata": {
    "collapsed": false,
    "execution": {
     "iopub.execute_input": "2022-11-03T18:59:40.474824Z",
     "iopub.status.busy": "2022-11-03T18:59:40.474824Z",
     "iopub.status.idle": "2022-11-03T19:00:12.629986Z",
     "shell.execute_reply": "2022-11-03T19:00:12.629986Z"
    },
    "jupyter": {
     "outputs_hidden": false
    }
   },
   "outputs": [],
   "source": [
    "# temporary cell to show data to professor\n",
    "CAR_period = CAR_periods[\"[0, 5]\"]\n",
    "type_  = \"P - Purchase\"\n",
    "left, right = investigation_periods[\"Pandemic\"]\n",
    "AR = df_abnormal_returns.loc[:,:,type_, left:right].values\n",
    "eps = df_eps.loc[:,:,type_,left:right].values\n",
    "R_market_estimation_window = df_estimation_window_market_return.loc[:,:,type_,left:right].values\n",
    "R_market_event_window = df_event_window_market_return.loc[:,:,type_,left:right].values\n",
    "adjBMP_result = adjBMP(AR, eps, R_market_estimation_window, R_market_event_window, CAR_period)\n",
    "# pickle tuple\n",
    "with open(f\"data/{NAME}/adj-bmp_test.pkl\", \"wb\") as f:\n",
    "    pickle.dump((AR, eps, R_market_estimation_window, R_market_event_window, CAR_period), f)\n"
   ]
  },
  {
   "cell_type": "code",
   "execution_count": null,
   "metadata": {
    "collapsed": false,
    "execution": {
     "iopub.execute_input": "2022-11-03T19:00:12.632987Z",
     "iopub.status.busy": "2022-11-03T19:00:12.632987Z",
     "iopub.status.idle": "2022-11-03T19:00:12.661010Z",
     "shell.execute_reply": "2022-11-03T19:00:12.661010Z"
    },
    "jupyter": {
     "outputs_hidden": false
    },
    "tags": []
   },
   "outputs": [],
   "source": [
    "# P-purchases pre-event (-20,-1).\n",
    "CAR_period = CAR_periods[\"[-20, -1]\"]\n",
    "type_  = \"P - Purchase\"\n",
    "left, right = investigation_periods[\"Pre-Pandemic\"]\n",
    "CAR_ = CAR.loc[:,:,type_, left:right].values\n",
    "np.median(CAR_)"
   ]
  },
  {
   "cell_type": "code",
   "execution_count": null,
   "metadata": {
    "collapsed": false,
    "execution": {
     "iopub.execute_input": "2022-11-03T19:00:12.664010Z",
     "iopub.status.busy": "2022-11-03T19:00:12.664010Z",
     "iopub.status.idle": "2022-11-03T19:00:13.107217Z",
     "shell.execute_reply": "2022-11-03T19:00:13.107217Z"
    },
    "jupyter": {
     "outputs_hidden": false
    }
   },
   "outputs": [],
   "source": [
    "# ignore this approach for now, also because the sample lengths are different\n",
    "ttest_results = []\n",
    "ttest_index = []\n",
    "from IPython.display import clear_output\n",
    "for type_ in types_of_interest:\n",
    "    for cp in CAR_periods.keys():\n",
    "\n",
    "        print(type_)\n",
    "        print(cp)\n",
    "\n",
    "        left, right = investigation_periods[\"Pre-Pandemic\"]\n",
    "        l_CAR, r_CAR = CAR_periods[cp]\n",
    "\n",
    "        AR_prepandemic = df_abnormal_returns.loc[:,:,type_,left:right].values\n",
    "\n",
    "        sample_CAR_prepandemic = AR_prepandemic[:,l_CAR:(r_CAR+1)].sum(axis=1)\n",
    "        # sample_CAR_prepandemic = R_market_event_window_prepandemic[:,l_CAR:(r_CAR+1)].cumsum(axis=1).mean(axis=0) ### TODO WAIT AUSSENEGG ANSWER HOW TO AGGREGATE FOR TTEST\n",
    "\n",
    "        left, right = investigation_periods[\"Pandemic\"]\n",
    "\n",
    "        AR_pandemic = df_abnormal_returns.loc[:,:,type_,left:right].values\n",
    "        sample_CAR_pandemic = AR_pandemic[:,l_CAR:(r_CAR+1)].sum(axis=1)\n",
    "        # sample_CAR_pandemic = R_market_event_window_pandemic[:,l_CAR:(r_CAR+1)].cumsum(axis=1).mean(axis=0) ### TODO WAIT AUSSENEGG ANSWER HOW TO AGGREGATE FOR TTEST\n",
    "        # import ttest\n",
    "\n",
    "        ttest = ttest_ind(sample_CAR_pandemic, sample_CAR_prepandemic)\n",
    "\n",
    "        #test_results.append((grank_result.pvalue, grank_result.statistic, adj_grank_result.pvalue, adj_grank_result.statistic, adjBMP_result.pvalue, adjBMP_result.statistic))\n",
    "        ttest_results.append((ttest.pvalue, ttest.statistic))\n",
    "        ttest_index.append((type_, cp))\n",
    "\n",
    "\n",
    "        fig = plt.figure(figsize=(fig_height, 10))\n",
    "        plt.hist(sample_CAR_prepandemic,bins = 100, alpha = 0.5)\n",
    "        plt.hist(sample_CAR_pandemic,bins = 100, alpha = 0.5)\n",
    "        plt.legend([\"pre-pandemic\", \"pandemic\"], fontsize = tick_size)\n",
    "        plt.xlabel(\"CAR\", fontsize=label_size)\n",
    "        plt.ylabel(\"Count\", fontsize=label_size)\n",
    "        plt.title(\"Histogram of CARs of Pre-Pandemic and Pandemic\", fontsize=title_size)\n",
    "        plt.savefig(f\"data/{NAME}/visualisations/histogram_CARs_pp_p_{type_}_{cp}.png\")\n",
    "\n",
    "        clear_output(wait=True)\n",
    "        plt.show()"
   ]
  },
  {
   "cell_type": "code",
   "execution_count": 167,
   "outputs": [
    {
     "data": {
      "text/plain": "<Figure size 1440x720 with 1 Axes>",
      "image/png": "[encoded data removed]"
     },
     "metadata": {
      "needs_background": "light"
     },
     "output_type": "display_data"
    }
   ],
   "source": [
    "# approach recommended by Aussenegg: Simulate mean differences\n",
    "ttest_results = []\n",
    "ttest_index = []\n",
    "\n",
    "for type_ in types_of_interest:\n",
    "    for cp in CAR_periods.keys():\n",
    "\n",
    "        print(type_)\n",
    "        print(cp)\n",
    "        l_CAR, r_CAR = CAR_periods[cp]\n",
    "\n",
    "        left, right = investigation_periods[\"Pre-Pandemic\"]\n",
    "        AR_prepandemic = df_abnormal_returns.loc[:,:,type_,left:right].values\n",
    "        sample_CAR_prepandemic = AR_prepandemic[:,l_CAR:(r_CAR+1)].sum(axis=1)\n",
    "\n",
    "        left, right = investigation_periods[\"Pandemic\"]\n",
    "        AR_pandemic = df_abnormal_returns.loc[:,:,type_,left:right].values\n",
    "        sample_CAR_pandemic = AR_pandemic[:,l_CAR:(r_CAR+1)].sum(axis=1)\n",
    "\n",
    "\n",
    "        CAAR_pp = sample_CAR_prepandemic.mean()\n",
    "        CAAR_p = sample_CAR_pandemic.mean()\n",
    "        CAAR_diff = CAAR_p - CAAR_pp\n",
    "\n",
    "        sample_size = 1000\n",
    "        diffs = []\n",
    "        subsample_means_CAR_prepandemic = []\n",
    "        subsample_means_CAR_pandemic = []\n",
    "        for i in range(1000):\n",
    "            # pick subsample\n",
    "            subsample_pp = np.random.choice(sample_CAR_prepandemic, sample_size, replace=True)\n",
    "            subsample_p = np.random.choice(sample_CAR_pandemic, sample_size, replace=True)\n",
    "            diff = subsample_p-subsample_pp\n",
    "            subsample_means_CAR_prepandemic.append(subsample_pp.mean())\n",
    "            subsample_means_CAR_pandemic.append(subsample_p.mean())\n",
    "            diffs.append(diff.mean())\n",
    "\n",
    "\n",
    "\n",
    "        fig = plt.figure(figsize=(fig_height, 10))\n",
    "        plt.hist(subsample_means_CAR_prepandemic,bins = 100, alpha = 0.5)\n",
    "        plt.hist(subsample_means_CAR_pandemic,bins = 100, alpha = 0.5)\n",
    "        plt.legend([\"pre-pandemic\", \"pandemic\"], fontsize = tick_size)\n",
    "        plt.xlabel(\"Mean of CAR\", fontsize=label_size)\n",
    "        plt.ylabel(\"Count\", fontsize=label_size)\n",
    "\n",
    "        plt.title(\"Histogram of means of samples of CARs\", fontsize=title_size)\n",
    "        plt.savefig(f\"data/{NAME}/visualisations/histogram_mean_CARs_pp_p_{type_}_{cp}.png\")\n",
    "\n",
    "        clear_output(wait=True)\n",
    "        plt.show()\n",
    "\n",
    "        ttest = stats.ttest_1samp(diffs, 0)\n",
    "\n",
    "        #test_results.append((grank_result.pvalue, grank_result.statistic, adj_grank_result.pvalue, adj_grank_result.statistic, adjBMP_result.pvalue, adjBMP_result.statistic))\n",
    "        ttest_results.append((CAAR_diff, ttest.pvalue, ttest.statistic))\n",
    "        ttest_index.append((type_, cp))"
   ],
   "metadata": {
    "collapsed": false
   }
  },
  {
   "cell_type": "code",
   "execution_count": 170,
   "metadata": {
    "collapsed": false,
    "execution": {
     "iopub.execute_input": "2022-11-03T19:00:13.157299Z",
     "iopub.status.busy": "2022-11-03T19:00:13.157299Z",
     "iopub.status.idle": "2022-11-03T19:00:13.185511Z",
     "shell.execute_reply": "2022-11-03T19:00:13.185511Z"
    },
    "jupyter": {
     "outputs_hidden": false
    }
   },
   "outputs": [
    {
     "name": "stdout",
     "output_type": "stream",
     "text": [
      "\\begin{tabular}{llrrr}\n",
      "\\toprule\n",
      "            &        &  Difference CAAR &  p-value &  t-statistic \\\\\n",
      "Trade Type & CAR period &                  &          &              \\\\\n",
      "\\midrule\n",
      "P - Purchase & [-20, 20] &        -0.050612 &      0.0 &  -136.297763 \\\\\n",
      "            & [-20, -1] &        -0.042287 &      0.0 &  -154.721661 \\\\\n",
      "            & [0, 20] &        -0.008325 &      0.0 &   -36.242026 \\\\\n",
      "            & [0, 5] &         0.004553 &      0.0 &    26.755446 \\\\\n",
      "            & [0, 1] &         0.004300 &      0.0 &    39.322574 \\\\\n",
      "S - Sale & [-20, 20] &        -0.004152 &      0.0 &   -16.316919 \\\\\n",
      "            & [-20, -1] &         0.004974 &      0.0 &    30.712446 \\\\\n",
      "            & [0, 20] &        -0.009126 &      0.0 &   -52.165829 \\\\\n",
      "            & [0, 5] &        -0.003812 &      0.0 &   -41.939495 \\\\\n",
      "            & [0, 1] &        -0.001630 &      0.0 &   -31.223011 \\\\\n",
      "S - Sale+OE & [-20, 20] &        -0.012156 &      0.0 &   -54.904237 \\\\\n",
      "            & [-20, -1] &         0.002011 &      0.0 &    12.121787 \\\\\n",
      "            & [0, 20] &        -0.014168 &      0.0 &   -95.772403 \\\\\n",
      "            & [0, 5] &        -0.005569 &      0.0 &   -72.786157 \\\\\n",
      "            & [0, 1] &        -0.002207 &      0.0 &   -48.977431 \\\\\n",
      "\\bottomrule\n",
      "\\end{tabular}\n",
      "\n"
     ]
    },
    {
     "name": "stderr",
     "output_type": "stream",
     "text": [
      "C:\\Users\\thoma\\AppData\\Local\\Temp\\ipykernel_21388\\809907968.py:3: FutureWarning: In future versions `DataFrame.to_latex` is expected to utilise the base implementation of `Styler.to_latex` for formatting and rendering. The arguments signature may therefore change. It is recommended instead to use `DataFrame.style.to_latex` which also contains additional functionality.\n",
      "  print(ttest_df.round(10).to_latex())\n"
     ]
    }
   ],
   "source": [
    "ttest_df = pd.DataFrame(ttest_results, index=pd.MultiIndex.from_tuples(ttest_index, names=[\"Trade Type\", \"CAR period\"]))\n",
    "ttest_df.columns = [\"Δ CAAR\", \"p-value\", \"t-statistic\"]\n",
    "print(ttest_df.round(10).to_latex())"
   ]
  },
  {
   "cell_type": "code",
   "execution_count": null,
   "metadata": {
    "collapsed": false,
    "execution": {
     "iopub.execute_input": "2022-11-03T19:00:13.188511Z",
     "iopub.status.busy": "2022-11-03T19:00:13.188511Z",
     "iopub.status.idle": "2022-11-03T19:27:28.923135Z",
     "shell.execute_reply": "2022-11-03T19:27:28.923135Z"
    },
    "jupyter": {
     "outputs_hidden": false
    }
   },
   "outputs": [],
   "source": [
    "test_results = []\n",
    "test_index = []\n",
    "\n",
    "for per in investigation_periods.keys():\n",
    "    for type_ in types_of_interest:\n",
    "        for CAR_period_name in CAR_periods.keys():\n",
    "\n",
    "            print(per)\n",
    "            print(type_)\n",
    "            print(CAR_period_name)\n",
    "            CAR_period = CAR_periods[CAR_period_name]\n",
    "\n",
    "            left, right = investigation_periods[per]\n",
    "            AR = df_abnormal_returns.loc[:,:,type_, left:right].values\n",
    "            eps = df_eps.loc[:,:,type_,left:right].values\n",
    "            R_market_estimation_window = df_estimation_window_market_return.loc[:,:,type_,left:right].values\n",
    "            R_market_event_window = df_event_window_market_return.loc[:,:,type_,left:right].values\n",
    "            grank_result = grank(AR, eps, R_market_estimation_window, R_market_event_window, CAR_period, False)\n",
    "            adj_grank_result = grank(AR, eps, R_market_estimation_window, R_market_event_window, CAR_period, True)\n",
    "            adjBMP_result = adjBMP(AR, eps, R_market_estimation_window, R_market_event_window, CAR_period)\n",
    "            CAAR = AR.sum(axis=1).mean() # scalar value\n",
    "            test_results.append((CAAR, grank_result.pvalue, grank_result.statistic, adj_grank_result.pvalue, adj_grank_result.statistic, adjBMP_result.pvalue, adjBMP_result.statistic))\n",
    "            #test_results.append((grank_result.pvalue, grank_result.statistic, adjBMP_result.pvalue, adjBMP_result.statistic))\n",
    "            test_index.append((per, type_, CAR_period_name))"
   ]
  },
  {
   "cell_type": "code",
   "execution_count": null,
   "metadata": {
    "collapsed": false,
    "execution": {
     "iopub.execute_input": "2022-11-03T19:27:30.737665Z",
     "iopub.status.busy": "2022-11-03T19:27:30.737665Z",
     "iopub.status.idle": "2022-11-03T19:27:30.750161Z",
     "shell.execute_reply": "2022-11-03T19:27:30.750161Z"
    },
    "jupyter": {
     "outputs_hidden": false
    }
   },
   "outputs": [],
   "source": [
    "test_results_df = pd.DataFrame(test_results, index=pd.MultiIndex.from_tuples(test_index, names=[\"Investigation Period\", \"Trade Type\", \"CAR Period\"]))\n",
    "test_results_df.columns = [\"CAAR\", \"GRANK p-value\", \"GRANK t-statistic\", \"adj-GRANK p-value\", \"adj-GRANK statistic\", \"adjBMP p-value\", \"adjBMP t-statistic\"]"
   ]
  },
  {
   "cell_type": "code",
   "execution_count": null,
   "metadata": {
    "collapsed": false,
    "execution": {
     "iopub.execute_input": "2022-11-03T19:27:30.753162Z",
     "iopub.status.busy": "2022-11-03T19:27:30.753162Z",
     "iopub.status.idle": "2022-11-03T19:27:30.765192Z",
     "shell.execute_reply": "2022-11-03T19:27:30.765192Z"
    },
    "jupyter": {
     "outputs_hidden": false
    }
   },
   "outputs": [],
   "source": [
    "test_results_df.to_pickle(f\"data/{NAME}/statistical_tests/GRANK_ADJBMP.pkl\")"
   ]
  },
  {
   "cell_type": "code",
   "execution_count": null,
   "metadata": {
    "collapsed": false,
    "execution": {
     "iopub.execute_input": "2022-11-03T19:27:30.768192Z",
     "iopub.status.busy": "2022-11-03T19:27:30.767193Z",
     "iopub.status.idle": "2022-11-03T19:27:31.075055Z",
     "shell.execute_reply": "2022-11-03T19:27:31.075055Z"
    },
    "jupyter": {
     "outputs_hidden": false
    }
   },
   "outputs": [],
   "source": [
    "test_results_df.to_excel(f\"data/{NAME}/statistical_tests/statistical_tests_results.xlsx\")"
   ]
  },
  {
   "cell_type": "markdown",
   "metadata": {},
   "source": [
    "#### Export information to latex"
   ]
  },
  {
   "cell_type": "code",
   "execution_count": null,
   "metadata": {
    "execution": {
     "iopub.execute_input": "2022-11-03T19:27:31.080514Z",
     "iopub.status.busy": "2022-11-03T19:27:31.079514Z",
     "iopub.status.idle": "2022-11-03T19:27:31.099740Z",
     "shell.execute_reply": "2022-11-03T19:27:31.099740Z"
    }
   },
   "outputs": [],
   "source": [
    "test_results_df"
   ]
  },
  {
   "cell_type": "markdown",
   "metadata": {},
   "source": [
    "### Visualize how active Directors Dealings Are\n",
    "Should move this to somewhere else\n",
    "Want visual confirmation that Directors have changed behaviour during the times of Covid (Hypothesis 3)"
   ]
  },
  {
   "cell_type": "code",
   "execution_count": null,
   "metadata": {
    "execution": {
     "iopub.execute_input": "2022-11-03T19:27:31.102767Z",
     "iopub.status.busy": "2022-11-03T19:27:31.102767Z",
     "iopub.status.idle": "2022-11-03T19:27:48.580706Z",
     "shell.execute_reply": "2022-11-03T19:27:48.580706Z"
    },
    "tags": []
   },
   "outputs": [],
   "source": [
    "all_insider_trades = companies[0].insider_data_df.head(0)\n",
    "from tqdm import tqdm\n",
    "#for j in tqdm(range(len(companies[:200]))):\n",
    "for j in tqdm(range(len(companies))):\n",
    "    all_insider_trades = pd.concat([all_insider_trades, companies[j].insider_data_df])#  @ gunnar very nice asymptotic runtime\n",
    "    \n",
    "all_insider_trades['FilingDateTrunc'] = all_insider_trades['FilingDate'].dt.date\n",
    "all_insider_trades.groupby('FilingDateTrunc')['FilingDate'].count().plot()\n",
    "plt.show()\n",
    "all_insider_trades.to_csv('AllTradesForExcelGSK.csv')\n",
    "\n",
    "all_insider_trades.groupby('FilingDateTrunc')['Value'].sum().plot()\n",
    "plt.show()\n",
    "all_insider_trades.groupby('FilingDateTrunc')['Value'].mean().plot()\n",
    "plt.show()\n",
    "plt.hist(all_insider_trades['FilingDateTrunc'])"
   ]
  }
 ],
 "metadata": {
  "kernelspec": {
   "display_name": "Python 3 (ipykernel)",
   "language": "python",
   "name": "python3"
  },
  "language_info": {
   "codemirror_mode": {
    "name": "ipython",
    "version": 3
   },
   "file_extension": ".py",
   "mimetype": "text/x-python",
   "name": "python",
   "nbconvert_exporter": "python",
   "pygments_lexer": "ipython3",
   "version": "3.8.13"
  },
  "pycharm": {
   "stem_cell": {
    "cell_type": "raw",
    "metadata": {
     "collapsed": false
    },
    "source": []
   }
  },
  "toc-autonumbering": false
 },
 "nbformat": 4,
 "nbformat_minor": 4
}
