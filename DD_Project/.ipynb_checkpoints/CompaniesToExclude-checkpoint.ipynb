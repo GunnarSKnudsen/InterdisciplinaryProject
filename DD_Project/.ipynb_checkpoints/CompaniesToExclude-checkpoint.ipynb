{
 "cells": [
  {
   "cell_type": "markdown",
   "id": "1851cc57-817d-4b58-a899-6f0664b6c9c1",
   "metadata": {
    "pycharm": {
     "name": "#%% md\n"
    }
   },
   "source": [
    "# Exploratory Data analysis\n",
    "_Written by Thomas Niedermayer and Gunnar Sjúrðarson Knudsen, as a conjoined effort for an interdiscplinary project in Data Science._\n",
    "* Supervisor: Wolfgang Aussenegg\n",
    "* Co-Supervisor: Sascha Hunold\n",
    "\n",
    "Purpose of this notebook is to understand the data quality, and the scale of the task. \n",
    "As we ran into several issues w.r.t. data quality, we want to get a deeper understanding of how which data is being handled. Example errors:\n",
    "* TICKERS being used for multiple companies/ISINS, resulting in not knowing which ISIN an insider trading corresponds to\n",
    "* Missing ISINs; means that no time series data is available\n",
    "* Missing TICKERS; Means that no insider trades are available.\n",
    "* For several companies, there are no insider trades registered. These are therefore also filtered out from the analysis notebook. These wouldn't give an error, but removing them speeds up the runtime\n",
    "* Sometimes there was no return index data available. **Honestly not sure why this didn't break our analaysis. Maybe this was the reason for the `-Inf`?** In any case, they are also removed\n",
    "Check which data we've already extracted, and define how to handle various situations"
   ]
  },
  {
   "cell_type": "markdown",
   "id": "a2bbfa49-f820-4695-a024-a3731769ce65",
   "metadata": {
    "pycharm": {
     "name": "#%% md\n"
    }
   },
   "source": [
    "## Load libraries"
   ]
  },
  {
   "cell_type": "code",
   "execution_count": 1,
   "id": "13e56a34-9ca3-4f3e-9ec1-6db5a33e62ff",
   "metadata": {
    "pycharm": {
     "name": "#%%\n"
    },
    "tags": []
   },
   "outputs": [],
   "source": [
    "import pickle\n",
    "import pandas as pd\n",
    "import numpy as np\n",
    "import os\n",
    "import math\n",
    "\n",
    "from IPython.display import clear_output, display\n",
    "from tqdm import tqdm\n",
    "\n",
    "# Load custom libraries\n",
    "import source.read_tickers_and_isins as URTI"
   ]
  },
  {
   "cell_type": "markdown",
   "id": "1d3f9b21-469a-4eb5-882e-365295ec5dc1",
   "metadata": {
    "pycharm": {
     "name": "#%% md\n"
    }
   },
   "source": [
    "## Define which data to be loaded"
   ]
  },
  {
   "cell_type": "code",
   "execution_count": 2,
   "id": "6c4ea762-810a-4922-a75c-003d0e675914",
   "metadata": {
    "pycharm": {
     "name": "#%%\n"
    },
    "tags": []
   },
   "outputs": [],
   "source": [
    "from tools import load_settings\n",
    "settings = load_settings()\n",
    "NAME = settings[\"NAME\"]\n",
    "STOCK_EXCHANGE = settings[\"STOCK_EXCHANGE\"]"
   ]
  },
  {
   "cell_type": "code",
   "execution_count": 3,
   "id": "4905b302-5ea8-457e-8068-db80d2640894",
   "metadata": {
    "pycharm": {
     "name": "#%%\n"
    },
    "tags": []
   },
   "outputs": [],
   "source": [
    "DATA_LOCATION = f'data/{NAME}/'\n",
    "_insider_location = DATA_LOCATION + 'processed/insider/'"
   ]
  },
  {
   "cell_type": "markdown",
   "id": "231deba6-33c3-4f9d-aa48-a9dedd9bc412",
   "metadata": {
    "pycharm": {
     "name": "#%% md\n"
    }
   },
   "source": [
    "## Read in input data"
   ]
  },
  {
   "cell_type": "code",
   "execution_count": 4,
   "id": "23e8efe5-e81e-4796-8854-69838c81079c",
   "metadata": {
    "pycharm": {
     "name": "#%%\n"
    },
    "tags": []
   },
   "outputs": [],
   "source": [
    "INPUT_FILE = f'input_data/{NAME}/{STOCK_EXCHANGE} Composite 16.3.2022 plus dead firms - {NAME}.xlsx'"
   ]
  },
  {
   "cell_type": "code",
   "execution_count": 5,
   "id": "05f4f316-4ca5-4b67-9617-dc43cee22cca",
   "metadata": {
    "pycharm": {
     "name": "#%%\n"
    },
    "tags": []
   },
   "outputs": [
    {
     "name": "stdout",
     "output_type": "stream",
     "text": [
      "Reading tickers\n"
     ]
    }
   ],
   "source": [
    "data = URTI.read_tickers_and_isins(INPUT_FILE)"
   ]
  },
  {
   "cell_type": "code",
   "execution_count": 6,
   "id": "b63da7bf-0979-44e4-86ac-a99d7b92452d",
   "metadata": {
    "pycharm": {
     "name": "#%%\n"
    },
    "tags": []
   },
   "outputs": [
    {
     "data": {
      "text/html": [
       "<div>\n",
       "<style scoped>\n",
       "    .dataframe tbody tr th:only-of-type {\n",
       "        vertical-align: middle;\n",
       "    }\n",
       "\n",
       "    .dataframe tbody tr th {\n",
       "        vertical-align: top;\n",
       "    }\n",
       "\n",
       "    .dataframe thead th {\n",
       "        text-align: right;\n",
       "    }\n",
       "</style>\n",
       "<table border=\"1\" class=\"dataframe\">\n",
       "  <thead>\n",
       "    <tr style=\"text-align: right;\">\n",
       "      <th></th>\n",
       "      <th>Type</th>\n",
       "      <th>ISIN CODE</th>\n",
       "      <th>LOC OFF. CODE</th>\n",
       "      <th>NAME</th>\n",
       "      <th>DATASTREAM CODE</th>\n",
       "      <th>CUSIP</th>\n",
       "      <th>TICKER SYMBOL</th>\n",
       "      <th>BASE OR ST DATE</th>\n",
       "      <th>DATE/TIME (DS End Date)</th>\n",
       "    </tr>\n",
       "  </thead>\n",
       "  <tbody>\n",
       "    <tr>\n",
       "      <th>0</th>\n",
       "      <td>2606T9</td>\n",
       "      <td>KYG870761080</td>\n",
       "      <td>UG87076108</td>\n",
       "      <td>10X CAPITAL VENTURE ACQUISITION II A</td>\n",
       "      <td>2606T9</td>\n",
       "      <td>G87076108</td>\n",
       "      <td>VCXA</td>\n",
       "      <td>2021-10-05</td>\n",
       "      <td>2022-03-16</td>\n",
       "    </tr>\n",
       "    <tr>\n",
       "      <th>1</th>\n",
       "      <td>95118Z</td>\n",
       "      <td>US88025U1097</td>\n",
       "      <td>U88025U109</td>\n",
       "      <td>10X GENOMICS A</td>\n",
       "      <td>95118Z</td>\n",
       "      <td>88025U109</td>\n",
       "      <td>TXG</td>\n",
       "      <td>2019-09-12</td>\n",
       "      <td>2022-03-16</td>\n",
       "    </tr>\n",
       "    <tr>\n",
       "      <th>2</th>\n",
       "      <td>9330V3</td>\n",
       "      <td>US68247Q1022</td>\n",
       "      <td>U68247Q102</td>\n",
       "      <td>111 ADR 1:2</td>\n",
       "      <td>9330V3</td>\n",
       "      <td>68247Q102</td>\n",
       "      <td>YI</td>\n",
       "      <td>2018-09-12</td>\n",
       "      <td>2022-03-16</td>\n",
       "    </tr>\n",
       "    <tr>\n",
       "      <th>3</th>\n",
       "      <td>99133U</td>\n",
       "      <td>US81807M2052</td>\n",
       "      <td>U81807M205</td>\n",
       "      <td>17 ED.TGP.ADR 1:10</td>\n",
       "      <td>99133U</td>\n",
       "      <td>81807M205</td>\n",
       "      <td>YQ</td>\n",
       "      <td>2020-12-04</td>\n",
       "      <td>2022-03-16</td>\n",
       "    </tr>\n",
       "    <tr>\n",
       "      <th>4</th>\n",
       "      <td>9101KM</td>\n",
       "      <td>US68236V1044</td>\n",
       "      <td>U68236V104</td>\n",
       "      <td>180 LIFE SCIENCES</td>\n",
       "      <td>9101KM</td>\n",
       "      <td>68236V104</td>\n",
       "      <td>ATNF</td>\n",
       "      <td>2017-06-27</td>\n",
       "      <td>2022-03-16</td>\n",
       "    </tr>\n",
       "    <tr>\n",
       "      <th>...</th>\n",
       "      <td>...</td>\n",
       "      <td>...</td>\n",
       "      <td>...</td>\n",
       "      <td>...</td>\n",
       "      <td>...</td>\n",
       "      <td>...</td>\n",
       "      <td>...</td>\n",
       "      <td>...</td>\n",
       "      <td>...</td>\n",
       "    </tr>\n",
       "    <tr>\n",
       "      <th>4073</th>\n",
       "      <td>30358V</td>\n",
       "      <td>US9898171015</td>\n",
       "      <td>U989817101</td>\n",
       "      <td>ZUMIEZ</td>\n",
       "      <td>30358V</td>\n",
       "      <td>989817101</td>\n",
       "      <td>ZUMZ</td>\n",
       "      <td>2005-05-06</td>\n",
       "      <td>2022-03-16</td>\n",
       "    </tr>\n",
       "    <tr>\n",
       "      <th>4074</th>\n",
       "      <td>50259R</td>\n",
       "      <td>US98880R1095</td>\n",
       "      <td>U98880R109</td>\n",
       "      <td>ZW DATA ACTION TECHNOLOGIES</td>\n",
       "      <td>50259R</td>\n",
       "      <td>98880R109</td>\n",
       "      <td>CNET</td>\n",
       "      <td>2007-10-15</td>\n",
       "      <td>2022-03-16</td>\n",
       "    </tr>\n",
       "    <tr>\n",
       "      <th>4075</th>\n",
       "      <td>2568RT</td>\n",
       "      <td>US98985X1000</td>\n",
       "      <td>U98985X100</td>\n",
       "      <td>ZYMERGEN</td>\n",
       "      <td>2568RT</td>\n",
       "      <td>98985X100</td>\n",
       "      <td>ZY</td>\n",
       "      <td>2021-04-22</td>\n",
       "      <td>2022-03-16</td>\n",
       "    </tr>\n",
       "    <tr>\n",
       "      <th>4076</th>\n",
       "      <td>98116P</td>\n",
       "      <td>US98986X1090</td>\n",
       "      <td>U98986X109</td>\n",
       "      <td>ZYNERBA PHARMACEUTICALS</td>\n",
       "      <td>98116P</td>\n",
       "      <td>98986X109</td>\n",
       "      <td>ZYNE</td>\n",
       "      <td>2015-08-05</td>\n",
       "      <td>2022-03-16</td>\n",
       "    </tr>\n",
       "    <tr>\n",
       "      <th>4077</th>\n",
       "      <td>774464</td>\n",
       "      <td>US98986T1088</td>\n",
       "      <td>U98986T108</td>\n",
       "      <td>ZYNGA 'A'</td>\n",
       "      <td>774464</td>\n",
       "      <td>98986T108</td>\n",
       "      <td>ZNGA</td>\n",
       "      <td>2011-12-16</td>\n",
       "      <td>2022-03-16</td>\n",
       "    </tr>\n",
       "  </tbody>\n",
       "</table>\n",
       "<p>4078 rows × 9 columns</p>\n",
       "</div>"
      ],
      "text/plain": [
       "        Type     ISIN CODE LOC OFF. CODE  \\\n",
       "0     2606T9  KYG870761080    UG87076108   \n",
       "1     95118Z  US88025U1097    U88025U109   \n",
       "2     9330V3  US68247Q1022    U68247Q102   \n",
       "3     99133U  US81807M2052    U81807M205   \n",
       "4     9101KM  US68236V1044    U68236V104   \n",
       "...      ...           ...           ...   \n",
       "4073  30358V  US9898171015    U989817101   \n",
       "4074  50259R  US98880R1095    U98880R109   \n",
       "4075  2568RT  US98985X1000    U98985X100   \n",
       "4076  98116P  US98986X1090    U98986X109   \n",
       "4077  774464  US98986T1088    U98986T108   \n",
       "\n",
       "                                      NAME DATASTREAM CODE      CUSIP  \\\n",
       "0     10X CAPITAL VENTURE ACQUISITION II A          2606T9  G87076108   \n",
       "1                           10X GENOMICS A          95118Z  88025U109   \n",
       "2                              111 ADR 1:2          9330V3  68247Q102   \n",
       "3                       17 ED.TGP.ADR 1:10          99133U  81807M205   \n",
       "4                        180 LIFE SCIENCES          9101KM  68236V104   \n",
       "...                                    ...             ...        ...   \n",
       "4073                                ZUMIEZ          30358V  989817101   \n",
       "4074           ZW DATA ACTION TECHNOLOGIES          50259R  98880R109   \n",
       "4075                              ZYMERGEN          2568RT  98985X100   \n",
       "4076               ZYNERBA PHARMACEUTICALS          98116P  98986X109   \n",
       "4077                             ZYNGA 'A'          774464  98986T108   \n",
       "\n",
       "     TICKER SYMBOL BASE OR ST DATE DATE/TIME (DS End Date)  \n",
       "0             VCXA      2021-10-05              2022-03-16  \n",
       "1              TXG      2019-09-12              2022-03-16  \n",
       "2               YI      2018-09-12              2022-03-16  \n",
       "3               YQ      2020-12-04              2022-03-16  \n",
       "4             ATNF      2017-06-27              2022-03-16  \n",
       "...            ...             ...                     ...  \n",
       "4073          ZUMZ      2005-05-06              2022-03-16  \n",
       "4074          CNET      2007-10-15              2022-03-16  \n",
       "4075            ZY      2021-04-22              2022-03-16  \n",
       "4076          ZYNE      2015-08-05              2022-03-16  \n",
       "4077          ZNGA      2011-12-16              2022-03-16  \n",
       "\n",
       "[4078 rows x 9 columns]"
      ]
     },
     "execution_count": 6,
     "metadata": {},
     "output_type": "execute_result"
    }
   ],
   "source": [
    "data"
   ]
  },
  {
   "cell_type": "markdown",
   "id": "b742aac2-c385-4e3e-8815-f632ab7dc31b",
   "metadata": {
    "pycharm": {
     "name": "#%% md\n"
    }
   },
   "source": [
    "## Read in scraped data\n",
    "We need this, so we can also exclude handling where we didn't get any data from whereever"
   ]
  },
  {
   "cell_type": "markdown",
   "id": "ef6a3ce6-a45b-4f4f-9338-4b076931d6ac",
   "metadata": {
    "pycharm": {
     "name": "#%% md\n"
    }
   },
   "source": [
    "### Insider trades"
   ]
  },
  {
   "cell_type": "code",
   "execution_count": 7,
   "id": "4d53a085-84e9-49c3-bc03-773fd10fdf02",
   "metadata": {
    "pycharm": {
     "name": "#%%\n"
    }
   },
   "outputs": [
    {
     "name": "stdout",
     "output_type": "stream",
     "text": [
      "Handling 4078 of 4078. Currently doing: ZNGA\n"
     ]
    }
   ],
   "source": [
    "# Define dummy placeholders\n",
    "tickers = []\n",
    "trade_counts = []\n",
    "min_filing_date = []\n",
    "max_filing_date = []\n",
    "min_trade_date = []\n",
    "max_trade_date = []\n",
    "n_distinct_traders = []\n",
    "n_distinct_trade_types = []\n",
    "\n",
    "n_p = []\n",
    "n_s = []\n",
    "n_s2 = []\n",
    "n_a = []\n",
    "n_d = []\n",
    "n_g = []\n",
    "n_f = []\n",
    "n_m = []\n",
    "n_x = []\n",
    "n_c = []\n",
    "n_w = []\n",
    "\n",
    "# helpers\n",
    "counter = 0\n",
    "total_count = len(data['TICKER SYMBOL'])\n",
    "\n",
    "# Read in scraped files, and do various aggregations\n",
    "for ticker in data['TICKER SYMBOL']:\n",
    "    counter = counter +1\n",
    "    clear_output(wait=True)\n",
    "    print(f'Handling {counter} of {total_count}. Currently doing: {ticker}')\n",
    "    \n",
    "    dat = pd.read_csv(_insider_location + ticker + '.csv', index_col=0, parse_dates=['FilingDate', 'TradeDate'])\n",
    "\n",
    "    tickers.append(ticker)\n",
    "    trade_counts.append(dat.shape[0])\n",
    "\n",
    "    min_filing_date.append(dat['FilingDate'].min())\n",
    "    max_filing_date.append(dat['FilingDate'].max())\n",
    "\n",
    "    min_trade_date.append(dat['TradeDate'].min())\n",
    "    max_trade_date.append(dat['TradeDate'].max())\n",
    "\n",
    "    n_distinct_traders.append(dat['InsiderName'].nunique())\n",
    "    n_distinct_trade_types.append(dat['TradeType'].nunique())\n",
    "\n",
    "\n",
    "    n_p.append(sum(dat['TradeType'] == 'P - Purchase'))\n",
    "    n_s.append(sum(dat['TradeType'] == 'S - Sale'))\n",
    "    n_s2.append(sum(dat['TradeType'] == 'S - Sale+OE'))\n",
    "\n",
    "    n_a.append(sum(dat['TradeType'] == 'A - Grant'))\n",
    "    n_d.append(sum(dat['TradeType'] == 'D - Sale to Iss') + sum(dat['TradeType'] == 'D - Sale to issuer'))\n",
    "    n_g.append(sum(dat['TradeType'] == 'G - Gift'))\n",
    "    n_f.append(sum(dat['TradeType'] == 'F - Tax'))\n",
    "    n_m.append(sum(dat['TradeType'] == 'M - Option Ex') + sum(dat['TradeType'] == 'M - OptEx'))\n",
    "    n_x.append(sum(dat['TradeType'] == 'X - Option Ex') + sum(dat['TradeType'] == 'X - OptEx'))\n",
    "    n_c.append(sum(dat['TradeType'] == 'C - Cnv Deriv') + sum(dat['TradeType'] == 'C - Converted deriv'))\n",
    "    n_w.append(sum(dat['TradeType'] == 'W - Inherited'))\n",
    "    \n",
    "# Collect to a single data frame\n",
    "scraped_insider_df = pd.DataFrame({'tickers': tickers\n",
    "                                   , 'trade_count': trade_counts\n",
    "                                   , 'min_filing_date': min_filing_date\n",
    "                                   , 'max_filing_date': max_filing_date\n",
    "                                   , 'min_trade_date': min_trade_date\n",
    "                                   , 'max_trade_date': max_trade_date\n",
    "                                   , 'n_distinct_traders': n_distinct_traders\n",
    "                                   , 'n_distinct_trade_types': n_distinct_trade_types\n",
    "                                   , 'P - Purchase (count)': n_p\n",
    "                                   , 'S - Sale (count)': n_s\n",
    "                                   , 'S - Sale+OE': n_s2\n",
    "                                   , 'A - Grant (count)': n_a\n",
    "                                   , 'D - Sale to Iss (count)': n_d\n",
    "                                   , 'G - Gift (count)': n_g\n",
    "                                   , 'F - Tax (count)': n_f\n",
    "                                   , 'M - Option Ex (count)': n_m\n",
    "                                   , 'X - Option Ex (count)': n_x\n",
    "                                   , 'C - Cnv Deriv (count)': n_c\n",
    "                                   , 'W - Inherited (count)': n_w\n",
    "                   })\n",
    "scraped_insider_df\n",
    "scraped_insider_df = scraped_insider_df.drop_duplicates()"
   ]
  },
  {
   "cell_type": "markdown",
   "id": "6d30b2d5-11dd-4d91-8bf5-741733293d66",
   "metadata": {
    "pycharm": {
     "name": "#%% md\n"
    }
   },
   "source": [
    "#### Join the data"
   ]
  },
  {
   "cell_type": "code",
   "execution_count": 8,
   "id": "16645912-ab96-4246-a530-91f9eac965df",
   "metadata": {
    "pycharm": {
     "name": "#%%\n"
    }
   },
   "outputs": [],
   "source": [
    "#data = data.join(scraped_insider_df, rsuffix='_given', lsuffix='_insider', how=\"left\")\n",
    "data = pd.merge(data, scraped_insider_df, how='left', left_on = 'TICKER SYMBOL', right_on = 'tickers')"
   ]
  },
  {
   "cell_type": "markdown",
   "id": "c5116027-3eac-428f-9651-6412c8c6b0de",
   "metadata": {
    "pycharm": {
     "name": "#%% md\n"
    }
   },
   "source": [
    "### Read in market timeseries"
   ]
  },
  {
   "cell_type": "code",
   "execution_count": 9,
   "id": "63ef6af6-4a23-4cf3-9fa7-6654b3e1a03f",
   "metadata": {
    "pycharm": {
     "name": "#%%\n"
    }
   },
   "outputs": [
    {
     "name": "stdout",
     "output_type": "stream",
     "text": [
      "loading return series...\n"
     ]
    },
    {
     "name": "stderr",
     "output_type": "stream",
     "text": [
      "100%|██████████| 4077/4077 [00:01<00:00, 2166.71it/s]\n"
     ]
    }
   ],
   "source": [
    "# File location (needs cleansing)\n",
    "DATA_LOCATION_RI = DATA_LOCATION + 'processed/RI_discard/'\n",
    "_ri_location = DATA_LOCATION_RI\n",
    "\n",
    "file_locs_ = os.listdir(_ri_location)\n",
    "file_locs = [_ri_location + f for f in file_locs_]\n",
    "\n",
    "# Actually read in the company information\n",
    "companies = []\n",
    "print(\"loading return series...\")\n",
    "for file_loc in tqdm(file_locs):\n",
    "    with open(file_loc, \"rb\") as f:\n",
    "        company = pickle.load(f)\n",
    "    companies.append(company)"
   ]
  },
  {
   "cell_type": "code",
   "execution_count": 10,
   "id": "23b047e5-c424-42af-a89e-550bebd15258",
   "metadata": {
    "pycharm": {
     "name": "#%%\n"
    },
    "tags": []
   },
   "outputs": [
    {
     "name": "stdout",
     "output_type": "stream",
     "text": [
      "NA: 0.04859999999999998 True\n",
      "IPCI: inf True\n",
      "SPHS: 9.755259204904322 True\n",
      "IGLDF: -3.9164696927135467 True\n",
      "ROSGQ: inf True\n",
      "ESTRF: 9.294235124590656 True\n",
      "LINUF: 59.66332377001714 True\n",
      "NA: -0.0009999999999998899 True\n",
      "RBZHF: 5.506560240880486 True\n",
      "ABILF: inf True\n",
      "DRYS: 0.09898764305395646 True\n",
      "GLBS: inf True\n",
      "PSHG: -3.6888402702323795 True\n",
      "SHIP: inf True\n",
      "TOPS: inf True\n",
      "ABIO: inf True\n",
      "ABEO: inf True\n",
      "ACER: inf True\n",
      "ACHV: inf True\n",
      "ADYX: inf True\n",
      "AIKI: inf True\n",
      "ANTH: inf True\n",
      "ARDMQ: inf True\n",
      "ATIS: inf True\n",
      "AVGR: inf True\n",
      "AYRO: inf True\n",
      "AYTU: inf True\n",
      "BSPM: 22.563775671395504 True\n",
      "CDTI: inf True\n",
      "CTIC: 0.0 True\n",
      "CLBS: 0.0 True\n",
      "CLRB: inf True\n",
      "CTRCQ: 6.6075396825396835 True\n",
      "CALI: inf True\n",
      "CNTFY: inf True\n",
      "CLRD: inf True\n",
      "CODA: inf True\n",
      "CYCC: inf True\n",
      "DESTQ: inf True\n",
      "DTRM: inf True\n",
      "DFFN: 0.0 True\n",
      "ESESQ: 0.0 True\n",
      "ENVB: inf True\n",
      "FNJN: 0.0 True\n",
      "NA: -0.12230000000000008 True\n",
      "FSNNQ: inf True\n",
      "GADS: inf True\n",
      "GEVO: inf True\n",
      "HMNY: 1.5206380557799282 True\n",
      "IDEX: inf True\n",
      "IMNPQ: inf True\n",
      "INPX: inf True\n",
      "INAPQ: inf True\n",
      "NVIV: inf True\n",
      "JAGX: inf True\n",
      "KGJI: 12.861403020142767 True\n",
      "KONA: inf True\n",
      "LJPC: 0.0 True\n",
      "NA: 0.0 True\n",
      "LFIN: inf True\n",
      "MBVXQ: inf True\n",
      "MRKR: 0.0 True\n",
      "MBOT: inf True\n",
      "NEON: inf True\n",
      "NURO: inf True\n",
      "NUWE: -1.0512991111269565 True\n",
      "ONTX: inf True\n",
      "OREXQ: inf True\n",
      "PZRXQ: 69.83312004609776 True\n",
      "PHIO: inf True\n",
      "PSTV: inf True\n",
      "PRPO: inf True\n",
      "RGSEQ: -3.0277919080748164 True\n",
      "RSLS: inf True\n",
      "RIBT: inf True\n",
      "SAEXQ: inf True\n",
      "SLS: inf True\n",
      "SQBGQ: inf True\n",
      "SNNAQ: 0.5921083971469483 True\n",
      "SSNT: inf True\n",
      "SYNE: 0.5946908319880173 True\n",
      "TRNX: inf True\n",
      "TGTX: inf True\n",
      "TNTRQ: 2.541583783523985 True\n",
      "TNXP: -4.585020723022673 True\n",
      "TGHI: 0.0 True\n",
      "VLRXQ: inf True\n",
      "VISL: inf True\n",
      "VIVE: -0.5650294150294138 True\n",
      "WWR: inf True\n",
      "YELL: inf True\n",
      "BIQIF: inf True\n"
     ]
    },
    {
     "data": {
      "text/html": [
       "<div>\n",
       "<style scoped>\n",
       "    .dataframe tbody tr th:only-of-type {\n",
       "        vertical-align: middle;\n",
       "    }\n",
       "\n",
       "    .dataframe tbody tr th {\n",
       "        vertical-align: top;\n",
       "    }\n",
       "\n",
       "    .dataframe thead th {\n",
       "        text-align: right;\n",
       "    }\n",
       "</style>\n",
       "<table border=\"1\" class=\"dataframe\">\n",
       "  <thead>\n",
       "    <tr style=\"text-align: right;\">\n",
       "      <th></th>\n",
       "      <th>isin</th>\n",
       "      <th>ts_rows</th>\n",
       "      <th>name</th>\n",
       "      <th>ticker</th>\n",
       "      <th>start_date</th>\n",
       "      <th>end_date</th>\n",
       "      <th>start_date_ts</th>\n",
       "      <th>end_date_ts</th>\n",
       "      <th>RI_Errors</th>\n",
       "    </tr>\n",
       "  </thead>\n",
       "  <tbody>\n",
       "    <tr>\n",
       "      <th>0</th>\n",
       "      <td>AGP8696W1045</td>\n",
       "      <td>737</td>\n",
       "      <td>SINOVAC BIOTECH</td>\n",
       "      <td>SVA</td>\n",
       "      <td>2003-09-26</td>\n",
       "      <td>2019-02-22</td>\n",
       "      <td>2016-03-21</td>\n",
       "      <td>2019-02-22</td>\n",
       "      <td>False</td>\n",
       "    </tr>\n",
       "    <tr>\n",
       "      <th>1</th>\n",
       "      <td>AU000000ITL3</td>\n",
       "      <td>1157</td>\n",
       "      <td>INTEGRATED MEDIA TECH.</td>\n",
       "      <td>IMTE</td>\n",
       "      <td>2017-08-11</td>\n",
       "      <td>2022-03-16</td>\n",
       "      <td>2017-08-11</td>\n",
       "      <td>2022-03-16</td>\n",
       "      <td>False</td>\n",
       "    </tr>\n",
       "    <tr>\n",
       "      <th>2</th>\n",
       "      <td>AU0000185993</td>\n",
       "      <td>82</td>\n",
       "      <td>IRIS ENERGY PTY</td>\n",
       "      <td>IREN</td>\n",
       "      <td>2021-11-17</td>\n",
       "      <td>2022-03-16</td>\n",
       "      <td>2021-11-17</td>\n",
       "      <td>2022-03-16</td>\n",
       "      <td>False</td>\n",
       "    </tr>\n",
       "    <tr>\n",
       "      <th>3</th>\n",
       "      <td>AU0000198582</td>\n",
       "      <td>942</td>\n",
       "      <td>CENNTRO ELECTRIC GROUP</td>\n",
       "      <td>CENN</td>\n",
       "      <td>2018-06-20</td>\n",
       "      <td>2022-03-16</td>\n",
       "      <td>2018-06-20</td>\n",
       "      <td>2022-03-16</td>\n",
       "      <td>False</td>\n",
       "    </tr>\n",
       "    <tr>\n",
       "      <th>4</th>\n",
       "      <td>AU0000205205</td>\n",
       "      <td>242</td>\n",
       "      <td>TRITIUM DCFC</td>\n",
       "      <td>DCFC</td>\n",
       "      <td>2021-04-01</td>\n",
       "      <td>2022-03-16</td>\n",
       "      <td>2021-04-01</td>\n",
       "      <td>2022-03-16</td>\n",
       "      <td>False</td>\n",
       "    </tr>\n",
       "    <tr>\n",
       "      <th>...</th>\n",
       "      <td>...</td>\n",
       "      <td>...</td>\n",
       "      <td>...</td>\n",
       "      <td>...</td>\n",
       "      <td>...</td>\n",
       "      <td>...</td>\n",
       "      <td>...</td>\n",
       "      <td>...</td>\n",
       "      <td>...</td>\n",
       "    </tr>\n",
       "    <tr>\n",
       "      <th>4072</th>\n",
       "      <td>VGG870841027</td>\n",
       "      <td>1129</td>\n",
       "      <td>TDH HOLDINGS</td>\n",
       "      <td>PETZ</td>\n",
       "      <td>2017-09-21</td>\n",
       "      <td>2022-03-16</td>\n",
       "      <td>2017-09-21</td>\n",
       "      <td>2022-03-16</td>\n",
       "      <td>False</td>\n",
       "    </tr>\n",
       "    <tr>\n",
       "      <th>4073</th>\n",
       "      <td>VGG9320Z1099</td>\n",
       "      <td>40</td>\n",
       "      <td>VAHANNA TECH EDGE ACQUISITION I A</td>\n",
       "      <td>VHNA</td>\n",
       "      <td>2022-01-13</td>\n",
       "      <td>2022-03-11</td>\n",
       "      <td>2022-01-13</td>\n",
       "      <td>2022-03-11</td>\n",
       "      <td>False</td>\n",
       "    </tr>\n",
       "    <tr>\n",
       "      <th>4074</th>\n",
       "      <td>VGG941841014</td>\n",
       "      <td>727</td>\n",
       "      <td>WAH FU EDUCATION GROUP</td>\n",
       "      <td>WAFU</td>\n",
       "      <td>2019-04-30</td>\n",
       "      <td>2022-03-16</td>\n",
       "      <td>2019-04-30</td>\n",
       "      <td>2022-03-16</td>\n",
       "      <td>False</td>\n",
       "    </tr>\n",
       "    <tr>\n",
       "      <th>4075</th>\n",
       "      <td>VGG9604C1077</td>\n",
       "      <td>315</td>\n",
       "      <td>MEIWU TECHNOLOGY COMPANY</td>\n",
       "      <td>WNW</td>\n",
       "      <td>2020-12-15</td>\n",
       "      <td>2022-03-16</td>\n",
       "      <td>2020-12-15</td>\n",
       "      <td>2022-03-16</td>\n",
       "      <td>False</td>\n",
       "    </tr>\n",
       "    <tr>\n",
       "      <th>4076</th>\n",
       "      <td>VGG9892K1003</td>\n",
       "      <td>1142</td>\n",
       "      <td>ZK INTERNATIONAL GROUP</td>\n",
       "      <td>ZKIN</td>\n",
       "      <td>2017-09-01</td>\n",
       "      <td>2022-03-16</td>\n",
       "      <td>2017-09-01</td>\n",
       "      <td>2022-03-16</td>\n",
       "      <td>False</td>\n",
       "    </tr>\n",
       "  </tbody>\n",
       "</table>\n",
       "<p>4077 rows × 9 columns</p>\n",
       "</div>"
      ],
      "text/plain": [
       "              isin  ts_rows                               name ticker  \\\n",
       "0     AGP8696W1045      737                    SINOVAC BIOTECH    SVA   \n",
       "1     AU000000ITL3     1157             INTEGRATED MEDIA TECH.   IMTE   \n",
       "2     AU0000185993       82                    IRIS ENERGY PTY   IREN   \n",
       "3     AU0000198582      942             CENNTRO ELECTRIC GROUP   CENN   \n",
       "4     AU0000205205      242                       TRITIUM DCFC   DCFC   \n",
       "...            ...      ...                                ...    ...   \n",
       "4072  VGG870841027     1129                       TDH HOLDINGS   PETZ   \n",
       "4073  VGG9320Z1099       40  VAHANNA TECH EDGE ACQUISITION I A   VHNA   \n",
       "4074  VGG941841014      727             WAH FU EDUCATION GROUP   WAFU   \n",
       "4075  VGG9604C1077      315           MEIWU TECHNOLOGY COMPANY    WNW   \n",
       "4076  VGG9892K1003     1142             ZK INTERNATIONAL GROUP   ZKIN   \n",
       "\n",
       "     start_date   end_date start_date_ts end_date_ts  RI_Errors  \n",
       "0    2003-09-26 2019-02-22    2016-03-21  2019-02-22      False  \n",
       "1    2017-08-11 2022-03-16    2017-08-11  2022-03-16      False  \n",
       "2    2021-11-17 2022-03-16    2021-11-17  2022-03-16      False  \n",
       "3    2018-06-20 2022-03-16    2018-06-20  2022-03-16      False  \n",
       "4    2021-04-01 2022-03-16    2021-04-01  2022-03-16      False  \n",
       "...         ...        ...           ...         ...        ...  \n",
       "4072 2017-09-21 2022-03-16    2017-09-21  2022-03-16      False  \n",
       "4073 2022-01-13 2022-03-11    2022-01-13  2022-03-11      False  \n",
       "4074 2019-04-30 2022-03-16    2019-04-30  2022-03-16      False  \n",
       "4075 2020-12-15 2022-03-16    2020-12-15  2022-03-16      False  \n",
       "4076 2017-09-01 2022-03-16    2017-09-01  2022-03-16      False  \n",
       "\n",
       "[4077 rows x 9 columns]"
      ]
     },
     "execution_count": 10,
     "metadata": {},
     "output_type": "execute_result"
    }
   ],
   "source": [
    "isins = []\n",
    "names = []\n",
    "tickers = []\n",
    "start_dates = []\n",
    "end_dates = []\n",
    "start_dates_ts = []\n",
    "end_dates_ts = []\n",
    "ts_rows = []\n",
    "ri_ts_errors = []\n",
    "for company in companies:\n",
    "    isins.append(company.isin)\n",
    "    names.append(company.name)\n",
    "    tickers.append(company.ticker)\n",
    "    start_dates.append(company.start_date)\n",
    "    end_dates.append(company.end_date)\n",
    "    start_dates_ts.append(company.return_index_df.index.min())\n",
    "    end_dates_ts.append(company.return_index_df.index.max())\n",
    "    ts_rows.append(company.return_index_df.shape[0])\n",
    "    \n",
    "    # In some cases, the RI is the same for all days in a company, followed by missing days.\n",
    "    ts_ri_sum = company.return_index_df[1:].company_return.sum() \n",
    "    \n",
    "    # Add check to see if there is a change in price at all\n",
    "    ts_ri_diff = company.return_index_df[1:].company_return.min() - company.return_index_df[1:].company_return.max()\n",
    "    \n",
    "    if (ts_ri_sum == np.Inf):\n",
    "        contains_error_in_timeseries = True\n",
    "    elif (-ts_ri_sum == np.Inf):\n",
    "        contains_error_in_timeseries = True\n",
    "    elif (math.isnan(ts_ri_sum)):\n",
    "        contains_error_in_timeseries = True\n",
    "    elif (math.isnan(ts_ri_diff)):\n",
    "        contains_error_in_timeseries = True\n",
    "    elif (ts_ri_diff == 0):\n",
    "        contains_error_in_timeseries = True\n",
    "    elif (company.return_index_df[1:].company_return.isnull().any() == True):\n",
    "        contains_error_in_timeseries = True\n",
    "    else:\n",
    "        contains_error_in_timeseries = False\n",
    "    ri_ts_errors.append(contains_error_in_timeseries)\n",
    "    \n",
    "    if (contains_error_in_timeseries):\n",
    "        print(f'{company.ticker}: {ts_ri_sum} {contains_error_in_timeseries}')\n",
    "    \n",
    "        \n",
    "# Collect to a single data frame\n",
    "scraped_ts_df = pd.DataFrame({'isin': isins\n",
    "                              , 'ts_rows': ts_rows\n",
    "                              , 'name': names\n",
    "                              , 'ticker': tickers\n",
    "                              , 'start_date': start_dates\n",
    "                              , 'end_date': end_dates\n",
    "                              , 'start_date_ts': start_dates_ts\n",
    "                              , 'end_date_ts': end_dates_ts\n",
    "                              , 'RI_Errors': ri_ts_errors\n",
    "                             })\n",
    "scraped_ts_df = scraped_ts_df.drop_duplicates()\n",
    "scraped_ts_df#[scraped_ts_df['ticker'] == 'ABIO']"
   ]
  },
  {
   "cell_type": "markdown",
   "id": "1111f339-39b0-4d5b-8a87-0d76ede18418",
   "metadata": {
    "pycharm": {
     "name": "#%% md\n"
    }
   },
   "source": [
    "#### Join the data"
   ]
  },
  {
   "cell_type": "code",
   "execution_count": 11,
   "id": "a1fd142e-198f-4000-af8b-21935b90f87e",
   "metadata": {
    "pycharm": {
     "name": "#%%\n"
    }
   },
   "outputs": [],
   "source": [
    "#data = data.join(scraped_ts_df, rsuffix='_given', lsuffix='_ts', how=\"left\", left_on = 'ISIN CODE', right_on = 'isin')\n",
    "data = pd.merge(data, scraped_ts_df, how=\"left\", left_on = 'ISIN CODE', right_on = 'isin')"
   ]
  },
  {
   "cell_type": "markdown",
   "id": "c9a24c5e-9fd5-4480-b5a6-bd6a980013e1",
   "metadata": {
    "pycharm": {
     "name": "#%% md\n"
    }
   },
   "source": [
    "### Start filtering"
   ]
  },
  {
   "cell_type": "code",
   "execution_count": 12,
   "id": "e5224aad-507d-401f-a1d4-fe22688c59f7",
   "metadata": {
    "pycharm": {
     "name": "#%%\n"
    }
   },
   "outputs": [],
   "source": [
    "data['reason_to_exclude'] = 'None'"
   ]
  },
  {
   "cell_type": "markdown",
   "id": "036e7c49-f47e-47be-8bfc-9496ddea8dd0",
   "metadata": {
    "pycharm": {
     "name": "#%% md\n"
    }
   },
   "source": [
    "#### Remove Companies without ISINs"
   ]
  },
  {
   "cell_type": "code",
   "execution_count": 13,
   "id": "d7a91454-0de1-4f74-8076-2489217b92ea",
   "metadata": {
    "pycharm": {
     "name": "#%%\n"
    }
   },
   "outputs": [
    {
     "data": {
      "text/plain": [
       "(2, 38)"
      ]
     },
     "execution_count": 13,
     "metadata": {},
     "output_type": "execute_result"
    }
   ],
   "source": [
    "mask = data['ISIN CODE'] == 'NA'\n",
    "#data.loc[mask, 'reason_to_exclude'] = 'NA ticker'\n",
    "data.loc[mask, 'reason_to_exclude'] = 'Missing ISIN'\n",
    "data.loc[mask].shape"
   ]
  },
  {
   "cell_type": "markdown",
   "id": "6c5613f3-8084-48d4-bdc3-70915bdb004a",
   "metadata": {
    "pycharm": {
     "name": "#%% md\n"
    }
   },
   "source": [
    "#### Remove companies without trades"
   ]
  },
  {
   "cell_type": "code",
   "execution_count": 14,
   "id": "6d1c70c7-ba22-43c9-b557-cf0d849a3082",
   "metadata": {
    "pycharm": {
     "name": "#%%\n"
    }
   },
   "outputs": [
    {
     "data": {
      "text/plain": [
       "(922, 38)"
      ]
     },
     "execution_count": 14,
     "metadata": {},
     "output_type": "execute_result"
    }
   ],
   "source": [
    "mask = data['trade_count'] == 0\n",
    "#data.loc[mask, 'reason_to_exclude'] = 'NA ticker'\n",
    "data.loc[mask, 'reason_to_exclude'] = 'No trades done'\n",
    "data.loc[mask].shape"
   ]
  },
  {
   "cell_type": "markdown",
   "id": "6501379c-fe46-4f33-a5fa-1ac1e3bdd677",
   "metadata": {
    "pycharm": {
     "name": "#%% md\n"
    }
   },
   "source": [
    "#### Remove companies without timeseries"
   ]
  },
  {
   "cell_type": "code",
   "execution_count": 15,
   "id": "65ab6e5e-1790-4a31-9038-a3fcf0624cce",
   "metadata": {
    "pycharm": {
     "name": "#%%\n"
    }
   },
   "outputs": [
    {
     "data": {
      "text/plain": [
       "(0, 38)"
      ]
     },
     "execution_count": 15,
     "metadata": {},
     "output_type": "execute_result"
    }
   ],
   "source": [
    "mask = data['ts_rows'].isnull()\n",
    "data.loc[mask, 'reason_to_exclude'] = 'No timeseries data'\n",
    "data.loc[mask].shape"
   ]
  },
  {
   "cell_type": "markdown",
   "id": "cae63947-3c36-4446-ba53-d58be7a1b16b",
   "metadata": {
    "pycharm": {
     "name": "#%% md\n"
    }
   },
   "source": [
    "#### Remove companies where company time-series from source if wrong"
   ]
  },
  {
   "cell_type": "code",
   "execution_count": 16,
   "id": "5c0c027d-040d-4a8b-84c2-287f72730779",
   "metadata": {
    "pycharm": {
     "name": "#%%\n"
    }
   },
   "outputs": [
    {
     "data": {
      "text/plain": [
       "(92, 38)"
      ]
     },
     "execution_count": 16,
     "metadata": {},
     "output_type": "execute_result"
    }
   ],
   "source": [
    "mask = data['RI_Errors'] == True\n",
    "data.loc[mask, 'reason_to_exclude'] = 'Faulty timeseries data'\n",
    "data.loc[mask].shape"
   ]
  },
  {
   "cell_type": "markdown",
   "id": "6d12b135-0c68-4a74-8570-37c00b7cf32c",
   "metadata": {
    "pycharm": {
     "name": "#%% md\n"
    }
   },
   "source": [
    "#### Find non-unique tickers"
   ]
  },
  {
   "cell_type": "code",
   "execution_count": 17,
   "id": "901fe043-8fa8-4fe0-a661-42d8e4933a4e",
   "metadata": {
    "pycharm": {
     "name": "#%%\n"
    }
   },
   "outputs": [
    {
     "data": {
      "text/plain": [
       "(251, 38)"
      ]
     },
     "execution_count": 17,
     "metadata": {},
     "output_type": "execute_result"
    }
   ],
   "source": [
    "dublicate_tickers = data[data.duplicated(subset=['TICKER SYMBOL'],keep=False)]['TICKER SYMBOL']\n",
    "dublicate_tickers_mask = data['TICKER SYMBOL'].isin(dublicate_tickers)\n",
    "data.loc[dublicate_tickers_mask, 'reason_to_exclude'] = 'Non-unique-ticker'\n",
    "data.loc[dublicate_tickers_mask].shape"
   ]
  },
  {
   "cell_type": "markdown",
   "id": "4bc7b37b-8747-494c-8bd6-ebe2c11047f8",
   "metadata": {
    "pycharm": {
     "name": "#%% md\n"
    }
   },
   "source": [
    "#### Find NA tickers"
   ]
  },
  {
   "cell_type": "code",
   "execution_count": 18,
   "id": "e98b60ad-e72e-4b67-8526-7191fb42bb4d",
   "metadata": {
    "pycharm": {
     "name": "#%%\n"
    }
   },
   "outputs": [
    {
     "data": {
      "text/plain": [
       "(158, 38)"
      ]
     },
     "execution_count": 18,
     "metadata": {},
     "output_type": "execute_result"
    }
   ],
   "source": [
    "mask = data['TICKER SYMBOL'] == 'NA'\n",
    "data.loc[mask, 'reason_to_exclude'] = 'NA ticker'\n",
    "data.loc[mask].shape"
   ]
  },
  {
   "cell_type": "markdown",
   "id": "7427e500-ca70-44d7-abe2-c9fdd0b0c1dd",
   "metadata": {
    "pycharm": {
     "name": "#%% md\n"
    }
   },
   "source": [
    "### Show what we have"
   ]
  },
  {
   "cell_type": "code",
   "execution_count": 19,
   "id": "d1851a56-20d9-4a7a-8143-b41fabd065a6",
   "metadata": {
    "pycharm": {
     "name": "#%%\n"
    }
   },
   "outputs": [
    {
     "data": {
      "text/html": [
       "<div>\n",
       "<style scoped>\n",
       "    .dataframe tbody tr th:only-of-type {\n",
       "        vertical-align: middle;\n",
       "    }\n",
       "\n",
       "    .dataframe tbody tr th {\n",
       "        vertical-align: top;\n",
       "    }\n",
       "\n",
       "    .dataframe thead th {\n",
       "        text-align: right;\n",
       "    }\n",
       "</style>\n",
       "<table border=\"1\" class=\"dataframe\">\n",
       "  <thead>\n",
       "    <tr style=\"text-align: right;\">\n",
       "      <th></th>\n",
       "      <th>Type</th>\n",
       "      <th>ISIN CODE</th>\n",
       "      <th>LOC OFF. CODE</th>\n",
       "      <th>NAME</th>\n",
       "      <th>DATASTREAM CODE</th>\n",
       "      <th>CUSIP</th>\n",
       "      <th>TICKER SYMBOL</th>\n",
       "      <th>BASE OR ST DATE</th>\n",
       "      <th>DATE/TIME (DS End Date)</th>\n",
       "      <th>tickers</th>\n",
       "      <th>...</th>\n",
       "      <th>isin</th>\n",
       "      <th>ts_rows</th>\n",
       "      <th>name</th>\n",
       "      <th>ticker</th>\n",
       "      <th>start_date</th>\n",
       "      <th>end_date</th>\n",
       "      <th>start_date_ts</th>\n",
       "      <th>end_date_ts</th>\n",
       "      <th>RI_Errors</th>\n",
       "      <th>reason_to_exclude</th>\n",
       "    </tr>\n",
       "  </thead>\n",
       "  <tbody>\n",
       "    <tr>\n",
       "      <th>0</th>\n",
       "      <td>2606T9</td>\n",
       "      <td>KYG870761080</td>\n",
       "      <td>UG87076108</td>\n",
       "      <td>10X CAPITAL VENTURE ACQUISITION II A</td>\n",
       "      <td>2606T9</td>\n",
       "      <td>G87076108</td>\n",
       "      <td>VCXA</td>\n",
       "      <td>2021-10-05</td>\n",
       "      <td>2022-03-16</td>\n",
       "      <td>VCXA</td>\n",
       "      <td>...</td>\n",
       "      <td>KYG870761080</td>\n",
       "      <td>113</td>\n",
       "      <td>10X CAPITAL VENTURE ACQUISITION II A</td>\n",
       "      <td>VCXA</td>\n",
       "      <td>2021-10-05</td>\n",
       "      <td>2022-03-16</td>\n",
       "      <td>2021-10-05</td>\n",
       "      <td>2022-03-16</td>\n",
       "      <td>False</td>\n",
       "      <td>No trades done</td>\n",
       "    </tr>\n",
       "    <tr>\n",
       "      <th>1</th>\n",
       "      <td>95118Z</td>\n",
       "      <td>US88025U1097</td>\n",
       "      <td>U88025U109</td>\n",
       "      <td>10X GENOMICS A</td>\n",
       "      <td>95118Z</td>\n",
       "      <td>88025U109</td>\n",
       "      <td>TXG</td>\n",
       "      <td>2019-09-12</td>\n",
       "      <td>2022-03-16</td>\n",
       "      <td>TXG</td>\n",
       "      <td>...</td>\n",
       "      <td>US88025U1097</td>\n",
       "      <td>633</td>\n",
       "      <td>10X GENOMICS A</td>\n",
       "      <td>TXG</td>\n",
       "      <td>2019-09-12</td>\n",
       "      <td>2022-03-16</td>\n",
       "      <td>2019-09-12</td>\n",
       "      <td>2022-03-16</td>\n",
       "      <td>False</td>\n",
       "      <td>None</td>\n",
       "    </tr>\n",
       "    <tr>\n",
       "      <th>2</th>\n",
       "      <td>9330V3</td>\n",
       "      <td>US68247Q1022</td>\n",
       "      <td>U68247Q102</td>\n",
       "      <td>111 ADR 1:2</td>\n",
       "      <td>9330V3</td>\n",
       "      <td>68247Q102</td>\n",
       "      <td>YI</td>\n",
       "      <td>2018-09-12</td>\n",
       "      <td>2022-03-16</td>\n",
       "      <td>YI</td>\n",
       "      <td>...</td>\n",
       "      <td>US68247Q1022</td>\n",
       "      <td>884</td>\n",
       "      <td>111 ADR 1:2</td>\n",
       "      <td>YI</td>\n",
       "      <td>2018-09-12</td>\n",
       "      <td>2022-03-16</td>\n",
       "      <td>2018-09-12</td>\n",
       "      <td>2022-03-16</td>\n",
       "      <td>False</td>\n",
       "      <td>No trades done</td>\n",
       "    </tr>\n",
       "    <tr>\n",
       "      <th>3</th>\n",
       "      <td>99133U</td>\n",
       "      <td>US81807M2052</td>\n",
       "      <td>U81807M205</td>\n",
       "      <td>17 ED.TGP.ADR 1:10</td>\n",
       "      <td>99133U</td>\n",
       "      <td>81807M205</td>\n",
       "      <td>YQ</td>\n",
       "      <td>2020-12-04</td>\n",
       "      <td>2022-03-16</td>\n",
       "      <td>YQ</td>\n",
       "      <td>...</td>\n",
       "      <td>US81807M2052</td>\n",
       "      <td>322</td>\n",
       "      <td>17 ED.TGP.ADR 1:10</td>\n",
       "      <td>YQ</td>\n",
       "      <td>2020-12-04</td>\n",
       "      <td>2022-03-16</td>\n",
       "      <td>2020-12-04</td>\n",
       "      <td>2022-03-16</td>\n",
       "      <td>False</td>\n",
       "      <td>No trades done</td>\n",
       "    </tr>\n",
       "    <tr>\n",
       "      <th>4</th>\n",
       "      <td>9101KM</td>\n",
       "      <td>US68236V1044</td>\n",
       "      <td>U68236V104</td>\n",
       "      <td>180 LIFE SCIENCES</td>\n",
       "      <td>9101KM</td>\n",
       "      <td>68236V104</td>\n",
       "      <td>ATNF</td>\n",
       "      <td>2017-06-27</td>\n",
       "      <td>2022-03-16</td>\n",
       "      <td>ATNF</td>\n",
       "      <td>...</td>\n",
       "      <td>US68236V1044</td>\n",
       "      <td>1189</td>\n",
       "      <td>180 LIFE SCIENCES</td>\n",
       "      <td>ATNF</td>\n",
       "      <td>2017-06-27</td>\n",
       "      <td>2022-03-16</td>\n",
       "      <td>2017-06-27</td>\n",
       "      <td>2022-03-16</td>\n",
       "      <td>False</td>\n",
       "      <td>None</td>\n",
       "    </tr>\n",
       "    <tr>\n",
       "      <th>...</th>\n",
       "      <td>...</td>\n",
       "      <td>...</td>\n",
       "      <td>...</td>\n",
       "      <td>...</td>\n",
       "      <td>...</td>\n",
       "      <td>...</td>\n",
       "      <td>...</td>\n",
       "      <td>...</td>\n",
       "      <td>...</td>\n",
       "      <td>...</td>\n",
       "      <td>...</td>\n",
       "      <td>...</td>\n",
       "      <td>...</td>\n",
       "      <td>...</td>\n",
       "      <td>...</td>\n",
       "      <td>...</td>\n",
       "      <td>...</td>\n",
       "      <td>...</td>\n",
       "      <td>...</td>\n",
       "      <td>...</td>\n",
       "      <td>...</td>\n",
       "    </tr>\n",
       "    <tr>\n",
       "      <th>4073</th>\n",
       "      <td>30358V</td>\n",
       "      <td>US9898171015</td>\n",
       "      <td>U989817101</td>\n",
       "      <td>ZUMIEZ</td>\n",
       "      <td>30358V</td>\n",
       "      <td>989817101</td>\n",
       "      <td>ZUMZ</td>\n",
       "      <td>2005-05-06</td>\n",
       "      <td>2022-03-16</td>\n",
       "      <td>ZUMZ</td>\n",
       "      <td>...</td>\n",
       "      <td>US9898171015</td>\n",
       "      <td>1509</td>\n",
       "      <td>ZUMIEZ</td>\n",
       "      <td>ZUMZ</td>\n",
       "      <td>2005-05-06</td>\n",
       "      <td>2022-03-16</td>\n",
       "      <td>2016-03-21</td>\n",
       "      <td>2022-03-16</td>\n",
       "      <td>False</td>\n",
       "      <td>None</td>\n",
       "    </tr>\n",
       "    <tr>\n",
       "      <th>4074</th>\n",
       "      <td>50259R</td>\n",
       "      <td>US98880R1095</td>\n",
       "      <td>U98880R109</td>\n",
       "      <td>ZW DATA ACTION TECHNOLOGIES</td>\n",
       "      <td>50259R</td>\n",
       "      <td>98880R109</td>\n",
       "      <td>CNET</td>\n",
       "      <td>2007-10-15</td>\n",
       "      <td>2022-03-16</td>\n",
       "      <td>CNET</td>\n",
       "      <td>...</td>\n",
       "      <td>US98880R1095</td>\n",
       "      <td>1509</td>\n",
       "      <td>ZW DATA ACTION TECHNOLOGIES</td>\n",
       "      <td>CNET</td>\n",
       "      <td>2007-10-15</td>\n",
       "      <td>2022-03-16</td>\n",
       "      <td>2016-03-21</td>\n",
       "      <td>2022-03-16</td>\n",
       "      <td>False</td>\n",
       "      <td>None</td>\n",
       "    </tr>\n",
       "    <tr>\n",
       "      <th>4075</th>\n",
       "      <td>2568RT</td>\n",
       "      <td>US98985X1000</td>\n",
       "      <td>U98985X100</td>\n",
       "      <td>ZYMERGEN</td>\n",
       "      <td>2568RT</td>\n",
       "      <td>98985X100</td>\n",
       "      <td>ZY</td>\n",
       "      <td>2021-04-22</td>\n",
       "      <td>2022-03-16</td>\n",
       "      <td>ZY</td>\n",
       "      <td>...</td>\n",
       "      <td>US98985X1000</td>\n",
       "      <td>228</td>\n",
       "      <td>ZYMERGEN</td>\n",
       "      <td>ZY</td>\n",
       "      <td>2021-04-22</td>\n",
       "      <td>2022-03-16</td>\n",
       "      <td>2021-04-22</td>\n",
       "      <td>2022-03-16</td>\n",
       "      <td>False</td>\n",
       "      <td>None</td>\n",
       "    </tr>\n",
       "    <tr>\n",
       "      <th>4076</th>\n",
       "      <td>98116P</td>\n",
       "      <td>US98986X1090</td>\n",
       "      <td>U98986X109</td>\n",
       "      <td>ZYNERBA PHARMACEUTICALS</td>\n",
       "      <td>98116P</td>\n",
       "      <td>98986X109</td>\n",
       "      <td>ZYNE</td>\n",
       "      <td>2015-08-05</td>\n",
       "      <td>2022-03-16</td>\n",
       "      <td>ZYNE</td>\n",
       "      <td>...</td>\n",
       "      <td>US98986X1090</td>\n",
       "      <td>1509</td>\n",
       "      <td>ZYNERBA PHARMACEUTICALS</td>\n",
       "      <td>ZYNE</td>\n",
       "      <td>2015-08-05</td>\n",
       "      <td>2022-03-16</td>\n",
       "      <td>2016-03-21</td>\n",
       "      <td>2022-03-16</td>\n",
       "      <td>False</td>\n",
       "      <td>None</td>\n",
       "    </tr>\n",
       "    <tr>\n",
       "      <th>4077</th>\n",
       "      <td>774464</td>\n",
       "      <td>US98986T1088</td>\n",
       "      <td>U98986T108</td>\n",
       "      <td>ZYNGA 'A'</td>\n",
       "      <td>774464</td>\n",
       "      <td>98986T108</td>\n",
       "      <td>ZNGA</td>\n",
       "      <td>2011-12-16</td>\n",
       "      <td>2022-03-16</td>\n",
       "      <td>ZNGA</td>\n",
       "      <td>...</td>\n",
       "      <td>US98986T1088</td>\n",
       "      <td>1509</td>\n",
       "      <td>ZYNGA 'A'</td>\n",
       "      <td>ZNGA</td>\n",
       "      <td>2011-12-16</td>\n",
       "      <td>2022-03-16</td>\n",
       "      <td>2016-03-21</td>\n",
       "      <td>2022-03-16</td>\n",
       "      <td>False</td>\n",
       "      <td>None</td>\n",
       "    </tr>\n",
       "  </tbody>\n",
       "</table>\n",
       "<p>4078 rows × 38 columns</p>\n",
       "</div>"
      ],
      "text/plain": [
       "        Type     ISIN CODE LOC OFF. CODE  \\\n",
       "0     2606T9  KYG870761080    UG87076108   \n",
       "1     95118Z  US88025U1097    U88025U109   \n",
       "2     9330V3  US68247Q1022    U68247Q102   \n",
       "3     99133U  US81807M2052    U81807M205   \n",
       "4     9101KM  US68236V1044    U68236V104   \n",
       "...      ...           ...           ...   \n",
       "4073  30358V  US9898171015    U989817101   \n",
       "4074  50259R  US98880R1095    U98880R109   \n",
       "4075  2568RT  US98985X1000    U98985X100   \n",
       "4076  98116P  US98986X1090    U98986X109   \n",
       "4077  774464  US98986T1088    U98986T108   \n",
       "\n",
       "                                      NAME DATASTREAM CODE      CUSIP  \\\n",
       "0     10X CAPITAL VENTURE ACQUISITION II A          2606T9  G87076108   \n",
       "1                           10X GENOMICS A          95118Z  88025U109   \n",
       "2                              111 ADR 1:2          9330V3  68247Q102   \n",
       "3                       17 ED.TGP.ADR 1:10          99133U  81807M205   \n",
       "4                        180 LIFE SCIENCES          9101KM  68236V104   \n",
       "...                                    ...             ...        ...   \n",
       "4073                                ZUMIEZ          30358V  989817101   \n",
       "4074           ZW DATA ACTION TECHNOLOGIES          50259R  98880R109   \n",
       "4075                              ZYMERGEN          2568RT  98985X100   \n",
       "4076               ZYNERBA PHARMACEUTICALS          98116P  98986X109   \n",
       "4077                             ZYNGA 'A'          774464  98986T108   \n",
       "\n",
       "     TICKER SYMBOL BASE OR ST DATE DATE/TIME (DS End Date) tickers  ...  \\\n",
       "0             VCXA      2021-10-05              2022-03-16    VCXA  ...   \n",
       "1              TXG      2019-09-12              2022-03-16     TXG  ...   \n",
       "2               YI      2018-09-12              2022-03-16      YI  ...   \n",
       "3               YQ      2020-12-04              2022-03-16      YQ  ...   \n",
       "4             ATNF      2017-06-27              2022-03-16    ATNF  ...   \n",
       "...            ...             ...                     ...     ...  ...   \n",
       "4073          ZUMZ      2005-05-06              2022-03-16    ZUMZ  ...   \n",
       "4074          CNET      2007-10-15              2022-03-16    CNET  ...   \n",
       "4075            ZY      2021-04-22              2022-03-16      ZY  ...   \n",
       "4076          ZYNE      2015-08-05              2022-03-16    ZYNE  ...   \n",
       "4077          ZNGA      2011-12-16              2022-03-16    ZNGA  ...   \n",
       "\n",
       "              isin ts_rows                                  name ticker  \\\n",
       "0     KYG870761080     113  10X CAPITAL VENTURE ACQUISITION II A   VCXA   \n",
       "1     US88025U1097     633                        10X GENOMICS A    TXG   \n",
       "2     US68247Q1022     884                           111 ADR 1:2     YI   \n",
       "3     US81807M2052     322                    17 ED.TGP.ADR 1:10     YQ   \n",
       "4     US68236V1044    1189                     180 LIFE SCIENCES   ATNF   \n",
       "...            ...     ...                                   ...    ...   \n",
       "4073  US9898171015    1509                                ZUMIEZ   ZUMZ   \n",
       "4074  US98880R1095    1509           ZW DATA ACTION TECHNOLOGIES   CNET   \n",
       "4075  US98985X1000     228                              ZYMERGEN     ZY   \n",
       "4076  US98986X1090    1509               ZYNERBA PHARMACEUTICALS   ZYNE   \n",
       "4077  US98986T1088    1509                             ZYNGA 'A'   ZNGA   \n",
       "\n",
       "     start_date   end_date  start_date_ts  end_date_ts  RI_Errors  \\\n",
       "0    2021-10-05 2022-03-16     2021-10-05   2022-03-16      False   \n",
       "1    2019-09-12 2022-03-16     2019-09-12   2022-03-16      False   \n",
       "2    2018-09-12 2022-03-16     2018-09-12   2022-03-16      False   \n",
       "3    2020-12-04 2022-03-16     2020-12-04   2022-03-16      False   \n",
       "4    2017-06-27 2022-03-16     2017-06-27   2022-03-16      False   \n",
       "...         ...        ...            ...          ...        ...   \n",
       "4073 2005-05-06 2022-03-16     2016-03-21   2022-03-16      False   \n",
       "4074 2007-10-15 2022-03-16     2016-03-21   2022-03-16      False   \n",
       "4075 2021-04-22 2022-03-16     2021-04-22   2022-03-16      False   \n",
       "4076 2015-08-05 2022-03-16     2016-03-21   2022-03-16      False   \n",
       "4077 2011-12-16 2022-03-16     2016-03-21   2022-03-16      False   \n",
       "\n",
       "      reason_to_exclude  \n",
       "0        No trades done  \n",
       "1                  None  \n",
       "2        No trades done  \n",
       "3        No trades done  \n",
       "4                  None  \n",
       "...                 ...  \n",
       "4073               None  \n",
       "4074               None  \n",
       "4075               None  \n",
       "4076               None  \n",
       "4077               None  \n",
       "\n",
       "[4078 rows x 38 columns]"
      ]
     },
     "execution_count": 19,
     "metadata": {},
     "output_type": "execute_result"
    }
   ],
   "source": [
    "data"
   ]
  },
  {
   "cell_type": "markdown",
   "id": "40804664-e921-42d1-a21a-516c3df3c567",
   "metadata": {
    "pycharm": {
     "name": "#%% md\n"
    }
   },
   "source": [
    "#### Show which ones are excluded:\n",
    "Also stores to csv for later use"
   ]
  },
  {
   "cell_type": "code",
   "execution_count": 20,
   "id": "3731075b-e1ab-4698-abe7-b45baf89636d",
   "metadata": {
    "pycharm": {
     "name": "#%%\n"
    }
   },
   "outputs": [
    {
     "data": {
      "text/html": [
       "<div>\n",
       "<style scoped>\n",
       "    .dataframe tbody tr th:only-of-type {\n",
       "        vertical-align: middle;\n",
       "    }\n",
       "\n",
       "    .dataframe tbody tr th {\n",
       "        vertical-align: top;\n",
       "    }\n",
       "\n",
       "    .dataframe thead th {\n",
       "        text-align: right;\n",
       "    }\n",
       "</style>\n",
       "<table border=\"1\" class=\"dataframe\">\n",
       "  <thead>\n",
       "    <tr style=\"text-align: right;\">\n",
       "      <th></th>\n",
       "      <th>ISIN CODE</th>\n",
       "      <th>NAME</th>\n",
       "      <th>TICKER SYMBOL</th>\n",
       "      <th>trade_count</th>\n",
       "      <th>n_distinct_traders</th>\n",
       "      <th>n_distinct_trade_types</th>\n",
       "      <th>ts_rows</th>\n",
       "      <th>reason_to_exclude</th>\n",
       "    </tr>\n",
       "  </thead>\n",
       "  <tbody>\n",
       "    <tr>\n",
       "      <th>36</th>\n",
       "      <td>US00289Y1073</td>\n",
       "      <td>ABEONA THERAPEUTICS</td>\n",
       "      <td>ABEO</td>\n",
       "      <td>102</td>\n",
       "      <td>30</td>\n",
       "      <td>7</td>\n",
       "      <td>1509</td>\n",
       "      <td>Faulty timeseries data</td>\n",
       "    </tr>\n",
       "    <tr>\n",
       "      <th>38</th>\n",
       "      <td>KYG8789K1242</td>\n",
       "      <td>ABILITY</td>\n",
       "      <td>ABILF</td>\n",
       "      <td>0</td>\n",
       "      <td>0</td>\n",
       "      <td>0</td>\n",
       "      <td>1506</td>\n",
       "      <td>Faulty timeseries data</td>\n",
       "    </tr>\n",
       "    <tr>\n",
       "      <th>341</th>\n",
       "      <td>US00211Y5069</td>\n",
       "      <td>ARCA BIOPHARMA</td>\n",
       "      <td>ABIO</td>\n",
       "      <td>109</td>\n",
       "      <td>34</td>\n",
       "      <td>7</td>\n",
       "      <td>1509</td>\n",
       "      <td>Faulty timeseries data</td>\n",
       "    </tr>\n",
       "    <tr>\n",
       "      <th>60</th>\n",
       "      <td>US00444P1084</td>\n",
       "      <td>ACER THERAPEUTICS</td>\n",
       "      <td>ACER</td>\n",
       "      <td>110</td>\n",
       "      <td>26</td>\n",
       "      <td>10</td>\n",
       "      <td>1509</td>\n",
       "      <td>Faulty timeseries data</td>\n",
       "    </tr>\n",
       "    <tr>\n",
       "      <th>64</th>\n",
       "      <td>US0044685008</td>\n",
       "      <td>ACHIEVE LIFE SCIENCES</td>\n",
       "      <td>ACHV</td>\n",
       "      <td>186</td>\n",
       "      <td>23</td>\n",
       "      <td>7</td>\n",
       "      <td>1509</td>\n",
       "      <td>Faulty timeseries data</td>\n",
       "    </tr>\n",
       "    <tr>\n",
       "      <th>...</th>\n",
       "      <td>...</td>\n",
       "      <td>...</td>\n",
       "      <td>...</td>\n",
       "      <td>...</td>\n",
       "      <td>...</td>\n",
       "      <td>...</td>\n",
       "      <td>...</td>\n",
       "      <td>...</td>\n",
       "    </tr>\n",
       "    <tr>\n",
       "      <th>4072</th>\n",
       "      <td>US98980G1022</td>\n",
       "      <td>ZSCALER</td>\n",
       "      <td>ZS</td>\n",
       "      <td>440</td>\n",
       "      <td>16</td>\n",
       "      <td>7</td>\n",
       "      <td>1008</td>\n",
       "      <td>None</td>\n",
       "    </tr>\n",
       "    <tr>\n",
       "      <th>4071</th>\n",
       "      <td>US98979H2022</td>\n",
       "      <td>ZOSANO PHARMA</td>\n",
       "      <td>ZSAN</td>\n",
       "      <td>61</td>\n",
       "      <td>19</td>\n",
       "      <td>6</td>\n",
       "      <td>1509</td>\n",
       "      <td>None</td>\n",
       "    </tr>\n",
       "    <tr>\n",
       "      <th>4073</th>\n",
       "      <td>US9898171015</td>\n",
       "      <td>ZUMIEZ</td>\n",
       "      <td>ZUMZ</td>\n",
       "      <td>495</td>\n",
       "      <td>26</td>\n",
       "      <td>7</td>\n",
       "      <td>1509</td>\n",
       "      <td>None</td>\n",
       "    </tr>\n",
       "    <tr>\n",
       "      <th>4075</th>\n",
       "      <td>US98985X1000</td>\n",
       "      <td>ZYMERGEN</td>\n",
       "      <td>ZY</td>\n",
       "      <td>25</td>\n",
       "      <td>9</td>\n",
       "      <td>7</td>\n",
       "      <td>228</td>\n",
       "      <td>None</td>\n",
       "    </tr>\n",
       "    <tr>\n",
       "      <th>4076</th>\n",
       "      <td>US98986X1090</td>\n",
       "      <td>ZYNERBA PHARMACEUTICALS</td>\n",
       "      <td>ZYNE</td>\n",
       "      <td>37</td>\n",
       "      <td>15</td>\n",
       "      <td>5</td>\n",
       "      <td>1509</td>\n",
       "      <td>None</td>\n",
       "    </tr>\n",
       "  </tbody>\n",
       "</table>\n",
       "<p>4078 rows × 8 columns</p>\n",
       "</div>"
      ],
      "text/plain": [
       "         ISIN CODE                     NAME TICKER SYMBOL  trade_count  \\\n",
       "36    US00289Y1073      ABEONA THERAPEUTICS          ABEO          102   \n",
       "38    KYG8789K1242                  ABILITY         ABILF            0   \n",
       "341   US00211Y5069           ARCA BIOPHARMA          ABIO          109   \n",
       "60    US00444P1084        ACER THERAPEUTICS          ACER          110   \n",
       "64    US0044685008    ACHIEVE LIFE SCIENCES          ACHV          186   \n",
       "...            ...                      ...           ...          ...   \n",
       "4072  US98980G1022                  ZSCALER            ZS          440   \n",
       "4071  US98979H2022            ZOSANO PHARMA          ZSAN           61   \n",
       "4073  US9898171015                   ZUMIEZ          ZUMZ          495   \n",
       "4075  US98985X1000                 ZYMERGEN            ZY           25   \n",
       "4076  US98986X1090  ZYNERBA PHARMACEUTICALS          ZYNE           37   \n",
       "\n",
       "      n_distinct_traders  n_distinct_trade_types  ts_rows  \\\n",
       "36                    30                       7     1509   \n",
       "38                     0                       0     1506   \n",
       "341                   34                       7     1509   \n",
       "60                    26                      10     1509   \n",
       "64                    23                       7     1509   \n",
       "...                  ...                     ...      ...   \n",
       "4072                  16                       7     1008   \n",
       "4071                  19                       6     1509   \n",
       "4073                  26                       7     1509   \n",
       "4075                   9                       7      228   \n",
       "4076                  15                       5     1509   \n",
       "\n",
       "           reason_to_exclude  \n",
       "36    Faulty timeseries data  \n",
       "38    Faulty timeseries data  \n",
       "341   Faulty timeseries data  \n",
       "60    Faulty timeseries data  \n",
       "64    Faulty timeseries data  \n",
       "...                      ...  \n",
       "4072                    None  \n",
       "4071                    None  \n",
       "4073                    None  \n",
       "4075                    None  \n",
       "4076                    None  \n",
       "\n",
       "[4078 rows x 8 columns]"
      ]
     },
     "execution_count": 20,
     "metadata": {},
     "output_type": "execute_result"
    }
   ],
   "source": [
    "#scraping_summary = data[data['reason_to_exclude']!='None']\n",
    "scraping_summary = data\n",
    "scraping_summary = scraping_summary[[#'Type'\n",
    "                      'ISIN CODE'\n",
    "                     #, 'LOC OFF. CODE'\n",
    "                     , 'NAME'\n",
    "                     #, 'DATASTREAM CODE'\n",
    "                     #, 'CUSIP'\n",
    "                     , 'TICKER SYMBOL'\n",
    "                     #, 'BASE OR ST DATE'\n",
    "                     #, 'DATE/TIME (DS End Date)'\n",
    "                     #, 'tickers'\n",
    "                     , 'trade_count'\n",
    "                     #, 'min_filing_date'\n",
    "                     #, 'max_filing_date'\n",
    "                     #, 'min_trade_date'\n",
    "                     #, 'max_trade_date'\n",
    "                     , 'n_distinct_traders'\n",
    "                     , 'n_distinct_trade_types'\n",
    "                     #, 'P - Purchase (count)'\n",
    "                     #, 'S - Sale (count)'\n",
    "                     #, 'S - Sale+OE'\n",
    "                     #, 'A - Grant (count)'\n",
    "                     #, 'D - Sale to Iss (count)'\n",
    "                     #, 'G - Gift (count)'\n",
    "                     #, 'F - Tax (count)'\n",
    "                     #, 'M - Option Ex (count)'\n",
    "                     #, 'X - Option Ex (count)'\n",
    "                     #, 'C - Cnv Deriv (count)'\n",
    "                     #, 'W - Inherited (count)'\n",
    "                     #, 'isin'\n",
    "                     , 'ts_rows'\n",
    "                     #, 'name'\n",
    "                     #, 'ticker'\n",
    "                     #, 'start_date'\n",
    "                     #, 'end_date'\n",
    "                     #, 'start_date_ts'\n",
    "                     #, 'end_date_ts'\n",
    "                     , 'reason_to_exclude'\n",
    "                    ]].sort_values(by=['reason_to_exclude', 'TICKER SYMBOL', 'ISIN CODE'])\n",
    "scraping_summary.to_csv(DATA_LOCATION + '/scraping_summary.csv')\n",
    "scraping_summary"
   ]
  },
  {
   "cell_type": "markdown",
   "id": "30104127-7482-4c27-899f-bf1e2878e299",
   "metadata": {
    "pycharm": {
     "name": "#%% md\n"
    }
   },
   "source": [
    "#### Do basic statistics of what was taken out\n"
   ]
  },
  {
   "cell_type": "code",
   "execution_count": 21,
   "id": "58069dec-f6ed-4f73-b27b-654df746e33f",
   "metadata": {
    "pycharm": {
     "name": "#%%\n"
    }
   },
   "outputs": [],
   "source": [
    "agg_scraping_summary = scraping_summary.groupby('reason_to_exclude').agg({'ISIN CODE': 'count'\n",
    "                                                                          , 'trade_count': 'sum'\n",
    "                                                                          , 'n_distinct_traders':'sum'\n",
    "                                                                          , 'ts_rows':'sum'}).reset_index().rename(columns={'reason_to_exclude': 'Exclusion Reason'\n",
    "                                                                                                                           , 'ISIN CODE': 'N Companies'\n",
    "                                                                                                                           , 'trade_count': 'N trades'\n",
    "                                                                                                                           , 'n_distinct_traders': 'N distinct traders'\n",
    "                                                                                                                           , 'ts_rows': 'N TS rows'})\n",
    "agg_scraping_summary[\"N TS rows\"] = agg_scraping_summary[\"N TS rows\"].astype(int)"
   ]
  },
  {
   "cell_type": "markdown",
   "id": "84a3b342-c002-4000-b0f9-88a7cabc5f7f",
   "metadata": {
    "pycharm": {
     "name": "#%% md\n"
    }
   },
   "source": [
    "##### And print it to latex code for report"
   ]
  },
  {
   "cell_type": "code",
   "execution_count": 22,
   "id": "2f2ea47c-d187-48f4-8db8-2eb13fe66d3b",
   "metadata": {
    "pycharm": {
     "name": "#%%\n"
    }
   },
   "outputs": [
    {
     "name": "stdout",
     "output_type": "stream",
     "text": [
      "\\begin{table}[H]\n",
      "\\centering\n",
      "\\caption{Summary of discarded input}\n",
      "\\label{table:excluded_companies}\n",
      "\\begin{tabular}{lrrrr}\n",
      "\\toprule\n",
      "{\\bfseries Exclusion Reason} & {\\bfseries N Companies} & {\\bfseries N trades} & {\\bfseries N distinct traders} & {N TS rows} \\\\\n",
      "\\midrule\n",
      "Faulty timeseries data & 87 & 10.740 & 1.301 & 122.284 \\\\\n",
      "Missing ISIN & 1 & 17 & 8 & 1.369 \\\\\n",
      "NA ticker & 158 & 790 & 632 & 54.796 \\\\\n",
      "No trades done & 867 & 0 & 0 & 531.503 \\\\\n",
      "Non-unique-ticker & 93 & 30.132 & 1.587 & 102.720 \\\\\n",
      "\\bfseries None & \\bfseries 2.872 & \\bfseries 1.106.364 & \\bfseries 68.027 & \\bfseries 3.263.791 \\\\\n",
      "\\bottomrule\n",
      "\\end{tabular}\n",
      "\\end{table}\n",
      "\n",
      "---------------\n"
     ]
    },
    {
     "data": {
      "text/plain": [
       "'\\\\begin{table}[H]\\n\\\\centering\\n\\\\caption{Summary of discarded input}\\n\\\\label{table:excluded_companies}\\n\\\\begin{tabular}{lrrrr}\\n\\\\toprule\\n{\\\\bfseries Exclusion Reason} & {\\\\bfseries N Companies} & {\\\\bfseries N trades} & {\\\\bfseries N distinct traders} & {N TS rows} \\\\\\\\\\n\\\\midrule\\nFaulty timeseries data & 87 & 10.740 & 1.301 & 122.284 \\\\\\\\\\nMissing ISIN & 1 & 17 & 8 & 1.369 \\\\\\\\\\nNA ticker & 158 & 790 & 632 & 54.796 \\\\\\\\\\nNo trades done & 867 & 0 & 0 & 531.503 \\\\\\\\\\nNon-unique-ticker & 93 & 30.132 & 1.587 & 102.720 \\\\\\\\\\n\\\\bfseries None & \\\\bfseries 2.872 & \\\\bfseries 1.106.364 & \\\\bfseries 68.027 & \\\\bfseries 3.263.791 \\\\\\\\\\n\\\\bottomrule\\n\\\\end{tabular}\\n\\\\end{table}\\n'"
      ]
     },
     "execution_count": 22,
     "metadata": {},
     "output_type": "execute_result"
    }
   ],
   "source": [
    "def bold_rows(x):\n",
    "    lenx = x.shape[0]-1\n",
    "    return ['font-weight: bold' if (v == x.loc[lenx]) else '' for v in x]\n",
    "\n",
    "latex = agg_scraping_summary.style\\\n",
    ".apply(bold_rows)\\\n",
    ".applymap_index(lambda v: \"font-weight: bold;\", axis=\"index\")\\\n",
    ".applymap_index(lambda v: \"font-weight: bold;\", axis=\"columns\")\\\n",
    ".format(na_rep=\"-\", precision=1)\\\n",
    ".hide(axis=\"index\")\\\n",
    ".format(thousands=\".\")\\\n",
    ".format_index(escape=\"latex\", axis=1)\\\n",
    ".to_latex(convert_css=True\n",
    "          , column_format=\"lrrrr\"\n",
    "          , position=\"H\"\n",
    "          , position_float=\"centering\"\n",
    "          , hrules=True\n",
    "          , label=\"table:excluded_companies\"\n",
    "          , caption=\"Summary of discarded input\"\n",
    "          , multirow_align=\"t\"\n",
    "          , multicol_align=\"r\"\n",
    "          #, index = False\n",
    "          , siunitx = True\n",
    ")\n",
    "print(latex)\n",
    "print(\"---------------\")\n",
    "latex"
   ]
  },
  {
   "cell_type": "markdown",
   "id": "d903d706-17c1-49c8-8967-28f28df56c54",
   "metadata": {
    "pycharm": {
     "name": "#%% md\n"
    }
   },
   "source": [
    "## Check how to read in, into the analysis notebook"
   ]
  },
  {
   "cell_type": "markdown",
   "id": "762634cb-dc72-4c8c-969d-2049e1e4314f",
   "metadata": {
    "pycharm": {
     "name": "#%% md\n"
    }
   },
   "source": [
    "### This should be done early in cell 3:"
   ]
  },
  {
   "cell_type": "code",
   "execution_count": 23,
   "id": "750920a9-4802-4069-a5c4-5c143e6d3086",
   "metadata": {
    "pycharm": {
     "name": "#%%\n"
    },
    "tags": []
   },
   "outputs": [
    {
     "data": {
      "text/html": [
       "<div>\n",
       "<style scoped>\n",
       "    .dataframe tbody tr th:only-of-type {\n",
       "        vertical-align: middle;\n",
       "    }\n",
       "\n",
       "    .dataframe tbody tr th {\n",
       "        vertical-align: top;\n",
       "    }\n",
       "\n",
       "    .dataframe thead th {\n",
       "        text-align: right;\n",
       "    }\n",
       "</style>\n",
       "<table border=\"1\" class=\"dataframe\">\n",
       "  <thead>\n",
       "    <tr style=\"text-align: right;\">\n",
       "      <th></th>\n",
       "      <th>ISIN CODE</th>\n",
       "      <th>NAME</th>\n",
       "      <th>TICKER SYMBOL</th>\n",
       "      <th>trade_count</th>\n",
       "      <th>n_distinct_traders</th>\n",
       "      <th>n_distinct_trade_types</th>\n",
       "      <th>ts_rows</th>\n",
       "      <th>reason_to_exclude</th>\n",
       "    </tr>\n",
       "  </thead>\n",
       "  <tbody>\n",
       "    <tr>\n",
       "      <th>36</th>\n",
       "      <td>US00289Y1073</td>\n",
       "      <td>ABEONA THERAPEUTICS</td>\n",
       "      <td>ABEO</td>\n",
       "      <td>102</td>\n",
       "      <td>30</td>\n",
       "      <td>7</td>\n",
       "      <td>1509</td>\n",
       "      <td>Faulty timeseries data</td>\n",
       "    </tr>\n",
       "    <tr>\n",
       "      <th>38</th>\n",
       "      <td>KYG8789K1242</td>\n",
       "      <td>ABILITY</td>\n",
       "      <td>ABILF</td>\n",
       "      <td>0</td>\n",
       "      <td>0</td>\n",
       "      <td>0</td>\n",
       "      <td>1506</td>\n",
       "      <td>Faulty timeseries data</td>\n",
       "    </tr>\n",
       "    <tr>\n",
       "      <th>341</th>\n",
       "      <td>US00211Y5069</td>\n",
       "      <td>ARCA BIOPHARMA</td>\n",
       "      <td>ABIO</td>\n",
       "      <td>109</td>\n",
       "      <td>34</td>\n",
       "      <td>7</td>\n",
       "      <td>1509</td>\n",
       "      <td>Faulty timeseries data</td>\n",
       "    </tr>\n",
       "    <tr>\n",
       "      <th>60</th>\n",
       "      <td>US00444P1084</td>\n",
       "      <td>ACER THERAPEUTICS</td>\n",
       "      <td>ACER</td>\n",
       "      <td>110</td>\n",
       "      <td>26</td>\n",
       "      <td>10</td>\n",
       "      <td>1509</td>\n",
       "      <td>Faulty timeseries data</td>\n",
       "    </tr>\n",
       "    <tr>\n",
       "      <th>64</th>\n",
       "      <td>US0044685008</td>\n",
       "      <td>ACHIEVE LIFE SCIENCES</td>\n",
       "      <td>ACHV</td>\n",
       "      <td>186</td>\n",
       "      <td>23</td>\n",
       "      <td>7</td>\n",
       "      <td>1509</td>\n",
       "      <td>Faulty timeseries data</td>\n",
       "    </tr>\n",
       "    <tr>\n",
       "      <th>...</th>\n",
       "      <td>...</td>\n",
       "      <td>...</td>\n",
       "      <td>...</td>\n",
       "      <td>...</td>\n",
       "      <td>...</td>\n",
       "      <td>...</td>\n",
       "      <td>...</td>\n",
       "      <td>...</td>\n",
       "    </tr>\n",
       "    <tr>\n",
       "      <th>4072</th>\n",
       "      <td>US98980G1022</td>\n",
       "      <td>ZSCALER</td>\n",
       "      <td>ZS</td>\n",
       "      <td>440</td>\n",
       "      <td>16</td>\n",
       "      <td>7</td>\n",
       "      <td>1008</td>\n",
       "      <td>None</td>\n",
       "    </tr>\n",
       "    <tr>\n",
       "      <th>4071</th>\n",
       "      <td>US98979H2022</td>\n",
       "      <td>ZOSANO PHARMA</td>\n",
       "      <td>ZSAN</td>\n",
       "      <td>61</td>\n",
       "      <td>19</td>\n",
       "      <td>6</td>\n",
       "      <td>1509</td>\n",
       "      <td>None</td>\n",
       "    </tr>\n",
       "    <tr>\n",
       "      <th>4073</th>\n",
       "      <td>US9898171015</td>\n",
       "      <td>ZUMIEZ</td>\n",
       "      <td>ZUMZ</td>\n",
       "      <td>495</td>\n",
       "      <td>26</td>\n",
       "      <td>7</td>\n",
       "      <td>1509</td>\n",
       "      <td>None</td>\n",
       "    </tr>\n",
       "    <tr>\n",
       "      <th>4075</th>\n",
       "      <td>US98985X1000</td>\n",
       "      <td>ZYMERGEN</td>\n",
       "      <td>ZY</td>\n",
       "      <td>25</td>\n",
       "      <td>9</td>\n",
       "      <td>7</td>\n",
       "      <td>228</td>\n",
       "      <td>None</td>\n",
       "    </tr>\n",
       "    <tr>\n",
       "      <th>4076</th>\n",
       "      <td>US98986X1090</td>\n",
       "      <td>ZYNERBA PHARMACEUTICALS</td>\n",
       "      <td>ZYNE</td>\n",
       "      <td>37</td>\n",
       "      <td>15</td>\n",
       "      <td>5</td>\n",
       "      <td>1509</td>\n",
       "      <td>None</td>\n",
       "    </tr>\n",
       "  </tbody>\n",
       "</table>\n",
       "<p>4078 rows × 8 columns</p>\n",
       "</div>"
      ],
      "text/plain": [
       "         ISIN CODE                     NAME TICKER SYMBOL  trade_count  \\\n",
       "36    US00289Y1073      ABEONA THERAPEUTICS          ABEO          102   \n",
       "38    KYG8789K1242                  ABILITY         ABILF            0   \n",
       "341   US00211Y5069           ARCA BIOPHARMA          ABIO          109   \n",
       "60    US00444P1084        ACER THERAPEUTICS          ACER          110   \n",
       "64    US0044685008    ACHIEVE LIFE SCIENCES          ACHV          186   \n",
       "...            ...                      ...           ...          ...   \n",
       "4072  US98980G1022                  ZSCALER            ZS          440   \n",
       "4071  US98979H2022            ZOSANO PHARMA          ZSAN           61   \n",
       "4073  US9898171015                   ZUMIEZ          ZUMZ          495   \n",
       "4075  US98985X1000                 ZYMERGEN            ZY           25   \n",
       "4076  US98986X1090  ZYNERBA PHARMACEUTICALS          ZYNE           37   \n",
       "\n",
       "      n_distinct_traders  n_distinct_trade_types  ts_rows  \\\n",
       "36                    30                       7     1509   \n",
       "38                     0                       0     1506   \n",
       "341                   34                       7     1509   \n",
       "60                    26                      10     1509   \n",
       "64                    23                       7     1509   \n",
       "...                  ...                     ...      ...   \n",
       "4072                  16                       7     1008   \n",
       "4071                  19                       6     1509   \n",
       "4073                  26                       7     1509   \n",
       "4075                   9                       7      228   \n",
       "4076                  15                       5     1509   \n",
       "\n",
       "           reason_to_exclude  \n",
       "36    Faulty timeseries data  \n",
       "38    Faulty timeseries data  \n",
       "341   Faulty timeseries data  \n",
       "60    Faulty timeseries data  \n",
       "64    Faulty timeseries data  \n",
       "...                      ...  \n",
       "4072                    None  \n",
       "4071                    None  \n",
       "4073                    None  \n",
       "4075                    None  \n",
       "4076                    None  \n",
       "\n",
       "[4078 rows x 8 columns]"
      ]
     },
     "metadata": {},
     "output_type": "display_data"
    },
    {
     "name": "stdout",
     "output_type": "stream",
     "text": [
      "We want to reduce to 2872 isins\n"
     ]
    }
   ],
   "source": [
    "# Read in the summary data from \"CompaniesToExclude\" notebook\n",
    "summary_data = pd.read_csv(DATA_LOCATION + '/scraping_summary.csv', index_col=0)\n",
    "# Generate list of which companies to analyse\n",
    "isins_to_use = summary_data[summary_data['reason_to_exclude'] == 'None']['ISIN CODE'].to_list()\n",
    "display(summary_data)\n",
    "print(f'We want to reduce to {len(isins_to_use)} isins')"
   ]
  },
  {
   "cell_type": "code",
   "execution_count": 27,
   "id": "1772fe54-5795-4709-883a-dcbaea7678f3",
   "metadata": {},
   "outputs": [],
   "source": [
    "#summary_data[summary_data['TICKER SYMBOL'] == 'CLBS']\n",
    "#summary_data[summary_data['TICKER SYMBOL'] == 'VIVE']"
   ]
  },
  {
   "cell_type": "code",
   "execution_count": null,
   "id": "4aca2fa5-74b3-4fd4-80da-891ee8878b0d",
   "metadata": {},
   "outputs": [],
   "source": []
  },
  {
   "cell_type": "markdown",
   "id": "dd019861-a973-4f2a-9f08-c8b65acf70e3",
   "metadata": {
    "pycharm": {
     "name": "#%% md\n"
    }
   },
   "source": [
    "### This needs to be changed in other notebook! in Cell 3:"
   ]
  },
  {
   "cell_type": "code",
   "execution_count": 25,
   "id": "633d74ef-b71f-48d5-9099-23fd14fdaf42",
   "metadata": {
    "pycharm": {
     "name": "#%%\n"
    }
   },
   "outputs": [
    {
     "name": "stdout",
     "output_type": "stream",
     "text": [
      "Found 4077 possible files to analyze\n",
      "We are left with 2872 to analyze\n"
     ]
    }
   ],
   "source": [
    "# Data locations\n",
    "DATA_LOCATION = f'data/{NAME}/'\n",
    "DATA_LOCATION_INSIDER_PROCESSED = DATA_LOCATION + 'processed/insider/'\n",
    "DATA_LOCATION_RI = DATA_LOCATION + 'processed/RI_discard/'\n",
    "\n",
    "## Not sure why we do this - maybe refactor\n",
    "_ri_location = DATA_LOCATION_RI\n",
    "_insider_location = DATA_LOCATION_INSIDER_PROCESSED\n",
    "\n",
    "# Get locations to read in\n",
    "file_locs_ = os.listdir(_ri_location)\n",
    "print(f'Found {len(file_locs_)} possible files to analyze')\n",
    "# Filter files for analysis, and append path:\n",
    "file_locs = [_ri_location + f for f in file_locs_ if f[:-7] in isins_to_use]\n",
    "print(f'We are left with {len(file_locs)} to analyze')\n"
   ]
  },
  {
   "cell_type": "markdown",
   "id": "450015fc-cdf6-440b-b25e-8e6379dd8652",
   "metadata": {
    "pycharm": {
     "name": "#%% md\n"
    }
   },
   "source": [
    "### In the next cell (5):\n",
    "I'm sorry, but this will have to replace the beautiful `ISINs = [rick[:-7] for rick in pickles]`"
   ]
  },
  {
   "cell_type": "code",
   "execution_count": 26,
   "id": "1fa57dcb-f480-4b4a-aa53-c911963c4d4b",
   "metadata": {
    "pycharm": {
     "name": "#%%\n"
    },
    "tags": []
   },
   "outputs": [
    {
     "name": "stdout",
     "output_type": "stream",
     "text": [
      "2872\n"
     ]
    }
   ],
   "source": [
    "#ISINs = [f for f in file_locs_ if f[:-7] in isins_to_use]\n",
    "#ISINs = isins_to_use\n",
    "ISINs =  [f[:-7] for f in file_locs_ if f[:-7] in isins_to_use]\n",
    "print(len(ISINs))"
   ]
  }
 ],
 "metadata": {
  "kernelspec": {
   "display_name": "Python 3 (ipykernel)",
   "language": "python",
   "name": "python3"
  },
  "language_info": {
   "codemirror_mode": {
    "name": "ipython",
    "version": 3
   },
   "file_extension": ".py",
   "mimetype": "text/x-python",
   "name": "python",
   "nbconvert_exporter": "python",
   "pygments_lexer": "ipython3",
   "version": "3.9.13"
  }
 },
 "nbformat": 4,
 "nbformat_minor": 5
}
