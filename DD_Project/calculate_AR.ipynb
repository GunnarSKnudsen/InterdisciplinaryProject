{
 "cells": [
  {
   "cell_type": "markdown",
   "metadata": {
    "pycharm": {
     "name": "#%% md\n"
    }
   },
   "source": [
    "# Notebook for analyzing Insider tradings and the effects on stock prices\n",
    "Written by Thomas Niedermayer and Gunnar Sjúrðarson Knudsen, as a conjoined effort for an interdiscplinary project in Data Science.\n",
    "\n",
    "Supervisor: Wolfgang Aussenegg\n",
    "\n",
    "Co-Supervisor: Sascha Hunold\n",
    "\n",
    "Purpose of this notebook is XXX\n",
    "\n",
    "## Remaining todos:\n",
    "* Create README.md and add a diagram of the project\n",
    "* T1_ vs T1!!!\n",
    "* A lot!\n",
    "* Figure out which custom functions we are still using\n",
    "* Figure out if different hypotheses should be tested based on \"NAME\" - or do both do all analysis?\n",
    "* Refactor - we have data locations in two different varialbes (CAPS and preceeding underscore)\n",
    "* I MIGHT have deleted too much from data_checks.run\n",
    "* Currently have two different datasets for the ReturnIndex data - with (linear) interpolation, as well as skipping rows that don't exist in market and company.\n",
    "* Figure out what to do, when event date not in the dataset. Could still \"just\" do closest possible, provided that trades occur around the date.\n",
    "* What do we do when tickers are non-unique!? I think this is a nasty that breaks more than we know\n",
    "* document get_all_directors_dealings_async\n"
   ]
  },
  {
   "cell_type": "markdown",
   "metadata": {
    "pycharm": {
     "name": "#%% md\n"
    }
   },
   "source": [
    "### Hypotheses\n",
    "\n",
    "#### Gunnar\n",
    "\n",
    "1. Hypothesis 1: Insiders are able to earn significant abnormal returns in the first\n",
    "weeks after disclosure.\n",
    "2. Hypothesis 2: Trades of type “Purchase” are most explaining of abnormal return.\n",
    "“Sale” less so, and “Sale + Option” does not have an effect.\n",
    "3. Hypothesis 3: Directors have changed behaviour during the times of Covid.\n",
    "\n",
    "#### Tom\n",
    "\n",
    "1. Hypothesis 1: Insiders are able to earn significant abnormal returns in\n",
    "the first weeks after disclosure of relevant information.\n",
    "2. Hypothesis 2: Insiders are significantly good at avoiding risk indicated\n",
    "by market downturns after insiders selling shares.\n",
    "3. Hypothesis 3: Directors have changed behaviour during the times of\n",
    "covid: Hypotheses 1 and 2 can be answered with significantly different\n",
    "confidence before and during the pandemic.\n",
    "\n"
   ]
  },
  {
   "cell_type": "markdown",
   "metadata": {
    "pycharm": {
     "name": "#%% md\n"
    }
   },
   "source": [
    "## Setup"
   ]
  },
  {
   "cell_type": "markdown",
   "metadata": {
    "pycharm": {
     "name": "#%% md\n"
    }
   },
   "source": [
    "### Define which analysis is run\n",
    "Add a name here. This affects which data is read in, as well as which analysis are done?"
   ]
  },
  {
   "cell_type": "code",
   "execution_count": 1,
   "metadata": {
    "collapsed": false,
    "execution": {
     "iopub.execute_input": "2022-11-09T14:12:24.538986Z",
     "iopub.status.busy": "2022-11-09T14:12:24.537984Z",
     "iopub.status.idle": "2022-11-09T14:12:24.881985Z",
     "shell.execute_reply": "2022-11-09T14:12:24.881985Z"
    },
    "jupyter": {
     "outputs_hidden": false
    },
    "tags": [],
    "pycharm": {
     "name": "#%%\n"
    }
   },
   "outputs": [],
   "source": [
    "from tools import load_settings\n",
    "settings = load_settings()\n",
    "NAME = settings[\"NAME\"]"
   ]
  },
  {
   "cell_type": "markdown",
   "metadata": {
    "pycharm": {
     "name": "#%% md\n"
    }
   },
   "source": [
    "### Load Libraries"
   ]
  },
  {
   "cell_type": "code",
   "execution_count": 2,
   "metadata": {
    "collapsed": false,
    "execution": {
     "iopub.execute_input": "2022-11-09T14:12:24.884984Z",
     "iopub.status.busy": "2022-11-09T14:12:24.884984Z",
     "iopub.status.idle": "2022-11-09T14:12:29.543983Z",
     "shell.execute_reply": "2022-11-09T14:12:29.543983Z"
    },
    "jupyter": {
     "outputs_hidden": false
    },
    "tags": [],
    "pycharm": {
     "name": "#%%\n"
    }
   },
   "outputs": [],
   "source": [
    "# Standard libraries\n",
    "import pickle\n",
    "import pandas as pd\n",
    "import numpy as np\n",
    "from matplotlib import pyplot as plt\n",
    "import os\n",
    "from tqdm import tqdm\n",
    "from scipy import stats\n",
    "\n",
    "\n",
    "# custom functions\n",
    "import source.analyse_single_company as UASC\n",
    "from source import data_checks, determine_T0_T1_T2, cut_timeseries, calculate_coefficients\n",
    "import logging\n",
    "\n",
    "logging.getLogger().setLevel(logging.WARNING)\n",
    "\n",
    "#plt.style.use(\"seaborn\")"
   ]
  },
  {
   "cell_type": "markdown",
   "metadata": {
    "pycharm": {
     "name": "#%% md\n"
    }
   },
   "source": [
    "### Read in the data"
   ]
  },
  {
   "cell_type": "code",
   "execution_count": 3,
   "metadata": {
    "collapsed": false,
    "execution": {
     "iopub.execute_input": "2022-11-09T14:12:29.546985Z",
     "iopub.status.busy": "2022-11-09T14:12:29.546985Z",
     "iopub.status.idle": "2022-11-09T14:12:30.480983Z",
     "shell.execute_reply": "2022-11-09T14:12:30.480983Z"
    },
    "jupyter": {
     "outputs_hidden": false
    },
    "tags": [],
    "pycharm": {
     "name": "#%%\n"
    }
   },
   "outputs": [
    {
     "data": {
      "text/plain": "         ISIN CODE                                 NAME TICKER SYMBOL  \\\n764   US35953D1046                               FUBOTV          FUBO   \n954   US46124J2015                INVENTRUST PROPERTIES           IVT   \n1939           NaN                         ABOVENET 'B'          ABVT   \n2093           NaN     ATHENA CONSUMER ACQUISITION CL B          ACAQ   \n2062           NaN       ARCTIC CAT 'B' DEAD - 07/03/17          ACAT   \n...            ...                                  ...           ...   \n1057  US53228T1016                    LIGHTNING EMOTORS           ZEV   \n3636  US98979J1097  ZOES KITCHEN DEAD - DELIST.21/11/18          ZOES   \n1923  US98978V1035                             ZOETIS A           ZTS   \n1926  US98983L1089                 ZURN WATER SOLUTIONS           ZWS   \n1927  CA98985W1023                      ZYMEWORKS (NYS)          ZYME   \n\n      trade_count  n_distinct_traders  n_distinct_trade_types  ts_rows  \\\n764            40                   8                       7   1509.0   \n954             4                   4                       1   1509.0   \n1939          179                  21                      10    824.0   \n2093            1                   1                       1    824.0   \n2062          446                  33                       8    824.0   \n...           ...                 ...                     ...      ...   \n1057           16                  13                       5    430.0   \n3636           87                  17                       8    675.0   \n1923          499                  34                       8   1509.0   \n1926          526                  27                       8   1509.0   \n1927           82                  10                       5   1230.0   \n\n           reason_to_exclude  \n764   Faulty timeseries data  \n954   Faulty timeseries data  \n1939            Missing ISIN  \n2093            Missing ISIN  \n2062            Missing ISIN  \n...                      ...  \n1057                    None  \n3636                    None  \n1923                    None  \n1926                    None  \n1927                    None  \n\n[3642 rows x 8 columns]",
      "text/html": "<div>\n<style scoped>\n    .dataframe tbody tr th:only-of-type {\n        vertical-align: middle;\n    }\n\n    .dataframe tbody tr th {\n        vertical-align: top;\n    }\n\n    .dataframe thead th {\n        text-align: right;\n    }\n</style>\n<table border=\"1\" class=\"dataframe\">\n  <thead>\n    <tr style=\"text-align: right;\">\n      <th></th>\n      <th>ISIN CODE</th>\n      <th>NAME</th>\n      <th>TICKER SYMBOL</th>\n      <th>trade_count</th>\n      <th>n_distinct_traders</th>\n      <th>n_distinct_trade_types</th>\n      <th>ts_rows</th>\n      <th>reason_to_exclude</th>\n    </tr>\n  </thead>\n  <tbody>\n    <tr>\n      <th>764</th>\n      <td>US35953D1046</td>\n      <td>FUBOTV</td>\n      <td>FUBO</td>\n      <td>40</td>\n      <td>8</td>\n      <td>7</td>\n      <td>1509.0</td>\n      <td>Faulty timeseries data</td>\n    </tr>\n    <tr>\n      <th>954</th>\n      <td>US46124J2015</td>\n      <td>INVENTRUST PROPERTIES</td>\n      <td>IVT</td>\n      <td>4</td>\n      <td>4</td>\n      <td>1</td>\n      <td>1509.0</td>\n      <td>Faulty timeseries data</td>\n    </tr>\n    <tr>\n      <th>1939</th>\n      <td>NaN</td>\n      <td>ABOVENET 'B'</td>\n      <td>ABVT</td>\n      <td>179</td>\n      <td>21</td>\n      <td>10</td>\n      <td>824.0</td>\n      <td>Missing ISIN</td>\n    </tr>\n    <tr>\n      <th>2093</th>\n      <td>NaN</td>\n      <td>ATHENA CONSUMER ACQUISITION CL B</td>\n      <td>ACAQ</td>\n      <td>1</td>\n      <td>1</td>\n      <td>1</td>\n      <td>824.0</td>\n      <td>Missing ISIN</td>\n    </tr>\n    <tr>\n      <th>2062</th>\n      <td>NaN</td>\n      <td>ARCTIC CAT 'B' DEAD - 07/03/17</td>\n      <td>ACAT</td>\n      <td>446</td>\n      <td>33</td>\n      <td>8</td>\n      <td>824.0</td>\n      <td>Missing ISIN</td>\n    </tr>\n    <tr>\n      <th>...</th>\n      <td>...</td>\n      <td>...</td>\n      <td>...</td>\n      <td>...</td>\n      <td>...</td>\n      <td>...</td>\n      <td>...</td>\n      <td>...</td>\n    </tr>\n    <tr>\n      <th>1057</th>\n      <td>US53228T1016</td>\n      <td>LIGHTNING EMOTORS</td>\n      <td>ZEV</td>\n      <td>16</td>\n      <td>13</td>\n      <td>5</td>\n      <td>430.0</td>\n      <td>None</td>\n    </tr>\n    <tr>\n      <th>3636</th>\n      <td>US98979J1097</td>\n      <td>ZOES KITCHEN DEAD - DELIST.21/11/18</td>\n      <td>ZOES</td>\n      <td>87</td>\n      <td>17</td>\n      <td>8</td>\n      <td>675.0</td>\n      <td>None</td>\n    </tr>\n    <tr>\n      <th>1923</th>\n      <td>US98978V1035</td>\n      <td>ZOETIS A</td>\n      <td>ZTS</td>\n      <td>499</td>\n      <td>34</td>\n      <td>8</td>\n      <td>1509.0</td>\n      <td>None</td>\n    </tr>\n    <tr>\n      <th>1926</th>\n      <td>US98983L1089</td>\n      <td>ZURN WATER SOLUTIONS</td>\n      <td>ZWS</td>\n      <td>526</td>\n      <td>27</td>\n      <td>8</td>\n      <td>1509.0</td>\n      <td>None</td>\n    </tr>\n    <tr>\n      <th>1927</th>\n      <td>CA98985W1023</td>\n      <td>ZYMEWORKS (NYS)</td>\n      <td>ZYME</td>\n      <td>82</td>\n      <td>10</td>\n      <td>5</td>\n      <td>1230.0</td>\n      <td>None</td>\n    </tr>\n  </tbody>\n</table>\n<p>3642 rows × 8 columns</p>\n</div>"
     },
     "metadata": {},
     "output_type": "display_data"
    },
    {
     "name": "stdout",
     "output_type": "stream",
     "text": [
      "We want to reduce to 1534 isins\n",
      "Found 2171 possible files to analyze\n",
      "We are left with 1534 to analyze\n",
      "loading return series...\n"
     ]
    },
    {
     "name": "stderr",
     "output_type": "stream",
     "text": [
      "100%|██████████| 1534/1534 [00:10<00:00, 146.22it/s]\n"
     ]
    }
   ],
   "source": [
    "# Data locations\n",
    "DATA_LOCATION = f'data/{NAME}/'\n",
    "DATA_LOCATION_INSIDER_PROCESSED = DATA_LOCATION + 'processed/insider/'\n",
    "DATA_LOCATION_RI = DATA_LOCATION + 'processed/RI_discard/'\n",
    "\n",
    "# set plotting sizes\n",
    "tick_size = 15\n",
    "label_size = 20\n",
    "title_size = 30\n",
    "fig_height = 20\n",
    "\n",
    "investigation_periods = settings[\"investigation_periods\"]\n",
    "keys = list(investigation_periods.keys())\n",
    "interval_borders = [investigation_periods[keys[0]][0], investigation_periods[keys[1]][1], investigation_periods[keys[0]][1]]\n",
    "# Read in the summary data from \"CompaniesToExclude\" notebook\n",
    "summary_data = pd.read_csv(DATA_LOCATION + '/scraping_summary.csv', index_col=0)\n",
    "# Generate list of which companies to analyse\n",
    "isins_to_use = summary_data[summary_data['reason_to_exclude'] == 'None']['ISIN CODE'].to_list()\n",
    "display(summary_data)\n",
    "print(f'We want to reduce to {len(isins_to_use)} isins')\n",
    "\n",
    "\n",
    "## Not sure why we do this - maybe refactor\n",
    "_ri_location = DATA_LOCATION_RI\n",
    "_insider_location = DATA_LOCATION_INSIDER_PROCESSED\n",
    "\n",
    "# Get locations to read in\n",
    "file_locs_ = os.listdir(_ri_location)\n",
    "print(f'Found {len(file_locs_)} possible files to analyze')\n",
    "# Filter files for analysis, and append path:\n",
    "file_locs = [_ri_location + f for f in file_locs_ if f[:-7] in isins_to_use]\n",
    "print(f'We are left with {len(file_locs)} to analyze')\n",
    "\n",
    "# Actually read in the company information\n",
    "companies = []\n",
    "print(\"loading return series...\")\n",
    "for file_loc in tqdm(file_locs):\n",
    "    with open(file_loc, \"rb\") as f:\n",
    "        company = pickle.load(f)\n",
    "    companies.append(company)"
   ]
  },
  {
   "cell_type": "markdown",
   "metadata": {
    "collapsed": false,
    "pycharm": {
     "name": "#%% md\n"
    }
   },
   "source": [
    "for company in companies:\n",
    "    if company.ticker == 'VIVE':\n",
    "        print(company.return_index_df)\n",
    "        break"
   ]
  },
  {
   "cell_type": "markdown",
   "metadata": {
    "pycharm": {
     "name": "#%% md\n"
    }
   },
   "source": [
    "## Exploratory Data Analysis"
   ]
  },
  {
   "cell_type": "markdown",
   "metadata": {
    "pycharm": {
     "name": "#%% md\n"
    }
   },
   "source": [
    "### Calculate Returns, Analyse Companies"
   ]
  },
  {
   "cell_type": "code",
   "execution_count": 4,
   "metadata": {
    "collapsed": false,
    "execution": {
     "iopub.execute_input": "2022-11-09T14:12:30.483986Z",
     "iopub.status.busy": "2022-11-09T14:12:30.483986Z",
     "iopub.status.idle": "2022-11-09T14:12:30.512985Z",
     "shell.execute_reply": "2022-11-09T14:12:30.512985Z"
    },
    "pycharm": {
     "name": "#%%\n"
    }
   },
   "outputs": [
    {
     "data": {
      "text/plain": "['data/Niedermayer/processed/RI_discard/AN8068571086.pickle',\n 'data/Niedermayer/processed/RI_discard/BMG0464B1072.pickle',\n 'data/Niedermayer/processed/RI_discard/BMG053841059.pickle',\n 'data/Niedermayer/processed/RI_discard/BMG0585R1060.pickle',\n 'data/Niedermayer/processed/RI_discard/BMG0692U1099.pickle',\n 'data/Niedermayer/processed/RI_discard/BMG0750C1082.pickle',\n 'data/Niedermayer/processed/RI_discard/BMG169621056.pickle',\n 'data/Niedermayer/processed/RI_discard/BMG3198U1027.pickle',\n 'data/Niedermayer/processed/RI_discard/BMG3223R1088.pickle',\n 'data/Niedermayer/processed/RI_discard/BMG383271050.pickle',\n 'data/Niedermayer/processed/RI_discard/BMG3922B1072.pickle',\n 'data/Niedermayer/processed/RI_discard/BMG491BT1088.pickle',\n 'data/Niedermayer/processed/RI_discard/BMG540501027.pickle',\n 'data/Niedermayer/processed/RI_discard/BMG637AM1024.pickle',\n 'data/Niedermayer/processed/RI_discard/BMG657731060.pickle',\n 'data/Niedermayer/processed/RI_discard/BMG667211046.pickle',\n 'data/Niedermayer/processed/RI_discard/BMG7496G1033.pickle',\n 'data/Niedermayer/processed/RI_discard/BMG812761002.pickle',\n 'data/Niedermayer/processed/RI_discard/BMG8192H1060.pickle',\n 'data/Niedermayer/processed/RI_discard/BMG9019D1048.pickle',\n 'data/Niedermayer/processed/RI_discard/BMG9078F1077.pickle',\n 'data/Niedermayer/processed/RI_discard/BMG9108L1735.pickle',\n 'data/Niedermayer/processed/RI_discard/BMG9319H1025.pickle',\n 'data/Niedermayer/processed/RI_discard/BMG9618E1075.pickle',\n 'data/Niedermayer/processed/RI_discard/CA0115321089.pickle',\n 'data/Niedermayer/processed/RI_discard/CA05534B7604.pickle',\n 'data/Niedermayer/processed/RI_discard/CA0717341071.pickle',\n 'data/Niedermayer/processed/RI_discard/CA09228F1036.pickle',\n 'data/Niedermayer/processed/RI_discard/CA1247651088.pickle',\n 'data/Niedermayer/processed/RI_discard/CA1254911003.pickle',\n 'data/Niedermayer/processed/RI_discard/CA13645T1003.pickle',\n 'data/Niedermayer/processed/RI_discard/CA1520061021.pickle',\n 'data/Niedermayer/processed/RI_discard/CA17878Y2078.pickle',\n 'data/Niedermayer/processed/RI_discard/CA22576C1014.pickle',\n 'data/Niedermayer/processed/RI_discard/CA29250N1050.pickle',\n 'data/Niedermayer/processed/RI_discard/CA4509131088.pickle',\n 'data/Niedermayer/processed/RI_discard/CA45245E1097.pickle',\n 'data/Niedermayer/processed/RI_discard/CA56501R1064.pickle',\n 'data/Niedermayer/processed/RI_discard/CA5753851099.pickle',\n 'data/Niedermayer/processed/RI_discard/CA65532M6062.pickle',\n 'data/Niedermayer/processed/RI_discard/CA6568111067.pickle',\n 'data/Niedermayer/processed/RI_discard/CA67077M1086.pickle',\n 'data/Niedermayer/processed/RI_discard/CA74167P1080.pickle',\n 'data/Niedermayer/processed/RI_discard/CA76131D1033.pickle',\n 'data/Niedermayer/processed/RI_discard/CA7677441056.pickle',\n 'data/Niedermayer/processed/RI_discard/CA8520662088.pickle',\n 'data/Niedermayer/processed/RI_discard/CA85472N1096.pickle',\n 'data/Niedermayer/processed/RI_discard/CA8849037095.pickle',\n 'data/Niedermayer/processed/RI_discard/CA89346D1078.pickle',\n 'data/Niedermayer/processed/RI_discard/CA94106B1013.pickle',\n 'data/Niedermayer/processed/RI_discard/CA98985W1023.pickle',\n 'data/Niedermayer/processed/RI_discard/CH0044328745.pickle',\n 'data/Niedermayer/processed/RI_discard/CH0048265513.pickle',\n 'data/Niedermayer/processed/RI_discard/CH0102993182.pickle',\n 'data/Niedermayer/processed/RI_discard/CH0114405324.pickle',\n 'data/Niedermayer/processed/RI_discard/CH0432492467.pickle',\n 'data/Niedermayer/processed/RI_discard/GB00B6SLMV12.pickle',\n 'data/Niedermayer/processed/RI_discard/GB00BD9G2S12.pickle',\n 'data/Niedermayer/processed/RI_discard/GB00BDSFG982.pickle',\n 'data/Niedermayer/processed/RI_discard/GB00BF3ZNS54.pickle',\n 'data/Niedermayer/processed/RI_discard/GB00BFMBMT84.pickle',\n 'data/Niedermayer/processed/RI_discard/GB00BFZ4N465.pickle',\n 'data/Niedermayer/processed/RI_discard/GB00BJT16S69.pickle',\n 'data/Niedermayer/processed/RI_discard/GB00BNK03D49.pickle',\n 'data/Niedermayer/processed/RI_discard/GB00BVG7F061.pickle',\n 'data/Niedermayer/processed/RI_discard/GB00BWFY5505.pickle',\n 'data/Niedermayer/processed/RI_discard/IE0000QBK8U7.pickle',\n 'data/Niedermayer/processed/RI_discard/IE00B4BNMY34.pickle',\n 'data/Niedermayer/processed/RI_discard/IE00B8KQN827.pickle',\n 'data/Niedermayer/processed/RI_discard/IE00BD845X29.pickle',\n 'data/Niedermayer/processed/RI_discard/IE00BDVJJQ56.pickle',\n 'data/Niedermayer/processed/RI_discard/IE00BFRT3W74.pickle',\n 'data/Niedermayer/processed/RI_discard/IE00BFY8C754.pickle',\n 'data/Niedermayer/processed/RI_discard/IE00BGH1M568.pickle',\n 'data/Niedermayer/processed/RI_discard/IE00BK9ZQ967.pickle',\n 'data/Niedermayer/processed/RI_discard/IE00BLP1HW54.pickle',\n 'data/Niedermayer/processed/RI_discard/IE00BLS09M33.pickle',\n 'data/Niedermayer/processed/RI_discard/IE00BTN1Y115.pickle',\n 'data/Niedermayer/processed/RI_discard/IE00BY7QL619.pickle',\n 'data/Niedermayer/processed/RI_discard/IE00BY9D5467.pickle',\n 'data/Niedermayer/processed/RI_discard/JE00B783TY65.pickle',\n 'data/Niedermayer/processed/RI_discard/JE00BD85SC56.pickle',\n 'data/Niedermayer/processed/RI_discard/JE00BJ1F3079.pickle',\n 'data/Niedermayer/processed/RI_discard/JE00BYPZJM29.pickle',\n 'data/Niedermayer/processed/RI_discard/KYG1992S1093.pickle',\n 'data/Niedermayer/processed/RI_discard/KYG3323L1005.pickle',\n 'data/Niedermayer/processed/RI_discard/KYG3402M1024.pickle',\n 'data/Niedermayer/processed/RI_discard/KYG367381053.pickle',\n 'data/Niedermayer/processed/RI_discard/KYG393421030.pickle',\n 'data/Niedermayer/processed/RI_discard/KYG4412G1010.pickle',\n 'data/Niedermayer/processed/RI_discard/KYG6610J2093.pickle',\n 'data/Niedermayer/processed/RI_discard/KYG6683N1034.pickle',\n 'data/Niedermayer/processed/RI_discard/KYG7614L1095.pickle',\n 'data/Niedermayer/processed/RI_discard/KYG7T96K1077.pickle',\n 'data/Niedermayer/processed/RI_discard/LR0008862868.pickle',\n 'data/Niedermayer/processed/RI_discard/LU1092234845.pickle',\n 'data/Niedermayer/processed/RI_discard/MHY0436Q1098.pickle',\n 'data/Niedermayer/processed/RI_discard/MHY206761055.pickle',\n 'data/Niedermayer/processed/RI_discard/MHY2106R1100.pickle',\n 'data/Niedermayer/processed/RI_discard/MHY2685T1313.pickle',\n 'data/Niedermayer/processed/RI_discard/MHY268891089.pickle',\n 'data/Niedermayer/processed/RI_discard/MHY271836006.pickle',\n 'data/Niedermayer/processed/RI_discard/MHY410531021.pickle',\n 'data/Niedermayer/processed/RI_discard/MHY621591434.pickle',\n 'data/Niedermayer/processed/RI_discard/MHY621971198.pickle',\n 'data/Niedermayer/processed/RI_discard/NL0000200384.pickle',\n 'data/Niedermayer/processed/RI_discard/NL0000687663.pickle',\n 'data/Niedermayer/processed/RI_discard/NL0009434992.pickle',\n 'data/Niedermayer/processed/RI_discard/NL0010556684.pickle',\n 'data/Niedermayer/processed/RI_discard/NL0013056914.pickle',\n 'data/Niedermayer/processed/RI_discard/PA1436583006.pickle',\n 'data/Niedermayer/processed/RI_discard/PR30040P1032.pickle',\n 'data/Niedermayer/processed/RI_discard/PR3186727065.pickle',\n 'data/Niedermayer/processed/RI_discard/PR67103X1020.pickle',\n 'data/Niedermayer/processed/RI_discard/US0003611052.pickle',\n 'data/Niedermayer/processed/RI_discard/US00081T1088.pickle',\n 'data/Niedermayer/processed/RI_discard/US00090Q1031.pickle',\n 'data/Niedermayer/processed/RI_discard/US0009571003.pickle',\n 'data/Niedermayer/processed/RI_discard/US0010551028.pickle',\n 'data/Niedermayer/processed/RI_discard/US0010841023.pickle',\n 'data/Niedermayer/processed/RI_discard/US0012285013.pickle',\n 'data/Niedermayer/processed/RI_discard/US00130H1059.pickle',\n 'data/Niedermayer/processed/RI_discard/US00152K1016.pickle',\n 'data/Niedermayer/processed/RI_discard/US0015471081.pickle',\n 'data/Niedermayer/processed/RI_discard/US00165C1045.pickle',\n 'data/Niedermayer/processed/RI_discard/US0017441017.pickle',\n 'data/Niedermayer/processed/RI_discard/US00187Y1001.pickle',\n 'data/Niedermayer/processed/RI_discard/US00191G1031.pickle',\n 'data/Niedermayer/processed/RI_discard/US00191U1025.pickle',\n 'data/Niedermayer/processed/RI_discard/US0021211018.pickle',\n 'data/Niedermayer/processed/RI_discard/US00215W1009.pickle',\n 'data/Niedermayer/processed/RI_discard/US00216W1099.pickle',\n 'data/Niedermayer/processed/RI_discard/US0024441075.pickle',\n 'data/Niedermayer/processed/RI_discard/US0024741045.pickle',\n 'data/Niedermayer/processed/RI_discard/US00258W1080.pickle',\n 'data/Niedermayer/processed/RI_discard/US0028241000.pickle',\n 'data/Niedermayer/processed/RI_discard/US00287Y1091.pickle',\n 'data/Niedermayer/processed/RI_discard/US0042391096.pickle',\n 'data/Niedermayer/processed/RI_discard/US00436Q1067.pickle',\n 'data/Niedermayer/processed/RI_discard/US00489Q1022.pickle',\n 'data/Niedermayer/processed/RI_discard/US00508Y1029.pickle',\n 'data/Niedermayer/processed/RI_discard/US0050981085.pickle',\n 'data/Niedermayer/processed/RI_discard/US00737L1035.pickle',\n 'data/Niedermayer/processed/RI_discard/US00751Y1064.pickle',\n 'data/Niedermayer/processed/RI_discard/US00766T1007.pickle',\n 'data/Niedermayer/processed/RI_discard/US00773T1016.pickle',\n 'data/Niedermayer/processed/RI_discard/US0077861062.pickle',\n 'data/Niedermayer/processed/RI_discard/US0078001056.pickle',\n 'data/Niedermayer/processed/RI_discard/US00790R1041.pickle',\n 'data/Niedermayer/processed/RI_discard/US00790X1019.pickle',\n 'data/Niedermayer/processed/RI_discard/US00817Y1082.pickle',\n 'data/Niedermayer/processed/RI_discard/US0082521081.pickle',\n 'data/Niedermayer/processed/RI_discard/US00835Q1031.pickle',\n 'data/Niedermayer/processed/RI_discard/US00846U1016.pickle',\n 'data/Niedermayer/processed/RI_discard/US00848J1043.pickle',\n 'data/Niedermayer/processed/RI_discard/US0084921008.pickle',\n 'data/Niedermayer/processed/RI_discard/US00857U1079.pickle',\n 'data/Niedermayer/processed/RI_discard/US00912X3026.pickle',\n 'data/Niedermayer/processed/RI_discard/US0091581068.pickle',\n 'data/Niedermayer/processed/RI_discard/US0113111076.pickle',\n 'data/Niedermayer/processed/RI_discard/US0116591092.pickle',\n 'data/Niedermayer/processed/RI_discard/US0123481089.pickle',\n 'data/Niedermayer/processed/RI_discard/US0126531013.pickle',\n 'data/Niedermayer/processed/RI_discard/US0130911037.pickle',\n 'data/Niedermayer/processed/RI_discard/US0138721065.pickle',\n 'data/Niedermayer/processed/RI_discard/US0144911049.pickle',\n 'data/Niedermayer/processed/RI_discard/US0147521092.pickle',\n 'data/Niedermayer/processed/RI_discard/US0152711091.pickle',\n 'data/Niedermayer/processed/RI_discard/US0171751003.pickle',\n 'data/Niedermayer/processed/RI_discard/US01741R1023.pickle',\n 'data/Niedermayer/processed/RI_discard/US0185223007.pickle',\n 'data/Niedermayer/processed/RI_discard/US0185811082.pickle',\n 'data/Niedermayer/processed/RI_discard/US01973R1014.pickle',\n 'data/Niedermayer/processed/RI_discard/US0200021014.pickle',\n 'data/Niedermayer/processed/RI_discard/US02005N1000.pickle',\n 'data/Niedermayer/processed/RI_discard/US02052T1097.pickle',\n 'data/Niedermayer/processed/RI_discard/US0207641061.pickle',\n 'data/Niedermayer/processed/RI_discard/US02083X1037.pickle',\n 'data/Niedermayer/processed/RI_discard/US02156K1034.pickle',\n 'data/Niedermayer/processed/RI_discard/US02209S1033.pickle',\n 'data/Niedermayer/processed/RI_discard/US0231398845.pickle',\n 'data/Niedermayer/processed/RI_discard/US02318Y1082.pickle',\n 'data/Niedermayer/processed/RI_discard/US0236081024.pickle',\n 'data/Niedermayer/processed/RI_discard/US02361E1082.pickle',\n 'data/Niedermayer/processed/RI_discard/US0240131047.pickle',\n 'data/Niedermayer/processed/RI_discard/US0240611030.pickle',\n 'data/Niedermayer/processed/RI_discard/US0248351001.pickle',\n 'data/Niedermayer/processed/RI_discard/US02553E1064.pickle',\n 'data/Niedermayer/processed/RI_discard/US0256762065.pickle',\n 'data/Niedermayer/processed/RI_discard/US0258161092.pickle',\n 'data/Niedermayer/processed/RI_discard/US0259321042.pickle',\n 'data/Niedermayer/processed/RI_discard/US0268747849.pickle',\n 'data/Niedermayer/processed/RI_discard/US02752P1003.pickle',\n 'data/Niedermayer/processed/RI_discard/US0291741090.pickle',\n 'data/Niedermayer/processed/RI_discard/US0292271055.pickle',\n 'data/Niedermayer/processed/RI_discard/US0298991011.pickle',\n 'data/Niedermayer/processed/RI_discard/US03027X1000.pickle',\n 'data/Niedermayer/processed/RI_discard/US0303711081.pickle',\n 'data/Niedermayer/processed/RI_discard/US0304201033.pickle',\n 'data/Niedermayer/processed/RI_discard/US03044L1052.pickle',\n 'data/Niedermayer/processed/RI_discard/US03064D1081.pickle',\n 'data/Niedermayer/processed/RI_discard/US03076C1062.pickle',\n 'data/Niedermayer/processed/RI_discard/US0309751065.pickle',\n 'data/Niedermayer/processed/RI_discard/US0311001004.pickle',\n 'data/Niedermayer/processed/RI_discard/US0320371034.pickle',\n 'data/Niedermayer/processed/RI_discard/US0320951017.pickle',\n 'data/Niedermayer/processed/RI_discard/US03211L1026.pickle',\n 'data/Niedermayer/processed/RI_discard/US03212B1035.pickle',\n 'data/Niedermayer/processed/RI_discard/US0321591051.pickle',\n 'data/Niedermayer/processed/RI_discard/US0325111070.pickle',\n 'data/Niedermayer/processed/RI_discard/US03272L1089.pickle',\n 'data/Niedermayer/processed/RI_discard/US03349M1053.pickle',\n 'data/Niedermayer/processed/RI_discard/US03464Y1082.pickle',\n 'data/Niedermayer/processed/RI_discard/US0352901054.pickle',\n 'data/Niedermayer/processed/RI_discard/US0357104092.pickle',\n 'data/Niedermayer/processed/RI_discard/US03615A1088.pickle',\n 'data/Niedermayer/processed/RI_discard/US03674X1063.pickle',\n 'data/Niedermayer/processed/RI_discard/US0367521038.pickle',\n 'data/Niedermayer/processed/RI_discard/US03750L1098.pickle',\n 'data/Niedermayer/processed/RI_discard/US03762U1051.pickle',\n 'data/Niedermayer/processed/RI_discard/US03784Y2000.pickle',\n 'data/Niedermayer/processed/RI_discard/US03820C1053.pickle',\n 'data/Niedermayer/processed/RI_discard/US0383361039.pickle',\n 'data/Niedermayer/processed/RI_discard/US03842Q1085.pickle',\n 'data/Niedermayer/processed/RI_discard/US03852U1060.pickle',\n 'data/Niedermayer/processed/RI_discard/US0389231087.pickle',\n 'data/Niedermayer/processed/RI_discard/US03940R1077.pickle',\n 'data/Niedermayer/processed/RI_discard/US0394831020.pickle',\n 'data/Niedermayer/processed/RI_discard/US03957W1062.pickle',\n 'data/Niedermayer/processed/RI_discard/US0396531008.pickle',\n 'data/Niedermayer/processed/RI_discard/US03966V1070.pickle',\n 'data/Niedermayer/processed/RI_discard/US03969F1093.pickle',\n 'data/Niedermayer/processed/RI_discard/US03990B1017.pickle',\n 'data/Niedermayer/processed/RI_discard/US04010E1091.pickle',\n 'data/Niedermayer/processed/RI_discard/US04013V1089.pickle',\n 'data/Niedermayer/processed/RI_discard/US0404131064.pickle',\n 'data/Niedermayer/processed/RI_discard/US04206A1016.pickle',\n 'data/Niedermayer/processed/RI_discard/US04208T1088.pickle',\n 'data/Niedermayer/processed/RI_discard/US04238R1068.pickle',\n 'data/Niedermayer/processed/RI_discard/US04247X1028.pickle',\n 'data/Niedermayer/processed/RI_discard/US0427351004.pickle',\n 'data/Niedermayer/processed/RI_discard/US04316A1088.pickle',\n 'data/Niedermayer/processed/RI_discard/US0434361046.pickle',\n 'data/Niedermayer/processed/RI_discard/US0441038694.pickle',\n 'data/Niedermayer/processed/RI_discard/US0441861046.pickle',\n 'data/Niedermayer/processed/RI_discard/US04523Y1055.pickle',\n 'data/Niedermayer/processed/RI_discard/US04546L1061.pickle',\n 'data/Niedermayer/processed/RI_discard/US0454871056.pickle',\n 'data/Niedermayer/processed/RI_discard/US04621X1081.pickle',\n 'data/Niedermayer/processed/RI_discard/US04650Y1001.pickle',\n 'data/Niedermayer/processed/RI_discard/US0476491081.pickle',\n 'data/Niedermayer/processed/RI_discard/US0495601058.pickle',\n 'data/Niedermayer/processed/RI_discard/US05070N1037.pickle',\n 'data/Niedermayer/processed/RI_discard/US0528001094.pickle',\n 'data/Niedermayer/processed/RI_discard/US05329W1027.pickle',\n 'data/Niedermayer/processed/RI_discard/US0533321024.pickle',\n 'data/Niedermayer/processed/RI_discard/US05338G1067.pickle',\n 'data/Niedermayer/processed/RI_discard/US0534841012.pickle',\n 'data/Niedermayer/processed/RI_discard/US05350V1061.pickle',\n 'data/Niedermayer/processed/RI_discard/US05351W1036.pickle',\n 'data/Niedermayer/processed/RI_discard/US05351X1019.pickle',\n 'data/Niedermayer/processed/RI_discard/US05352A1007.pickle',\n 'data/Niedermayer/processed/RI_discard/US0536111091.pickle',\n 'data/Niedermayer/processed/RI_discard/US05368V1061.pickle',\n 'data/Niedermayer/processed/RI_discard/US05379B1070.pickle',\n 'data/Niedermayer/processed/RI_discard/US05465C1009.pickle',\n 'data/Niedermayer/processed/RI_discard/US05508R1068.pickle',\n 'data/Niedermayer/processed/RI_discard/US05550J1016.pickle',\n 'data/Niedermayer/processed/RI_discard/US0556221044.pickle',\n 'data/Niedermayer/processed/RI_discard/US0556453035.pickle',\n 'data/Niedermayer/processed/RI_discard/US05601C1053.pickle',\n 'data/Niedermayer/processed/RI_discard/US05605H1005.pickle',\n 'data/Niedermayer/processed/RI_discard/US05614L2097.pickle',\n 'data/Niedermayer/processed/RI_discard/US0565251081.pickle',\n 'data/Niedermayer/processed/RI_discard/US0584981064.pickle',\n 'data/Niedermayer/processed/RI_discard/US05875B1061.pickle',\n 'data/Niedermayer/processed/RI_discard/US05964H1059.pickle',\n 'data/Niedermayer/processed/RI_discard/US05967A1079.pickle',\n 'data/Niedermayer/processed/RI_discard/US05990K1060.pickle',\n 'data/Niedermayer/processed/RI_discard/US0605051046.pickle',\n 'data/Niedermayer/processed/RI_discard/US0625401098.pickle',\n 'data/Niedermayer/processed/RI_discard/US0640581007.pickle',\n 'data/Niedermayer/processed/RI_discard/US06652K1034.pickle',\n 'data/Niedermayer/processed/RI_discard/US0677741094.pickle',\n 'data/Niedermayer/processed/RI_discard/US06777U1016.pickle',\n 'data/Niedermayer/processed/RI_discard/US0678061096.pickle',\n 'data/Niedermayer/processed/RI_discard/US0683231049.pickle',\n 'data/Niedermayer/processed/RI_discard/US0708301041.pickle',\n 'data/Niedermayer/processed/RI_discard/US0718131099.pickle',\n 'data/Niedermayer/processed/RI_discard/US07556Q8814.pickle',\n 'data/Niedermayer/processed/RI_discard/US0758871091.pickle',\n 'data/Niedermayer/processed/RI_discard/US0774541066.pickle',\n 'data/Niedermayer/processed/RI_discard/US07831C1036.pickle',\n 'data/Niedermayer/processed/RI_discard/US0814371052.pickle',\n 'data/Niedermayer/processed/RI_discard/US08160H1014.pickle',\n 'data/Niedermayer/processed/RI_discard/US0844231029.pickle',\n 'data/Niedermayer/processed/RI_discard/US0846801076.pickle',\n 'data/Niedermayer/processed/RI_discard/US08579W1036.pickle',\n 'data/Niedermayer/processed/RI_discard/US0865161014.pickle',\n 'data/Niedermayer/processed/RI_discard/US08986R3093.pickle',\n 'data/Niedermayer/processed/RI_discard/US08986R4083.pickle',\n 'data/Niedermayer/processed/RI_discard/US0900431000.pickle',\n 'data/Niedermayer/processed/RI_discard/US0921131092.pickle',\n 'data/Niedermayer/processed/RI_discard/US09215C1053.pickle',\n 'data/Niedermayer/processed/RI_discard/US09257W1009.pickle',\n 'data/Niedermayer/processed/RI_discard/US09260D1072.pickle',\n 'data/Niedermayer/processed/RI_discard/US0936711052.pickle',\n 'data/Niedermayer/processed/RI_discard/US0937121079.pickle',\n 'data/Niedermayer/processed/RI_discard/US09624H2085.pickle',\n 'data/Niedermayer/processed/RI_discard/US09629F1084.pickle',\n 'data/Niedermayer/processed/RI_discard/US0963081015.pickle',\n 'data/Niedermayer/processed/RI_discard/US0966271043.pickle',\n 'data/Niedermayer/processed/RI_discard/US0970231058.pickle',\n 'data/Niedermayer/processed/RI_discard/US09739D1000.pickle',\n 'data/Niedermayer/processed/RI_discard/US0994061002.pickle',\n 'data/Niedermayer/processed/RI_discard/US0995021062.pickle',\n 'data/Niedermayer/processed/RI_discard/US1011211018.pickle',\n 'data/Niedermayer/processed/RI_discard/US1011371077.pickle',\n 'data/Niedermayer/processed/RI_discard/US10316T1043.pickle',\n 'data/Niedermayer/processed/RI_discard/US1033041013.pickle',\n 'data/Niedermayer/processed/RI_discard/US1046741062.pickle',\n 'data/Niedermayer/processed/RI_discard/US10482B1017.pickle',\n 'data/Niedermayer/processed/RI_discard/US1053682035.pickle',\n 'data/Niedermayer/processed/RI_discard/US1091941005.pickle',\n 'data/Niedermayer/processed/RI_discard/US10920V1070.pickle',\n 'data/Niedermayer/processed/RI_discard/US10948C1071.pickle',\n 'data/Niedermayer/processed/RI_discard/US10948W1036.pickle',\n 'data/Niedermayer/processed/RI_discard/US10949T1097.pickle',\n 'data/Niedermayer/processed/RI_discard/US1096411004.pickle',\n 'data/Niedermayer/processed/RI_discard/US1096961040.pickle',\n 'data/Niedermayer/processed/RI_discard/US1101221083.pickle',\n 'data/Niedermayer/processed/RI_discard/US11040G1031.pickle',\n 'data/Niedermayer/processed/RI_discard/US11120U1051.pickle',\n 'data/Niedermayer/processed/RI_discard/US11133T1034.pickle',\n 'data/Niedermayer/processed/RI_discard/US11135B1008.pickle',\n 'data/Niedermayer/processed/RI_discard/US11135E2037.pickle',\n 'data/Niedermayer/processed/RI_discard/US1124631045.pickle',\n 'data/Niedermayer/processed/RI_discard/US1152361010.pickle',\n 'data/Niedermayer/processed/RI_discard/US1170431092.pickle',\n 'data/Niedermayer/processed/RI_discard/US1182301010.pickle',\n 'data/Niedermayer/processed/RI_discard/US1184401065.pickle',\n 'data/Niedermayer/processed/RI_discard/US1200761047.pickle',\n 'data/Niedermayer/processed/RI_discard/US12008R1077.pickle',\n 'data/Niedermayer/processed/RI_discard/US1220171060.pickle',\n 'data/Niedermayer/processed/RI_discard/US1244111092.pickle',\n 'data/Niedermayer/processed/RI_discard/US1248051021.pickle',\n 'data/Niedermayer/processed/RI_discard/US1248308785.pickle',\n 'data/Niedermayer/processed/RI_discard/US12504L1098.pickle',\n 'data/Niedermayer/processed/RI_discard/US1252691001.pickle',\n 'data/Niedermayer/processed/RI_discard/US1255231003.pickle',\n 'data/Niedermayer/processed/RI_discard/US1258961002.pickle',\n 'data/Niedermayer/processed/RI_discard/US1261171003.pickle',\n 'data/Niedermayer/processed/RI_discard/US12621E1038.pickle',\n 'data/Niedermayer/processed/RI_discard/US1263271058.pickle',\n 'data/Niedermayer/processed/RI_discard/US1265011056.pickle',\n 'data/Niedermayer/processed/RI_discard/US12650T1043.pickle',\n 'data/Niedermayer/processed/RI_discard/US12653C1080.pickle',\n 'data/Niedermayer/processed/RI_discard/US12654A1016.pickle',\n 'data/Niedermayer/processed/RI_discard/US12662P1084.pickle',\n 'data/Niedermayer/processed/RI_discard/US12663P1075.pickle',\n 'data/Niedermayer/processed/RI_discard/US1266501006.pickle',\n 'data/Niedermayer/processed/RI_discard/US12674R1005.pickle',\n 'data/Niedermayer/processed/RI_discard/US12685J1051.pickle',\n 'data/Niedermayer/processed/RI_discard/US1270551013.pickle',\n 'data/Niedermayer/processed/RI_discard/US1270971039.pickle',\n 'data/Niedermayer/processed/RI_discard/US1281951046.pickle',\n 'data/Niedermayer/processed/RI_discard/US1295001044.pickle',\n 'data/Niedermayer/processed/RI_discard/US13057Q3056.pickle',\n 'data/Niedermayer/processed/RI_discard/US1307881029.pickle',\n 'data/Niedermayer/processed/RI_discard/US13100M5094.pickle',\n 'data/Niedermayer/processed/RI_discard/US1311931042.pickle',\n 'data/Niedermayer/processed/RI_discard/US13123X5086.pickle',\n 'data/Niedermayer/processed/RI_discard/US1313473043.pickle',\n 'data/Niedermayer/processed/RI_discard/US1331311027.pickle',\n 'data/Niedermayer/processed/RI_discard/US1344291091.pickle',\n 'data/Niedermayer/processed/RI_discard/US13462K1097.pickle',\n 'data/Niedermayer/processed/RI_discard/US13765N1072.pickle',\n 'data/Niedermayer/processed/RI_discard/US1380981084.pickle',\n 'data/Niedermayer/processed/RI_discard/US14040H1059.pickle',\n 'data/Niedermayer/processed/RI_discard/US1404752032.pickle',\n 'data/Niedermayer/processed/RI_discard/US14149Y1082.pickle',\n 'data/Niedermayer/processed/RI_discard/US1416331072.pickle',\n 'data/Niedermayer/processed/RI_discard/US1423391002.pickle',\n 'data/Niedermayer/processed/RI_discard/US1431301027.pickle',\n 'data/Niedermayer/processed/RI_discard/US14365C1036.pickle',\n 'data/Niedermayer/processed/RI_discard/US1439051079.pickle',\n 'data/Niedermayer/processed/RI_discard/US1442851036.pickle',\n 'data/Niedermayer/processed/RI_discard/US14448C1045.pickle',\n 'data/Niedermayer/processed/RI_discard/US14575E1055.pickle',\n 'data/Niedermayer/processed/RI_discard/US1462291097.pickle',\n 'data/Niedermayer/processed/RI_discard/US1476261052.pickle',\n 'data/Niedermayer/processed/RI_discard/US1488061029.pickle',\n 'data/Niedermayer/processed/RI_discard/US1491231015.pickle',\n 'data/Niedermayer/processed/RI_discard/US14912Y2028.pickle',\n 'data/Niedermayer/processed/RI_discard/US1506026053.pickle',\n 'data/Niedermayer/processed/RI_discard/US1508701034.pickle',\n 'data/Niedermayer/processed/RI_discard/US15135B1017.pickle',\n 'data/Niedermayer/processed/RI_discard/US15189T1079.pickle',\n 'data/Niedermayer/processed/RI_discard/US15202L1070.pickle',\n 'data/Niedermayer/processed/RI_discard/US1547604090.pickle',\n 'data/Niedermayer/processed/RI_discard/US1565043007.pickle',\n 'data/Niedermayer/processed/RI_discard/US15677J1088.pickle',\n 'data/Niedermayer/processed/RI_discard/US1591791009.pickle',\n 'data/Niedermayer/processed/RI_discard/US15957P1057.pickle',\n 'data/Niedermayer/processed/RI_discard/US1598641074.pickle',\n 'data/Niedermayer/processed/RI_discard/US16115Q3083.pickle',\n 'data/Niedermayer/processed/RI_discard/US16208T1025.pickle',\n 'data/Niedermayer/processed/RI_discard/US1630921096.pickle',\n 'data/Niedermayer/processed/RI_discard/US16359R1032.pickle',\n 'data/Niedermayer/processed/RI_discard/US1638511089.pickle',\n 'data/Niedermayer/processed/RI_discard/US1646511014.pickle',\n 'data/Niedermayer/processed/RI_discard/US1652401027.pickle',\n 'data/Niedermayer/processed/RI_discard/US1653031088.pickle',\n 'data/Niedermayer/processed/RI_discard/US1667641005.pickle',\n 'data/Niedermayer/processed/RI_discard/US1672501095.pickle',\n 'data/Niedermayer/processed/RI_discard/US1686151028.pickle',\n 'data/Niedermayer/processed/RI_discard/US16934Q2084.pickle',\n 'data/Niedermayer/processed/RI_discard/US16943W2044.pickle',\n 'data/Niedermayer/processed/RI_discard/US1696561059.pickle',\n 'data/Niedermayer/processed/RI_discard/US1699051066.pickle',\n 'data/Niedermayer/processed/RI_discard/US1713401024.pickle',\n 'data/Niedermayer/processed/RI_discard/US1717793095.pickle',\n 'data/Niedermayer/processed/RI_discard/US1717981013.pickle',\n 'data/Niedermayer/processed/RI_discard/US1718715022.pickle',\n 'data/Niedermayer/processed/RI_discard/US17243V1026.pickle',\n 'data/Niedermayer/processed/RI_discard/US17273K1097.pickle',\n 'data/Niedermayer/processed/RI_discard/US1729674242.pickle',\n 'data/Niedermayer/processed/RI_discard/US1746101054.pickle',\n 'data/Niedermayer/processed/RI_discard/US1785871013.pickle',\n 'data/Niedermayer/processed/RI_discard/US18270D1063.pickle',\n 'data/Niedermayer/processed/RI_discard/US1844961078.pickle',\n 'data/Niedermayer/processed/RI_discard/US18538R1032.pickle',\n 'data/Niedermayer/processed/RI_discard/US1858991011.pickle',\n 'data/Niedermayer/processed/RI_discard/US18885T3068.pickle',\n 'data/Niedermayer/processed/RI_discard/US1890541097.pickle',\n 'data/Niedermayer/processed/RI_discard/US18914U1007.pickle',\n 'data/Niedermayer/processed/RI_discard/US18915M1071.pickle',\n 'data/Niedermayer/processed/RI_discard/US1912161007.pickle',\n 'data/Niedermayer/processed/RI_discard/US1921085049.pickle',\n 'data/Niedermayer/processed/RI_discard/US19247A1007.pickle',\n 'data/Niedermayer/processed/RI_discard/US1940141062.pickle',\n 'data/Niedermayer/processed/RI_discard/US1941621039.pickle',\n 'data/Niedermayer/processed/RI_discard/US1999081045.pickle',\n 'data/Niedermayer/processed/RI_discard/US2003401070.pickle',\n 'data/Niedermayer/processed/RI_discard/US2017231034.pickle',\n 'data/Niedermayer/processed/RI_discard/US2036071064.pickle',\n 'data/Niedermayer/processed/RI_discard/US2036681086.pickle',\n 'data/Niedermayer/processed/RI_discard/US20369C1062.pickle',\n 'data/Niedermayer/processed/RI_discard/US2044291043.pickle',\n 'data/Niedermayer/processed/RI_discard/US20451N1019.pickle',\n 'data/Niedermayer/processed/RI_discard/US20451Q1040.pickle',\n 'data/Niedermayer/processed/RI_discard/US2057683029.pickle',\n 'data/Niedermayer/processed/RI_discard/US2058871029.pickle',\n 'data/Niedermayer/processed/RI_discard/US20605P1012.pickle',\n 'data/Niedermayer/processed/RI_discard/US2074101013.pickle',\n 'data/Niedermayer/processed/RI_discard/US20825C1045.pickle',\n 'data/Niedermayer/processed/RI_discard/US20854L1089.pickle',\n 'data/Niedermayer/processed/RI_discard/US2091151041.pickle',\n 'data/Niedermayer/processed/RI_discard/US2107511030.pickle',\n 'data/Niedermayer/processed/RI_discard/US2111711030.pickle',\n 'data/Niedermayer/processed/RI_discard/US2120151012.pickle',\n 'data/Niedermayer/processed/RI_discard/US2124851062.pickle',\n 'data/Niedermayer/processed/RI_discard/US21258C1080.pickle',\n 'data/Niedermayer/processed/RI_discard/US2166484020.pickle',\n 'data/Niedermayer/processed/RI_discard/US21676P1030.pickle',\n 'data/Niedermayer/processed/RI_discard/US2168311072.pickle',\n 'data/Niedermayer/processed/RI_discard/US21870Q1058.pickle',\n 'data/Niedermayer/processed/RI_discard/US21870U5020.pickle',\n 'data/Niedermayer/processed/RI_discard/US21871N1019.pickle',\n 'data/Niedermayer/processed/RI_discard/US2193501051.pickle',\n 'data/Niedermayer/processed/RI_discard/US22002T1088.pickle',\n 'data/Niedermayer/processed/RI_discard/US22052L1044.pickle',\n 'data/Niedermayer/processed/RI_discard/US22164K1016.pickle',\n 'data/Niedermayer/processed/RI_discard/US2220702037.pickle',\n 'data/Niedermayer/processed/RI_discard/US22266M1045.pickle',\n 'data/Niedermayer/processed/RI_discard/US2227955026.pickle',\n 'data/Niedermayer/processed/RI_discard/US22282E1029.pickle',\n 'data/Niedermayer/processed/RI_discard/US2243991054.pickle',\n 'data/Niedermayer/processed/RI_discard/US2254011081.pickle',\n 'data/Niedermayer/processed/RI_discard/US22757R1095.pickle',\n 'data/Niedermayer/processed/RI_discard/US22822V1017.pickle',\n 'data/Niedermayer/processed/RI_discard/US2283681060.pickle',\n 'data/Niedermayer/processed/RI_discard/US2289031005.pickle',\n 'data/Niedermayer/processed/RI_discard/US22948Q1013.pickle',\n 'data/Niedermayer/processed/RI_discard/US2296631094.pickle',\n 'data/Niedermayer/processed/RI_discard/US2296691064.pickle',\n 'data/Niedermayer/processed/RI_discard/US2298991090.pickle',\n 'data/Niedermayer/processed/RI_discard/US2302151053.pickle',\n 'data/Niedermayer/processed/RI_discard/US2310211063.pickle',\n 'data/Niedermayer/processed/RI_discard/US23131L1070.pickle',\n 'data/Niedermayer/processed/RI_discard/US2315611010.pickle',\n 'data/Niedermayer/processed/RI_discard/US23204G1004.pickle',\n 'data/Niedermayer/processed/RI_discard/US23331A1097.pickle',\n 'data/Niedermayer/processed/RI_discard/US23331S1006.pickle',\n 'data/Niedermayer/processed/RI_discard/US2333261079.pickle',\n 'data/Niedermayer/processed/RI_discard/US2333311072.pickle',\n 'data/Niedermayer/processed/RI_discard/US23345M1071.pickle',\n 'data/Niedermayer/processed/RI_discard/US23355L1061.pickle',\n 'data/Niedermayer/processed/RI_discard/US2358252052.pickle',\n 'data/Niedermayer/processed/RI_discard/US2358511028.pickle',\n 'data/Niedermayer/processed/RI_discard/US2362721001.pickle',\n 'data/Niedermayer/processed/RI_discard/US2371941053.pickle',\n 'data/Niedermayer/processed/RI_discard/US2372661015.pickle',\n 'data/Niedermayer/processed/RI_discard/US23821D1000.pickle',\n 'data/Niedermayer/processed/RI_discard/US23918K1088.pickle',\n 'data/Niedermayer/processed/RI_discard/US2435371073.pickle',\n 'data/Niedermayer/processed/RI_discard/US2441991054.pickle',\n 'data/Niedermayer/processed/RI_discard/US24665A1034.pickle',\n 'data/Niedermayer/processed/RI_discard/US2473617023.pickle',\n 'data/Niedermayer/processed/RI_discard/US2478501008.pickle',\n 'data/Niedermayer/processed/RI_discard/US24790A1016.pickle',\n 'data/Niedermayer/processed/RI_discard/US2480191012.pickle',\n 'data/Niedermayer/processed/RI_discard/US2505651081.pickle',\n 'data/Niedermayer/processed/RI_discard/US25179M1036.pickle',\n 'data/Niedermayer/processed/RI_discard/US2527843013.pickle',\n 'data/Niedermayer/processed/RI_discard/US2536511031.pickle',\n 'data/Niedermayer/processed/RI_discard/US2538681030.pickle',\n 'data/Niedermayer/processed/RI_discard/US25402D1028.pickle',\n 'data/Niedermayer/processed/RI_discard/US2544231069.pickle',\n 'data/Niedermayer/processed/RI_discard/US25456K1016.pickle',\n 'data/Niedermayer/processed/RI_discard/US2546871060.pickle',\n 'data/Niedermayer/processed/RI_discard/US2547091080.pickle',\n 'data/Niedermayer/processed/RI_discard/US2566771059.pickle',\n 'data/Niedermayer/processed/RI_discard/US25746U1097.pickle',\n 'data/Niedermayer/processed/RI_discard/US2575592033.pickle',\n 'data/Niedermayer/processed/RI_discard/US2576511099.pickle',\n 'data/Niedermayer/processed/RI_discard/US25787G1004.pickle',\n 'data/Niedermayer/processed/RI_discard/US25862V1052.pickle',\n 'data/Niedermayer/processed/RI_discard/US25960P1093.pickle',\n 'data/Niedermayer/processed/RI_discard/US25960R1059.pickle',\n 'data/Niedermayer/processed/RI_discard/US25961D1054.pickle',\n 'data/Niedermayer/processed/RI_discard/US2600031080.pickle',\n 'data/Niedermayer/processed/RI_discard/US2600951048.pickle',\n 'data/Niedermayer/processed/RI_discard/US2605571031.pickle',\n 'data/Niedermayer/processed/RI_discard/US26152H3012.pickle',\n 'data/Niedermayer/processed/RI_discard/US2620371045.pickle',\n 'data/Niedermayer/processed/RI_discard/US2620771004.pickle',\n 'data/Niedermayer/processed/RI_discard/US2641471097.pickle',\n 'data/Niedermayer/processed/RI_discard/US26414D1063.pickle',\n 'data/Niedermayer/processed/RI_discard/US2644115055.pickle',\n 'data/Niedermayer/processed/RI_discard/US26441C2044.pickle',\n 'data/Niedermayer/processed/RI_discard/US26614N1028.pickle',\n 'data/Niedermayer/processed/RI_discard/US26622P1075.pickle',\n 'data/Niedermayer/processed/RI_discard/US2674751019.pickle',\n 'data/Niedermayer/processed/RI_discard/US2681501092.pickle',\n 'data/Niedermayer/processed/RI_discard/US26817Q8868.pickle',\n 'data/Niedermayer/processed/RI_discard/US26856L1035.pickle',\n 'data/Niedermayer/processed/RI_discard/US26874R1086.pickle',\n 'data/Niedermayer/processed/RI_discard/US26875P1012.pickle',\n 'data/Niedermayer/processed/RI_discard/US26884L1098.pickle',\n 'data/Niedermayer/processed/RI_discard/US26884U1097.pickle',\n 'data/Niedermayer/processed/RI_discard/US26885B1008.pickle',\n 'data/Niedermayer/processed/RI_discard/US26885J1034.pickle',\n 'data/Niedermayer/processed/RI_discard/US26969P1084.pickle',\n 'data/Niedermayer/processed/RI_discard/US27616P1030.pickle',\n 'data/Niedermayer/processed/RI_discard/US2772761019.pickle',\n 'data/Niedermayer/processed/RI_discard/US2774321002.pickle',\n 'data/Niedermayer/processed/RI_discard/US2774614067.pickle',\n 'data/Niedermayer/processed/RI_discard/US2788651006.pickle',\n 'data/Niedermayer/processed/RI_discard/US27923Q1094.pickle',\n 'data/Niedermayer/processed/RI_discard/US28035Q1022.pickle',\n 'data/Niedermayer/processed/RI_discard/US2810201077.pickle',\n 'data/Niedermayer/processed/RI_discard/US28176E1082.pickle',\n 'data/Niedermayer/processed/RI_discard/US2829141009.pickle',\n 'data/Niedermayer/processed/RI_discard/US28414H1032.pickle',\n 'data/Niedermayer/processed/RI_discard/US28618M1062.pickle',\n 'data/Niedermayer/processed/RI_discard/US28621V1017.pickle',\n 'data/Niedermayer/processed/RI_discard/US28849P1003.pickle',\n 'data/Niedermayer/processed/RI_discard/US28852N1090.pickle',\n 'data/Niedermayer/processed/RI_discard/US2885781078.pickle',\n 'data/Niedermayer/processed/RI_discard/US29084Q1004.pickle',\n 'data/Niedermayer/processed/RI_discard/US29089Q1058.pickle',\n 'data/Niedermayer/processed/RI_discard/US2910111044.pickle',\n 'data/Niedermayer/processed/RI_discard/US29103W1045.pickle',\n 'data/Niedermayer/processed/RI_discard/US2921041065.pickle',\n 'data/Niedermayer/processed/RI_discard/US2922181043.pickle',\n 'data/Niedermayer/processed/RI_discard/US2924801002.pickle',\n 'data/Niedermayer/processed/RI_discard/US29250X1037.pickle',\n 'data/Niedermayer/processed/RI_discard/US29261A1007.pickle',\n 'data/Niedermayer/processed/RI_discard/US29265N1081.pickle',\n 'data/Niedermayer/processed/RI_discard/US29272W1099.pickle',\n 'data/Niedermayer/processed/RI_discard/US29275Y1029.pickle',\n 'data/Niedermayer/processed/RI_discard/US29278N1037.pickle',\n 'data/Niedermayer/processed/RI_discard/US29283F1030.pickle',\n 'data/Niedermayer/processed/RI_discard/US29286C1071.pickle',\n 'data/Niedermayer/processed/RI_discard/US29336T1007.pickle',\n 'data/Niedermayer/processed/RI_discard/US29336U1079.pickle',\n 'data/Niedermayer/processed/RI_discard/US2933891028.pickle',\n 'data/Niedermayer/processed/RI_discard/US29355X1072.pickle',\n 'data/Niedermayer/processed/RI_discard/US29357K1034.pickle',\n 'data/Niedermayer/processed/RI_discard/US29364G1031.pickle',\n 'data/Niedermayer/processed/RI_discard/US29382R1077.pickle',\n 'data/Niedermayer/processed/RI_discard/US29404K1060.pickle',\n 'data/Niedermayer/processed/RI_discard/US2941001024.pickle',\n 'data/Niedermayer/processed/RI_discard/US29414B1044.pickle',\n 'data/Niedermayer/processed/RI_discard/US29414D1000.pickle',\n 'data/Niedermayer/processed/RI_discard/US29415F1049.pickle',\n 'data/Niedermayer/processed/RI_discard/US2944291051.pickle',\n 'data/Niedermayer/processed/RI_discard/US29452E1010.pickle',\n 'data/Niedermayer/processed/RI_discard/US2946001011.pickle',\n 'data/Niedermayer/processed/RI_discard/US2946281027.pickle',\n 'data/Niedermayer/processed/RI_discard/US29472R1086.pickle',\n 'data/Niedermayer/processed/RI_discard/US29476L1070.pickle',\n 'data/Niedermayer/processed/RI_discard/US2963151046.pickle',\n 'data/Niedermayer/processed/RI_discard/US29670E1073.pickle',\n 'data/Niedermayer/processed/RI_discard/US29670G1022.pickle',\n 'data/Niedermayer/processed/RI_discard/US2971781057.pickle',\n 'data/Niedermayer/processed/RI_discard/US2974251009.pickle',\n 'data/Niedermayer/processed/RI_discard/US2976021046.pickle',\n 'data/Niedermayer/processed/RI_discard/US29977A1051.pickle',\n 'data/Niedermayer/processed/RI_discard/US30034T1034.pickle',\n 'data/Niedermayer/processed/RI_discard/US30034W1062.pickle',\n 'data/Niedermayer/processed/RI_discard/US30040W1080.pickle',\n 'data/Niedermayer/processed/RI_discard/US30050B1017.pickle',\n 'data/Niedermayer/processed/RI_discard/US30057T1051.pickle',\n 'data/Niedermayer/processed/RI_discard/US30219E1038.pickle',\n 'data/Niedermayer/processed/RI_discard/US30225T1025.pickle',\n 'data/Niedermayer/processed/RI_discard/US30227H1068.pickle',\n 'data/Niedermayer/processed/RI_discard/US30231G1022.pickle',\n 'data/Niedermayer/processed/RI_discard/US3024913036.pickle',\n 'data/Niedermayer/processed/RI_discard/US3025201019.pickle',\n 'data/Niedermayer/processed/RI_discard/US30255G1031.pickle',\n 'data/Niedermayer/processed/RI_discard/US30257X1046.pickle',\n 'data/Niedermayer/processed/RI_discard/US3029411093.pickle',\n 'data/Niedermayer/processed/RI_discard/US3030751057.pickle',\n 'data/Niedermayer/processed/RI_discard/US30322L1017.pickle',\n 'data/Niedermayer/processed/RI_discard/US3032501047.pickle',\n 'data/Niedermayer/processed/RI_discard/US30555Q1085.pickle',\n 'data/Niedermayer/processed/RI_discard/US31154R1095.pickle',\n 'data/Niedermayer/processed/RI_discard/US3137451015.pickle',\n 'data/Niedermayer/processed/RI_discard/US3138551086.pickle',\n 'data/Niedermayer/processed/RI_discard/US31428X1063.pickle',\n 'data/Niedermayer/processed/RI_discard/US3154051003.pickle',\n 'data/Niedermayer/processed/RI_discard/US31620M1062.pickle',\n 'data/Niedermayer/processed/RI_discard/US31620R3030.pickle',\n 'data/Niedermayer/processed/RI_discard/US31847R1023.pickle',\n 'data/Niedermayer/processed/RI_discard/US3198291078.pickle',\n 'data/Niedermayer/processed/RI_discard/US3205171057.pickle',\n 'data/Niedermayer/processed/RI_discard/US3379307057.pickle',\n 'data/Niedermayer/processed/RI_discard/US3379321074.pickle',\n 'data/Niedermayer/processed/RI_discard/US33812L1026.pickle',\n 'data/Niedermayer/processed/RI_discard/US3390411052.pickle',\n 'data/Niedermayer/processed/RI_discard/US3397501012.pickle',\n 'data/Niedermayer/processed/RI_discard/US3433891021.pickle',\n 'data/Niedermayer/processed/RI_discard/US3434121022.pickle',\n 'data/Niedermayer/processed/RI_discard/US3434981011.pickle',\n 'data/Niedermayer/processed/RI_discard/US34354P1057.pickle',\n 'data/Niedermayer/processed/RI_discard/US3448491049.pickle',\n 'data/Niedermayer/processed/RI_discard/US3462321015.pickle',\n 'data/Niedermayer/processed/RI_discard/US34959J1088.pickle',\n 'data/Niedermayer/processed/RI_discard/US34960P1012.pickle',\n 'data/Niedermayer/processed/RI_discard/US34964C1062.pickle',\n 'data/Niedermayer/processed/RI_discard/US34984V2097.pickle',\n 'data/Niedermayer/processed/RI_discard/US35086T1097.pickle',\n 'data/Niedermayer/processed/RI_discard/US35243J1016.pickle',\n 'data/Niedermayer/processed/RI_discard/US3534691098.pickle',\n 'data/Niedermayer/processed/RI_discard/US35352P1049.pickle',\n 'data/Niedermayer/processed/RI_discard/US3546131018.pickle',\n 'data/Niedermayer/processed/RI_discard/US35671D8570.pickle',\n 'data/Niedermayer/processed/RI_discard/US35904G1076.pickle',\n 'data/Niedermayer/processed/RI_discard/US3596941068.pickle',\n 'data/Niedermayer/processed/RI_discard/US36116M1062.pickle',\n 'data/Niedermayer/processed/RI_discard/US3614481030.pickle',\n 'data/Niedermayer/processed/RI_discard/US36162J1060.pickle',\n 'data/Niedermayer/processed/RI_discard/US36164Y1010.pickle',\n 'data/Niedermayer/processed/RI_discard/US36251C1036.pickle',\n 'data/Niedermayer/processed/RI_discard/US36262G1013.pickle',\n 'data/Niedermayer/processed/RI_discard/US36268W1009.pickle',\n 'data/Niedermayer/processed/RI_discard/US3635761097.pickle',\n 'data/Niedermayer/processed/RI_discard/US36467W1099.pickle',\n 'data/Niedermayer/processed/RI_discard/US3647601083.pickle',\n 'data/Niedermayer/processed/RI_discard/US3666511072.pickle',\n 'data/Niedermayer/processed/RI_discard/US3680361090.pickle',\n 'data/Niedermayer/processed/RI_discard/US3687361044.pickle',\n 'data/Niedermayer/processed/RI_discard/US3693001089.pickle',\n 'data/Niedermayer/processed/RI_discard/US3695501086.pickle',\n 'data/Niedermayer/processed/RI_discard/US3696043013.pickle',\n 'data/Niedermayer/processed/RI_discard/US3703341046.pickle',\n 'data/Niedermayer/processed/RI_discard/US37045V1008.pickle',\n 'data/Niedermayer/processed/RI_discard/US3715321028.pickle',\n 'data/Niedermayer/processed/RI_discard/US3722842081.pickle',\n 'data/Niedermayer/processed/RI_discard/US3724601055.pickle',\n 'data/Niedermayer/processed/RI_discard/US37247D1063.pickle',\n 'data/Niedermayer/processed/RI_discard/US3742971092.pickle',\n 'data/Niedermayer/processed/RI_discard/US3773201062.pickle',\n 'data/Niedermayer/processed/RI_discard/US3773221029.pickle',\n 'data/Niedermayer/processed/RI_discard/US37892E1029.pickle',\n 'data/Niedermayer/processed/RI_discard/US3793782018.pickle',\n 'data/Niedermayer/processed/RI_discard/US37940X1028.pickle',\n 'data/Niedermayer/processed/RI_discard/US37953G1031.pickle',\n 'data/Niedermayer/processed/RI_discard/US37954A2042.pickle',\n 'data/Niedermayer/processed/RI_discard/US3795772082.pickle',\n 'data/Niedermayer/processed/RI_discard/US37959E1029.pickle',\n 'data/Niedermayer/processed/RI_discard/US3802371076.pickle',\n 'data/Niedermayer/processed/RI_discard/US38045R2067.pickle',\n 'data/Niedermayer/processed/RI_discard/US38141G1040.pickle',\n 'data/Niedermayer/processed/RI_discard/US3830821043.pickle',\n 'data/Niedermayer/processed/RI_discard/US38388F1084.pickle',\n 'data/Niedermayer/processed/RI_discard/US3841091040.pickle',\n 'data/Niedermayer/processed/RI_discard/US3843135084.pickle',\n 'data/Niedermayer/processed/RI_discard/US3845561063.pickle',\n 'data/Niedermayer/processed/RI_discard/US3846371041.pickle',\n 'data/Niedermayer/processed/RI_discard/US3848021040.pickle',\n 'data/Niedermayer/processed/RI_discard/US3850023082.pickle',\n 'data/Niedermayer/processed/RI_discard/US3873281071.pickle',\n 'data/Niedermayer/processed/RI_discard/US38741L1070.pickle',\n 'data/Niedermayer/processed/RI_discard/US3886891015.pickle',\n 'data/Niedermayer/processed/RI_discard/US38983D3008.pickle',\n 'data/Niedermayer/processed/RI_discard/US3911641005.pickle',\n 'data/Niedermayer/processed/RI_discard/US3914161043.pickle',\n 'data/Niedermayer/processed/RI_discard/US3927091013.pickle',\n 'data/Niedermayer/processed/RI_discard/US39304D1028.pickle',\n 'data/Niedermayer/processed/RI_discard/US3936571013.pickle',\n 'data/Niedermayer/processed/RI_discard/US3952591044.pickle',\n 'data/Niedermayer/processed/RI_discard/US3984331021.pickle',\n 'data/Niedermayer/processed/RI_discard/US3989051095.pickle',\n 'data/Niedermayer/processed/RI_discard/US4001101025.pickle',\n 'data/Niedermayer/processed/RI_discard/US4016171054.pickle',\n 'data/Niedermayer/processed/RI_discard/US40171V1008.pickle',\n 'data/Niedermayer/processed/RI_discard/US40416E1038.pickle',\n 'data/Niedermayer/processed/RI_discard/US40418F1084.pickle',\n 'data/Niedermayer/processed/RI_discard/US4042511000.pickle',\n 'data/Niedermayer/processed/RI_discard/US4042804066.pickle',\n 'data/Niedermayer/processed/RI_discard/US40434L1052.pickle',\n 'data/Niedermayer/processed/RI_discard/US4050241003.pickle',\n 'data/Niedermayer/processed/RI_discard/US4062161017.pickle',\n 'data/Niedermayer/processed/RI_discard/US4103451021.pickle',\n 'data/Niedermayer/processed/RI_discard/US41043F2083.pickle',\n 'data/Niedermayer/processed/RI_discard/US41068X1000.pickle',\n 'data/Niedermayer/processed/RI_discard/US4108671052.pickle',\n 'data/Niedermayer/processed/RI_discard/US4128221086.pickle',\n 'data/Niedermayer/processed/RI_discard/US4158641070.pickle',\n 'data/Niedermayer/processed/RI_discard/US4165151048.pickle',\n 'data/Niedermayer/processed/RI_discard/US4198701009.pickle',\n 'data/Niedermayer/processed/RI_discard/US4212981009.pickle',\n 'data/Niedermayer/processed/RI_discard/US4219461047.pickle',\n 'data/Niedermayer/processed/RI_discard/US42225P5017.pickle',\n 'data/Niedermayer/processed/RI_discard/US42250P1030.pickle',\n 'data/Niedermayer/processed/RI_discard/US4227041062.pickle',\n 'data/Niedermayer/processed/RI_discard/US42328H1095.pickle',\n 'data/Niedermayer/processed/RI_discard/US42330P1075.pickle',\n 'data/Niedermayer/processed/RI_discard/US4234521015.pickle',\n 'data/Niedermayer/processed/RI_discard/US42704L1044.pickle',\n 'data/Niedermayer/processed/RI_discard/US42727J1025.pickle',\n 'data/Niedermayer/processed/RI_discard/US4278255009.pickle',\n 'data/Niedermayer/processed/RI_discard/US4278661081.pickle',\n 'data/Niedermayer/processed/RI_discard/US42809H1077.pickle',\n 'data/Niedermayer/processed/RI_discard/US42824C1099.pickle',\n 'data/Niedermayer/processed/RI_discard/US4282911084.pickle',\n 'data/Niedermayer/processed/RI_discard/US43114K2078.pickle',\n 'data/Niedermayer/processed/RI_discard/US4312841087.pickle',\n 'data/Niedermayer/processed/RI_discard/US4314661012.pickle',\n 'data/Niedermayer/processed/RI_discard/US4314751029.pickle',\n 'data/Niedermayer/processed/RI_discard/US4315711089.pickle',\n 'data/Niedermayer/processed/RI_discard/US4327481010.pickle',\n 'data/Niedermayer/processed/RI_discard/US43283X1054.pickle',\n 'data/Niedermayer/processed/RI_discard/US43300A2033.pickle',\n 'data/Niedermayer/processed/RI_discard/US4368932004.pickle',\n 'data/Niedermayer/processed/RI_discard/US4370761029.pickle',\n 'data/Niedermayer/processed/RI_discard/US4403271046.pickle',\n 'data/Niedermayer/processed/RI_discard/US4404521001.pickle',\n 'data/Niedermayer/processed/RI_discard/US44052W1045.pickle',\n 'data/Niedermayer/processed/RI_discard/US4415931009.pickle',\n 'data/Niedermayer/processed/RI_discard/US4424874018.pickle',\n 'data/Niedermayer/processed/RI_discard/US44267D1072.pickle',\n 'data/Niedermayer/processed/RI_discard/US4432011082.pickle',\n 'data/Niedermayer/processed/RI_discard/US4435106079.pickle',\n 'data/Niedermayer/processed/RI_discard/US4435731009.pickle',\n 'data/Niedermayer/processed/RI_discard/US4440971095.pickle',\n 'data/Niedermayer/processed/RI_discard/US4448591028.pickle',\n 'data/Niedermayer/processed/RI_discard/US4464131063.pickle',\n 'data/Niedermayer/processed/RI_discard/US4470111075.pickle',\n 'data/Niedermayer/processed/RI_discard/US4485791028.pickle',\n 'data/Niedermayer/processed/RI_discard/US4491721050.pickle',\n 'data/Niedermayer/processed/RI_discard/US4492531037.pickle',\n 'data/Niedermayer/processed/RI_discard/US45031U1016.pickle',\n 'data/Niedermayer/processed/RI_discard/US45073V1089.pickle',\n 'data/Niedermayer/processed/RI_discard/US4511071064.pickle',\n 'data/Niedermayer/processed/RI_discard/US45167R1041.pickle',\n 'data/Niedermayer/processed/RI_discard/US4523081093.pickle',\n 'data/Niedermayer/processed/RI_discard/US4534156066.pickle',\n 'data/Niedermayer/processed/RI_discard/US4534403070.pickle',\n 'data/Niedermayer/processed/RI_discard/US45378A1060.pickle',\n 'data/Niedermayer/processed/RI_discard/US4567881085.pickle',\n 'data/Niedermayer/processed/RI_discard/US4568371037.pickle',\n 'data/Niedermayer/processed/RI_discard/US45685L1008.pickle',\n 'data/Niedermayer/processed/RI_discard/US45687V1061.pickle',\n 'data/Niedermayer/processed/RI_discard/US45688C1071.pickle',\n 'data/Niedermayer/processed/RI_discard/US4571871023.pickle',\n 'data/Niedermayer/processed/RI_discard/US4577301090.pickle',\n 'data/Niedermayer/processed/RI_discard/US45774W1080.pickle',\n 'data/Niedermayer/processed/RI_discard/US45778Q1076.pickle',\n 'data/Niedermayer/processed/RI_discard/US4577901030.pickle',\n 'data/Niedermayer/processed/RI_discard/US45780R1014.pickle',\n 'data/Niedermayer/processed/RI_discard/US45781V1017.pickle',\n 'data/Niedermayer/processed/RI_discard/US45784J1051.pickle',\n 'data/Niedermayer/processed/RI_discard/US45816D1000.pickle',\n 'data/Niedermayer/processed/RI_discard/US45866F1049.pickle',\n 'data/Niedermayer/processed/RI_discard/US4592001014.pickle',\n 'data/Niedermayer/processed/RI_discard/US4595061015.pickle',\n 'data/Niedermayer/processed/RI_discard/US4601461035.pickle',\n 'data/Niedermayer/processed/RI_discard/US4606901001.pickle',\n 'data/Niedermayer/processed/RI_discard/US4612031017.pickle',\n 'data/Niedermayer/processed/RI_discard/US46121Y2019.pickle',\n 'data/Niedermayer/processed/RI_discard/US46131B1008.pickle',\n 'data/Niedermayer/processed/RI_discard/US46145F1057.pickle',\n 'data/Niedermayer/processed/RI_discard/US46185L1035.pickle',\n 'data/Niedermayer/processed/RI_discard/US46187W1071.pickle',\n 'data/Niedermayer/processed/RI_discard/US4620442073.pickle',\n 'data/Niedermayer/processed/RI_discard/US46266C1053.pickle',\n 'data/Niedermayer/processed/RI_discard/US46284V1017.pickle',\n 'data/Niedermayer/processed/RI_discard/US46323Q1058.pickle',\n 'data/Niedermayer/processed/RI_discard/US46590V1008.pickle',\n 'data/Niedermayer/processed/RI_discard/US46609J1060.pickle',\n 'data/Niedermayer/processed/RI_discard/US46620W2017.pickle',\n 'data/Niedermayer/processed/RI_discard/US46625H1005.pickle',\n 'data/Niedermayer/processed/RI_discard/US46629U1079.pickle',\n 'data/Niedermayer/processed/RI_discard/US4663131039.pickle',\n 'data/Niedermayer/processed/RI_discard/US4698141078.pickle',\n 'data/Niedermayer/processed/RI_discard/US47009K1079.pickle',\n 'data/Niedermayer/processed/RI_discard/US47103N1063.pickle',\n 'data/Niedermayer/processed/RI_discard/US47233W1099.pickle',\n 'data/Niedermayer/processed/RI_discard/US47580P1030.pickle',\n 'data/Niedermayer/processed/RI_discard/US4778391049.pickle',\n 'data/Niedermayer/processed/RI_discard/US4781601046.pickle',\n 'data/Niedermayer/processed/RI_discard/US48020Q1076.pickle',\n 'data/Niedermayer/processed/RI_discard/US48203R1041.pickle',\n 'data/Niedermayer/processed/RI_discard/US48238T1097.pickle',\n 'data/Niedermayer/processed/RI_discard/US48242W1062.pickle',\n 'data/Niedermayer/processed/RI_discard/US48251K1007.pickle',\n 'data/Niedermayer/processed/RI_discard/US48251W1045.pickle',\n 'data/Niedermayer/processed/RI_discard/US4825641016.pickle',\n 'data/Niedermayer/processed/RI_discard/US48268K1016.pickle',\n 'data/Niedermayer/processed/RI_discard/US48282T1043.pickle',\n 'data/Niedermayer/processed/RI_discard/US4833791035.pickle',\n 'data/Niedermayer/processed/RI_discard/US4835481031.pickle',\n 'data/Niedermayer/processed/RI_discard/US4851703029.pickle',\n 'data/Niedermayer/processed/RI_discard/US48562P1030.pickle',\n 'data/Niedermayer/processed/RI_discard/US48666K1097.pickle',\n 'data/Niedermayer/processed/RI_discard/US4884011002.pickle',\n 'data/Niedermayer/processed/RI_discard/US4891701009.pickle',\n 'data/Niedermayer/processed/RI_discard/US4893981070.pickle',\n 'data/Niedermayer/processed/RI_discard/US4932671088.pickle',\n 'data/Niedermayer/processed/RI_discard/US49338L1035.pickle',\n 'data/Niedermayer/processed/RI_discard/US49427F1084.pickle',\n 'data/Niedermayer/processed/RI_discard/US4943681035.pickle',\n 'data/Niedermayer/processed/RI_discard/US49446R1095.pickle',\n 'data/Niedermayer/processed/RI_discard/US49456B1017.pickle',\n 'data/Niedermayer/processed/RI_discard/US4945801037.pickle',\n 'data/Niedermayer/processed/RI_discard/US4969042021.pickle',\n 'data/Niedermayer/processed/RI_discard/US4972661064.pickle',\n 'data/Niedermayer/processed/RI_discard/US49803T3005.pickle',\n 'data/Niedermayer/processed/RI_discard/US4990491049.pickle',\n 'data/Niedermayer/processed/RI_discard/US49926D1090.pickle',\n 'data/Niedermayer/processed/RI_discard/US5002551043.pickle',\n 'data/Niedermayer/processed/RI_discard/US50050N1037.pickle',\n 'data/Niedermayer/processed/RI_discard/US50060P1066.pickle',\n 'data/Niedermayer/processed/RI_discard/US5006432000.pickle',\n 'data/Niedermayer/processed/RI_discard/US5006881065.pickle',\n 'data/Niedermayer/processed/RI_discard/US50077C1062.pickle',\n 'data/Niedermayer/processed/RI_discard/US5010441013.pickle',\n 'data/Niedermayer/processed/RI_discard/US50105F1057.pickle',\n 'data/Niedermayer/processed/RI_discard/US50155Q1004.pickle',\n 'data/Niedermayer/processed/RI_discard/US50189K1034.pickle',\n 'data/Niedermayer/processed/RI_discard/US5021601043.pickle',\n 'data/Niedermayer/processed/RI_discard/US5021751020.pickle',\n 'data/Niedermayer/processed/RI_discard/US5024131071.pickle',\n 'data/Niedermayer/processed/RI_discard/US5024311095.pickle',\n 'data/Niedermayer/processed/RI_discard/US50420D1081.pickle',\n 'data/Niedermayer/processed/RI_discard/US5053361078.pickle',\n 'data/Niedermayer/processed/RI_discard/US50540R4092.pickle',\n 'data/Niedermayer/processed/RI_discard/US5057431042.pickle',\n 'data/Niedermayer/processed/RI_discard/US5132721045.pickle',\n 'data/Niedermayer/processed/RI_discard/US5160121019.pickle',\n 'data/Niedermayer/processed/RI_discard/US5168062058.pickle',\n 'data/Niedermayer/processed/RI_discard/US5178341070.pickle',\n 'data/Niedermayer/processed/RI_discard/US5179421087.pickle',\n 'data/Niedermayer/processed/RI_discard/US5184391044.pickle',\n 'data/Niedermayer/processed/RI_discard/US52177G1022.pickle',\n 'data/Niedermayer/processed/RI_discard/US5218652049.pickle',\n 'data/Niedermayer/processed/RI_discard/US5246601075.pickle',\n 'data/Niedermayer/processed/RI_discard/US5249011058.pickle',\n 'data/Niedermayer/processed/RI_discard/US5253271028.pickle',\n 'data/Niedermayer/processed/RI_discard/US52567D1072.pickle',\n 'data/Niedermayer/processed/RI_discard/US52603A2087.pickle',\n 'data/Niedermayer/processed/RI_discard/US5261071071.pickle',\n 'data/Niedermayer/processed/RI_discard/US5290431015.pickle',\n 'data/Niedermayer/processed/RI_discard/US5311721048.pickle',\n 'data/Niedermayer/processed/RI_discard/US53190C1027.pickle',\n 'data/Niedermayer/processed/RI_discard/US53223X1072.pickle',\n 'data/Niedermayer/processed/RI_discard/US53228T1016.pickle',\n 'data/Niedermayer/processed/RI_discard/US5324571083.pickle',\n 'data/Niedermayer/processed/RI_discard/US5341871094.pickle',\n 'data/Niedermayer/processed/RI_discard/US5355551061.pickle',\n 'data/Niedermayer/processed/RI_discard/US5380341090.pickle',\n 'data/Niedermayer/processed/RI_discard/US53814L1089.pickle',\n 'data/Niedermayer/processed/RI_discard/US53815P1084.pickle',\n 'data/Niedermayer/processed/RI_discard/US5398301094.pickle',\n 'data/Niedermayer/processed/RI_discard/US5404241086.pickle',\n 'data/Niedermayer/processed/RI_discard/US5463471053.pickle',\n 'data/Niedermayer/processed/RI_discard/US5486611073.pickle',\n 'data/Niedermayer/processed/RI_discard/US5492821013.pickle',\n 'data/Niedermayer/processed/RI_discard/US55003T1079.pickle',\n 'data/Niedermayer/processed/RI_discard/US5502411037.pickle',\n 'data/Niedermayer/processed/RI_discard/US55025L1089.pickle',\n 'data/Niedermayer/processed/RI_discard/US5508191062.pickle',\n 'data/Niedermayer/processed/RI_discard/US55261F1049.pickle',\n 'data/Niedermayer/processed/RI_discard/US55262C1009.pickle',\n 'data/Niedermayer/processed/RI_discard/US5526761086.pickle',\n 'data/Niedermayer/processed/RI_discard/US5526901096.pickle',\n 'data/Niedermayer/processed/RI_discard/US55272X1028.pickle',\n 'data/Niedermayer/processed/RI_discard/US5528481030.pickle',\n 'data/Niedermayer/processed/RI_discard/US5529531015.pickle',\n 'data/Niedermayer/processed/RI_discard/US55303A1051.pickle',\n 'data/Niedermayer/processed/RI_discard/US55305B1017.pickle',\n 'data/Niedermayer/processed/RI_discard/US55345K1034.pickle',\n 'data/Niedermayer/processed/RI_discard/US5534981064.pickle',\n 'data/Niedermayer/processed/RI_discard/US55354G1004.pickle',\n 'data/Niedermayer/processed/RI_discard/US5535731062.pickle',\n 'data/Niedermayer/processed/RI_discard/US5543821012.pickle',\n 'data/Niedermayer/processed/RI_discard/US5544891048.pickle',\n 'data/Niedermayer/processed/RI_discard/US55608B1052.pickle',\n 'data/Niedermayer/processed/RI_discard/US55616P1049.pickle',\n 'data/Niedermayer/processed/RI_discard/US55825T1034.pickle',\n 'data/Niedermayer/processed/RI_discard/US55933J2033.pickle',\n 'data/Niedermayer/processed/RI_discard/US5635714059.pickle',\n 'data/Niedermayer/processed/RI_discard/US56382Q1022.pickle',\n 'data/Niedermayer/processed/RI_discard/US56418H1005.pickle',\n 'data/Niedermayer/processed/RI_discard/US5658491064.pickle',\n 'data/Niedermayer/processed/RI_discard/US56585A1025.pickle',\n 'data/Niedermayer/processed/RI_discard/US5663241090.pickle',\n 'data/Niedermayer/processed/RI_discard/US5663301068.pickle',\n 'data/Niedermayer/processed/RI_discard/US5679081084.pickle',\n 'data/Niedermayer/processed/RI_discard/US5684271084.pickle',\n 'data/Niedermayer/processed/RI_discard/US5705351048.pickle',\n 'data/Niedermayer/processed/RI_discard/US57164Y1073.pickle',\n 'data/Niedermayer/processed/RI_discard/US5717481023.pickle',\n 'data/Niedermayer/processed/RI_discard/US5732841060.pickle',\n 'data/Niedermayer/processed/RI_discard/US5745991068.pickle',\n 'data/Niedermayer/processed/RI_discard/US5763231090.pickle',\n 'data/Niedermayer/processed/RI_discard/US57636Q1040.pickle',\n 'data/Niedermayer/processed/RI_discard/US5764852050.pickle',\n 'data/Niedermayer/processed/RI_discard/US5766901012.pickle',\n 'data/Niedermayer/processed/RI_discard/US57686G1058.pickle',\n 'data/Niedermayer/processed/RI_discard/US5773451019.pickle',\n 'data/Niedermayer/processed/RI_discard/US57778K1051.pickle',\n 'data/Niedermayer/processed/RI_discard/US5779331041.pickle',\n 'data/Niedermayer/processed/RI_discard/US5786051079.pickle',\n 'data/Niedermayer/processed/RI_discard/US5801351017.pickle',\n 'data/Niedermayer/processed/RI_discard/US58039P1075.pickle',\n 'data/Niedermayer/processed/RI_discard/US58155Q1031.pickle',\n 'data/Niedermayer/processed/RI_discard/US5840211099.pickle',\n 'data/Niedermayer/processed/RI_discard/US58409L3069.pickle',\n 'data/Niedermayer/processed/RI_discard/US58463J3041.pickle',\n 'data/Niedermayer/processed/RI_discard/US58470H1014.pickle',\n 'data/Niedermayer/processed/RI_discard/US58502B1061.pickle',\n 'data/Niedermayer/processed/RI_discard/US5860011098.pickle',\n 'data/Niedermayer/processed/RI_discard/US58933Y1055.pickle',\n 'data/Niedermayer/processed/RI_discard/US5894001008.pickle',\n 'data/Niedermayer/processed/RI_discard/US5894331017.pickle',\n 'data/Niedermayer/processed/RI_discard/US58985J1051.pickle',\n 'data/Niedermayer/processed/RI_discard/US59001A1025.pickle',\n 'data/Niedermayer/processed/RI_discard/US59001K1007.pickle',\n 'data/Niedermayer/processed/RI_discard/US5906601068.pickle',\n 'data/Niedermayer/processed/RI_discard/US5906721015.pickle',\n 'data/Niedermayer/processed/RI_discard/US5915202007.pickle',\n 'data/Niedermayer/processed/RI_discard/US59156R1086.pickle',\n 'data/Niedermayer/processed/RI_discard/US5917741044.pickle',\n 'data/Niedermayer/processed/RI_discard/US5926881054.pickle',\n 'data/Niedermayer/processed/RI_discard/US59522J1034.pickle',\n 'data/Niedermayer/processed/RI_discard/US5980391057.pickle',\n 'data/Niedermayer/processed/RI_discard/US59870L1061.pickle',\n 'data/Niedermayer/processed/RI_discard/US6005512040.pickle',\n 'data/Niedermayer/processed/RI_discard/US6031581068.pickle',\n 'data/Niedermayer/processed/RI_discard/US60646V1052.pickle',\n 'data/Niedermayer/processed/RI_discard/US60688N1028.pickle',\n 'data/Niedermayer/processed/RI_discard/US6075251024.pickle',\n 'data/Niedermayer/processed/RI_discard/US6078281002.pickle',\n 'data/Niedermayer/processed/RI_discard/US6081901042.pickle',\n 'data/Niedermayer/processed/RI_discard/US60855R1005.pickle',\n 'data/Niedermayer/processed/RI_discard/US61179L1008.pickle',\n 'data/Niedermayer/processed/RI_discard/US6153691059.pickle',\n 'data/Niedermayer/processed/RI_discard/US6174464486.pickle',\n 'data/Niedermayer/processed/RI_discard/US61945C1036.pickle',\n 'data/Niedermayer/processed/RI_discard/US6200763075.pickle',\n 'data/Niedermayer/processed/RI_discard/US6245801062.pickle',\n 'data/Niedermayer/processed/RI_discard/US6247561029.pickle',\n 'data/Niedermayer/processed/RI_discard/US6247581084.pickle',\n 'data/Niedermayer/processed/RI_discard/US6267171022.pickle',\n 'data/Niedermayer/processed/RI_discard/US6267551025.pickle',\n 'data/Niedermayer/processed/RI_discard/US6284641098.pickle',\n 'data/Niedermayer/processed/RI_discard/US62878D1000.pickle',\n 'data/Niedermayer/processed/RI_discard/US62886E1082.pickle',\n 'data/Niedermayer/processed/RI_discard/US6291564077.pickle',\n 'data/Niedermayer/processed/RI_discard/US6293775085.pickle',\n 'data/Niedermayer/processed/RI_discard/US62944T1051.pickle',\n 'data/Niedermayer/processed/RI_discard/US62955J1034.pickle',\n 'data/Niedermayer/processed/RI_discard/US6337071046.pickle',\n 'data/Niedermayer/processed/RI_discard/US6361801011.pickle',\n 'data/Niedermayer/processed/RI_discard/US63633D1046.pickle',\n ...]"
     },
     "execution_count": 4,
     "metadata": {},
     "output_type": "execute_result"
    }
   ],
   "source": [
    "file_locs"
   ]
  },
  {
   "cell_type": "code",
   "execution_count": 5,
   "metadata": {
    "collapsed": false,
    "execution": {
     "iopub.execute_input": "2022-11-09T14:12:30.515984Z",
     "iopub.status.busy": "2022-11-09T14:12:30.515984Z",
     "iopub.status.idle": "2022-11-09T14:12:31.351983Z",
     "shell.execute_reply": "2022-11-09T14:12:31.351983Z"
    },
    "jupyter": {
     "outputs_hidden": false
    },
    "tags": [],
    "pycharm": {
     "name": "#%%\n"
    }
   },
   "outputs": [
    {
     "name": "stdout",
     "output_type": "stream",
     "text": [
      "Returns\n",
      "concatenate\n"
     ]
    }
   ],
   "source": [
    "print(\"Returns\")\n",
    "returns_df = [c.return_index_df.company_return for c in companies]\n",
    "\n",
    "print(\"concatenate\")\n",
    "df_returns = pd.concat(returns_df, axis=1)\n",
    "df_return_index = pd.concat([c.return_index_df for c in companies], axis=1)\n"
   ]
  },
  {
   "cell_type": "markdown",
   "metadata": {
    "pycharm": {
     "name": "#%% md\n"
    }
   },
   "source": [
    "### Visualise Mean Daily Returns"
   ]
  },
  {
   "cell_type": "code",
   "execution_count": 6,
   "metadata": {
    "collapsed": false,
    "execution": {
     "iopub.execute_input": "2022-11-09T14:12:31.355984Z",
     "iopub.status.busy": "2022-11-09T14:12:31.355984Z",
     "iopub.status.idle": "2022-11-09T14:12:32.612094Z",
     "shell.execute_reply": "2022-11-09T14:12:32.612094Z"
    },
    "jupyter": {
     "outputs_hidden": false
    },
    "pycharm": {
     "name": "#%%\n"
    }
   },
   "outputs": [
    {
     "data": {
      "text/plain": "<Figure size 1440x720 with 1 Axes>",
      "image/png": "[encoded data removed]"
     },
     "metadata": {
      "needs_background": "light"
     },
     "output_type": "display_data"
    },
    {
     "name": "stdout",
     "output_type": "stream",
     "text": [
      "variance of the intervals\n",
      "0.00009286120000000000\n",
      "0.00051536910000000004\n"
     ]
    }
   ],
   "source": [
    "plt.rc('font', family='serif')\n",
    "plt.rc('xtick')\n",
    "plt.rc('ytick')\n",
    "\n",
    "fig = plt.figure(figsize=(fig_height, 10))\n",
    "ax = fig.add_subplot(1, 1, 1)\n",
    "\n",
    "returns_companies = df_returns.mean(axis=1)\n",
    "returns_companies.plot(color=\"k\", linewidth=0.7)\n",
    "\n",
    "ax.set_xlabel('Time (Years)', fontsize=label_size)\n",
    "ax.set_ylabel('Mean Daily Return', fontsize=label_size)\n",
    "ax.set_title('Mean Daily Returns Over Time', fontsize=title_size)\n",
    "plt.xticks(fontsize=tick_size)\n",
    "plt.yticks(fontsize=tick_size)\n",
    "\n",
    "\n",
    "for int_ in interval_borders:\n",
    "    plt.axvline(x = int_, color = 'red', label = 'DD Event time', linewidth = 1)\n",
    "\n",
    "plt.savefig(DATA_LOCATION +\"visualisations/NYSE_daily_returns.svg\", dpi=600, bbox_inches='tight')\n",
    "plt.show()\n",
    "# get var for the intervals\n",
    "print(\"variance of the intervals\")\n",
    "print(f'{round(returns_companies.loc[interval_borders[0]:interval_borders[1]].var(),10):.20f}')\n",
    "print(f'{round(returns_companies.loc[interval_borders[1]:interval_borders[2]].var(), 10):.20f}')\n"
   ]
  },
  {
   "cell_type": "markdown",
   "metadata": {
    "pycharm": {
     "name": "#%% md\n"
    }
   },
   "source": [
    "### Remove companies outside of the timeframe of interest"
   ]
  },
  {
   "cell_type": "code",
   "execution_count": 7,
   "metadata": {
    "collapsed": false,
    "execution": {
     "iopub.execute_input": "2022-11-09T14:12:32.616095Z",
     "iopub.status.busy": "2022-11-09T14:12:32.615095Z",
     "iopub.status.idle": "2022-11-09T14:12:40.403092Z",
     "shell.execute_reply": "2022-11-09T14:12:40.403092Z"
    },
    "jupyter": {
     "outputs_hidden": false
    },
    "pycharm": {
     "name": "#%%\n"
    }
   },
   "outputs": [
    {
     "name": "stderr",
     "output_type": "stream",
     "text": [
      "100%|██████████| 1534/1534 [00:07<00:00, 199.69it/s]"
     ]
    },
    {
     "name": "stdout",
     "output_type": "stream",
     "text": [
      "Total filings: 290664\n",
      "Removed 0 filings\n",
      "Remaining filings: 290664\n"
     ]
    },
    {
     "name": "stderr",
     "output_type": "stream",
     "text": [
      "\n"
     ]
    }
   ],
   "source": [
    "# this is the interval where filings are interesting to us\n",
    "earliest_timestamp = list(investigation_periods.values())[0][0]\n",
    "latest_timestamp = list(investigation_periods.values())[-1][1]\n",
    "filings_removed = 0\n",
    "filings_total = 0\n",
    "\n",
    "for company in tqdm(companies):\n",
    "    insider_data_df = company.insider_data_df\n",
    "    filing_dates = insider_data_df.FilingDate.apply(lambda x: x.floor(\"d\"))\n",
    "    mask = (filing_dates >= earliest_timestamp) & (filing_dates <= latest_timestamp)\n",
    "    company.insider_data_df = company.insider_data_df[mask]\n",
    "    filings_removed += (~mask).sum()\n",
    "    filings_total += mask.shape[0]\n",
    "\n",
    "print(\"Total filings: {}\".format(filings_total))\n",
    "print(\"Removed {} filings\".format(filings_removed))\n",
    "print(\"Remaining filings: {}\".format(filings_total - filings_removed))"
   ]
  },
  {
   "cell_type": "markdown",
   "metadata": {
    "pycharm": {
     "name": "#%% md\n"
    }
   },
   "source": [
    "### Investigate Filing Trade Lag Times"
   ]
  },
  {
   "cell_type": "code",
   "execution_count": 8,
   "metadata": {
    "collapsed": false,
    "execution": {
     "iopub.execute_input": "2022-11-09T14:12:40.406094Z",
     "iopub.status.busy": "2022-11-09T14:12:40.406094Z",
     "iopub.status.idle": "2022-11-09T14:13:16.197093Z",
     "shell.execute_reply": "2022-11-09T14:13:16.197093Z"
    },
    "jupyter": {
     "outputs_hidden": false
    },
    "pycharm": {
     "name": "#%%\n"
    }
   },
   "outputs": [
    {
     "name": "stdout",
     "output_type": "stream",
     "text": [
      "get filing lags ...\n"
     ]
    },
    {
     "name": "stderr",
     "output_type": "stream",
     "text": [
      " 17%|█▋        | 261/1534 [00:06<00:30, 41.69it/s]\n"
     ]
    },
    {
     "ename": "KeyboardInterrupt",
     "evalue": "",
     "output_type": "error",
     "traceback": [
      "\u001B[1;31m---------------------------------------------------------------------------\u001B[0m",
      "\u001B[1;31mAttributeError\u001B[0m                            Traceback (most recent call last)",
      "File \u001B[1;32m~\\.conda\\envs\\IDP\\lib\\site-packages\\pandas\\core\\generic.py:5587\u001B[0m, in \u001B[0;36mNDFrame.__setattr__\u001B[1;34m(self, name, value)\u001B[0m\n\u001B[0;32m   5586\u001B[0m \u001B[38;5;28;01mtry\u001B[39;00m:\n\u001B[1;32m-> 5587\u001B[0m     \u001B[38;5;28;43mobject\u001B[39;49m\u001B[38;5;241;43m.\u001B[39;49m\u001B[38;5;21;43m__getattribute__\u001B[39;49m\u001B[43m(\u001B[49m\u001B[38;5;28;43mself\u001B[39;49m\u001B[43m,\u001B[49m\u001B[43m \u001B[49m\u001B[43mname\u001B[49m\u001B[43m)\u001B[49m\n\u001B[0;32m   5588\u001B[0m     \u001B[38;5;28;01mreturn\u001B[39;00m \u001B[38;5;28mobject\u001B[39m\u001B[38;5;241m.\u001B[39m\u001B[38;5;21m__setattr__\u001B[39m(\u001B[38;5;28mself\u001B[39m, name, value)\n",
      "File \u001B[1;32m~\\.conda\\envs\\IDP\\lib\\site-packages\\pandas\\core\\series.py:638\u001B[0m, in \u001B[0;36mSeries.name\u001B[1;34m(self)\u001B[0m\n\u001B[0;32m    592\u001B[0m \u001B[38;5;124;03m\"\"\"\u001B[39;00m\n\u001B[0;32m    593\u001B[0m \u001B[38;5;124;03mReturn the name of the Series.\u001B[39;00m\n\u001B[0;32m    594\u001B[0m \n\u001B[1;32m   (...)\u001B[0m\n\u001B[0;32m    636\u001B[0m \u001B[38;5;124;03m'Even Numbers'\u001B[39;00m\n\u001B[0;32m    637\u001B[0m \u001B[38;5;124;03m\"\"\"\u001B[39;00m\n\u001B[1;32m--> 638\u001B[0m \u001B[38;5;28;01mreturn\u001B[39;00m \u001B[38;5;28;43mself\u001B[39;49m\u001B[38;5;241;43m.\u001B[39;49m\u001B[43m_name\u001B[49m\n",
      "File \u001B[1;32m~\\.conda\\envs\\IDP\\lib\\site-packages\\pandas\\core\\generic.py:5575\u001B[0m, in \u001B[0;36mNDFrame.__getattr__\u001B[1;34m(self, name)\u001B[0m\n\u001B[0;32m   5574\u001B[0m     \u001B[38;5;28;01mreturn\u001B[39;00m \u001B[38;5;28mself\u001B[39m[name]\n\u001B[1;32m-> 5575\u001B[0m \u001B[38;5;28;01mreturn\u001B[39;00m \u001B[38;5;28;43mobject\u001B[39;49m\u001B[38;5;241;43m.\u001B[39;49m\u001B[38;5;21;43m__getattribute__\u001B[39;49m\u001B[43m(\u001B[49m\u001B[38;5;28;43mself\u001B[39;49m\u001B[43m,\u001B[49m\u001B[43m \u001B[49m\u001B[43mname\u001B[49m\u001B[43m)\u001B[49m\n",
      "\u001B[1;31mAttributeError\u001B[0m: 'Series' object has no attribute '_name'",
      "\nDuring handling of the above exception, another exception occurred:\n",
      "\u001B[1;31mKeyboardInterrupt\u001B[0m                         Traceback (most recent call last)",
      "Input \u001B[1;32mIn [8]\u001B[0m, in \u001B[0;36m<cell line: 4>\u001B[1;34m()\u001B[0m\n\u001B[0;32m      3\u001B[0m lags \u001B[38;5;241m=\u001B[39m []\n\u001B[0;32m      4\u001B[0m \u001B[38;5;28;01mfor\u001B[39;00m company \u001B[38;5;129;01min\u001B[39;00m tqdm(companies):\n\u001B[1;32m----> 5\u001B[0m     lag \u001B[38;5;241m=\u001B[39m \u001B[43mUASC\u001B[49m\u001B[38;5;241;43m.\u001B[39;49m\u001B[43manalyse_single_company\u001B[49m\u001B[43m(\u001B[49m\u001B[43mcompany\u001B[49m\u001B[43m)\u001B[49m\n\u001B[0;32m      6\u001B[0m     lags\u001B[38;5;241m.\u001B[39mappend(lag)\n",
      "File \u001B[1;32m~\\Documents\\GitHub\\InterdisciplinaryProject\\DD_Project\\source\\analyse_single_company.py:37\u001B[0m, in \u001B[0;36manalyse_single_company\u001B[1;34m(company)\u001B[0m\n\u001B[0;32m     31\u001B[0m \u001B[38;5;124;03m'''\u001B[39;00m\n\u001B[0;32m     32\u001B[0m \u001B[38;5;124;03mWrapper for the Analyser class\u001B[39;00m\n\u001B[0;32m     33\u001B[0m \u001B[38;5;124;03m'''\u001B[39;00m\n\u001B[0;32m     35\u001B[0m a \u001B[38;5;241m=\u001B[39m Analyser(company)\n\u001B[1;32m---> 37\u001B[0m \u001B[38;5;28;01mreturn\u001B[39;00m \u001B[43ma\u001B[49m\u001B[38;5;241;43m.\u001B[39;49m\u001B[43manalyse\u001B[49m\u001B[43m(\u001B[49m\u001B[43m)\u001B[49m\n",
      "File \u001B[1;32m~\\Documents\\GitHub\\InterdisciplinaryProject\\DD_Project\\source\\analyse_single_company.py:22\u001B[0m, in \u001B[0;36mAnalyser.analyse\u001B[1;34m(self)\u001B[0m\n\u001B[0;32m     19\u001B[0m \u001B[38;5;66;03m# Take a look at each of the DD Filigns:\u001B[39;00m\n\u001B[0;32m     20\u001B[0m filing_trade_lags \u001B[38;5;241m=\u001B[39m []\n\u001B[1;32m---> 22\u001B[0m \u001B[38;5;28;01mfor\u001B[39;00m index, row \u001B[38;5;129;01min\u001B[39;00m \u001B[38;5;28mself\u001B[39m\u001B[38;5;241m.\u001B[39mcompany\u001B[38;5;241m.\u001B[39minsider_data_df\u001B[38;5;241m.\u001B[39miterrows():\n\u001B[0;32m     23\u001B[0m     \u001B[38;5;66;03m# Read relevant variables\u001B[39;00m\n\u001B[0;32m     24\u001B[0m     filing_trade_lag \u001B[38;5;241m=\u001B[39m row[\u001B[38;5;124m\"\u001B[39m\u001B[38;5;124mFilingDate\u001B[39m\u001B[38;5;124m\"\u001B[39m] \u001B[38;5;241m-\u001B[39m row[\u001B[38;5;124m\"\u001B[39m\u001B[38;5;124mTradeDate\u001B[39m\u001B[38;5;124m\"\u001B[39m]\n\u001B[0;32m     25\u001B[0m     filing_trade_lags\u001B[38;5;241m.\u001B[39mappend(filing_trade_lag\u001B[38;5;241m.\u001B[39mtotal_seconds()\u001B[38;5;241m/\u001B[39m\u001B[38;5;241m60\u001B[39m\u001B[38;5;241m/\u001B[39m\u001B[38;5;241m60\u001B[39m)\n",
      "File \u001B[1;32m~\\.conda\\envs\\IDP\\lib\\site-packages\\pandas\\core\\frame.py:1324\u001B[0m, in \u001B[0;36mDataFrame.iterrows\u001B[1;34m(self)\u001B[0m\n\u001B[0;32m   1322\u001B[0m klass \u001B[38;5;241m=\u001B[39m \u001B[38;5;28mself\u001B[39m\u001B[38;5;241m.\u001B[39m_constructor_sliced\n\u001B[0;32m   1323\u001B[0m \u001B[38;5;28;01mfor\u001B[39;00m k, v \u001B[38;5;129;01min\u001B[39;00m \u001B[38;5;28mzip\u001B[39m(\u001B[38;5;28mself\u001B[39m\u001B[38;5;241m.\u001B[39mindex, \u001B[38;5;28mself\u001B[39m\u001B[38;5;241m.\u001B[39mvalues):\n\u001B[1;32m-> 1324\u001B[0m     s \u001B[38;5;241m=\u001B[39m \u001B[43mklass\u001B[49m\u001B[43m(\u001B[49m\u001B[43mv\u001B[49m\u001B[43m,\u001B[49m\u001B[43m \u001B[49m\u001B[43mindex\u001B[49m\u001B[38;5;241;43m=\u001B[39;49m\u001B[43mcolumns\u001B[49m\u001B[43m,\u001B[49m\u001B[43m \u001B[49m\u001B[43mname\u001B[49m\u001B[38;5;241;43m=\u001B[39;49m\u001B[43mk\u001B[49m\u001B[43m)\u001B[49m\n\u001B[0;32m   1325\u001B[0m     \u001B[38;5;28;01myield\u001B[39;00m k, s\n",
      "File \u001B[1;32m~\\.conda\\envs\\IDP\\lib\\site-packages\\pandas\\core\\series.py:460\u001B[0m, in \u001B[0;36mSeries.__init__\u001B[1;34m(self, data, index, dtype, name, copy, fastpath)\u001B[0m\n\u001B[0;32m    457\u001B[0m             data \u001B[38;5;241m=\u001B[39m SingleArrayManager\u001B[38;5;241m.\u001B[39mfrom_array(data, index)\n\u001B[0;32m    459\u001B[0m NDFrame\u001B[38;5;241m.\u001B[39m\u001B[38;5;21m__init__\u001B[39m(\u001B[38;5;28mself\u001B[39m, data)\n\u001B[1;32m--> 460\u001B[0m \u001B[38;5;28mself\u001B[39m\u001B[38;5;241m.\u001B[39mname \u001B[38;5;241m=\u001B[39m name\n\u001B[0;32m    461\u001B[0m \u001B[38;5;28mself\u001B[39m\u001B[38;5;241m.\u001B[39m_set_axis(\u001B[38;5;241m0\u001B[39m, index, fastpath\u001B[38;5;241m=\u001B[39m\u001B[38;5;28;01mTrue\u001B[39;00m)\n",
      "File \u001B[1;32m~\\.conda\\envs\\IDP\\lib\\site-packages\\pandas\\core\\generic.py:5589\u001B[0m, in \u001B[0;36mNDFrame.__setattr__\u001B[1;34m(self, name, value)\u001B[0m\n\u001B[0;32m   5587\u001B[0m     \u001B[38;5;28mobject\u001B[39m\u001B[38;5;241m.\u001B[39m\u001B[38;5;21m__getattribute__\u001B[39m(\u001B[38;5;28mself\u001B[39m, name)\n\u001B[0;32m   5588\u001B[0m     \u001B[38;5;28;01mreturn\u001B[39;00m \u001B[38;5;28mobject\u001B[39m\u001B[38;5;241m.\u001B[39m\u001B[38;5;21m__setattr__\u001B[39m(\u001B[38;5;28mself\u001B[39m, name, value)\n\u001B[1;32m-> 5589\u001B[0m \u001B[38;5;28;01mexcept\u001B[39;00m \u001B[38;5;167;43;01mAttributeError\u001B[39;49;00m:\n\u001B[0;32m   5590\u001B[0m     \u001B[38;5;28;01mpass\u001B[39;00m\n\u001B[0;32m   5592\u001B[0m \u001B[38;5;66;03m# if this fails, go on to more involved attribute setting\u001B[39;00m\n\u001B[0;32m   5593\u001B[0m \u001B[38;5;66;03m# (note that this matches __getattr__, above).\u001B[39;00m\n",
      "\u001B[1;31mKeyboardInterrupt\u001B[0m: "
     ]
    }
   ],
   "source": [
    "print(\"get filing lags ...\")\n",
    "\n",
    "lags = []\n",
    "for company in tqdm(companies):\n",
    "    lag = UASC.analyse_single_company(company)\n",
    "    lags.append(lag)\n"
   ]
  },
  {
   "cell_type": "code",
   "execution_count": null,
   "metadata": {
    "collapsed": false,
    "execution": {
     "iopub.execute_input": "2022-11-09T14:13:16.200095Z",
     "iopub.status.busy": "2022-11-09T14:13:16.199093Z",
     "iopub.status.idle": "2022-11-09T14:13:19.764093Z",
     "shell.execute_reply": "2022-11-09T14:13:19.764093Z"
    },
    "jupyter": {
     "outputs_hidden": false
    },
    "pycharm": {
     "name": "#%%\n"
    }
   },
   "outputs": [],
   "source": [
    "filing_trade_lags = sum(lags, [])\n",
    "\n",
    "lag_in_hours = np.asarray(filing_trade_lags)\n",
    "negative_lag_mask = lag_in_hours < 0\n",
    "positive_lag = lag_in_hours[~negative_lag_mask]\n",
    "in_21_days = positive_lag < 21*24\n",
    "relevant_lag = positive_lag[in_21_days]\n",
    "print(f\"Negative lag for {negative_lag_mask.sum()} out of {len(negative_lag_mask)} trades.\")\n",
    "print(f\"Lag longer than 21 days for {len(positive_lag) - len(relevant_lag)} out of {len(negative_lag_mask)} trades.\")\n",
    "print(f\"Eligible trades: {len(relevant_lag)} out of {len(negative_lag_mask)} trades.\")\n",
    "\n",
    "fig = plt.figure(figsize=(fig_height, 7))\n",
    "ax = fig.add_subplot(1, 1, 1)\n",
    "plt.hist(np.log(positive_lag), bins=\"auto\")\n",
    "ax.set_xlabel('Time (Log(Hours))', fontsize=label_size)\n",
    "ax.set_ylabel('Trades', fontsize=label_size)\n",
    "ax.set_title('Distribution of Log Lag Times between Filing and Trade', fontsize=title_size)\n",
    "\n",
    "plt.xticks(fontsize=tick_size)\n",
    "plt.yticks(fontsize=tick_size)\n",
    "\n",
    "plt.axvline(x = 0, color = 'red', label = 'Zero', linewidth = 1)\n",
    "plt.axvline(x = np.log(21*24), color = 'red', label = 'Threshold', linewidth = 1)\n",
    "plt.savefig(DATA_LOCATION +\"visualisations/log_transformed_lags.svg\", dpi=600, bbox_inches='tight')\n",
    "plt.show()\n",
    "\n",
    "without_outliers = positive_lag[positive_lag < 24*21]\n",
    "\n",
    "fig = plt.figure(figsize=(fig_height, 5))\n",
    "ax = fig.add_subplot(1, 1, 1)\n",
    "plt.hist(without_outliers, bins=\"auto\")\n",
    "plt.xticks(np.arange(0, max(without_outliers) + 1, 24))\n",
    "ax.set_xlabel('Time (Hours)', fontsize=label_size)\n",
    "ax.set_ylabel('Trades', fontsize=label_size)\n",
    "ax.set_title('Distribution of Lag Times between Filing and Trade', fontsize=title_size)\n",
    "\n",
    "plt.xticks(fontsize=tick_size)\n",
    "plt.yticks(fontsize=tick_size)\n",
    "\n",
    "plt.savefig(DATA_LOCATION +\"visualisations/lags_without_outliers.svg\", dpi=600, bbox_inches='tight')\n",
    "plt.show()"
   ]
  },
  {
   "cell_type": "markdown",
   "metadata": {
    "pycharm": {
     "name": "#%% md\n"
    }
   },
   "source": [
    "### Drop companies with lags longer than 21 days or negative lags"
   ]
  },
  {
   "cell_type": "code",
   "execution_count": null,
   "metadata": {
    "collapsed": false,
    "execution": {
     "iopub.execute_input": "2022-11-09T14:13:19.768095Z",
     "iopub.status.busy": "2022-11-09T14:13:19.768095Z",
     "iopub.status.idle": "2022-11-09T14:13:20.194092Z",
     "shell.execute_reply": "2022-11-09T14:13:20.194092Z"
    },
    "jupyter": {
     "outputs_hidden": false
    },
    "pycharm": {
     "name": "#%%\n"
    }
   },
   "outputs": [],
   "source": [
    "removed_lags = 0\n",
    "remaining_lags = 0\n",
    "\n",
    "for lags_c, company in tqdm(zip(lags, companies)):\n",
    "    lags_c = np.asarray(lags_c)\n",
    "    mask_eligible = (lags_c >= 0) & (lags_c <= 21*24)\n",
    "    company.insider_data_df = company.insider_data_df[mask_eligible]\n",
    "    removed_lags += (~mask_eligible).sum()\n",
    "    remaining_lags += mask_eligible.sum()\n",
    "\n",
    "print(f\"Total trades: {removed_lags + remaining_lags}\")\n",
    "print(f\"Removed {removed_lags} trades.\")\n",
    "print(f\"Remaining {remaining_lags} trades.\")\n"
   ]
  },
  {
   "cell_type": "markdown",
   "metadata": {
    "pycharm": {
     "name": "#%% md\n"
    }
   },
   "source": []
  },
  {
   "cell_type": "markdown",
   "metadata": {
    "pycharm": {
     "name": "#%% md\n"
    }
   },
   "source": [
    "## Demonstrate process for a single event"
   ]
  },
  {
   "cell_type": "markdown",
   "metadata": {
    "pycharm": {
     "name": "#%% md\n"
    }
   },
   "source": [
    "### Define windows\n",
    "\n",
    "#### Our data contains multiple companies. A single company contains multiple filings and each filing is an event\n",
    "\n",
    "![alt text](assets/images/windows.png \"Title\")"
   ]
  },
  {
   "cell_type": "code",
   "execution_count": null,
   "metadata": {
    "collapsed": false,
    "execution": {
     "iopub.execute_input": "2022-11-09T14:13:20.197094Z",
     "iopub.status.busy": "2022-11-09T14:13:20.197094Z",
     "iopub.status.idle": "2022-11-09T14:13:20.210113Z",
     "shell.execute_reply": "2022-11-09T14:13:20.210113Z"
    },
    "jupyter": {
     "outputs_hidden": false
    },
    "pycharm": {
     "name": "#%%\n"
    }
   },
   "outputs": [],
   "source": [
    "## Constants defining how long both Estimation Window and Event Window are\n",
    "### Probably also input parameters to a function call, as we need loops later...\n",
    "L1_length = 100\n",
    "L2_length = 41 # TODO +-20 days = 40 days, right?\n",
    "L2_length = L2_length -1 # this is so our calculation works as before, could be done cleaner"
   ]
  },
  {
   "cell_type": "markdown",
   "metadata": {
    "pycharm": {
     "name": "#%% md\n"
    }
   },
   "source": [
    "## Calculate ARs\n",
    "\n",
    "### Now that we have seen the process for one single filing, let us do the same for all filings in all companies\n"
   ]
  },
  {
   "cell_type": "code",
   "execution_count": null,
   "metadata": {
    "execution": {
     "iopub.execute_input": "2022-11-09T14:13:20.213113Z",
     "iopub.status.busy": "2022-11-09T14:13:20.213113Z",
     "iopub.status.idle": "2022-11-09T14:19:47.756765Z",
     "shell.execute_reply": "2022-11-09T14:19:47.756765Z"
    },
    "pycharm": {
     "name": "#%%\n"
    }
   },
   "outputs": [],
   "source": [
    "# Initialize testing\n",
    "logging.getLogger().setLevel(logging.ERROR)\n",
    "# Helpers\n",
    "multiind, data, data_errors = [], [], []\n",
    "estimation_window_market_return_list, event_window_market_return_list, eps_list = [], [], []\n",
    "n_companies = len(companies)\n",
    "\n",
    "\n",
    "#for j in tqdm(range(len(companies[:200]))):\n",
    "for j in tqdm(range(len(companies))):\n",
    "    # Get information from said company\n",
    "    company = companies[j]\n",
    "    company_return = company.return_index_df\n",
    "    \n",
    "    n_filings = len(company.insider_data_df)\n",
    "    # Go through all filings\n",
    "    for i in company.insider_data_df.FilingDate.index:\n",
    "\n",
    "        # Find our event date from filing\n",
    "        filing_date = company.insider_data_df.FilingDate[i]\n",
    "        event_timestamp = filing_date.floor(\"d\")\n",
    "\n",
    "        checks = data_checks.run(L1_length, L2_length, event_timestamp, company_return)\n",
    "        if checks:\n",
    "            #print(checks[1])\n",
    "            data_errors.append(checks[0])\n",
    "            continue\n",
    "   \n",
    "        ## Proceed to find periods\n",
    "        T0_, T1_, T2_, T0, T1, T2, ERRORS, msg = determine_T0_T1_T2.run(L1_length, L2_length, event_timestamp, company_return)\n",
    "        if ERRORS:\n",
    "            #print(msg)\n",
    "            data_errors.append(ERRORS)\n",
    "            continue\n",
    "            \n",
    "        ## Cut timeseries to the relevant periods, and split them\n",
    "        windows = cut_timeseries.run(company_return, T0, T1, T2)\n",
    "        estimation_window_market_return, estimation_window_company_return,event_window_market_return, event_window_company_return = windows\n",
    "        alpha, beta, eps = calculate_coefficients.run(estimation_window_market_return, estimation_window_company_return) # TODO change back to calculate_coefficients.run or check validity\n",
    "        ## Calculate the abnormal returns\n",
    "        abnormal_return = event_window_company_return - alpha - beta*event_window_market_return\n",
    "        \n",
    "        ## Append to results\n",
    "        estimation_window_market_return_list.append(estimation_window_market_return)\n",
    "        event_window_market_return_list.append(event_window_market_return)\n",
    "        eps_list.append(eps)\n",
    "        multiind.append((company.ticker, i, company.insider_data_df.TradeType[i], event_timestamp))\n",
    "        data.append(abnormal_return)"
   ]
  },
  {
   "cell_type": "code",
   "execution_count": null,
   "metadata": {
    "execution": {
     "iopub.execute_input": "2022-11-09T14:19:47.759768Z",
     "iopub.status.busy": "2022-11-09T14:19:47.759768Z",
     "iopub.status.idle": "2022-11-09T14:20:18.701785Z",
     "shell.execute_reply": "2022-11-09T14:20:18.701785Z"
    },
    "pycharm": {
     "name": "#%%\n"
    }
   },
   "outputs": [],
   "source": [
    "# process and save abnormal returns\n",
    "df_abnormal_returns = pd.DataFrame.from_records([d.reset_index(drop=True) for d in data])\n",
    "df_abnormal_returns.index = pd.MultiIndex.from_tuples(multiind, names=[\"Company\", \"i\", \"TradeType\", \"event_timestamp\"])"
   ]
  },
  {
   "cell_type": "code",
   "execution_count": null,
   "metadata": {
    "execution": {
     "iopub.execute_input": "2022-11-09T14:20:18.704789Z",
     "iopub.status.busy": "2022-11-09T14:20:18.704789Z",
     "iopub.status.idle": "2022-11-09T14:20:18.956785Z",
     "shell.execute_reply": "2022-11-09T14:20:18.956785Z"
    },
    "pycharm": {
     "name": "#%%\n"
    }
   },
   "outputs": [],
   "source": [
    "df_abnormal_returns"
   ]
  },
  {
   "cell_type": "code",
   "execution_count": null,
   "metadata": {
    "collapsed": false,
    "execution": {
     "iopub.execute_input": "2022-11-09T14:20:18.959787Z",
     "iopub.status.busy": "2022-11-09T14:20:18.959787Z",
     "iopub.status.idle": "2022-11-09T14:20:49.910386Z",
     "shell.execute_reply": "2022-11-09T14:20:49.910386Z"
    },
    "jupyter": {
     "outputs_hidden": false
    },
    "pycharm": {
     "name": "#%%\n"
    }
   },
   "outputs": [],
   "source": [
    "df_estimation_window_market_return = pd.DataFrame.from_records([d.reset_index(drop=True) for d in estimation_window_market_return_list])\n",
    "df_estimation_window_market_return.index = pd.MultiIndex.from_tuples(multiind, names=[\"Company\", \"i\", \"TradeType\", \"event_timestamp\"])"
   ]
  },
  {
   "cell_type": "code",
   "execution_count": null,
   "metadata": {
    "collapsed": false,
    "execution": {
     "iopub.execute_input": "2022-11-09T14:20:49.913396Z",
     "iopub.status.busy": "2022-11-09T14:20:49.913396Z",
     "iopub.status.idle": "2022-11-09T14:21:20.364413Z",
     "shell.execute_reply": "2022-11-09T14:21:20.364413Z"
    },
    "jupyter": {
     "outputs_hidden": false
    },
    "pycharm": {
     "name": "#%%\n"
    }
   },
   "outputs": [],
   "source": [
    "df_event_window_market_return = pd.DataFrame.from_records([d.reset_index(drop=True) for d in event_window_market_return_list])\n",
    "df_event_window_market_return.index = pd.MultiIndex.from_tuples(multiind, names=[\"Company\", \"i\", \"TradeType\", \"event_timestamp\"])"
   ]
  },
  {
   "cell_type": "code",
   "execution_count": null,
   "metadata": {
    "collapsed": false,
    "execution": {
     "iopub.execute_input": "2022-11-09T14:21:20.367414Z",
     "iopub.status.busy": "2022-11-09T14:21:20.367414Z",
     "iopub.status.idle": "2022-11-09T14:21:51.664931Z",
     "shell.execute_reply": "2022-11-09T14:21:51.664931Z"
    },
    "jupyter": {
     "outputs_hidden": false
    },
    "pycharm": {
     "name": "#%%\n"
    }
   },
   "outputs": [],
   "source": [
    "df_eps = pd.DataFrame.from_records([d.reset_index(drop=True) for d in eps_list])\n",
    "df_eps.index = pd.MultiIndex.from_tuples(multiind, names=[\"Company\", \"i\", \"TradeType\", \"event_timestamp\"])"
   ]
  },
  {
   "cell_type": "markdown",
   "metadata": {
    "pycharm": {
     "name": "#%% md\n"
    }
   },
   "source": [
    "### Show the reasons filings were dropped"
   ]
  },
  {
   "cell_type": "code",
   "execution_count": null,
   "metadata": {
    "execution": {
     "iopub.execute_input": "2022-11-09T14:21:51.668931Z",
     "iopub.status.busy": "2022-11-09T14:21:51.667934Z",
     "iopub.status.idle": "2022-11-09T14:21:51.680931Z",
     "shell.execute_reply": "2022-11-09T14:21:51.680931Z"
    },
    "pycharm": {
     "name": "#%%\n"
    }
   },
   "outputs": [],
   "source": [
    "errors_df = pd.DataFrame.from_records(data_errors)\n",
    "errors_agg = errors_df.sum(axis=0)"
   ]
  },
  {
   "cell_type": "code",
   "execution_count": null,
   "metadata": {
    "execution": {
     "iopub.execute_input": "2022-11-09T14:21:51.683934Z",
     "iopub.status.busy": "2022-11-09T14:21:51.682932Z",
     "iopub.status.idle": "2022-11-09T14:21:51.696931Z",
     "shell.execute_reply": "2022-11-09T14:21:51.696931Z"
    },
    "pycharm": {
     "name": "#%%\n"
    }
   },
   "outputs": [],
   "source": [
    "# add earlier filtering\n",
    "errors_agg[\"event not in overall time frame\"] = filings_removed\n",
    "errors_agg[\"negative lags\"] = negative_lag_mask.sum()\n",
    "errors_agg[\"more than 21 days lag\"] = len(positive_lag) - len(relevant_lag)"
   ]
  },
  {
   "cell_type": "code",
   "execution_count": null,
   "metadata": {
    "execution": {
     "iopub.execute_input": "2022-11-09T14:21:51.700931Z",
     "iopub.status.busy": "2022-11-09T14:21:51.699935Z",
     "iopub.status.idle": "2022-11-09T14:21:51.712931Z",
     "shell.execute_reply": "2022-11-09T14:21:51.712931Z"
    },
    "pycharm": {
     "name": "#%%\n"
    }
   },
   "outputs": [],
   "source": [
    "errors_agg = pd.DataFrame(errors_agg)\n",
    "errors_agg.index.name = \"Reason\"\n",
    "errors_agg.columns = [\"Count\"]"
   ]
  },
  {
   "cell_type": "code",
   "execution_count": null,
   "metadata": {
    "collapsed": false,
    "execution": {
     "iopub.execute_input": "2022-11-09T14:21:51.715934Z",
     "iopub.status.busy": "2022-11-09T14:21:51.715934Z",
     "iopub.status.idle": "2022-11-09T14:21:52.540931Z",
     "shell.execute_reply": "2022-11-09T14:21:52.540931Z"
    },
    "jupyter": {
     "outputs_hidden": false
    },
    "pycharm": {
     "name": "#%%\n"
    }
   },
   "outputs": [],
   "source": [
    "print(errors_agg.astype(int).reset_index().to_latex(index=False))"
   ]
  },
  {
   "cell_type": "code",
   "execution_count": null,
   "metadata": {
    "execution": {
     "iopub.execute_input": "2022-11-09T14:21:52.543933Z",
     "iopub.status.busy": "2022-11-09T14:21:52.543933Z",
     "iopub.status.idle": "2022-11-09T14:21:52.556932Z",
     "shell.execute_reply": "2022-11-09T14:21:52.556932Z"
    },
    "pycharm": {
     "name": "#%%\n"
    }
   },
   "outputs": [],
   "source": [
    "print(errors_agg.sum())"
   ]
  },
  {
   "cell_type": "code",
   "execution_count": null,
   "metadata": {
    "collapsed": false,
    "execution": {
     "iopub.execute_input": "2022-11-09T14:21:52.559934Z",
     "iopub.status.busy": "2022-11-09T14:21:52.558932Z",
     "iopub.status.idle": "2022-11-09T14:21:53.557931Z",
     "shell.execute_reply": "2022-11-09T14:21:53.557931Z"
    },
    "jupyter": {
     "outputs_hidden": false
    },
    "pycharm": {
     "name": "#%%\n"
    }
   },
   "outputs": [],
   "source": [
    "# if dir does not exist creat it\n",
    "if not os.path.exists(f\"data/{NAME}/calculate_AR_results/\"):\n",
    "    os.mkdir(f\"data/{NAME}/calculate_AR_results/\")\n",
    "\n",
    "\n",
    "df_abnormal_returns.to_pickle(f\"data/{NAME}/calculate_AR_results/df_abnormal_returns.pkl\")\n",
    "df_estimation_window_market_return.to_pickle(f\"data/{NAME}/calculate_AR_results/df_estimation_window_market_return.pkl\")\n",
    "df_event_window_market_return.to_pickle(f\"data/{NAME}/calculate_AR_results/df_event_window_market_return.pkl\")\n",
    "df_eps.to_pickle(f\"data/{NAME}/calculate_AR_results/df_eps.pkl\")\n",
    "\n",
    "with open(f\"data/{NAME}/calculate_AR_results/companies.pkl\", \"wb\") as f:\n",
    "    pickle.dump(companies, f)"
   ]
  }
 ],
 "metadata": {
  "kernelspec": {
   "display_name": "Python 3 (ipykernel)",
   "language": "python",
   "name": "python3"
  },
  "language_info": {
   "codemirror_mode": {
    "name": "ipython",
    "version": 3
   },
   "file_extension": ".py",
   "mimetype": "text/x-python",
   "name": "python",
   "nbconvert_exporter": "python",
   "pygments_lexer": "ipython3",
   "version": "3.8.10"
  },
  "pycharm": {
   "stem_cell": {
    "cell_type": "raw",
    "metadata": {
     "collapsed": false
    },
    "source": []
   }
  },
  "toc-autonumbering": false
 },
 "nbformat": 4,
 "nbformat_minor": 4
}