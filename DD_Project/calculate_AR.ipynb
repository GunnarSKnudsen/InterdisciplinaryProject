{
 "cells": [
  {
   "cell_type": "markdown",
   "metadata": {},
   "source": [
    "# Notebook for analyzing Insider tradings and the effects on stock prices\n",
    "Written by Thomas Niedermayer and Gunnar Sjúrðarson Knudsen, as a conjoined effort for an interdiscplinary project in Data Science.\n",
    "\n",
    "Supervisor: Wolfgang Aussenegg\n",
    "\n",
    "Co-Supervisor: Sascha Hunold\n",
    "\n",
    "Purpose of this notebook is XXX\n",
    "\n",
    "## Remaining todos:\n",
    "* Create README.md and add a diagram of the project\n",
    "* T1_ vs T1!!!\n",
    "* A lot!\n",
    "* Figure out which custom functions we are still using\n",
    "* Figure out if different hypotheses should be tested based on \"NAME\" - or do both do all analysis?\n",
    "* Refactor - we have data locations in two different varialbes (CAPS and preceeding underscore)\n",
    "* I MIGHT have deleted too much from data_checks.run\n",
    "* Currently have two different datasets for the ReturnIndex data - with (linear) interpolation, as well as skipping rows that don't exist in market and company.\n",
    "* Figure out what to do, when event date not in the dataset. Could still \"just\" do closest possible, provided that trades occur around the date.\n",
    "* What do we do when tickers are non-unique!? I think this is a nasty that breaks more than we know\n",
    "* document get_all_directors_dealings_async\n",
    "* Are outliers \"Significant\"? Wilcoxon compared to t-test\n",
    "\n",
    "#### Ask Prof. Aussenegg\n",
    "* Is it fair to compare like before pandemic with during pandemic? when there is an estimation window in the pre pandemic time and the event window is in the pandemic time\n",
    "* Are we allowed to persist and upload the preprocessed data for this study?"
   ]
  },
  {
   "cell_type": "markdown",
   "metadata": {},
   "source": [
    "### Hypotheses\n",
    "\n",
    "#### Gunnar\n",
    "\n",
    "1. Hypothesis 1: Insiders are able to earn significant abnormal returns in the first\n",
    "weeks after disclosure.\n",
    "2. Hypothesis 2: Trades of type “Purchase” are most explaining of abnormal return.\n",
    "“Sale” less so, and “Sale + Option” does not have an effect.\n",
    "3. Hypothesis 3: Directors have changed behaviour during the times of Covid.\n",
    "\n",
    "#### Tom\n",
    "\n",
    "1. Hypothesis 1: Insiders are able to earn significant abnormal returns in\n",
    "the first weeks after disclosure of relevant information.\n",
    "2. Hypothesis 2: Insiders are significantly good at avoiding risk indicated\n",
    "by market downturns after insiders selling shares.\n",
    "3. Hypothesis 3: Directors have changed behaviour during the times of\n",
    "covid: Hypotheses 1 and 2 can be answered with significantly different\n",
    "confidence before and during the pandemic.\n",
    "\n"
   ]
  },
  {
   "cell_type": "markdown",
   "metadata": {},
   "source": [
    "## Setup"
   ]
  },
  {
   "cell_type": "markdown",
   "metadata": {},
   "source": [
    "### Define which analysis is run\n",
    "Add a name here. This affects which data is read in, as well as which analysis are done?"
   ]
  },
  {
   "cell_type": "code",
   "execution_count": 1,
   "metadata": {
    "collapsed": false,
    "execution": {
     "iopub.execute_input": "2022-11-04T23:47:33.901191Z",
     "iopub.status.busy": "2022-11-04T23:47:33.900190Z",
     "iopub.status.idle": "2022-11-04T23:47:33.910703Z",
     "shell.execute_reply": "2022-11-04T23:47:33.910703Z"
    },
    "jupyter": {
     "outputs_hidden": false
    },
    "tags": []
   },
   "outputs": [],
   "source": [
    "from tools import load_settings\n",
    "settings = load_settings()\n",
    "NAME = settings[\"NAME\"]"
   ]
  },
  {
   "cell_type": "markdown",
   "metadata": {},
   "source": [
    "### Load Libraries"
   ]
  },
  {
   "cell_type": "code",
   "execution_count": 2,
   "metadata": {
    "collapsed": false,
    "execution": {
     "iopub.execute_input": "2022-11-04T23:47:33.913703Z",
     "iopub.status.busy": "2022-11-04T23:47:33.913703Z",
     "iopub.status.idle": "2022-11-04T23:47:36.643996Z",
     "shell.execute_reply": "2022-11-04T23:47:36.643996Z"
    },
    "jupyter": {
     "outputs_hidden": false
    },
    "tags": []
   },
   "outputs": [],
   "source": [
    "# Standard libraries\n",
    "import pickle\n",
    "import pandas as pd\n",
    "import numpy as np\n",
    "from matplotlib import pyplot as plt\n",
    "import os\n",
    "from tqdm import tqdm\n",
    "from scipy import stats\n",
    "\n",
    "\n",
    "# custom functions\n",
    "import source.analyse_single_company as UASC\n",
    "from source import data_checks, determine_T0_T1_T2, cut_timeseries, calculate_coefficients\n",
    "import logging\n",
    "\n",
    "logging.getLogger().setLevel(logging.WARNING)\n",
    "\n",
    "#plt.style.use(\"seaborn\")"
   ]
  },
  {
   "cell_type": "markdown",
   "metadata": {},
   "source": [
    "### Read in the data"
   ]
  },
  {
   "cell_type": "code",
   "execution_count": 3,
   "metadata": {
    "collapsed": false,
    "execution": {
     "iopub.execute_input": "2022-11-04T23:47:36.647997Z",
     "iopub.status.busy": "2022-11-04T23:47:36.646996Z",
     "iopub.status.idle": "2022-11-04T23:47:46.676582Z",
     "shell.execute_reply": "2022-11-04T23:47:46.676582Z"
    },
    "jupyter": {
     "outputs_hidden": false
    },
    "tags": []
   },
   "outputs": [
    {
     "data": {
      "text/html": [
       "<div>\n",
       "<style scoped>\n",
       "    .dataframe tbody tr th:only-of-type {\n",
       "        vertical-align: middle;\n",
       "    }\n",
       "\n",
       "    .dataframe tbody tr th {\n",
       "        vertical-align: top;\n",
       "    }\n",
       "\n",
       "    .dataframe thead th {\n",
       "        text-align: right;\n",
       "    }\n",
       "</style>\n",
       "<table border=\"1\" class=\"dataframe\">\n",
       "  <thead>\n",
       "    <tr style=\"text-align: right;\">\n",
       "      <th></th>\n",
       "      <th>ISIN CODE</th>\n",
       "      <th>NAME</th>\n",
       "      <th>TICKER SYMBOL</th>\n",
       "      <th>trade_count</th>\n",
       "      <th>n_distinct_traders</th>\n",
       "      <th>n_distinct_trade_types</th>\n",
       "      <th>ts_rows</th>\n",
       "      <th>reason_to_exclude</th>\n",
       "    </tr>\n",
       "  </thead>\n",
       "  <tbody>\n",
       "    <tr>\n",
       "      <th>764</th>\n",
       "      <td>US35953D1046</td>\n",
       "      <td>FUBOTV</td>\n",
       "      <td>FUBO</td>\n",
       "      <td>40</td>\n",
       "      <td>8</td>\n",
       "      <td>7</td>\n",
       "      <td>1509.0</td>\n",
       "      <td>Faulty timeseries data</td>\n",
       "    </tr>\n",
       "    <tr>\n",
       "      <th>954</th>\n",
       "      <td>US46124J2015</td>\n",
       "      <td>INVENTRUST PROPERTIES</td>\n",
       "      <td>IVT</td>\n",
       "      <td>4</td>\n",
       "      <td>4</td>\n",
       "      <td>1</td>\n",
       "      <td>1509.0</td>\n",
       "      <td>Faulty timeseries data</td>\n",
       "    </tr>\n",
       "    <tr>\n",
       "      <th>1939</th>\n",
       "      <td>NaN</td>\n",
       "      <td>ABOVENET 'B'</td>\n",
       "      <td>ABVT</td>\n",
       "      <td>179</td>\n",
       "      <td>21</td>\n",
       "      <td>10</td>\n",
       "      <td>824.0</td>\n",
       "      <td>Missing ISIN</td>\n",
       "    </tr>\n",
       "    <tr>\n",
       "      <th>2093</th>\n",
       "      <td>NaN</td>\n",
       "      <td>ATHENA CONSUMER ACQUISITION CL B</td>\n",
       "      <td>ACAQ</td>\n",
       "      <td>1</td>\n",
       "      <td>1</td>\n",
       "      <td>1</td>\n",
       "      <td>824.0</td>\n",
       "      <td>Missing ISIN</td>\n",
       "    </tr>\n",
       "    <tr>\n",
       "      <th>2062</th>\n",
       "      <td>NaN</td>\n",
       "      <td>ARCTIC CAT 'B' DEAD - 07/03/17</td>\n",
       "      <td>ACAT</td>\n",
       "      <td>446</td>\n",
       "      <td>33</td>\n",
       "      <td>8</td>\n",
       "      <td>824.0</td>\n",
       "      <td>Missing ISIN</td>\n",
       "    </tr>\n",
       "    <tr>\n",
       "      <th>...</th>\n",
       "      <td>...</td>\n",
       "      <td>...</td>\n",
       "      <td>...</td>\n",
       "      <td>...</td>\n",
       "      <td>...</td>\n",
       "      <td>...</td>\n",
       "      <td>...</td>\n",
       "      <td>...</td>\n",
       "    </tr>\n",
       "    <tr>\n",
       "      <th>1057</th>\n",
       "      <td>US53228T1016</td>\n",
       "      <td>LIGHTNING EMOTORS</td>\n",
       "      <td>ZEV</td>\n",
       "      <td>16</td>\n",
       "      <td>13</td>\n",
       "      <td>5</td>\n",
       "      <td>430.0</td>\n",
       "      <td>None</td>\n",
       "    </tr>\n",
       "    <tr>\n",
       "      <th>3636</th>\n",
       "      <td>US98979J1097</td>\n",
       "      <td>ZOES KITCHEN DEAD - DELIST.21/11/18</td>\n",
       "      <td>ZOES</td>\n",
       "      <td>87</td>\n",
       "      <td>17</td>\n",
       "      <td>8</td>\n",
       "      <td>675.0</td>\n",
       "      <td>None</td>\n",
       "    </tr>\n",
       "    <tr>\n",
       "      <th>1923</th>\n",
       "      <td>US98978V1035</td>\n",
       "      <td>ZOETIS A</td>\n",
       "      <td>ZTS</td>\n",
       "      <td>499</td>\n",
       "      <td>34</td>\n",
       "      <td>8</td>\n",
       "      <td>1509.0</td>\n",
       "      <td>None</td>\n",
       "    </tr>\n",
       "    <tr>\n",
       "      <th>1926</th>\n",
       "      <td>US98983L1089</td>\n",
       "      <td>ZURN WATER SOLUTIONS</td>\n",
       "      <td>ZWS</td>\n",
       "      <td>526</td>\n",
       "      <td>27</td>\n",
       "      <td>8</td>\n",
       "      <td>1509.0</td>\n",
       "      <td>None</td>\n",
       "    </tr>\n",
       "    <tr>\n",
       "      <th>1927</th>\n",
       "      <td>CA98985W1023</td>\n",
       "      <td>ZYMEWORKS (NYS)</td>\n",
       "      <td>ZYME</td>\n",
       "      <td>82</td>\n",
       "      <td>10</td>\n",
       "      <td>5</td>\n",
       "      <td>1230.0</td>\n",
       "      <td>None</td>\n",
       "    </tr>\n",
       "  </tbody>\n",
       "</table>\n",
       "<p>3642 rows × 8 columns</p>\n",
       "</div>"
      ],
      "text/plain": [
       "         ISIN CODE                                 NAME TICKER SYMBOL  \\\n",
       "764   US35953D1046                               FUBOTV          FUBO   \n",
       "954   US46124J2015                INVENTRUST PROPERTIES           IVT   \n",
       "1939           NaN                         ABOVENET 'B'          ABVT   \n",
       "2093           NaN     ATHENA CONSUMER ACQUISITION CL B          ACAQ   \n",
       "2062           NaN       ARCTIC CAT 'B' DEAD - 07/03/17          ACAT   \n",
       "...            ...                                  ...           ...   \n",
       "1057  US53228T1016                    LIGHTNING EMOTORS           ZEV   \n",
       "3636  US98979J1097  ZOES KITCHEN DEAD - DELIST.21/11/18          ZOES   \n",
       "1923  US98978V1035                             ZOETIS A           ZTS   \n",
       "1926  US98983L1089                 ZURN WATER SOLUTIONS           ZWS   \n",
       "1927  CA98985W1023                      ZYMEWORKS (NYS)          ZYME   \n",
       "\n",
       "      trade_count  n_distinct_traders  n_distinct_trade_types  ts_rows  \\\n",
       "764            40                   8                       7   1509.0   \n",
       "954             4                   4                       1   1509.0   \n",
       "1939          179                  21                      10    824.0   \n",
       "2093            1                   1                       1    824.0   \n",
       "2062          446                  33                       8    824.0   \n",
       "...           ...                 ...                     ...      ...   \n",
       "1057           16                  13                       5    430.0   \n",
       "3636           87                  17                       8    675.0   \n",
       "1923          499                  34                       8   1509.0   \n",
       "1926          526                  27                       8   1509.0   \n",
       "1927           82                  10                       5   1230.0   \n",
       "\n",
       "           reason_to_exclude  \n",
       "764   Faulty timeseries data  \n",
       "954   Faulty timeseries data  \n",
       "1939            Missing ISIN  \n",
       "2093            Missing ISIN  \n",
       "2062            Missing ISIN  \n",
       "...                      ...  \n",
       "1057                    None  \n",
       "3636                    None  \n",
       "1923                    None  \n",
       "1926                    None  \n",
       "1927                    None  \n",
       "\n",
       "[3642 rows x 8 columns]"
      ]
     },
     "metadata": {},
     "output_type": "display_data"
    },
    {
     "name": "stdout",
     "output_type": "stream",
     "text": [
      "We want to reduce to 1534 isins\n",
      "Found 2171 possible files to analyze\n",
      "We are left with 1534 to analyze\n",
      "loading return series...\n"
     ]
    },
    {
     "name": "stderr",
     "output_type": "stream",
     "text": [
      "100%|██████████| 1534/1534 [00:09<00:00, 155.90it/s]\n"
     ]
    }
   ],
   "source": [
    "# Data locations\n",
    "DATA_LOCATION = f'data/{NAME}/'\n",
    "DATA_LOCATION_INSIDER_PROCESSED = DATA_LOCATION + 'processed/insider/'\n",
    "DATA_LOCATION_RI = DATA_LOCATION + 'processed/RI_discard/'\n",
    "\n",
    "# set plotting sizes\n",
    "tick_size = 15\n",
    "label_size = 20\n",
    "title_size = 30\n",
    "fig_height = 20\n",
    "\n",
    "investigation_periods = {\n",
    "    \"overall\": (pd.Timestamp(\"2018-01-01\"), pd.Timestamp(\"2021-12-31\")),\n",
    "    \"pre-pandemic\": (pd.Timestamp(\"2018-01-01\"), pd.Timestamp(\"2020-02-29\")),\n",
    "    \"pandemic\": (pd.Timestamp(\"2020-03-01\"), pd.Timestamp(\"2021-12-31\")),\n",
    "}\n",
    "\n",
    "# Read in the summary data from \"CompaniesToExclude\" notebook\n",
    "summary_data = pd.read_csv(DATA_LOCATION + '/scraping_summary.csv', index_col=0)\n",
    "# Generate list of which companies to analyse\n",
    "isins_to_use = summary_data[summary_data['reason_to_exclude'] == 'None']['ISIN CODE'].to_list()\n",
    "display(summary_data)\n",
    "print(f'We want to reduce to {len(isins_to_use)} isins')\n",
    "\n",
    "\n",
    "## Not sure why we do this - maybe refactor\n",
    "_ri_location = DATA_LOCATION_RI\n",
    "_insider_location = DATA_LOCATION_INSIDER_PROCESSED\n",
    "\n",
    "# Get locations to read in\n",
    "file_locs_ = os.listdir(_ri_location)\n",
    "print(f'Found {len(file_locs_)} possible files to analyze')\n",
    "# Filter files for analysis, and append path:\n",
    "file_locs = [_ri_location + f for f in file_locs_ if f[:-7] in isins_to_use]\n",
    "print(f'We are left with {len(file_locs)} to analyze')\n",
    "\n",
    "# Actually read in the company information\n",
    "companies = []\n",
    "print(\"loading return series...\")\n",
    "for file_loc in tqdm(file_locs):\n",
    "    with open(file_loc, \"rb\") as f:\n",
    "        company = pickle.load(f)\n",
    "    companies.append(company)"
   ]
  },
  {
   "cell_type": "raw",
   "metadata": {},
   "source": [
    "for company in companies:\n",
    "    if company.ticker == 'VIVE':\n",
    "        print(company.return_index_df)\n",
    "        break"
   ]
  },
  {
   "cell_type": "code",
   "execution_count": null,
   "metadata": {},
   "outputs": [],
   "source": []
  },
  {
   "cell_type": "markdown",
   "metadata": {},
   "source": [
    "## Exploratory Data Analysis"
   ]
  },
  {
   "cell_type": "markdown",
   "metadata": {},
   "source": [
    "### Calculate Returns, Analyse Companies"
   ]
  },
  {
   "cell_type": "code",
   "execution_count": 4,
   "metadata": {
    "collapsed": false,
    "execution": {
     "iopub.execute_input": "2022-11-04T23:47:46.682588Z",
     "iopub.status.busy": "2022-11-04T23:47:46.681587Z",
     "iopub.status.idle": "2022-11-04T23:47:47.328740Z",
     "shell.execute_reply": "2022-11-04T23:47:47.328740Z"
    },
    "jupyter": {
     "outputs_hidden": false
    },
    "tags": []
   },
   "outputs": [
    {
     "name": "stdout",
     "output_type": "stream",
     "text": [
      "Returns\n",
      "concatenate\n"
     ]
    }
   ],
   "source": [
    "print(\"Returns\")\n",
    "returns_df = [c.return_index_df.company_return for c in companies]\n",
    "\n",
    "print(\"concatenate\")\n",
    "df_returns = pd.concat(returns_df, axis=1)\n",
    "df_return_index = pd.concat([c.return_index_df for c in companies], axis=1)\n"
   ]
  },
  {
   "cell_type": "code",
   "execution_count": null,
   "metadata": {},
   "outputs": [],
   "source": []
  },
  {
   "cell_type": "markdown",
   "metadata": {},
   "source": [
    "### Visualise Mean Daily Returns"
   ]
  },
  {
   "cell_type": "code",
   "execution_count": 5,
   "metadata": {
    "collapsed": false,
    "execution": {
     "iopub.execute_input": "2022-11-04T23:47:47.332741Z",
     "iopub.status.busy": "2022-11-04T23:47:47.332741Z",
     "iopub.status.idle": "2022-11-04T23:47:48.237208Z",
     "shell.execute_reply": "2022-11-04T23:47:48.237208Z"
    },
    "jupyter": {
     "outputs_hidden": false
    }
   },
   "outputs": [
    {
     "name": "stdout",
     "output_type": "stream",
     "text": [
      "variance of the intervals\n",
      "0.00009286120000000000\n",
      "0.00051536910000000004\n"
     ]
    }
   ],
   "source": [
    "plt.rc('font', family='serif')\n",
    "plt.rc('xtick')\n",
    "plt.rc('ytick')\n",
    "\n",
    "fig = plt.figure(figsize=(fig_height, 10))\n",
    "ax = fig.add_subplot(1, 1, 1)\n",
    "\n",
    "returns_companies = df_returns.mean(axis=1)\n",
    "returns_companies.plot(color=\"k\", linewidth=0.7)\n",
    "\n",
    "ax.set_xlabel('Time (Years)', fontsize=label_size)\n",
    "ax.set_ylabel('Mean Daily Return', fontsize=label_size)\n",
    "ax.set_title('Mean Daily Returns Over Time', fontsize=title_size)\n",
    "plt.xticks(fontsize=tick_size)\n",
    "plt.yticks(fontsize=tick_size)\n",
    "\n",
    "interval_borders = [\"2018-01-01\", \"2020-03-01\", \"2021-12-31\"] # TODO see if it makes sense to actually take first of Feb\n",
    "\n",
    "for int_ in interval_borders:\n",
    "    plt.axvline(x = int_, color = 'red', label = 'DD Event time', linewidth = 1)\n",
    "\n",
    "plt.savefig(DATA_LOCATION +\"visualisations/NYSE_daily_returns.svg\", dpi=600, bbox_inches='tight')\n",
    "plt.show()\n",
    "# get var for the intervals\n",
    "print(\"variance of the intervals\")\n",
    "print(f'{round(returns_companies.loc[\"2018-01-01\":\"2020-02-29\"].var(),10):.20f}')\n",
    "print(f'{round(returns_companies.loc[\"2020-03-01\":\"2021-12-31\"].var(), 10):.20f}')\n"
   ]
  },
  {
   "cell_type": "markdown",
   "metadata": {},
   "source": [
    "### Remove companies outside of the timeframe of interest"
   ]
  },
  {
   "cell_type": "code",
   "execution_count": 6,
   "metadata": {
    "collapsed": false,
    "execution": {
     "iopub.execute_input": "2022-11-04T23:47:48.241210Z",
     "iopub.status.busy": "2022-11-04T23:47:48.241210Z",
     "iopub.status.idle": "2022-11-04T23:48:04.777917Z",
     "shell.execute_reply": "2022-11-04T23:48:04.777917Z"
    },
    "jupyter": {
     "outputs_hidden": false
    }
   },
   "outputs": [
    {
     "name": "stderr",
     "output_type": "stream",
     "text": [
      "100%|██████████| 1534/1534 [00:16<00:00, 92.85it/s]"
     ]
    },
    {
     "name": "stdout",
     "output_type": "stream",
     "text": [
      "Total filings: 1098006\n",
      "Removed 807342 filings\n",
      "Remaining filings: 290664\n"
     ]
    },
    {
     "name": "stderr",
     "output_type": "stream",
     "text": [
      "\n"
     ]
    }
   ],
   "source": [
    "# this is the interval where filings are interesting to us\n",
    "earliest_timestamp = list(investigation_periods.values())[0][0]\n",
    "latest_timestamp = list(investigation_periods.values())[-1][1]\n",
    "filings_removed = 0\n",
    "filings_total = 0\n",
    "\n",
    "for company in tqdm(companies):\n",
    "    insider_data_df = company.insider_data_df\n",
    "    filing_dates = insider_data_df.FilingDate.apply(lambda x: x.floor(\"d\"))\n",
    "    mask = (filing_dates >= earliest_timestamp) & (filing_dates <= latest_timestamp)\n",
    "    company.insider_data_df = company.insider_data_df[mask]\n",
    "    filings_removed += (~mask).sum()\n",
    "    filings_total += mask.shape[0]\n",
    "\n",
    "print(\"Total filings: {}\".format(filings_total))\n",
    "print(\"Removed {} filings\".format(filings_removed))\n",
    "print(\"Remaining filings: {}\".format(filings_total - filings_removed))"
   ]
  },
  {
   "cell_type": "markdown",
   "metadata": {},
   "source": [
    "### Investigate Filing Trade Lag Times"
   ]
  },
  {
   "cell_type": "code",
   "execution_count": 7,
   "metadata": {
    "collapsed": false,
    "execution": {
     "iopub.execute_input": "2022-11-04T23:48:04.781919Z",
     "iopub.status.busy": "2022-11-04T23:48:04.780918Z",
     "iopub.status.idle": "2022-11-04T23:48:32.707210Z",
     "shell.execute_reply": "2022-11-04T23:48:32.707210Z"
    },
    "jupyter": {
     "outputs_hidden": false
    }
   },
   "outputs": [
    {
     "name": "stdout",
     "output_type": "stream",
     "text": [
      "get filing lags ...\n"
     ]
    },
    {
     "name": "stderr",
     "output_type": "stream",
     "text": [
      "100%|██████████| 1534/1534 [00:27<00:00, 54.94it/s]\n"
     ]
    }
   ],
   "source": [
    "print(\"get filing lags ...\")\n",
    "\n",
    "lags = []\n",
    "for company in tqdm(companies):\n",
    "    lag = UASC.analyse_single_company(company)\n",
    "    lags.append(lag)\n"
   ]
  },
  {
   "cell_type": "code",
   "execution_count": 8,
   "metadata": {
    "collapsed": false,
    "execution": {
     "iopub.execute_input": "2022-11-04T23:48:32.710210Z",
     "iopub.status.busy": "2022-11-04T23:48:32.710210Z",
     "iopub.status.idle": "2022-11-04T23:48:35.393093Z",
     "shell.execute_reply": "2022-11-04T23:48:35.393093Z"
    },
    "jupyter": {
     "outputs_hidden": false
    }
   },
   "outputs": [
    {
     "name": "stdout",
     "output_type": "stream",
     "text": [
      "Negative lag for 10 out of 290664 trades.\n",
      "Lag longer than 21 days for 5701 out of 290664 trades.\n",
      "Eligible trades: 284953 out of 290664 trades.\n"
     ]
    }
   ],
   "source": [
    "filing_trade_lags = sum(lags, [])\n",
    "\n",
    "lag_in_hours = np.asarray(filing_trade_lags)\n",
    "negative_lag_mask = lag_in_hours < 0\n",
    "positive_lag = lag_in_hours[~negative_lag_mask]\n",
    "in_21_days = positive_lag < 21*24\n",
    "relevant_lag = positive_lag[in_21_days]\n",
    "print(f\"Negative lag for {negative_lag_mask.sum()} out of {len(negative_lag_mask)} trades.\")\n",
    "print(f\"Lag longer than 21 days for {len(positive_lag) - len(relevant_lag)} out of {len(negative_lag_mask)} trades.\")\n",
    "print(f\"Eligible trades: {len(relevant_lag)} out of {len(negative_lag_mask)} trades.\")\n",
    "\n",
    "fig = plt.figure(figsize=(fig_height, 7))\n",
    "ax = fig.add_subplot(1, 1, 1)\n",
    "plt.hist(np.log(positive_lag), bins=\"auto\")\n",
    "ax.set_xlabel('Time (Log(Hours))', fontsize=label_size)\n",
    "ax.set_ylabel('Trades', fontsize=label_size)\n",
    "ax.set_title('Distribution of Log Lag Times between Filing and Trade', fontsize=title_size)\n",
    "\n",
    "plt.xticks(fontsize=tick_size)\n",
    "plt.yticks(fontsize=tick_size)\n",
    "\n",
    "plt.axvline(x = 0, color = 'red', label = 'Zero', linewidth = 1)\n",
    "plt.axvline(x = np.log(21*24), color = 'red', label = 'Threshold', linewidth = 1)\n",
    "plt.savefig(DATA_LOCATION +\"visualisations/log_transformed_lags.svg\", dpi=600, bbox_inches='tight')\n",
    "plt.show()\n",
    "\n",
    "without_outliers = positive_lag[positive_lag < 24*21]\n",
    "\n",
    "fig = plt.figure(figsize=(fig_height, 5))\n",
    "ax = fig.add_subplot(1, 1, 1)\n",
    "plt.hist(without_outliers, bins=\"auto\")\n",
    "plt.xticks(np.arange(0, max(without_outliers) + 1, 24))\n",
    "ax.set_xlabel('Time (Hours)', fontsize=label_size)\n",
    "ax.set_ylabel('Trades', fontsize=label_size)\n",
    "ax.set_title('Distribution of Lag Times between Filing and Trade', fontsize=title_size)\n",
    "\n",
    "plt.xticks(fontsize=tick_size)\n",
    "plt.yticks(fontsize=tick_size)\n",
    "\n",
    "plt.savefig(DATA_LOCATION +\"visualisations/lags_without_outliers.svg\", dpi=600, bbox_inches='tight')\n",
    "plt.show()"
   ]
  },
  {
   "cell_type": "markdown",
   "metadata": {},
   "source": [
    "### Drop companies with lags longer than 21 days or negative lags"
   ]
  },
  {
   "cell_type": "code",
   "execution_count": 9,
   "metadata": {
    "collapsed": false,
    "execution": {
     "iopub.execute_input": "2022-11-04T23:48:35.397093Z",
     "iopub.status.busy": "2022-11-04T23:48:35.396093Z",
     "iopub.status.idle": "2022-11-04T23:48:35.727168Z",
     "shell.execute_reply": "2022-11-04T23:48:35.727168Z"
    },
    "jupyter": {
     "outputs_hidden": false
    }
   },
   "outputs": [
    {
     "name": "stderr",
     "output_type": "stream",
     "text": [
      "1534it [00:00, 4868.76it/s]"
     ]
    },
    {
     "name": "stdout",
     "output_type": "stream",
     "text": [
      "Total trades: 290664\n",
      "Removed 5711 trades.\n",
      "Remaining 284953 trades.\n"
     ]
    },
    {
     "name": "stderr",
     "output_type": "stream",
     "text": [
      "\n"
     ]
    }
   ],
   "source": [
    "removed_lags = 0\n",
    "remaining_lags = 0\n",
    "\n",
    "for lags_c, company in tqdm(zip(lags, companies)):\n",
    "    lags_c = np.asarray(lags_c)\n",
    "    mask_eligible = (lags_c >= 0) & (lags_c <= 21*24)\n",
    "    company.insider_data_df = company.insider_data_df[mask_eligible]\n",
    "    removed_lags += (~mask_eligible).sum()\n",
    "    remaining_lags += mask_eligible.sum()\n",
    "\n",
    "print(f\"Total trades: {removed_lags + remaining_lags}\")\n",
    "print(f\"Removed {removed_lags} trades.\")\n",
    "print(f\"Remaining {remaining_lags} trades.\")\n"
   ]
  },
  {
   "cell_type": "markdown",
   "metadata": {},
   "source": []
  },
  {
   "cell_type": "code",
   "execution_count": null,
   "metadata": {
    "collapsed": false,
    "jupyter": {
     "outputs_hidden": false
    }
   },
   "outputs": [],
   "source": []
  },
  {
   "cell_type": "markdown",
   "metadata": {},
   "source": [
    "## Demonstrate process for a single event"
   ]
  },
  {
   "cell_type": "markdown",
   "metadata": {},
   "source": [
    "### Define windows\n",
    "\n",
    "#### Our data contains multiple companies. A single company contains multiple filings and each filing is an event\n",
    "\n",
    "![alt text](assets/images/windows.png \"Title\")"
   ]
  },
  {
   "cell_type": "code",
   "execution_count": 10,
   "metadata": {
    "collapsed": false,
    "execution": {
     "iopub.execute_input": "2022-11-04T23:48:35.732169Z",
     "iopub.status.busy": "2022-11-04T23:48:35.732169Z",
     "iopub.status.idle": "2022-11-04T23:48:35.742333Z",
     "shell.execute_reply": "2022-11-04T23:48:35.742333Z"
    },
    "jupyter": {
     "outputs_hidden": false
    }
   },
   "outputs": [],
   "source": [
    "## Constants defining how long both Estimation Window and Event Window are\n",
    "### Probably also input parameters to a function call, as we need loops later...\n",
    "L1_length = 100\n",
    "L2_length = 40 # TODO +-20 days = 40 days, right?"
   ]
  },
  {
   "cell_type": "markdown",
   "metadata": {},
   "source": [
    "### Fix a company"
   ]
  },
  {
   "cell_type": "code",
   "execution_count": 11,
   "metadata": {
    "collapsed": false,
    "execution": {
     "iopub.execute_input": "2022-11-04T23:48:35.746334Z",
     "iopub.status.busy": "2022-11-04T23:48:35.745334Z",
     "iopub.status.idle": "2022-11-04T23:48:35.758337Z",
     "shell.execute_reply": "2022-11-04T23:48:35.758337Z"
    },
    "jupyter": {
     "outputs_hidden": false
    }
   },
   "outputs": [
    {
     "name": "stdout",
     "output_type": "stream",
     "text": [
      "Company(company_type='2634JX', isin='US98850P1093', name='YUM CHINA HOLDINGS', ticker='YUMC', start_date=Timestamp('2016-10-17 00:00:00'), end_date=datetime.datetime(2022, 3, 16, 0, 0), return_index_df=            ReturnIndex  company_return  market_return\n",
      "Date                                                  \n",
      "2016-10-17       100.00             NaN            NaN\n",
      "2016-10-18        95.28       -0.047200       0.007144\n",
      "2016-10-19        94.58       -0.007347       0.003363\n",
      "2016-10-20        94.54       -0.000423      -0.001035\n",
      "2016-10-21        97.15        0.027607      -0.001637\n",
      "...                 ...             ...            ...\n",
      "2022-03-10       180.06       -0.109407      -0.002618\n",
      "2022-03-11       152.13       -0.155115      -0.010972\n",
      "2022-03-14       148.36       -0.024781      -0.003525\n",
      "2022-03-15       160.62        0.082637       0.012860\n",
      "2022-03-16       175.84        0.094758       0.023172\n",
      "\n",
      "[1363 rows x 3 columns], insider_data_df=     X          FilingDate  TradeDate Ticker    InsiderName  \\\n",
      "14   D 2021-11-12 06:12:14 2021-11-10   YUMC     Yuen Aiken   \n",
      "15   D 2021-11-12 06:12:14 2021-11-10   YUMC     Yuen Aiken   \n",
      "16   D 2021-11-12 06:12:14 2021-11-10   YUMC     Yuen Aiken   \n",
      "17   D 2021-11-03 06:28:30 2021-11-01   YUMC  Huang Johnson   \n",
      "18   D 2021-11-03 06:28:30 2021-11-01   YUMC  Huang Johnson   \n",
      "..  ..                 ...        ...    ...            ...   \n",
      "238  D 2018-01-08 06:27:03 2018-01-04   YUMC      Tan Danny   \n",
      "239  D 2018-01-08 06:24:12 2018-01-04   YUMC      Ng Shella   \n",
      "240  D 2018-01-08 06:24:12 2018-01-04   YUMC      Ng Shella   \n",
      "241  D 2018-01-08 06:18:34 2018-01-04   YUMC        Lee Ted   \n",
      "242  D 2018-01-08 06:18:34 2018-01-04   YUMC        Lee Ted   \n",
      "\n",
      "                         Title           TradeType  Price    Qty  Owned  \\\n",
      "14        Chief People Officer  D - Sale to issuer  55.08   -810   3658   \n",
      "15        Chief People Officer           M - OptEx  19.46   2290   3658   \n",
      "16        Chief People Officer         S - Sale+OE  54.99  -1480   3658   \n",
      "17                     GM, KFC             F - Tax  58.24  -9417  35793   \n",
      "18                     GM, KFC           M - OptEx   0.00  20926  35793   \n",
      "..                         ...                 ...    ...    ...    ...   \n",
      "238      Chief Support Officer           M - OptEx  42.50   4699   8534   \n",
      "239              GC, Corp. Sec             F - Tax  42.50   -658  14051   \n",
      "240              GC, Corp. Sec           M - OptEx  42.50   4699  14051   \n",
      "241  VP, Brand GM Little Sheep             F - Tax  42.50   -600   2321   \n",
      "242  VP, Brand GM Little Sheep           M - OptEx  42.50   1763   2321   \n",
      "\n",
      "    delta_Own     Value  1d  1w  1m  6m ticker  \n",
      "14       -18%  -44615.0 NaN NaN NaN NaN   YUMC  \n",
      "15      +167%   44563.0 NaN NaN NaN NaN   YUMC  \n",
      "16       -29%  -81385.0 NaN NaN NaN NaN   YUMC  \n",
      "17       -21% -548446.0 NaN NaN NaN NaN   YUMC  \n",
      "18      +141%       0.0 NaN NaN NaN NaN   YUMC  \n",
      "..        ...       ...  ..  ..  ..  ..    ...  \n",
      "238     +123%  199708.0 NaN NaN NaN NaN   YUMC  \n",
      "239       -4%  -27965.0 NaN NaN NaN NaN   YUMC  \n",
      "240      +50%  199708.0 NaN NaN NaN NaN   YUMC  \n",
      "241      -21%  -25500.0 NaN NaN NaN NaN   YUMC  \n",
      "242     +316%   74928.0 NaN NaN NaN NaN   YUMC  \n",
      "\n",
      "[229 rows x 17 columns])\n"
     ]
    }
   ],
   "source": [
    "logging.getLogger().setLevel(logging.DEBUG)\n",
    "\n",
    "if NAME == \"Knudsen\":\n",
    "    company_index = -87\n",
    "elif NAME == \"Niedermayer\":\n",
    "    company_index = -11\n",
    "else:\n",
    "    raise NotImplementedError\n",
    "company = companies[company_index]\n",
    "print(company)\n",
    "company_return = company.return_index_df"
   ]
  },
  {
   "cell_type": "markdown",
   "metadata": {},
   "source": [
    "### Fix an event"
   ]
  },
  {
   "cell_type": "code",
   "execution_count": 12,
   "metadata": {
    "collapsed": false,
    "execution": {
     "iopub.execute_input": "2022-11-04T23:48:35.761338Z",
     "iopub.status.busy": "2022-11-04T23:48:35.761338Z",
     "iopub.status.idle": "2022-11-04T23:48:35.773340Z",
     "shell.execute_reply": "2022-11-04T23:48:35.773340Z"
    },
    "jupyter": {
     "outputs_hidden": false
    }
   },
   "outputs": [
    {
     "name": "stdout",
     "output_type": "stream",
     "text": [
      "event timestamp:  2021-02-11 00:00:00\n"
     ]
    }
   ],
   "source": [
    "# This date will be moved to a loop\n",
    "## Define which periods we are looking at.\n",
    "\n",
    "if NAME == \"Knudsen\":\n",
    "    event_index = 60\n",
    "elif NAME == \"Niedermayer\":\n",
    "    event_index = -200\n",
    "else:\n",
    "    raise NotImplementedError\n",
    "    \n",
    "event_timestamp = company.insider_data_df.FilingDate.iloc[event_index].floor(\"d\")\n",
    "print(\"event timestamp: \", event_timestamp)"
   ]
  },
  {
   "cell_type": "markdown",
   "metadata": {},
   "source": [
    "### Technical Checks"
   ]
  },
  {
   "cell_type": "code",
   "execution_count": 13,
   "metadata": {
    "collapsed": false,
    "execution": {
     "iopub.execute_input": "2022-11-04T23:48:35.777342Z",
     "iopub.status.busy": "2022-11-04T23:48:35.777342Z",
     "iopub.status.idle": "2022-11-04T23:48:35.789333Z",
     "shell.execute_reply": "2022-11-04T23:48:35.789333Z"
    },
    "jupyter": {
     "outputs_hidden": false
    }
   },
   "outputs": [],
   "source": [
    "data_checks.run(L1_length, L2_length, event_timestamp, company_return)#, market_timeseries)"
   ]
  },
  {
   "cell_type": "code",
   "execution_count": 14,
   "metadata": {
    "collapsed": false,
    "execution": {
     "iopub.execute_input": "2022-11-04T23:48:35.792334Z",
     "iopub.status.busy": "2022-11-04T23:48:35.792334Z",
     "iopub.status.idle": "2022-11-04T23:48:35.805000Z",
     "shell.execute_reply": "2022-11-04T23:48:35.805000Z"
    },
    "jupyter": {
     "outputs_hidden": false
    }
   },
   "outputs": [],
   "source": [
    "#company_return"
   ]
  },
  {
   "cell_type": "markdown",
   "metadata": {},
   "source": [
    "### Determine T0, T1 and T2"
   ]
  },
  {
   "cell_type": "code",
   "execution_count": 15,
   "metadata": {
    "collapsed": false,
    "execution": {
     "iopub.execute_input": "2022-11-04T23:48:35.809001Z",
     "iopub.status.busy": "2022-11-04T23:48:35.809001Z",
     "iopub.status.idle": "2022-11-04T23:48:35.820636Z",
     "shell.execute_reply": "2022-11-04T23:48:35.820636Z"
    },
    "jupyter": {
     "outputs_hidden": false
    }
   },
   "outputs": [
    {
     "name": "stderr",
     "output_type": "stream",
     "text": [
      "DEBUG:root:Found T1 to be 2021-01-13 00:00:00 on index 1067\n",
      "DEBUG:root:Found T2 to be 2021-03-12 00:00:00 on index 1107\n",
      "DEBUG:root:Found T0 to be 2020-08-20 00:00:00 on index 967\n",
      "DEBUG:root:------------------------------\n",
      "DEBUG:root:Event occurred at             2021-02-11 00:00:00\n",
      "DEBUG:root:Estimation Window (100 days): from 2020-08-20 00:00:00 to 2021-01-13 00:00:00\n",
      "DEBUG:root:Event Window      ( 40 days): from 2021-01-13 00:00:00 to 2021-03-12 00:00:00\n"
     ]
    }
   ],
   "source": [
    "T0_, T1_, T2_, T0, T1, T2, ERROR, msg = determine_T0_T1_T2.run(L1_length, L2_length, event_timestamp, company_return)#, market_timeseries)"
   ]
  },
  {
   "cell_type": "code",
   "execution_count": 16,
   "metadata": {
    "collapsed": false,
    "execution": {
     "iopub.execute_input": "2022-11-04T23:48:35.823635Z",
     "iopub.status.busy": "2022-11-04T23:48:35.823635Z",
     "iopub.status.idle": "2022-11-04T23:48:35.836279Z",
     "shell.execute_reply": "2022-11-04T23:48:35.836279Z"
    },
    "jupyter": {
     "outputs_hidden": false
    }
   },
   "outputs": [
    {
     "name": "stdout",
     "output_type": "stream",
     "text": [
      "2021-02-11 00:00:00\n"
     ]
    },
    {
     "data": {
      "text/html": [
       "<div>\n",
       "<style scoped>\n",
       "    .dataframe tbody tr th:only-of-type {\n",
       "        vertical-align: middle;\n",
       "    }\n",
       "\n",
       "    .dataframe tbody tr th {\n",
       "        vertical-align: top;\n",
       "    }\n",
       "\n",
       "    .dataframe thead th {\n",
       "        text-align: right;\n",
       "    }\n",
       "</style>\n",
       "<table border=\"1\" class=\"dataframe\">\n",
       "  <thead>\n",
       "    <tr style=\"text-align: right;\">\n",
       "      <th></th>\n",
       "      <th>ReturnIndex</th>\n",
       "      <th>company_return</th>\n",
       "      <th>market_return</th>\n",
       "    </tr>\n",
       "    <tr>\n",
       "      <th>Date</th>\n",
       "      <th></th>\n",
       "      <th></th>\n",
       "      <th></th>\n",
       "    </tr>\n",
       "  </thead>\n",
       "  <tbody>\n",
       "    <tr>\n",
       "      <th>2016-10-17</th>\n",
       "      <td>100.00</td>\n",
       "      <td>NaN</td>\n",
       "      <td>NaN</td>\n",
       "    </tr>\n",
       "    <tr>\n",
       "      <th>2016-10-18</th>\n",
       "      <td>95.28</td>\n",
       "      <td>-0.047200</td>\n",
       "      <td>0.007144</td>\n",
       "    </tr>\n",
       "    <tr>\n",
       "      <th>2016-10-19</th>\n",
       "      <td>94.58</td>\n",
       "      <td>-0.007347</td>\n",
       "      <td>0.003363</td>\n",
       "    </tr>\n",
       "    <tr>\n",
       "      <th>2016-10-20</th>\n",
       "      <td>94.54</td>\n",
       "      <td>-0.000423</td>\n",
       "      <td>-0.001035</td>\n",
       "    </tr>\n",
       "    <tr>\n",
       "      <th>2016-10-21</th>\n",
       "      <td>97.15</td>\n",
       "      <td>0.027607</td>\n",
       "      <td>-0.001637</td>\n",
       "    </tr>\n",
       "    <tr>\n",
       "      <th>...</th>\n",
       "      <td>...</td>\n",
       "      <td>...</td>\n",
       "      <td>...</td>\n",
       "    </tr>\n",
       "    <tr>\n",
       "      <th>2022-03-10</th>\n",
       "      <td>180.06</td>\n",
       "      <td>-0.109407</td>\n",
       "      <td>-0.002618</td>\n",
       "    </tr>\n",
       "    <tr>\n",
       "      <th>2022-03-11</th>\n",
       "      <td>152.13</td>\n",
       "      <td>-0.155115</td>\n",
       "      <td>-0.010972</td>\n",
       "    </tr>\n",
       "    <tr>\n",
       "      <th>2022-03-14</th>\n",
       "      <td>148.36</td>\n",
       "      <td>-0.024781</td>\n",
       "      <td>-0.003525</td>\n",
       "    </tr>\n",
       "    <tr>\n",
       "      <th>2022-03-15</th>\n",
       "      <td>160.62</td>\n",
       "      <td>0.082637</td>\n",
       "      <td>0.012860</td>\n",
       "    </tr>\n",
       "    <tr>\n",
       "      <th>2022-03-16</th>\n",
       "      <td>175.84</td>\n",
       "      <td>0.094758</td>\n",
       "      <td>0.023172</td>\n",
       "    </tr>\n",
       "  </tbody>\n",
       "</table>\n",
       "<p>1363 rows × 3 columns</p>\n",
       "</div>"
      ],
      "text/plain": [
       "            ReturnIndex  company_return  market_return\n",
       "Date                                                  \n",
       "2016-10-17       100.00             NaN            NaN\n",
       "2016-10-18        95.28       -0.047200       0.007144\n",
       "2016-10-19        94.58       -0.007347       0.003363\n",
       "2016-10-20        94.54       -0.000423      -0.001035\n",
       "2016-10-21        97.15        0.027607      -0.001637\n",
       "...                 ...             ...            ...\n",
       "2022-03-10       180.06       -0.109407      -0.002618\n",
       "2022-03-11       152.13       -0.155115      -0.010972\n",
       "2022-03-14       148.36       -0.024781      -0.003525\n",
       "2022-03-15       160.62        0.082637       0.012860\n",
       "2022-03-16       175.84        0.094758       0.023172\n",
       "\n",
       "[1363 rows x 3 columns]"
      ]
     },
     "execution_count": 16,
     "metadata": {},
     "output_type": "execute_result"
    }
   ],
   "source": [
    "print(event_timestamp)\n",
    "company_return"
   ]
  },
  {
   "cell_type": "markdown",
   "metadata": {},
   "source": [
    "### Abnormal and Normal Returns\n",
    "\n",
    "![alt text](assets/images/return_estimation.png \"Title\")"
   ]
  },
  {
   "cell_type": "markdown",
   "metadata": {},
   "source": [
    "### Cut return timeseries into correct periods"
   ]
  },
  {
   "cell_type": "code",
   "execution_count": 17,
   "metadata": {
    "collapsed": false,
    "execution": {
     "iopub.execute_input": "2022-11-04T23:48:35.840282Z",
     "iopub.status.busy": "2022-11-04T23:48:35.840282Z",
     "iopub.status.idle": "2022-11-04T23:48:35.851283Z",
     "shell.execute_reply": "2022-11-04T23:48:35.851283Z"
    },
    "jupyter": {
     "outputs_hidden": false
    }
   },
   "outputs": [
    {
     "name": "stderr",
     "output_type": "stream",
     "text": [
      "DEBUG:root:shapes (Shouldnt be an issue after better preprocessing)\n",
      "DEBUG:root:# estimation_window_market_return: (100,)\n",
      "DEBUG:root:# estimation_window_market_return: (100,)\n",
      "DEBUG:root:# event_window_market_return: (41,)\n",
      "DEBUG:root:# event_window_company_return: (41,)\n"
     ]
    }
   ],
   "source": [
    "windows = cut_timeseries.run(company_return, T0, T1, T2)\n",
    "estimation_window_market_return, estimation_window_company_return, event_window_market_return, event_window_company_return = windows"
   ]
  },
  {
   "cell_type": "markdown",
   "metadata": {},
   "source": [
    "### Calculate coefficients"
   ]
  },
  {
   "cell_type": "code",
   "execution_count": 18,
   "metadata": {
    "collapsed": false,
    "execution": {
     "iopub.execute_input": "2022-11-04T23:48:35.854284Z",
     "iopub.status.busy": "2022-11-04T23:48:35.854284Z",
     "iopub.status.idle": "2022-11-04T23:48:35.867289Z",
     "shell.execute_reply": "2022-11-04T23:48:35.867289Z"
    },
    "jupyter": {
     "outputs_hidden": false
    }
   },
   "outputs": [],
   "source": [
    "alpha, beta, eps = calculate_coefficients.run(estimation_window_market_return, estimation_window_company_return)"
   ]
  },
  {
   "cell_type": "markdown",
   "metadata": {},
   "source": [
    "### The Abnormal Return\n",
    "This is the last step of the whole process for one event"
   ]
  },
  {
   "cell_type": "code",
   "execution_count": 19,
   "metadata": {
    "collapsed": false,
    "execution": {
     "iopub.execute_input": "2022-11-04T23:48:35.871292Z",
     "iopub.status.busy": "2022-11-04T23:48:35.870291Z",
     "iopub.status.idle": "2022-11-04T23:48:35.882635Z",
     "shell.execute_reply": "2022-11-04T23:48:35.882635Z"
    },
    "jupyter": {
     "outputs_hidden": false
    }
   },
   "outputs": [
    {
     "name": "stdout",
     "output_type": "stream",
     "text": [
      "Date\n",
      "2021-01-13    0.005718\n",
      "2021-01-14   -0.018527\n",
      "2021-01-15    0.002623\n",
      "2021-01-19    0.032845\n",
      "2021-01-20   -0.009413\n",
      "2021-01-21    0.009074\n",
      "2021-01-22   -0.005926\n",
      "2021-01-25   -0.004569\n",
      "2021-01-26    0.020685\n",
      "2021-01-27   -0.000869\n",
      "2021-01-28   -0.027442\n",
      "2021-01-29    0.009520\n",
      "2021-02-01    0.008587\n",
      "2021-02-02    0.003729\n",
      "2021-02-03   -0.024062\n",
      "2021-02-04   -0.029404\n",
      "2021-02-05    0.020774\n",
      "2021-02-08    0.031924\n",
      "2021-02-09    0.022931\n",
      "2021-02-10   -0.010180\n",
      "2021-02-11    0.019804\n",
      "2021-02-12    0.010355\n",
      "2021-02-16    0.025829\n",
      "2021-02-17   -0.001085\n",
      "2021-02-18   -0.007593\n",
      "2021-02-19   -0.014930\n",
      "2021-02-22   -0.015332\n",
      "2021-02-23   -0.022877\n",
      "2021-02-24   -0.005192\n",
      "2021-02-25    0.014318\n",
      "2021-02-26    0.005187\n",
      "2021-03-01   -0.016050\n",
      "2021-03-02   -0.003749\n",
      "2021-03-03    0.009561\n",
      "2021-03-04    0.005120\n",
      "2021-03-05    0.006055\n",
      "2021-03-08    0.007733\n",
      "2021-03-09    0.004545\n",
      "2021-03-10   -0.020795\n",
      "2021-03-11    0.010672\n",
      "2021-03-12   -0.010652\n",
      "dtype: float64\n"
     ]
    }
   ],
   "source": [
    "company_return = event_window_company_return\n",
    "market_return = event_window_market_return\n",
    "estimated_return = alpha + beta*market_return\n",
    "abnormal_return = company_return - estimated_return\n",
    "print(abnormal_return)"
   ]
  },
  {
   "cell_type": "code",
   "execution_count": null,
   "metadata": {
    "collapsed": false,
    "jupyter": {
     "outputs_hidden": false
    }
   },
   "outputs": [],
   "source": []
  },
  {
   "cell_type": "code",
   "execution_count": 20,
   "metadata": {
    "collapsed": false,
    "execution": {
     "iopub.execute_input": "2022-11-04T23:48:35.885636Z",
     "iopub.status.busy": "2022-11-04T23:48:35.885636Z",
     "iopub.status.idle": "2022-11-04T23:48:35.930646Z",
     "shell.execute_reply": "2022-11-04T23:48:35.930646Z"
    },
    "jupyter": {
     "outputs_hidden": false
    }
   },
   "outputs": [
    {
     "data": {
      "text/plain": [
       "<AxesSubplot:xlabel='Date'>"
      ]
     },
     "execution_count": 20,
     "metadata": {},
     "output_type": "execute_result"
    }
   ],
   "source": [
    "logging.getLogger('matplotlib.font_manager').setLevel(logging.ERROR)\n",
    "\n",
    "company_and_estimated = pd.DataFrame({\"company\":event_window_company_return, \"market\":estimated_return})\n",
    "company_and_market = pd.DataFrame({\"company\": estimation_window_company_return, \"market\":estimation_window_market_return})\n",
    "df_to_plot = pd.concat([company_and_market, company_and_estimated])\n",
    "df_to_plot.plot()"
   ]
  },
  {
   "cell_type": "code",
   "execution_count": 21,
   "metadata": {
    "execution": {
     "iopub.execute_input": "2022-11-04T23:48:35.934647Z",
     "iopub.status.busy": "2022-11-04T23:48:35.933647Z",
     "iopub.status.idle": "2022-11-04T23:48:36.638806Z",
     "shell.execute_reply": "2022-11-04T23:48:36.638806Z"
    }
   },
   "outputs": [
    {
     "name": "stdout",
     "output_type": "stream",
     "text": [
      "I'm impressed! It looks like a five-year-old drew this plot in paint\n"
     ]
    }
   ],
   "source": [
    "Company_name = company.name\n",
    "\n",
    "# Estimations\n",
    "est_estimation = estimation_window_market_return * beta + alpha\n",
    "est_event = event_window_market_return * beta + alpha\n",
    "\n",
    "plt.figure(figsize=(fig_height,10))\n",
    "estimation_window_market_return.plot(color = 'black', alpha = 0.6, linewidth=4, label = 'Market Return (Estimation Window)')\n",
    "event_window_market_return.plot(color = 'black', alpha = 0.9, linewidth=4, label = 'Market Return (Event Window)')\n",
    "\n",
    "estimation_window_company_return.plot(color = 'blue', alpha = 0.6, linewidth = 4, label = f'{Company_name} Return (Estimation Window)')\n",
    "event_window_company_return.plot(color = 'blue', alpha = 0.9, linewidth = 4, label = f'{Company_name} Return (Event Window)')\n",
    "\n",
    "plt.axvline(x = event_timestamp, color = 'red', label = 'DD Event time', linewidth = 5)\n",
    "plt.ylabel(f'Daily Returns', fontsize=label_size)\n",
    "est_estimation.plot(color = 'green', label = f'Regression Estimate for {Company_name}', alpha = 0.8)\n",
    "est_event.plot(color = 'green', label = f'Regression Estimate for {Company_name}', alpha = 1)\n",
    "\n",
    "plt.axvspan(T0, T1, ymin = 0.05, ymax = 0.95, facecolor='black', alpha=0.1, label = 'Estimation Window', edgecolor='g', linewidth=5)\n",
    "plt.axvspan(T1, T2, ymin = 0.05, ymax = 0.95, facecolor='black', alpha=0.2, label = 'Event Window', edgecolor='r', linewidth=5)\n",
    "plt.legend(bbox_to_anchor = (1.0, 1), loc = 'upper left')\n",
    "\n",
    "plt.title(f'Show how company \"{Company_name}\" moves around the event, compared to the market', fontsize = title_size)\n",
    "plt.xlabel('Date', fontsize=label_size)\n",
    "\n",
    "plt.xticks(fontsize=tick_size)\n",
    "plt.yticks(fontsize=tick_size)\n",
    "plt.show()\n",
    "print(\"I'm impressed! It looks like a five-year-old drew this plot in paint\")\n"
   ]
  },
  {
   "cell_type": "code",
   "execution_count": null,
   "metadata": {},
   "outputs": [],
   "source": []
  },
  {
   "cell_type": "markdown",
   "metadata": {},
   "source": [
    "## Macro Analysis\n",
    "\n",
    "### Now that we have seen the process for one single filing, let us do the same for all filings in all companies\n"
   ]
  },
  {
   "cell_type": "code",
   "execution_count": 22,
   "metadata": {
    "execution": {
     "iopub.execute_input": "2022-11-04T23:48:36.643807Z",
     "iopub.status.busy": "2022-11-04T23:48:36.643807Z",
     "iopub.status.idle": "2022-11-04T23:53:52.490057Z",
     "shell.execute_reply": "2022-11-04T23:53:52.489055Z"
    }
   },
   "outputs": [
    {
     "name": "stderr",
     "output_type": "stream",
     "text": [
      "100%|██████████| 1534/1534 [05:15<00:00,  4.86it/s]\n"
     ]
    }
   ],
   "source": [
    "# Initialize testing\n",
    "logging.getLogger().setLevel(logging.ERROR)\n",
    "# Helpers\n",
    "multiind, data, data_errors = [], [], []\n",
    "estimation_window_market_return_list, event_window_market_return_list, eps_list = [], [], []\n",
    "n_companies = len(companies)\n",
    "\n",
    "\n",
    "#for j in tqdm(range(len(companies[:200]))):\n",
    "for j in tqdm(range(len(companies))):\n",
    "    # Get information from said company\n",
    "    company = companies[j]\n",
    "    company_return = company.return_index_df\n",
    "    \n",
    "    n_filings = len(company.insider_data_df)\n",
    "    # Go through all filings\n",
    "    for i in company.insider_data_df.FilingDate.index:\n",
    "\n",
    "        # Find our event date from filing\n",
    "        filing_date = company.insider_data_df.FilingDate[i]\n",
    "        event_timestamp = filing_date.floor(\"d\")\n",
    "\n",
    "        checks = data_checks.run(L1_length, L2_length, event_timestamp, company_return)\n",
    "        if checks:\n",
    "            #print(checks[1])\n",
    "            data_errors.append(checks[0])\n",
    "            continue\n",
    "   \n",
    "        ## Proceed to find periods\n",
    "        T0_, T1_, T2_, T0, T1, T2, ERRORS, msg = determine_T0_T1_T2.run(L1_length, L2_length, event_timestamp, company_return)\n",
    "        if ERRORS:\n",
    "            #print(msg)\n",
    "            data_errors.append(ERRORS)\n",
    "            continue\n",
    "            \n",
    "        ## Cut timeseries to the relevant periods, and split them\n",
    "        windows = cut_timeseries.run(company_return, T0, T1, T2)\n",
    "        estimation_window_market_return, estimation_window_company_return,event_window_market_return, event_window_company_return = windows\n",
    "        alpha, beta, eps = calculate_coefficients.run(estimation_window_market_return, estimation_window_company_return) # TODO change back to calculate_coefficients.run or check validity\n",
    "        ## Calculate the abnormal returns\n",
    "        abnormal_return = event_window_company_return - alpha - beta*event_window_market_return\n",
    "        \n",
    "        ## Append to results\n",
    "        estimation_window_market_return_list.append(estimation_window_market_return)\n",
    "        event_window_market_return_list.append(event_window_market_return)\n",
    "        eps_list.append(eps)\n",
    "        multiind.append((company.ticker, i, company.insider_data_df.TradeType[i], event_timestamp))\n",
    "        data.append(abnormal_return)"
   ]
  },
  {
   "cell_type": "code",
   "execution_count": 23,
   "metadata": {
    "execution": {
     "iopub.execute_input": "2022-11-04T23:53:52.493056Z",
     "iopub.status.busy": "2022-11-04T23:53:52.492056Z",
     "iopub.status.idle": "2022-11-04T23:54:22.348020Z",
     "shell.execute_reply": "2022-11-04T23:54:22.347019Z"
    }
   },
   "outputs": [],
   "source": [
    "# process and save abnormal returns\n",
    "df_abnormal_returns = pd.DataFrame.from_records([d.reset_index(drop=True) for d in data])\n",
    "df_abnormal_returns.index = pd.MultiIndex.from_tuples(multiind, names=[\"Company\", \"i\", \"TradeType\", \"event_timestamp\"])"
   ]
  },
  {
   "cell_type": "code",
   "execution_count": 24,
   "metadata": {
    "execution": {
     "iopub.execute_input": "2022-11-04T23:54:22.354021Z",
     "iopub.status.busy": "2022-11-04T23:54:22.354021Z",
     "iopub.status.idle": "2022-11-04T23:54:22.600172Z",
     "shell.execute_reply": "2022-11-04T23:54:22.599171Z"
    }
   },
   "outputs": [
    {
     "data": {
      "text/html": [
       "<div>\n",
       "<style scoped>\n",
       "    .dataframe tbody tr th:only-of-type {\n",
       "        vertical-align: middle;\n",
       "    }\n",
       "\n",
       "    .dataframe tbody tr th {\n",
       "        vertical-align: top;\n",
       "    }\n",
       "\n",
       "    .dataframe thead th {\n",
       "        text-align: right;\n",
       "    }\n",
       "</style>\n",
       "<table border=\"1\" class=\"dataframe\">\n",
       "  <thead>\n",
       "    <tr style=\"text-align: right;\">\n",
       "      <th></th>\n",
       "      <th></th>\n",
       "      <th></th>\n",
       "      <th></th>\n",
       "      <th>0</th>\n",
       "      <th>1</th>\n",
       "      <th>2</th>\n",
       "      <th>3</th>\n",
       "      <th>4</th>\n",
       "      <th>5</th>\n",
       "      <th>6</th>\n",
       "      <th>7</th>\n",
       "      <th>8</th>\n",
       "      <th>9</th>\n",
       "      <th>...</th>\n",
       "      <th>31</th>\n",
       "      <th>32</th>\n",
       "      <th>33</th>\n",
       "      <th>34</th>\n",
       "      <th>35</th>\n",
       "      <th>36</th>\n",
       "      <th>37</th>\n",
       "      <th>38</th>\n",
       "      <th>39</th>\n",
       "      <th>40</th>\n",
       "    </tr>\n",
       "    <tr>\n",
       "      <th>Company</th>\n",
       "      <th>i</th>\n",
       "      <th>TradeType</th>\n",
       "      <th>event_timestamp</th>\n",
       "      <th></th>\n",
       "      <th></th>\n",
       "      <th></th>\n",
       "      <th></th>\n",
       "      <th></th>\n",
       "      <th></th>\n",
       "      <th></th>\n",
       "      <th></th>\n",
       "      <th></th>\n",
       "      <th></th>\n",
       "      <th></th>\n",
       "      <th></th>\n",
       "      <th></th>\n",
       "      <th></th>\n",
       "      <th></th>\n",
       "      <th></th>\n",
       "      <th></th>\n",
       "      <th></th>\n",
       "      <th></th>\n",
       "      <th></th>\n",
       "      <th></th>\n",
       "    </tr>\n",
       "  </thead>\n",
       "  <tbody>\n",
       "    <tr>\n",
       "      <th rowspan=\"5\" valign=\"top\">SLB</th>\n",
       "      <th>59</th>\n",
       "      <th>A - Grant</th>\n",
       "      <th>2021-12-21</th>\n",
       "      <td>0.014430</td>\n",
       "      <td>0.020116</td>\n",
       "      <td>0.004401</td>\n",
       "      <td>0.003527</td>\n",
       "      <td>-0.009079</td>\n",
       "      <td>0.023717</td>\n",
       "      <td>0.017184</td>\n",
       "      <td>-0.016345</td>\n",
       "      <td>0.016463</td>\n",
       "      <td>-0.007756</td>\n",
       "      <td>...</td>\n",
       "      <td>0.018641</td>\n",
       "      <td>0.027985</td>\n",
       "      <td>0.010095</td>\n",
       "      <td>0.015793</td>\n",
       "      <td>-0.007800</td>\n",
       "      <td>0.005976</td>\n",
       "      <td>0.051871</td>\n",
       "      <td>0.030600</td>\n",
       "      <td>0.007670</td>\n",
       "      <td>0.021289</td>\n",
       "    </tr>\n",
       "    <tr>\n",
       "      <th>60</th>\n",
       "      <th>A - Grant</th>\n",
       "      <th>2021-12-21</th>\n",
       "      <td>0.014430</td>\n",
       "      <td>0.020116</td>\n",
       "      <td>0.004401</td>\n",
       "      <td>0.003527</td>\n",
       "      <td>-0.009079</td>\n",
       "      <td>0.023717</td>\n",
       "      <td>0.017184</td>\n",
       "      <td>-0.016345</td>\n",
       "      <td>0.016463</td>\n",
       "      <td>-0.007756</td>\n",
       "      <td>...</td>\n",
       "      <td>0.018641</td>\n",
       "      <td>0.027985</td>\n",
       "      <td>0.010095</td>\n",
       "      <td>0.015793</td>\n",
       "      <td>-0.007800</td>\n",
       "      <td>0.005976</td>\n",
       "      <td>0.051871</td>\n",
       "      <td>0.030600</td>\n",
       "      <td>0.007670</td>\n",
       "      <td>0.021289</td>\n",
       "    </tr>\n",
       "    <tr>\n",
       "      <th>61</th>\n",
       "      <th>S - Sale</th>\n",
       "      <th>2021-12-09</th>\n",
       "      <td>-0.028634</td>\n",
       "      <td>-0.001693</td>\n",
       "      <td>-0.010781</td>\n",
       "      <td>0.000994</td>\n",
       "      <td>0.003367</td>\n",
       "      <td>-0.009981</td>\n",
       "      <td>0.004203</td>\n",
       "      <td>-0.036667</td>\n",
       "      <td>0.013896</td>\n",
       "      <td>0.019698</td>\n",
       "      <td>...</td>\n",
       "      <td>-0.014686</td>\n",
       "      <td>0.010572</td>\n",
       "      <td>-0.016848</td>\n",
       "      <td>0.003696</td>\n",
       "      <td>0.004879</td>\n",
       "      <td>0.051219</td>\n",
       "      <td>0.034183</td>\n",
       "      <td>0.030575</td>\n",
       "      <td>0.018201</td>\n",
       "      <td>0.027504</td>\n",
       "    </tr>\n",
       "    <tr>\n",
       "      <th>62</th>\n",
       "      <th>F - Tax</th>\n",
       "      <th>2021-12-03</th>\n",
       "      <td>0.011301</td>\n",
       "      <td>0.001713</td>\n",
       "      <td>0.015107</td>\n",
       "      <td>-0.000668</td>\n",
       "      <td>-0.028231</td>\n",
       "      <td>-0.001371</td>\n",
       "      <td>-0.010495</td>\n",
       "      <td>0.001344</td>\n",
       "      <td>0.003696</td>\n",
       "      <td>-0.009565</td>\n",
       "      <td>...</td>\n",
       "      <td>0.015467</td>\n",
       "      <td>-0.007739</td>\n",
       "      <td>-0.016040</td>\n",
       "      <td>-0.009002</td>\n",
       "      <td>-0.014470</td>\n",
       "      <td>0.010918</td>\n",
       "      <td>-0.016518</td>\n",
       "      <td>0.004024</td>\n",
       "      <td>0.005220</td>\n",
       "      <td>0.051517</td>\n",
       "    </tr>\n",
       "    <tr>\n",
       "      <th>63</th>\n",
       "      <th>M - OptEx</th>\n",
       "      <th>2021-12-03</th>\n",
       "      <td>0.011301</td>\n",
       "      <td>0.001713</td>\n",
       "      <td>0.015107</td>\n",
       "      <td>-0.000668</td>\n",
       "      <td>-0.028231</td>\n",
       "      <td>-0.001371</td>\n",
       "      <td>-0.010495</td>\n",
       "      <td>0.001344</td>\n",
       "      <td>0.003696</td>\n",
       "      <td>-0.009565</td>\n",
       "      <td>...</td>\n",
       "      <td>0.015467</td>\n",
       "      <td>-0.007739</td>\n",
       "      <td>-0.016040</td>\n",
       "      <td>-0.009002</td>\n",
       "      <td>-0.014470</td>\n",
       "      <td>0.010918</td>\n",
       "      <td>-0.016518</td>\n",
       "      <td>0.004024</td>\n",
       "      <td>0.005220</td>\n",
       "      <td>0.051517</td>\n",
       "    </tr>\n",
       "    <tr>\n",
       "      <th>...</th>\n",
       "      <th>...</th>\n",
       "      <th>...</th>\n",
       "      <th>...</th>\n",
       "      <td>...</td>\n",
       "      <td>...</td>\n",
       "      <td>...</td>\n",
       "      <td>...</td>\n",
       "      <td>...</td>\n",
       "      <td>...</td>\n",
       "      <td>...</td>\n",
       "      <td>...</td>\n",
       "      <td>...</td>\n",
       "      <td>...</td>\n",
       "      <td>...</td>\n",
       "      <td>...</td>\n",
       "      <td>...</td>\n",
       "      <td>...</td>\n",
       "      <td>...</td>\n",
       "      <td>...</td>\n",
       "      <td>...</td>\n",
       "      <td>...</td>\n",
       "      <td>...</td>\n",
       "      <td>...</td>\n",
       "      <td>...</td>\n",
       "    </tr>\n",
       "    <tr>\n",
       "      <th rowspan=\"5\" valign=\"top\">CPRI</th>\n",
       "      <th>202</th>\n",
       "      <th>S - Sale+OE</th>\n",
       "      <th>2018-03-05</th>\n",
       "      <td>0.006878</td>\n",
       "      <td>0.013922</td>\n",
       "      <td>0.005537</td>\n",
       "      <td>0.010974</td>\n",
       "      <td>-0.065314</td>\n",
       "      <td>-0.017620</td>\n",
       "      <td>0.003245</td>\n",
       "      <td>0.019906</td>\n",
       "      <td>-0.000200</td>\n",
       "      <td>0.009355</td>\n",
       "      <td>...</td>\n",
       "      <td>0.010019</td>\n",
       "      <td>0.004871</td>\n",
       "      <td>0.000341</td>\n",
       "      <td>-0.003934</td>\n",
       "      <td>0.002839</td>\n",
       "      <td>-0.013104</td>\n",
       "      <td>-0.009084</td>\n",
       "      <td>-0.000020</td>\n",
       "      <td>0.011592</td>\n",
       "      <td>-0.000440</td>\n",
       "    </tr>\n",
       "    <tr>\n",
       "      <th>203</th>\n",
       "      <th>S - Sale+OE</th>\n",
       "      <th>2018-02-20</th>\n",
       "      <td>-0.011661</td>\n",
       "      <td>0.015493</td>\n",
       "      <td>-0.001020</td>\n",
       "      <td>-0.007168</td>\n",
       "      <td>0.004650</td>\n",
       "      <td>-0.009687</td>\n",
       "      <td>0.002418</td>\n",
       "      <td>-0.016642</td>\n",
       "      <td>-0.005571</td>\n",
       "      <td>0.006751</td>\n",
       "      <td>...</td>\n",
       "      <td>-0.008953</td>\n",
       "      <td>-0.021966</td>\n",
       "      <td>-0.004494</td>\n",
       "      <td>-0.001778</td>\n",
       "      <td>0.015480</td>\n",
       "      <td>-0.017711</td>\n",
       "      <td>-0.006403</td>\n",
       "      <td>0.005378</td>\n",
       "      <td>0.009352</td>\n",
       "      <td>0.010126</td>\n",
       "    </tr>\n",
       "    <tr>\n",
       "      <th>204</th>\n",
       "      <th>S - Sale+OE</th>\n",
       "      <th>2018-02-15</th>\n",
       "      <td>0.004982</td>\n",
       "      <td>0.004987</td>\n",
       "      <td>-0.011666</td>\n",
       "      <td>0.015538</td>\n",
       "      <td>-0.000993</td>\n",
       "      <td>-0.007123</td>\n",
       "      <td>0.004622</td>\n",
       "      <td>-0.009572</td>\n",
       "      <td>0.002556</td>\n",
       "      <td>-0.016590</td>\n",
       "      <td>...</td>\n",
       "      <td>-0.011653</td>\n",
       "      <td>-0.003920</td>\n",
       "      <td>-0.008897</td>\n",
       "      <td>-0.021945</td>\n",
       "      <td>-0.004558</td>\n",
       "      <td>-0.001717</td>\n",
       "      <td>0.015571</td>\n",
       "      <td>-0.017621</td>\n",
       "      <td>-0.006343</td>\n",
       "      <td>0.005399</td>\n",
       "    </tr>\n",
       "    <tr>\n",
       "      <th>205</th>\n",
       "      <th>M - OptEx</th>\n",
       "      <th>2018-02-15</th>\n",
       "      <td>0.004982</td>\n",
       "      <td>0.004987</td>\n",
       "      <td>-0.011666</td>\n",
       "      <td>0.015538</td>\n",
       "      <td>-0.000993</td>\n",
       "      <td>-0.007123</td>\n",
       "      <td>0.004622</td>\n",
       "      <td>-0.009572</td>\n",
       "      <td>0.002556</td>\n",
       "      <td>-0.016590</td>\n",
       "      <td>...</td>\n",
       "      <td>-0.011653</td>\n",
       "      <td>-0.003920</td>\n",
       "      <td>-0.008897</td>\n",
       "      <td>-0.021945</td>\n",
       "      <td>-0.004558</td>\n",
       "      <td>-0.001717</td>\n",
       "      <td>0.015571</td>\n",
       "      <td>-0.017621</td>\n",
       "      <td>-0.006343</td>\n",
       "      <td>0.005399</td>\n",
       "    </tr>\n",
       "    <tr>\n",
       "      <th>206</th>\n",
       "      <th>S - Sale+OE</th>\n",
       "      <th>2018-02-15</th>\n",
       "      <td>0.004982</td>\n",
       "      <td>0.004987</td>\n",
       "      <td>-0.011666</td>\n",
       "      <td>0.015538</td>\n",
       "      <td>-0.000993</td>\n",
       "      <td>-0.007123</td>\n",
       "      <td>0.004622</td>\n",
       "      <td>-0.009572</td>\n",
       "      <td>0.002556</td>\n",
       "      <td>-0.016590</td>\n",
       "      <td>...</td>\n",
       "      <td>-0.011653</td>\n",
       "      <td>-0.003920</td>\n",
       "      <td>-0.008897</td>\n",
       "      <td>-0.021945</td>\n",
       "      <td>-0.004558</td>\n",
       "      <td>-0.001717</td>\n",
       "      <td>0.015571</td>\n",
       "      <td>-0.017621</td>\n",
       "      <td>-0.006343</td>\n",
       "      <td>0.005399</td>\n",
       "    </tr>\n",
       "  </tbody>\n",
       "</table>\n",
       "<p>280200 rows × 41 columns</p>\n",
       "</div>"
      ],
      "text/plain": [
       "                                               0         1         2   \\\n",
       "Company i   TradeType   event_timestamp                                 \n",
       "SLB     59  A - Grant   2021-12-21       0.014430  0.020116  0.004401   \n",
       "        60  A - Grant   2021-12-21       0.014430  0.020116  0.004401   \n",
       "        61  S - Sale    2021-12-09      -0.028634 -0.001693 -0.010781   \n",
       "        62  F - Tax     2021-12-03       0.011301  0.001713  0.015107   \n",
       "        63  M - OptEx   2021-12-03       0.011301  0.001713  0.015107   \n",
       "...                                           ...       ...       ...   \n",
       "CPRI    202 S - Sale+OE 2018-03-05       0.006878  0.013922  0.005537   \n",
       "        203 S - Sale+OE 2018-02-20      -0.011661  0.015493 -0.001020   \n",
       "        204 S - Sale+OE 2018-02-15       0.004982  0.004987 -0.011666   \n",
       "        205 M - OptEx   2018-02-15       0.004982  0.004987 -0.011666   \n",
       "        206 S - Sale+OE 2018-02-15       0.004982  0.004987 -0.011666   \n",
       "\n",
       "                                               3         4         5   \\\n",
       "Company i   TradeType   event_timestamp                                 \n",
       "SLB     59  A - Grant   2021-12-21       0.003527 -0.009079  0.023717   \n",
       "        60  A - Grant   2021-12-21       0.003527 -0.009079  0.023717   \n",
       "        61  S - Sale    2021-12-09       0.000994  0.003367 -0.009981   \n",
       "        62  F - Tax     2021-12-03      -0.000668 -0.028231 -0.001371   \n",
       "        63  M - OptEx   2021-12-03      -0.000668 -0.028231 -0.001371   \n",
       "...                                           ...       ...       ...   \n",
       "CPRI    202 S - Sale+OE 2018-03-05       0.010974 -0.065314 -0.017620   \n",
       "        203 S - Sale+OE 2018-02-20      -0.007168  0.004650 -0.009687   \n",
       "        204 S - Sale+OE 2018-02-15       0.015538 -0.000993 -0.007123   \n",
       "        205 M - OptEx   2018-02-15       0.015538 -0.000993 -0.007123   \n",
       "        206 S - Sale+OE 2018-02-15       0.015538 -0.000993 -0.007123   \n",
       "\n",
       "                                               6         7         8   \\\n",
       "Company i   TradeType   event_timestamp                                 \n",
       "SLB     59  A - Grant   2021-12-21       0.017184 -0.016345  0.016463   \n",
       "        60  A - Grant   2021-12-21       0.017184 -0.016345  0.016463   \n",
       "        61  S - Sale    2021-12-09       0.004203 -0.036667  0.013896   \n",
       "        62  F - Tax     2021-12-03      -0.010495  0.001344  0.003696   \n",
       "        63  M - OptEx   2021-12-03      -0.010495  0.001344  0.003696   \n",
       "...                                           ...       ...       ...   \n",
       "CPRI    202 S - Sale+OE 2018-03-05       0.003245  0.019906 -0.000200   \n",
       "        203 S - Sale+OE 2018-02-20       0.002418 -0.016642 -0.005571   \n",
       "        204 S - Sale+OE 2018-02-15       0.004622 -0.009572  0.002556   \n",
       "        205 M - OptEx   2018-02-15       0.004622 -0.009572  0.002556   \n",
       "        206 S - Sale+OE 2018-02-15       0.004622 -0.009572  0.002556   \n",
       "\n",
       "                                               9   ...        31        32  \\\n",
       "Company i   TradeType   event_timestamp            ...                       \n",
       "SLB     59  A - Grant   2021-12-21      -0.007756  ...  0.018641  0.027985   \n",
       "        60  A - Grant   2021-12-21      -0.007756  ...  0.018641  0.027985   \n",
       "        61  S - Sale    2021-12-09       0.019698  ... -0.014686  0.010572   \n",
       "        62  F - Tax     2021-12-03      -0.009565  ...  0.015467 -0.007739   \n",
       "        63  M - OptEx   2021-12-03      -0.009565  ...  0.015467 -0.007739   \n",
       "...                                           ...  ...       ...       ...   \n",
       "CPRI    202 S - Sale+OE 2018-03-05       0.009355  ...  0.010019  0.004871   \n",
       "        203 S - Sale+OE 2018-02-20       0.006751  ... -0.008953 -0.021966   \n",
       "        204 S - Sale+OE 2018-02-15      -0.016590  ... -0.011653 -0.003920   \n",
       "        205 M - OptEx   2018-02-15      -0.016590  ... -0.011653 -0.003920   \n",
       "        206 S - Sale+OE 2018-02-15      -0.016590  ... -0.011653 -0.003920   \n",
       "\n",
       "                                               33        34        35  \\\n",
       "Company i   TradeType   event_timestamp                                 \n",
       "SLB     59  A - Grant   2021-12-21       0.010095  0.015793 -0.007800   \n",
       "        60  A - Grant   2021-12-21       0.010095  0.015793 -0.007800   \n",
       "        61  S - Sale    2021-12-09      -0.016848  0.003696  0.004879   \n",
       "        62  F - Tax     2021-12-03      -0.016040 -0.009002 -0.014470   \n",
       "        63  M - OptEx   2021-12-03      -0.016040 -0.009002 -0.014470   \n",
       "...                                           ...       ...       ...   \n",
       "CPRI    202 S - Sale+OE 2018-03-05       0.000341 -0.003934  0.002839   \n",
       "        203 S - Sale+OE 2018-02-20      -0.004494 -0.001778  0.015480   \n",
       "        204 S - Sale+OE 2018-02-15      -0.008897 -0.021945 -0.004558   \n",
       "        205 M - OptEx   2018-02-15      -0.008897 -0.021945 -0.004558   \n",
       "        206 S - Sale+OE 2018-02-15      -0.008897 -0.021945 -0.004558   \n",
       "\n",
       "                                               36        37        38  \\\n",
       "Company i   TradeType   event_timestamp                                 \n",
       "SLB     59  A - Grant   2021-12-21       0.005976  0.051871  0.030600   \n",
       "        60  A - Grant   2021-12-21       0.005976  0.051871  0.030600   \n",
       "        61  S - Sale    2021-12-09       0.051219  0.034183  0.030575   \n",
       "        62  F - Tax     2021-12-03       0.010918 -0.016518  0.004024   \n",
       "        63  M - OptEx   2021-12-03       0.010918 -0.016518  0.004024   \n",
       "...                                           ...       ...       ...   \n",
       "CPRI    202 S - Sale+OE 2018-03-05      -0.013104 -0.009084 -0.000020   \n",
       "        203 S - Sale+OE 2018-02-20      -0.017711 -0.006403  0.005378   \n",
       "        204 S - Sale+OE 2018-02-15      -0.001717  0.015571 -0.017621   \n",
       "        205 M - OptEx   2018-02-15      -0.001717  0.015571 -0.017621   \n",
       "        206 S - Sale+OE 2018-02-15      -0.001717  0.015571 -0.017621   \n",
       "\n",
       "                                               39        40  \n",
       "Company i   TradeType   event_timestamp                      \n",
       "SLB     59  A - Grant   2021-12-21       0.007670  0.021289  \n",
       "        60  A - Grant   2021-12-21       0.007670  0.021289  \n",
       "        61  S - Sale    2021-12-09       0.018201  0.027504  \n",
       "        62  F - Tax     2021-12-03       0.005220  0.051517  \n",
       "        63  M - OptEx   2021-12-03       0.005220  0.051517  \n",
       "...                                           ...       ...  \n",
       "CPRI    202 S - Sale+OE 2018-03-05       0.011592 -0.000440  \n",
       "        203 S - Sale+OE 2018-02-20       0.009352  0.010126  \n",
       "        204 S - Sale+OE 2018-02-15      -0.006343  0.005399  \n",
       "        205 M - OptEx   2018-02-15      -0.006343  0.005399  \n",
       "        206 S - Sale+OE 2018-02-15      -0.006343  0.005399  \n",
       "\n",
       "[280200 rows x 41 columns]"
      ]
     },
     "execution_count": 24,
     "metadata": {},
     "output_type": "execute_result"
    }
   ],
   "source": [
    "df_abnormal_returns"
   ]
  },
  {
   "cell_type": "code",
   "execution_count": 25,
   "metadata": {
    "collapsed": false,
    "execution": {
     "iopub.execute_input": "2022-11-04T23:54:22.603172Z",
     "iopub.status.busy": "2022-11-04T23:54:22.602172Z",
     "iopub.status.idle": "2022-11-04T23:54:52.356453Z",
     "shell.execute_reply": "2022-11-04T23:54:52.355453Z"
    },
    "jupyter": {
     "outputs_hidden": false
    }
   },
   "outputs": [],
   "source": [
    "df_estimation_window_market_return = pd.DataFrame.from_records([d.reset_index(drop=True) for d in estimation_window_market_return_list])\n",
    "df_estimation_window_market_return.index = pd.MultiIndex.from_tuples(multiind, names=[\"Company\", \"i\", \"TradeType\", \"event_timestamp\"])"
   ]
  },
  {
   "cell_type": "code",
   "execution_count": 26,
   "metadata": {
    "collapsed": false,
    "execution": {
     "iopub.execute_input": "2022-11-04T23:54:52.361499Z",
     "iopub.status.busy": "2022-11-04T23:54:52.360989Z",
     "iopub.status.idle": "2022-11-04T23:55:21.308956Z",
     "shell.execute_reply": "2022-11-04T23:55:21.308956Z"
    },
    "jupyter": {
     "outputs_hidden": false
    }
   },
   "outputs": [],
   "source": [
    "df_event_window_market_return = pd.DataFrame.from_records([d.reset_index(drop=True) for d in event_window_market_return_list])\n",
    "df_event_window_market_return.index = pd.MultiIndex.from_tuples(multiind, names=[\"Company\", \"i\", \"TradeType\", \"event_timestamp\"])"
   ]
  },
  {
   "cell_type": "code",
   "execution_count": 27,
   "metadata": {
    "collapsed": false,
    "execution": {
     "iopub.execute_input": "2022-11-04T23:55:21.312960Z",
     "iopub.status.busy": "2022-11-04T23:55:21.311960Z",
     "iopub.status.idle": "2022-11-04T23:55:50.780286Z",
     "shell.execute_reply": "2022-11-04T23:55:50.780286Z"
    },
    "jupyter": {
     "outputs_hidden": false
    }
   },
   "outputs": [],
   "source": [
    "df_eps = pd.DataFrame.from_records([d.reset_index(drop=True) for d in eps_list])\n",
    "df_eps.index = pd.MultiIndex.from_tuples(multiind, names=[\"Company\", \"i\", \"TradeType\", \"event_timestamp\"])"
   ]
  },
  {
   "cell_type": "markdown",
   "metadata": {},
   "source": [
    "### Show the reasons filings were dropped"
   ]
  },
  {
   "cell_type": "code",
   "execution_count": 28,
   "metadata": {
    "execution": {
     "iopub.execute_input": "2022-11-04T23:55:50.784287Z",
     "iopub.status.busy": "2022-11-04T23:55:50.783287Z",
     "iopub.status.idle": "2022-11-04T23:55:50.796290Z",
     "shell.execute_reply": "2022-11-04T23:55:50.796290Z"
    }
   },
   "outputs": [],
   "source": [
    "errors_df = pd.DataFrame.from_records(data_errors)\n",
    "errors_agg = errors_df.sum(axis=0)"
   ]
  },
  {
   "cell_type": "code",
   "execution_count": 29,
   "metadata": {
    "execution": {
     "iopub.execute_input": "2022-11-04T23:55:50.799291Z",
     "iopub.status.busy": "2022-11-04T23:55:50.799291Z",
     "iopub.status.idle": "2022-11-04T23:55:50.812293Z",
     "shell.execute_reply": "2022-11-04T23:55:50.812293Z"
    }
   },
   "outputs": [],
   "source": [
    "# add earlier filtering\n",
    "errors_agg[\"event not in overall time frame\"] = filings_removed\n",
    "errors_agg[\"negative lags\"] = negative_lag_mask.sum()\n",
    "errors_agg[\"more than 21 days lag\"] = len(positive_lag) - len(relevant_lag)"
   ]
  },
  {
   "cell_type": "code",
   "execution_count": 30,
   "metadata": {
    "execution": {
     "iopub.execute_input": "2022-11-04T23:55:50.815294Z",
     "iopub.status.busy": "2022-11-04T23:55:50.815294Z",
     "iopub.status.idle": "2022-11-04T23:55:50.827299Z",
     "shell.execute_reply": "2022-11-04T23:55:50.827299Z"
    }
   },
   "outputs": [],
   "source": [
    "errors_agg = pd.DataFrame(errors_agg)\n",
    "errors_agg.index.name = \"Reason\"\n",
    "errors_agg.columns = [\"Count\"]"
   ]
  },
  {
   "cell_type": "code",
   "execution_count": 31,
   "metadata": {
    "collapsed": false,
    "execution": {
     "iopub.execute_input": "2022-11-04T23:55:50.831303Z",
     "iopub.status.busy": "2022-11-04T23:55:50.830303Z",
     "iopub.status.idle": "2022-11-04T23:55:51.326823Z",
     "shell.execute_reply": "2022-11-04T23:55:51.326823Z"
    },
    "jupyter": {
     "outputs_hidden": false
    }
   },
   "outputs": [
    {
     "name": "stdout",
     "output_type": "stream",
     "text": [
      "\\begin{tabular}{lr}\n",
      "\\toprule\n",
      "                                        Reason &  Count \\\\\n",
      "\\midrule\n",
      "event\\_timestamp not in the company return data &    886 \\\\\n",
      "    Don't have enough trading days after event &    961 \\\\\n",
      "  Not enough days before event in company data &   2906 \\\\\n",
      "               event not in overall time frame & 807342 \\\\\n",
      "                                 negative lags &     10 \\\\\n",
      "                         more than 21 days lag &   5701 \\\\\n",
      "\\bottomrule\n",
      "\\end{tabular}\n",
      "\n"
     ]
    },
    {
     "name": "stderr",
     "output_type": "stream",
     "text": [
      "C:\\Users\\thoma\\AppData\\Local\\Temp\\ipykernel_7912\\3086088863.py:1: FutureWarning: In future versions `DataFrame.to_latex` is expected to utilise the base implementation of `Styler.to_latex` for formatting and rendering. The arguments signature may therefore change. It is recommended instead to use `DataFrame.style.to_latex` which also contains additional functionality.\n",
      "  print(errors_agg.astype(int).reset_index().to_latex(index=False))\n"
     ]
    }
   ],
   "source": [
    "print(errors_agg.astype(int).reset_index().to_latex(index=False))"
   ]
  },
  {
   "cell_type": "code",
   "execution_count": 32,
   "metadata": {
    "execution": {
     "iopub.execute_input": "2022-11-04T23:55:51.330824Z",
     "iopub.status.busy": "2022-11-04T23:55:51.329824Z",
     "iopub.status.idle": "2022-11-04T23:55:51.341826Z",
     "shell.execute_reply": "2022-11-04T23:55:51.341826Z"
    }
   },
   "outputs": [
    {
     "name": "stdout",
     "output_type": "stream",
     "text": [
      "Count    817806.0\n",
      "dtype: float64\n"
     ]
    }
   ],
   "source": [
    "print(errors_agg.sum())"
   ]
  },
  {
   "cell_type": "code",
   "execution_count": 33,
   "metadata": {
    "collapsed": false,
    "execution": {
     "iopub.execute_input": "2022-11-04T23:55:51.345827Z",
     "iopub.status.busy": "2022-11-04T23:55:51.345827Z",
     "iopub.status.idle": "2022-11-04T23:55:58.651166Z",
     "shell.execute_reply": "2022-11-04T23:55:58.651166Z"
    },
    "jupyter": {
     "outputs_hidden": false
    }
   },
   "outputs": [],
   "source": [
    "# if dir does not exist creat it\n",
    "if not os.path.exists(f\"data/{NAME}/calculate_AR_results/\"):\n",
    "    os.mkdir(f\"data/{NAME}/calculate_AR_results/\")\n",
    "\n",
    "\n",
    "df_abnormal_returns.to_pickle(f\"data/{NAME}/calculate_AR_results/df_abnormal_returns.pkl\")\n",
    "df_estimation_window_market_return.to_pickle(f\"data/{NAME}/calculate_AR_results/df_estimation_window_market_return.pkl\")\n",
    "df_event_window_market_return.to_pickle(f\"data/{NAME}/calculate_AR_results/df_event_window_market_return.pkl\")\n",
    "df_eps.to_pickle(f\"data/{NAME}/calculate_AR_results/df_eps.pkl\")\n",
    "\n",
    "with open(f\"data/{NAME}/calculate_AR_results/companies.pkl\", \"wb\") as f:\n",
    "    pickle.dump(companies, f)"
   ]
  },
  {
   "cell_type": "code",
   "execution_count": null,
   "metadata": {
    "collapsed": false,
    "jupyter": {
     "outputs_hidden": false
    }
   },
   "outputs": [],
   "source": []
  },
  {
   "cell_type": "code",
   "execution_count": null,
   "metadata": {
    "collapsed": false,
    "jupyter": {
     "outputs_hidden": false
    }
   },
   "outputs": [],
   "source": []
  },
  {
   "cell_type": "code",
   "execution_count": null,
   "metadata": {
    "collapsed": false,
    "jupyter": {
     "outputs_hidden": false
    }
   },
   "outputs": [],
   "source": []
  },
  {
   "cell_type": "code",
   "execution_count": null,
   "metadata": {
    "collapsed": false,
    "jupyter": {
     "outputs_hidden": false
    }
   },
   "outputs": [],
   "source": []
  }
 ],
 "metadata": {
  "kernelspec": {
   "display_name": "Python 3 (ipykernel)",
   "language": "python",
   "name": "python3"
  },
  "language_info": {
   "codemirror_mode": {
    "name": "ipython",
    "version": 3
   },
   "file_extension": ".py",
   "mimetype": "text/x-python",
   "name": "python",
   "nbconvert_exporter": "python",
   "pygments_lexer": "ipython3",
   "version": "3.8.13"
  },
  "pycharm": {
   "stem_cell": {
    "cell_type": "raw",
    "metadata": {
     "collapsed": false
    },
    "source": []
   }
  },
  "toc-autonumbering": false
 },
 "nbformat": 4,
 "nbformat_minor": 4
}
