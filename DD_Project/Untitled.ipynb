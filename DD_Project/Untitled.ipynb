{
 "cells": [
  {
   "cell_type": "markdown",
   "id": "1851cc57-817d-4b58-a899-6f0664b6c9c1",
   "metadata": {},
   "source": [
    "# Explore which companies should be excluded"
   ]
  },
  {
   "cell_type": "code",
   "execution_count": 7,
   "id": "13e56a34-9ca3-4f3e-9ec1-6db5a33e62ff",
   "metadata": {},
   "outputs": [],
   "source": [
    "import pickle\n",
    "import pandas as pd\n",
    "import numpy as np\n",
    "import matplotlib.pyplot as plt\n",
    "from matplotlib import pyplot as plt\n",
    "import time\n",
    "import datetime\n",
    "from dateutil.relativedelta import relativedelta\n",
    "import requests\n",
    "import locale\n",
    "from pandas.io.json import json_normalize\n",
    "import os\n",
    "from os.path import exists\n",
    "import sys\n",
    "import io\n",
    "from tqdm import tqdm"
   ]
  },
  {
   "cell_type": "code",
   "execution_count": null,
   "id": "9708be9e-5654-487b-83fb-cef51aee6335",
   "metadata": {},
   "outputs": [],
   "source": []
  },
  {
   "cell_type": "code",
   "execution_count": 5,
   "id": "09e9b0a7-8431-42f7-973f-214076775a88",
   "metadata": {},
   "outputs": [],
   "source": [
    "import source.read_tickers_and_isins as URTI"
   ]
  },
  {
   "cell_type": "code",
   "execution_count": null,
   "id": "2607817f-80e8-4311-ad48-9f936576da05",
   "metadata": {},
   "outputs": [],
   "source": []
  },
  {
   "cell_type": "code",
   "execution_count": 2,
   "id": "6c4ea762-810a-4922-a75c-003d0e675914",
   "metadata": {},
   "outputs": [],
   "source": [
    "# Set flags for what will be handled\n",
    "NAME = \"Knudsen\" # \"Niedermayer\"\n",
    "#NAME = \"Niedermayer\"\n",
    "prepare_and_download = True\n",
    "\n",
    "# Constants:\n",
    "## Different Parameters depending on the setting\n",
    "if NAME == \"Knudsen\":\n",
    "    no_https = False\n",
    "    to_date_name = \"DATE/TIME (DS End Date)\"\n",
    "    STOCK_EXCHANGE = \"Nasdaq\"\n",
    "    n_input_files = 7\n",
    "    _ticker = '%5EIXIC'  \n",
    "elif NAME == \"Niedermayer\":\n",
    "    no_https = True\n",
    "    to_date_name = \"DATE/TIME (DS End Date)\"\n",
    "    STOCK_EXCHANGE = \"NYSE\"\n",
    "    n_input_files = 4\n",
    "    _ticker = \"%5Enya\"\n",
    "else:\n",
    "    raise NotImplementedError"
   ]
  },
  {
   "cell_type": "code",
   "execution_count": null,
   "id": "218f2d56-7940-4c95-88f1-6cbc0e120cdc",
   "metadata": {},
   "outputs": [],
   "source": []
  },
  {
   "cell_type": "code",
   "execution_count": 4,
   "id": "23e8efe5-e81e-4796-8854-69838c81079c",
   "metadata": {},
   "outputs": [],
   "source": [
    "INPUT_FILE = f'input_data/{NAME}/{STOCK_EXCHANGE} Composite 16.3.2022 plus dead firms - {NAME}.xlsx'"
   ]
  },
  {
   "cell_type": "code",
   "execution_count": null,
   "id": "b4e83ad5-8b80-4265-9600-be822671957a",
   "metadata": {},
   "outputs": [],
   "source": []
  },
  {
   "cell_type": "code",
   "execution_count": null,
   "id": "05f4f316-4ca5-4b67-9617-dc43cee22cca",
   "metadata": {},
   "outputs": [],
   "source": [
    "data = URTI.read_tickers_and_isins(INPUT_FILE)"
   ]
  }
 ],
 "metadata": {
  "kernelspec": {
   "display_name": "Python 3 (ipykernel)",
   "language": "python",
   "name": "python3"
  },
  "language_info": {
   "codemirror_mode": {
    "name": "ipython",
    "version": 3
   },
   "file_extension": ".py",
   "mimetype": "text/x-python",
   "name": "python",
   "nbconvert_exporter": "python",
   "pygments_lexer": "ipython3",
   "version": "3.9.13"
  }
 },
 "nbformat": 4,
 "nbformat_minor": 5
}
